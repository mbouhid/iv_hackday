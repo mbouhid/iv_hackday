{
 "cells": [
  {
   "cell_type": "markdown",
   "id": "a2129a5f",
   "metadata": {},
   "source": [
    "# 0. IMPORTS"
   ]
  },
  {
   "cell_type": "code",
   "execution_count": 2,
   "id": "0bc7d472",
   "metadata": {
    "ExecuteTime": {
     "end_time": "2023-03-26T19:23:01.245239Z",
     "start_time": "2023-03-26T19:22:58.660388Z"
    },
    "execution": {
     "iopub.execute_input": "2023-03-18T19:43:05.310733Z",
     "iopub.status.busy": "2023-03-18T19:43:05.310363Z",
     "iopub.status.idle": "2023-03-18T19:43:06.967983Z",
     "shell.execute_reply": "2023-03-18T19:43:06.966204Z"
    },
    "papermill": {
     "duration": 1.668791,
     "end_time": "2023-03-18T19:43:06.970780",
     "exception": false,
     "start_time": "2023-03-18T19:43:05.301989",
     "status": "completed"
    },
    "tags": []
   },
   "outputs": [],
   "source": [
    "import numpy as np\n",
    "import pandas as pd\n",
    "import xgboost as xgb\n",
    "\n",
    "from sklearn.metrics         import f1_score, make_scorer\n",
    "from sklearn.ensemble        import ExtraTreesClassifier, RandomForestClassifier\n",
    "from sklearn.linear_model    import LogisticRegression\n",
    "from sklearn.preprocessing   import MinMaxScaler, StandardScaler, RobustScaler\n",
    "from sklearn.model_selection import GridSearchCV, RandomizedSearchCV, cross_val_score\n",
    "from category_encoders.count import CountEncoder"
   ]
  },
  {
   "cell_type": "markdown",
   "id": "ce7aa9ce",
   "metadata": {
    "papermill": {
     "duration": 0.004365,
     "end_time": "2023-03-18T19:43:06.980166",
     "exception": false,
     "start_time": "2023-03-18T19:43:06.975801",
     "status": "completed"
    },
    "tags": []
   },
   "source": [
    "# Load Data"
   ]
  },
  {
   "cell_type": "code",
   "execution_count": 3,
   "id": "61420820",
   "metadata": {
    "ExecuteTime": {
     "end_time": "2023-03-26T19:23:01.556220Z",
     "start_time": "2023-03-26T19:23:01.248348Z"
    },
    "execution": {
     "iopub.execute_input": "2023-03-18T19:43:06.991818Z",
     "iopub.status.busy": "2023-03-18T19:43:06.990824Z",
     "iopub.status.idle": "2023-03-18T19:43:07.332645Z",
     "shell.execute_reply": "2023-03-18T19:43:07.330874Z"
    },
    "papermill": {
     "duration": 0.350457,
     "end_time": "2023-03-18T19:43:07.335396",
     "exception": false,
     "start_time": "2023-03-18T19:43:06.984939",
     "status": "completed"
    },
    "tags": []
   },
   "outputs": [],
   "source": [
    "train = pd.read_csv('../inputs/train.csv')\n",
    "test = pd.read_csv('../inputs/test.csv')"
   ]
  },
  {
   "cell_type": "code",
   "execution_count": 4,
   "id": "74a59715",
   "metadata": {
    "ExecuteTime": {
     "end_time": "2023-03-26T19:23:01.588250Z",
     "start_time": "2023-03-26T19:23:01.559185Z"
    },
    "execution": {
     "iopub.execute_input": "2023-03-18T19:43:07.346559Z",
     "iopub.status.busy": "2023-03-18T19:43:07.346160Z",
     "iopub.status.idle": "2023-03-18T19:43:07.354427Z",
     "shell.execute_reply": "2023-03-18T19:43:07.353103Z"
    },
    "papermill": {
     "duration": 0.016181,
     "end_time": "2023-03-18T19:43:07.356309",
     "exception": false,
     "start_time": "2023-03-18T19:43:07.340128",
     "status": "completed"
    },
    "tags": []
   },
   "outputs": [
    {
     "data": {
      "text/plain": [
       "((72159, 15), (48106, 14))"
      ]
     },
     "execution_count": 4,
     "metadata": {},
     "output_type": "execute_result"
    }
   ],
   "source": [
    "train.shape, test.shape"
   ]
  },
  {
   "cell_type": "markdown",
   "id": "f18b9f73",
   "metadata": {},
   "source": [
    "## Feature Engineering"
   ]
  },
  {
   "cell_type": "markdown",
   "id": "09d7fbaf",
   "metadata": {
    "papermill": {
     "duration": 0.004469,
     "end_time": "2023-03-18T19:43:07.365676",
     "exception": false,
     "start_time": "2023-03-18T19:43:07.361207",
     "status": "completed"
    },
    "tags": []
   },
   "source": [
    "## Feature Class Split (Separar dados em classe y e feature X)"
   ]
  },
  {
   "cell_type": "code",
   "execution_count": 5,
   "id": "add0ac80",
   "metadata": {
    "ExecuteTime": {
     "end_time": "2023-03-26T19:23:01.618683Z",
     "start_time": "2023-03-26T19:23:01.595188Z"
    },
    "execution": {
     "iopub.execute_input": "2023-03-18T19:43:07.377222Z",
     "iopub.status.busy": "2023-03-18T19:43:07.375947Z",
     "iopub.status.idle": "2023-03-18T19:43:07.397305Z",
     "shell.execute_reply": "2023-03-18T19:43:07.396442Z"
    },
    "papermill": {
     "duration": 0.029406,
     "end_time": "2023-03-18T19:43:07.399611",
     "exception": false,
     "start_time": "2023-03-18T19:43:07.370205",
     "status": "completed"
    },
    "tags": []
   },
   "outputs": [],
   "source": [
    "X_train = train.drop(columns=['Reserva Cancelada'])\n",
    "y_train = train['Reserva Cancelada']"
   ]
  },
  {
   "cell_type": "markdown",
   "id": "db3a9090",
   "metadata": {
    "papermill": {
     "duration": 0.00467,
     "end_time": "2023-03-18T19:43:07.409027",
     "exception": false,
     "start_time": "2023-03-18T19:43:07.404357",
     "status": "completed"
    },
    "tags": []
   },
   "source": [
    "## Pre processing (transformar as colunas qualitativas em quantitativas)"
   ]
  },
  {
   "cell_type": "code",
   "execution_count": 6,
   "id": "8031d2e8",
   "metadata": {
    "ExecuteTime": {
     "end_time": "2023-03-26T19:23:01.648946Z",
     "start_time": "2023-03-26T19:23:01.628016Z"
    }
   },
   "outputs": [],
   "source": [
    "numeric_cols = X_train.select_dtypes(include=['int64', 'float64']).columns"
   ]
  },
  {
   "cell_type": "code",
   "execution_count": 7,
   "id": "8e5680e1",
   "metadata": {
    "ExecuteTime": {
     "end_time": "2023-03-26T19:23:01.695811Z",
     "start_time": "2023-03-26T19:23:01.651903Z"
    }
   },
   "outputs": [],
   "source": [
    "rs = RobustScaler()\n",
    "\n",
    "rs.fit(X_train[numeric_cols])\n",
    "X_train[numeric_cols] = rs.transform(X_train[numeric_cols])"
   ]
  },
  {
   "cell_type": "code",
   "execution_count": 8,
   "id": "de659945",
   "metadata": {
    "ExecuteTime": {
     "end_time": "2023-03-26T19:23:01.711408Z",
     "start_time": "2023-03-26T19:23:01.699194Z"
    },
    "execution": {
     "iopub.execute_input": "2023-03-18T19:43:07.421289Z",
     "iopub.status.busy": "2023-03-18T19:43:07.420654Z",
     "iopub.status.idle": "2023-03-18T19:43:07.441630Z",
     "shell.execute_reply": "2023-03-18T19:43:07.440512Z"
    },
    "papermill": {
     "duration": 0.029946,
     "end_time": "2023-03-18T19:43:07.444291",
     "exception": false,
     "start_time": "2023-03-18T19:43:07.414345",
     "status": "completed"
    },
    "tags": []
   },
   "outputs": [],
   "source": [
    "cat_cols = X_train.select_dtypes(include=['object']).columns"
   ]
  },
  {
   "cell_type": "code",
   "execution_count": 9,
   "id": "b8b8d79e",
   "metadata": {
    "ExecuteTime": {
     "end_time": "2023-03-26T19:23:02.805734Z",
     "start_time": "2023-03-26T19:23:01.715504Z"
    },
    "execution": {
     "iopub.execute_input": "2023-03-18T19:43:07.455910Z",
     "iopub.status.busy": "2023-03-18T19:43:07.455466Z",
     "iopub.status.idle": "2023-03-18T19:43:08.438576Z",
     "shell.execute_reply": "2023-03-18T19:43:08.437213Z"
    },
    "papermill": {
     "duration": 0.992626,
     "end_time": "2023-03-18T19:43:08.442020",
     "exception": false,
     "start_time": "2023-03-18T19:43:07.449394",
     "status": "completed"
    },
    "tags": []
   },
   "outputs": [],
   "source": [
    "# Transforma as features categoricas em numéricas através do numero de frequencia\n",
    "count = CountEncoder(cols=cat_cols, return_df=True) \n",
    "\n",
    "X_preproc = count.fit_transform(X_train)"
   ]
  },
  {
   "cell_type": "code",
   "execution_count": 10,
   "id": "54c5fcc8",
   "metadata": {
    "ExecuteTime": {
     "end_time": "2023-03-26T19:23:02.852366Z",
     "start_time": "2023-03-26T19:23:02.807598Z"
    },
    "execution": {
     "iopub.execute_input": "2023-03-18T19:43:08.454799Z",
     "iopub.status.busy": "2023-03-18T19:43:08.454381Z",
     "iopub.status.idle": "2023-03-18T19:43:08.486387Z",
     "shell.execute_reply": "2023-03-18T19:43:08.484997Z"
    },
    "papermill": {
     "duration": 0.041391,
     "end_time": "2023-03-18T19:43:08.489134",
     "exception": false,
     "start_time": "2023-03-18T19:43:08.447743",
     "status": "completed"
    },
    "tags": []
   },
   "outputs": [
    {
     "data": {
      "text/html": [
       "<div>\n",
       "<style scoped>\n",
       "    .dataframe tbody tr th:only-of-type {\n",
       "        vertical-align: middle;\n",
       "    }\n",
       "\n",
       "    .dataframe tbody tr th {\n",
       "        vertical-align: top;\n",
       "    }\n",
       "\n",
       "    .dataframe thead th {\n",
       "        text-align: right;\n",
       "    }\n",
       "</style>\n",
       "<table border=\"1\" class=\"dataframe\">\n",
       "  <thead>\n",
       "    <tr style=\"text-align: right;\">\n",
       "      <th></th>\n",
       "      <th>id</th>\n",
       "      <th>Classificação do hotel</th>\n",
       "      <th>Meses da reserva até o check-in</th>\n",
       "      <th>Número de pernoites reservadas</th>\n",
       "      <th>Número de hospedes</th>\n",
       "      <th>Regime de alimentação</th>\n",
       "      <th>Nacionalidade</th>\n",
       "      <th>Forma de Reserva</th>\n",
       "      <th>Já se hospedou anterioremente</th>\n",
       "      <th>Tipo do quarto reservado</th>\n",
       "      <th>Reserva feita por agência de turismo</th>\n",
       "      <th>Reserva feita por empresa</th>\n",
       "      <th>Reserva com Estacionamento</th>\n",
       "      <th>Reserva com Observações</th>\n",
       "    </tr>\n",
       "  </thead>\n",
       "  <tbody>\n",
       "    <tr>\n",
       "      <th>0</th>\n",
       "      <td>-0.439710</td>\n",
       "      <td>24255</td>\n",
       "      <td>0.4</td>\n",
       "      <td>1.0</td>\n",
       "      <td>0.0</td>\n",
       "      <td>8777</td>\n",
       "      <td>6251</td>\n",
       "      <td>59170</td>\n",
       "      <td>69901</td>\n",
       "      <td>51778</td>\n",
       "      <td>62288</td>\n",
       "      <td>68065</td>\n",
       "      <td>4453</td>\n",
       "      <td>42391</td>\n",
       "    </tr>\n",
       "    <tr>\n",
       "      <th>1</th>\n",
       "      <td>0.371188</td>\n",
       "      <td>47904</td>\n",
       "      <td>32.8</td>\n",
       "      <td>0.0</td>\n",
       "      <td>0.0</td>\n",
       "      <td>55716</td>\n",
       "      <td>34212</td>\n",
       "      <td>59170</td>\n",
       "      <td>69901</td>\n",
       "      <td>51778</td>\n",
       "      <td>62288</td>\n",
       "      <td>68065</td>\n",
       "      <td>67706</td>\n",
       "      <td>42391</td>\n",
       "    </tr>\n",
       "    <tr>\n",
       "      <th>2</th>\n",
       "      <td>0.563649</td>\n",
       "      <td>47904</td>\n",
       "      <td>0.2</td>\n",
       "      <td>0.0</td>\n",
       "      <td>0.0</td>\n",
       "      <td>55716</td>\n",
       "      <td>1464</td>\n",
       "      <td>59170</td>\n",
       "      <td>69901</td>\n",
       "      <td>51778</td>\n",
       "      <td>62288</td>\n",
       "      <td>68065</td>\n",
       "      <td>67706</td>\n",
       "      <td>29542</td>\n",
       "    </tr>\n",
       "    <tr>\n",
       "      <th>3</th>\n",
       "      <td>0.250732</td>\n",
       "      <td>47904</td>\n",
       "      <td>2.0</td>\n",
       "      <td>-0.5</td>\n",
       "      <td>0.0</td>\n",
       "      <td>55716</td>\n",
       "      <td>34212</td>\n",
       "      <td>59170</td>\n",
       "      <td>69901</td>\n",
       "      <td>51778</td>\n",
       "      <td>62288</td>\n",
       "      <td>68065</td>\n",
       "      <td>67706</td>\n",
       "      <td>42391</td>\n",
       "    </tr>\n",
       "    <tr>\n",
       "      <th>4</th>\n",
       "      <td>0.379183</td>\n",
       "      <td>47904</td>\n",
       "      <td>0.2</td>\n",
       "      <td>-0.5</td>\n",
       "      <td>0.0</td>\n",
       "      <td>55716</td>\n",
       "      <td>34212</td>\n",
       "      <td>59170</td>\n",
       "      <td>69901</td>\n",
       "      <td>51778</td>\n",
       "      <td>62288</td>\n",
       "      <td>68065</td>\n",
       "      <td>67706</td>\n",
       "      <td>42391</td>\n",
       "    </tr>\n",
       "    <tr>\n",
       "      <th>...</th>\n",
       "      <td>...</td>\n",
       "      <td>...</td>\n",
       "      <td>...</td>\n",
       "      <td>...</td>\n",
       "      <td>...</td>\n",
       "      <td>...</td>\n",
       "      <td>...</td>\n",
       "      <td>...</td>\n",
       "      <td>...</td>\n",
       "      <td>...</td>\n",
       "      <td>...</td>\n",
       "      <td>...</td>\n",
       "      <td>...</td>\n",
       "      <td>...</td>\n",
       "    </tr>\n",
       "    <tr>\n",
       "      <th>72154</th>\n",
       "      <td>0.692863</td>\n",
       "      <td>47904</td>\n",
       "      <td>-0.2</td>\n",
       "      <td>0.0</td>\n",
       "      <td>0.0</td>\n",
       "      <td>55716</td>\n",
       "      <td>6251</td>\n",
       "      <td>59170</td>\n",
       "      <td>69901</td>\n",
       "      <td>11798</td>\n",
       "      <td>62288</td>\n",
       "      <td>68065</td>\n",
       "      <td>67706</td>\n",
       "      <td>29542</td>\n",
       "    </tr>\n",
       "    <tr>\n",
       "      <th>72155</th>\n",
       "      <td>-0.153929</td>\n",
       "      <td>47904</td>\n",
       "      <td>0.2</td>\n",
       "      <td>-0.5</td>\n",
       "      <td>0.0</td>\n",
       "      <td>7189</td>\n",
       "      <td>2230</td>\n",
       "      <td>59170</td>\n",
       "      <td>69901</td>\n",
       "      <td>51778</td>\n",
       "      <td>62288</td>\n",
       "      <td>68065</td>\n",
       "      <td>4453</td>\n",
       "      <td>29542</td>\n",
       "    </tr>\n",
       "    <tr>\n",
       "      <th>72156</th>\n",
       "      <td>-0.928534</td>\n",
       "      <td>24255</td>\n",
       "      <td>0.4</td>\n",
       "      <td>-0.5</td>\n",
       "      <td>0.0</td>\n",
       "      <td>8777</td>\n",
       "      <td>34212</td>\n",
       "      <td>59170</td>\n",
       "      <td>69901</td>\n",
       "      <td>51778</td>\n",
       "      <td>9871</td>\n",
       "      <td>68065</td>\n",
       "      <td>67706</td>\n",
       "      <td>42391</td>\n",
       "    </tr>\n",
       "    <tr>\n",
       "      <th>72157</th>\n",
       "      <td>-0.734016</td>\n",
       "      <td>24255</td>\n",
       "      <td>-0.4</td>\n",
       "      <td>2.5</td>\n",
       "      <td>0.0</td>\n",
       "      <td>8777</td>\n",
       "      <td>34212</td>\n",
       "      <td>8834</td>\n",
       "      <td>69901</td>\n",
       "      <td>3924</td>\n",
       "      <td>62288</td>\n",
       "      <td>68065</td>\n",
       "      <td>67706</td>\n",
       "      <td>42391</td>\n",
       "    </tr>\n",
       "    <tr>\n",
       "      <th>72158</th>\n",
       "      <td>-0.944076</td>\n",
       "      <td>24255</td>\n",
       "      <td>0.2</td>\n",
       "      <td>5.5</td>\n",
       "      <td>0.0</td>\n",
       "      <td>8777</td>\n",
       "      <td>34212</td>\n",
       "      <td>59170</td>\n",
       "      <td>69901</td>\n",
       "      <td>3924</td>\n",
       "      <td>62288</td>\n",
       "      <td>68065</td>\n",
       "      <td>67706</td>\n",
       "      <td>42391</td>\n",
       "    </tr>\n",
       "  </tbody>\n",
       "</table>\n",
       "<p>72159 rows × 14 columns</p>\n",
       "</div>"
      ],
      "text/plain": [
       "             id  Classificação do hotel  Meses da reserva até o check-in  \\\n",
       "0     -0.439710                   24255                              0.4   \n",
       "1      0.371188                   47904                             32.8   \n",
       "2      0.563649                   47904                              0.2   \n",
       "3      0.250732                   47904                              2.0   \n",
       "4      0.379183                   47904                              0.2   \n",
       "...         ...                     ...                              ...   \n",
       "72154  0.692863                   47904                             -0.2   \n",
       "72155 -0.153929                   47904                              0.2   \n",
       "72156 -0.928534                   24255                              0.4   \n",
       "72157 -0.734016                   24255                             -0.4   \n",
       "72158 -0.944076                   24255                              0.2   \n",
       "\n",
       "       Número de pernoites reservadas  Número de hospedes  \\\n",
       "0                                 1.0                 0.0   \n",
       "1                                 0.0                 0.0   \n",
       "2                                 0.0                 0.0   \n",
       "3                                -0.5                 0.0   \n",
       "4                                -0.5                 0.0   \n",
       "...                               ...                 ...   \n",
       "72154                             0.0                 0.0   \n",
       "72155                            -0.5                 0.0   \n",
       "72156                            -0.5                 0.0   \n",
       "72157                             2.5                 0.0   \n",
       "72158                             5.5                 0.0   \n",
       "\n",
       "       Regime de alimentação  Nacionalidade  Forma de Reserva  \\\n",
       "0                       8777           6251             59170   \n",
       "1                      55716          34212             59170   \n",
       "2                      55716           1464             59170   \n",
       "3                      55716          34212             59170   \n",
       "4                      55716          34212             59170   \n",
       "...                      ...            ...               ...   \n",
       "72154                  55716           6251             59170   \n",
       "72155                   7189           2230             59170   \n",
       "72156                   8777          34212             59170   \n",
       "72157                   8777          34212              8834   \n",
       "72158                   8777          34212             59170   \n",
       "\n",
       "       Já se hospedou anterioremente  Tipo do quarto reservado  \\\n",
       "0                              69901                     51778   \n",
       "1                              69901                     51778   \n",
       "2                              69901                     51778   \n",
       "3                              69901                     51778   \n",
       "4                              69901                     51778   \n",
       "...                              ...                       ...   \n",
       "72154                          69901                     11798   \n",
       "72155                          69901                     51778   \n",
       "72156                          69901                     51778   \n",
       "72157                          69901                      3924   \n",
       "72158                          69901                      3924   \n",
       "\n",
       "       Reserva feita por agência de turismo  Reserva feita por empresa  \\\n",
       "0                                     62288                      68065   \n",
       "1                                     62288                      68065   \n",
       "2                                     62288                      68065   \n",
       "3                                     62288                      68065   \n",
       "4                                     62288                      68065   \n",
       "...                                     ...                        ...   \n",
       "72154                                 62288                      68065   \n",
       "72155                                 62288                      68065   \n",
       "72156                                  9871                      68065   \n",
       "72157                                 62288                      68065   \n",
       "72158                                 62288                      68065   \n",
       "\n",
       "       Reserva com Estacionamento  Reserva com Observações  \n",
       "0                            4453                    42391  \n",
       "1                           67706                    42391  \n",
       "2                           67706                    29542  \n",
       "3                           67706                    42391  \n",
       "4                           67706                    42391  \n",
       "...                           ...                      ...  \n",
       "72154                       67706                    29542  \n",
       "72155                        4453                    29542  \n",
       "72156                       67706                    42391  \n",
       "72157                       67706                    42391  \n",
       "72158                       67706                    42391  \n",
       "\n",
       "[72159 rows x 14 columns]"
      ]
     },
     "execution_count": 10,
     "metadata": {},
     "output_type": "execute_result"
    }
   ],
   "source": [
    "X_preproc"
   ]
  },
  {
   "cell_type": "markdown",
   "id": "ff3b1565",
   "metadata": {
    "papermill": {
     "duration": 0.00492,
     "end_time": "2023-03-18T19:43:08.499677",
     "exception": false,
     "start_time": "2023-03-18T19:43:08.494757",
     "status": "completed"
    },
    "tags": []
   },
   "source": [
    "## Fill NA"
   ]
  },
  {
   "cell_type": "code",
   "execution_count": 11,
   "id": "78b092c6",
   "metadata": {
    "ExecuteTime": {
     "end_time": "2023-03-26T19:23:02.884538Z",
     "start_time": "2023-03-26T19:23:02.856332Z"
    },
    "execution": {
     "iopub.execute_input": "2023-03-18T19:43:08.512078Z",
     "iopub.status.busy": "2023-03-18T19:43:08.511662Z",
     "iopub.status.idle": "2023-03-18T19:43:08.523994Z",
     "shell.execute_reply": "2023-03-18T19:43:08.522840Z"
    },
    "papermill": {
     "duration": 0.021561,
     "end_time": "2023-03-18T19:43:08.526450",
     "exception": false,
     "start_time": "2023-03-18T19:43:08.504889",
     "status": "completed"
    },
    "tags": []
   },
   "outputs": [
    {
     "data": {
      "text/plain": [
       "id                                      0\n",
       "Classificação do hotel                  0\n",
       "Meses da reserva até o check-in         0\n",
       "Número de pernoites reservadas          0\n",
       "Número de hospedes                      3\n",
       "Regime de alimentação                   0\n",
       "Nacionalidade                           0\n",
       "Forma de Reserva                        0\n",
       "Já se hospedou anterioremente           0\n",
       "Tipo do quarto reservado                0\n",
       "Reserva feita por agência de turismo    0\n",
       "Reserva feita por empresa               0\n",
       "Reserva com Estacionamento              0\n",
       "Reserva com Observações                 0\n",
       "dtype: int64"
      ]
     },
     "execution_count": 11,
     "metadata": {},
     "output_type": "execute_result"
    }
   ],
   "source": [
    "X_preproc.isna().sum()"
   ]
  },
  {
   "cell_type": "code",
   "execution_count": 12,
   "id": "b1dcaa72",
   "metadata": {
    "ExecuteTime": {
     "end_time": "2023-03-26T19:23:02.931255Z",
     "start_time": "2023-03-26T19:23:02.890973Z"
    },
    "execution": {
     "iopub.execute_input": "2023-03-18T19:43:08.539948Z",
     "iopub.status.busy": "2023-03-18T19:43:08.539549Z",
     "iopub.status.idle": "2023-03-18T19:43:08.548567Z",
     "shell.execute_reply": "2023-03-18T19:43:08.547249Z"
    },
    "papermill": {
     "duration": 0.018944,
     "end_time": "2023-03-18T19:43:08.551758",
     "exception": false,
     "start_time": "2023-03-18T19:43:08.532814",
     "status": "completed"
    },
    "tags": []
   },
   "outputs": [],
   "source": [
    "X_preproc = X_preproc.fillna(0)"
   ]
  },
  {
   "cell_type": "markdown",
   "id": "e82f936b",
   "metadata": {
    "papermill": {
     "duration": 0.005051,
     "end_time": "2023-03-18T19:43:08.562386",
     "exception": false,
     "start_time": "2023-03-18T19:43:08.557335",
     "status": "completed"
    },
    "tags": []
   },
   "source": [
    "## Treinando Modelo - XGBoost"
   ]
  },
  {
   "cell_type": "markdown",
   "id": "dad60ed3",
   "metadata": {},
   "source": [
    "## Otimização hiperparam"
   ]
  },
  {
   "cell_type": "code",
   "execution_count": 14,
   "id": "a5499708",
   "metadata": {
    "ExecuteTime": {
     "end_time": "2023-03-26T19:06:35.182197Z",
     "start_time": "2023-03-26T19:06:35.162192Z"
    },
    "execution": {
     "iopub.execute_input": "2023-03-18T19:43:08.575163Z",
     "iopub.status.busy": "2023-03-18T19:43:08.574778Z",
     "iopub.status.idle": "2023-03-18T19:43:08.974414Z",
     "shell.execute_reply": "2023-03-18T19:43:08.973505Z"
    },
    "papermill": {
     "duration": 0.40867,
     "end_time": "2023-03-18T19:43:08.976561",
     "exception": false,
     "start_time": "2023-03-18T19:43:08.567891",
     "status": "completed"
    },
    "tags": []
   },
   "outputs": [],
   "source": [
    "# xgb_model = xgb.XGBClassifier(random_state=1, n_jobs=-1)\n",
    "\n",
    "# params = {\n",
    "#     'n_estimators': [400, 500, 600],\n",
    "#     'max_depth': [5, 15, 20],\n",
    "#     'learning_rate': [0.01, 0.1, 1],\n",
    "#     'subsample': [0.5, 0.75, 1],\n",
    "#     'colsample_bytree': [0.5, 0.75, 1]\n",
    "# }\n",
    "\n",
    "# scorer = make_scorer(f1_score, average='macro')\n",
    "\n",
    "# random_search = RandomizedSearchCV(\n",
    "#     estimator=xgb_model,\n",
    "#     param_distributions=params,\n",
    "#     scoring=scorer,\n",
    "#     cv=5,\n",
    "#     n_iter=3,\n",
    "#     n_jobs=-1,\n",
    "#     random_state=42\n",
    "# )\n",
    "\n",
    "# random_search.fit(X_preproc, y_train)"
   ]
  },
  {
   "cell_type": "code",
   "execution_count": 14,
   "id": "99430a3c",
   "metadata": {
    "ExecuteTime": {
     "end_time": "2023-03-26T19:30:40.854587Z",
     "start_time": "2023-03-26T19:23:09.368236Z"
    }
   },
   "outputs": [
    {
     "name": "stdout",
     "output_type": "stream",
     "text": [
      "F1-score Médio: 0.9719804675940431\n"
     ]
    }
   ],
   "source": [
    "xgb = xgb.XGBClassifier(objective='binary:logistic',\n",
    "                        n_estimators=600,\n",
    "                        eta=0.01,\n",
    "                        max_depth=20,\n",
    "                        subsample=0.75,                       \n",
    "                        colsample_bytree=0.9,\n",
    "                        random_state=1)\n",
    "\n",
    "xgb.fit(X_preproc, y_train)\n",
    "\n",
    "scores = cross_val_score(xgb, X_preproc, y_train, cv=5, scoring='f1_macro')\n",
    "\n",
    "print(\"F1-score Médio:\", scores.mean())"
   ]
  },
  {
   "cell_type": "markdown",
   "id": "2212bb8c",
   "metadata": {
    "papermill": {
     "duration": 0.00677,
     "end_time": "2023-03-18T19:43:08.990349",
     "exception": false,
     "start_time": "2023-03-18T19:43:08.983579",
     "status": "completed"
    },
    "tags": []
   },
   "source": [
    "## Aplicando transformações no teste"
   ]
  },
  {
   "cell_type": "code",
   "execution_count": 15,
   "id": "9a67be3f",
   "metadata": {
    "ExecuteTime": {
     "end_time": "2023-03-26T19:33:23.349314Z",
     "start_time": "2023-03-26T19:33:23.145426Z"
    },
    "execution": {
     "iopub.execute_input": "2023-03-18T19:43:09.006770Z",
     "iopub.status.busy": "2023-03-18T19:43:09.005497Z",
     "iopub.status.idle": "2023-03-18T19:43:09.221578Z",
     "shell.execute_reply": "2023-03-18T19:43:09.220157Z"
    },
    "papermill": {
     "duration": 0.227219,
     "end_time": "2023-03-18T19:43:09.224519",
     "exception": false,
     "start_time": "2023-03-18T19:43:08.997300",
     "status": "completed"
    },
    "tags": []
   },
   "outputs": [],
   "source": [
    "# X_test = test.drop(columns='id')\n",
    "\n",
    "X_test = test.copy()\n",
    "\n",
    "X_test[numeric_cols] = rs.transform(X_test[numeric_cols])\n",
    "X_test = count.transform(X_test)\n",
    "\n",
    "X_test = X_test.fillna(0)"
   ]
  },
  {
   "cell_type": "markdown",
   "id": "72d6910d",
   "metadata": {
    "papermill": {
     "duration": 0.004816,
     "end_time": "2023-03-18T19:43:09.234929",
     "exception": false,
     "start_time": "2023-03-18T19:43:09.230113",
     "status": "completed"
    },
    "tags": []
   },
   "source": [
    "## Predic test"
   ]
  },
  {
   "cell_type": "code",
   "execution_count": 16,
   "id": "5c3ba800",
   "metadata": {
    "ExecuteTime": {
     "end_time": "2023-03-26T19:33:26.357840Z",
     "start_time": "2023-03-26T19:33:25.774258Z"
    },
    "execution": {
     "iopub.execute_input": "2023-03-18T19:43:09.247740Z",
     "iopub.status.busy": "2023-03-18T19:43:09.246320Z",
     "iopub.status.idle": "2023-03-18T19:43:09.256895Z",
     "shell.execute_reply": "2023-03-18T19:43:09.255821Z"
    },
    "papermill": {
     "duration": 0.01954,
     "end_time": "2023-03-18T19:43:09.259519",
     "exception": false,
     "start_time": "2023-03-18T19:43:09.239979",
     "status": "completed"
    },
    "tags": []
   },
   "outputs": [],
   "source": [
    "predicao_xgb = xgb.predict(X_test)"
   ]
  },
  {
   "cell_type": "markdown",
   "id": "0f1f0670",
   "metadata": {
    "papermill": {
     "duration": 0.006533,
     "end_time": "2023-03-18T19:43:09.273552",
     "exception": false,
     "start_time": "2023-03-18T19:43:09.267019",
     "status": "completed"
    },
    "tags": []
   },
   "source": [
    "## Solucao Final"
   ]
  },
  {
   "cell_type": "code",
   "execution_count": 17,
   "id": "3093f954",
   "metadata": {
    "ExecuteTime": {
     "end_time": "2023-03-26T19:33:29.433210Z",
     "start_time": "2023-03-26T19:33:29.413997Z"
    },
    "execution": {
     "iopub.execute_input": "2023-03-18T19:43:09.289136Z",
     "iopub.status.busy": "2023-03-18T19:43:09.288473Z",
     "iopub.status.idle": "2023-03-18T19:43:09.304771Z",
     "shell.execute_reply": "2023-03-18T19:43:09.303927Z"
    },
    "papermill": {
     "duration": 0.026883,
     "end_time": "2023-03-18T19:43:09.307240",
     "exception": false,
     "start_time": "2023-03-18T19:43:09.280357",
     "status": "completed"
    },
    "tags": []
   },
   "outputs": [
    {
     "data": {
      "text/html": [
       "<div>\n",
       "<style scoped>\n",
       "    .dataframe tbody tr th:only-of-type {\n",
       "        vertical-align: middle;\n",
       "    }\n",
       "\n",
       "    .dataframe tbody tr th {\n",
       "        vertical-align: top;\n",
       "    }\n",
       "\n",
       "    .dataframe thead th {\n",
       "        text-align: right;\n",
       "    }\n",
       "</style>\n",
       "<table border=\"1\" class=\"dataframe\">\n",
       "  <thead>\n",
       "    <tr style=\"text-align: right;\">\n",
       "      <th></th>\n",
       "      <th>id</th>\n",
       "      <th>Reserva Cancelada</th>\n",
       "    </tr>\n",
       "  </thead>\n",
       "  <tbody>\n",
       "    <tr>\n",
       "      <th>0</th>\n",
       "      <td>118345</td>\n",
       "      <td>0</td>\n",
       "    </tr>\n",
       "    <tr>\n",
       "      <th>1</th>\n",
       "      <td>9500</td>\n",
       "      <td>1</td>\n",
       "    </tr>\n",
       "    <tr>\n",
       "      <th>2</th>\n",
       "      <td>34558</td>\n",
       "      <td>0</td>\n",
       "    </tr>\n",
       "    <tr>\n",
       "      <th>3</th>\n",
       "      <td>70816</td>\n",
       "      <td>1</td>\n",
       "    </tr>\n",
       "    <tr>\n",
       "      <th>4</th>\n",
       "      <td>105321</td>\n",
       "      <td>0</td>\n",
       "    </tr>\n",
       "  </tbody>\n",
       "</table>\n",
       "</div>"
      ],
      "text/plain": [
       "       id  Reserva Cancelada\n",
       "0  118345                  0\n",
       "1    9500                  1\n",
       "2   34558                  0\n",
       "3   70816                  1\n",
       "4  105321                  0"
      ]
     },
     "execution_count": 17,
     "metadata": {},
     "output_type": "execute_result"
    }
   ],
   "source": [
    "df_final_xgb = pd.concat([test.id, pd.Series(predicao_xgb, name = 'Reserva Cancelada')], axis=1)\n",
    "\n",
    "df_final_xgb.head()"
   ]
  },
  {
   "cell_type": "code",
   "execution_count": 18,
   "id": "958b1957",
   "metadata": {
    "ExecuteTime": {
     "end_time": "2023-03-26T19:33:34.536343Z",
     "start_time": "2023-03-26T19:33:34.447351Z"
    },
    "execution": {
     "iopub.execute_input": "2023-03-18T19:43:09.322526Z",
     "iopub.status.busy": "2023-03-18T19:43:09.322126Z",
     "iopub.status.idle": "2023-03-18T19:43:09.388446Z",
     "shell.execute_reply": "2023-03-18T19:43:09.387382Z"
    },
    "papermill": {
     "duration": 0.077005,
     "end_time": "2023-03-18T19:43:09.391191",
     "exception": false,
     "start_time": "2023-03-18T19:43:09.314186",
     "status": "completed"
    },
    "tags": []
   },
   "outputs": [],
   "source": [
    "df_final_xgb.to_csv('submission_tuned_xgb_3.csv', index=False) #Arquivo de submissão pronto para ser enviado."
   ]
  }
 ],
 "metadata": {
  "kernelspec": {
   "display_name": "Python [conda env:hackday4ed]",
   "language": "python",
   "name": "conda-env-hackday4ed-py"
  },
  "language_info": {
   "codemirror_mode": {
    "name": "ipython",
    "version": 3
   },
   "file_extension": ".py",
   "mimetype": "text/x-python",
   "name": "python",
   "nbconvert_exporter": "python",
   "pygments_lexer": "ipython3",
   "version": "3.10.6"
  },
  "papermill": {
   "default_parameters": {},
   "duration": 14.097173,
   "end_time": "2023-03-18T19:43:10.221261",
   "environment_variables": {},
   "exception": null,
   "input_path": "__notebook__.ipynb",
   "output_path": "__notebook__.ipynb",
   "parameters": {},
   "start_time": "2023-03-18T19:42:56.124088",
   "version": "2.4.0"
  },
  "toc": {
   "base_numbering": 1,
   "nav_menu": {},
   "number_sections": true,
   "sideBar": true,
   "skip_h1_title": false,
   "title_cell": "Table of Contents",
   "title_sidebar": "Contents",
   "toc_cell": false,
   "toc_position": {},
   "toc_section_display": true,
   "toc_window_display": false
  }
 },
 "nbformat": 4,
 "nbformat_minor": 5
}
