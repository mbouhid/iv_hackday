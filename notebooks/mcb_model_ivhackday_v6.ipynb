{
 "cells": [
  {
   "cell_type": "markdown",
   "id": "414269b6",
   "metadata": {},
   "source": [
    "# Projet Name\n",
    "* Description"
   ]
  },
  {
   "cell_type": "markdown",
   "id": "f299e24b",
   "metadata": {},
   "source": [
    "# 0.0 Imports"
   ]
  },
  {
   "cell_type": "markdown",
   "id": "5e3bf30c",
   "metadata": {},
   "source": [
    "## 0.0 Libs"
   ]
  },
  {
   "cell_type": "code",
   "execution_count": 1,
   "id": "163d310e",
   "metadata": {
    "ExecuteTime": {
     "end_time": "2023-03-26T17:00:32.108446Z",
     "start_time": "2023-03-26T17:00:29.935900Z"
    }
   },
   "outputs": [],
   "source": [
    "# Importação das bibliotecas\n",
    "\n",
    "import numpy as np\n",
    "import pandas as pd\n",
    "import inflection\n",
    "import datetime\n",
    "\n",
    "import seaborn as sns\n",
    "from matplotlib import pyplot as plt\n",
    "\n",
    "\n",
    "# Pré-processamento\n",
    "from sklearn.preprocessing  import RobustScaler, MinMaxScaler, LabelEncoder, OneHotEncoder, OrdinalEncoder\n",
    "from category_encoders.count import CountEncoder\n",
    "\n",
    "from sklearn import metrics           as mt\n",
    "from sklearn import model_selection   as ms\n",
    "\n",
    "####### Algoritmos para Classificação e Regressão\n",
    "# from sklearn.neighbors      import KNeighborsClassifier\n",
    "from sklearn.ensemble       import RandomForestClassifier\n",
    "from xgboost                import XGBClassifier\n",
    "\n",
    "# from sklearn.ensemble       import RandomForestRegressor\n",
    "\n",
    "# from sklearn                import linear_model as lm\n",
    "# from sklearn.linear_model   import LogisticRegression, LinearRegression, Lasso\n",
    "\n",
    "from sklearn.linear_model   import LogisticRegression\n",
    "from sklearn                import svm\n",
    "from sklearn                import tree\n",
    "\n",
    "\n",
    "\n",
    "####### Algoritmos só para Classificação\n",
    "# from sklearn.naive_bayes  import MultinomialNB\n",
    "# from sklearn.naive_bayes  import CategoricalNB\n",
    "# from mixed_naive_bayes    import MixedNB\n",
    "\n",
    "\n",
    "# --\n",
    "# Lib para não mostrar warnings de melhorias futuras (sugestão de novos comandos) das bibliotecas\n",
    "# import warnings\n",
    "# warnings.filterwarnings('ignore')\n",
    "\n",
    "from boruta                 import BorutaPy\n",
    "\n",
    "# from IPython.display        import Image\n",
    "\n",
    "# Fine Tunning\n",
    "from sklearn.model_selection import StratifiedKFold\n",
    "from sklearn.model_selection import GridSearchCV\n",
    "from sklearn.model_selection import KFold\n",
    "from skopt import BayesSearchCV\n"
   ]
  },
  {
   "cell_type": "markdown",
   "id": "78850f81",
   "metadata": {},
   "source": [
    "## 0.1 Help Functions"
   ]
  },
  {
   "cell_type": "code",
   "execution_count": 2,
   "id": "f3ef0afb",
   "metadata": {
    "ExecuteTime": {
     "end_time": "2023-03-26T17:00:32.124235Z",
     "start_time": "2023-03-26T17:00:32.111027Z"
    }
   },
   "outputs": [],
   "source": [
    "# Funções criadas para evitar retrabalho\n",
    "\n",
    "\n",
    "def data_description(df):\n",
    "    print('Variables:\\n\\n{}'.format(df.dtypes), end='\\n\\n')\n",
    "    print('===============================')\n",
    "    print('Number of rows {}'.format(df.shape[0]), end='\\n\\n')\n",
    "    print('Number of columns {}'.format(df.shape[1]), end='\\n\\n')\n",
    "    print('===============================')\n",
    "    print('NA analysis'.format(end='\\n') )\n",
    "    for i in df.columns:\n",
    "        print('column {}: {} {}'.format(i,df[i].isna().any(), df[i].isna().sum() ) )\n",
    "    print('===============================')\n",
    "    print('Unique values for each columns'.format(end='\\n') )\n",
    "    for i in df.columns:\n",
    "        print('column {}: {}'.format(i,df[i].unique() ) )\n",
    "\n",
    "\n",
    "def jupyter_settings():\n",
    "\n",
    "#\n",
    "    plt.style.use( 'bmh' )\n",
    "    plt.rcParams['figure.figsize'] = [25, 12]\n",
    "    plt.rcParams['font.size'] = 24\n",
    "#\n",
    "#    display( HTML( '<style>.container { width:100% !important; }</style>') )\n",
    "#    pd.options.display.max_columns = None\n",
    "#    pd.options.display.max_rows = None\n",
    "#    pd.set_option( 'display.expand_frame_repr', False )\n",
    "#    \n",
    "    sns.set()\n",
    "\n",
    "jupyter_settings()"
   ]
  },
  {
   "cell_type": "markdown",
   "id": "8612300e",
   "metadata": {},
   "source": [
    "## 0.2 Load Data"
   ]
  },
  {
   "cell_type": "code",
   "execution_count": 3,
   "id": "d4e6cb05",
   "metadata": {
    "ExecuteTime": {
     "end_time": "2023-03-26T17:00:32.407698Z",
     "start_time": "2023-03-26T17:00:32.128879Z"
    }
   },
   "outputs": [],
   "source": [
    "# Coleta de dados do diretório /data, do banco de dados, ou outro lugar especificado abaixo\n",
    "\n",
    "train = pd.read_csv('../data/train.csv')\n",
    "\n",
    "test = pd.read_csv('../data/test.csv')\n"
   ]
  },
  {
   "cell_type": "code",
   "execution_count": 4,
   "id": "cb36b61b",
   "metadata": {
    "ExecuteTime": {
     "end_time": "2023-03-26T17:00:32.439144Z",
     "start_time": "2023-03-26T17:00:32.412700Z"
    }
   },
   "outputs": [
    {
     "data": {
      "text/plain": [
       "((72159, 15), (48106, 14))"
      ]
     },
     "execution_count": 4,
     "metadata": {},
     "output_type": "execute_result"
    }
   ],
   "source": [
    "train.shape, test.shape"
   ]
  },
  {
   "cell_type": "code",
   "execution_count": 5,
   "id": "15fd7e53",
   "metadata": {
    "ExecuteTime": {
     "end_time": "2023-03-26T17:00:32.471033Z",
     "start_time": "2023-03-26T17:00:32.442098Z"
    }
   },
   "outputs": [
    {
     "data": {
      "text/html": [
       "<div>\n",
       "<style scoped>\n",
       "    .dataframe tbody tr th:only-of-type {\n",
       "        vertical-align: middle;\n",
       "    }\n",
       "\n",
       "    .dataframe tbody tr th {\n",
       "        vertical-align: top;\n",
       "    }\n",
       "\n",
       "    .dataframe thead th {\n",
       "        text-align: right;\n",
       "    }\n",
       "</style>\n",
       "<table border=\"1\" class=\"dataframe\">\n",
       "  <thead>\n",
       "    <tr style=\"text-align: right;\">\n",
       "      <th></th>\n",
       "      <th>48789</th>\n",
       "      <th>2921</th>\n",
       "      <th>23811</th>\n",
       "      <th>15180</th>\n",
       "      <th>29677</th>\n",
       "      <th>28610</th>\n",
       "      <th>43</th>\n",
       "      <th>47923</th>\n",
       "    </tr>\n",
       "  </thead>\n",
       "  <tbody>\n",
       "    <tr>\n",
       "      <th>id</th>\n",
       "      <td>60988</td>\n",
       "      <td>41662</td>\n",
       "      <td>62172</td>\n",
       "      <td>82005</td>\n",
       "      <td>82103</td>\n",
       "      <td>77212</td>\n",
       "      <td>77744</td>\n",
       "      <td>93632</td>\n",
       "    </tr>\n",
       "    <tr>\n",
       "      <th>Classificação do hotel</th>\n",
       "      <td>4 estrelas</td>\n",
       "      <td>4 estrelas</td>\n",
       "      <td>4 estrelas</td>\n",
       "      <td>4 estrelas</td>\n",
       "      <td>4 estrelas</td>\n",
       "      <td>4 estrelas</td>\n",
       "      <td>4 estrelas</td>\n",
       "      <td>4 estrelas</td>\n",
       "    </tr>\n",
       "    <tr>\n",
       "      <th>Meses da reserva até o check-in</th>\n",
       "      <td>1</td>\n",
       "      <td>5</td>\n",
       "      <td>10</td>\n",
       "      <td>1</td>\n",
       "      <td>8</td>\n",
       "      <td>1</td>\n",
       "      <td>1</td>\n",
       "      <td>2</td>\n",
       "    </tr>\n",
       "    <tr>\n",
       "      <th>Número de pernoites reservadas</th>\n",
       "      <td>2</td>\n",
       "      <td>3</td>\n",
       "      <td>6</td>\n",
       "      <td>7</td>\n",
       "      <td>2</td>\n",
       "      <td>1</td>\n",
       "      <td>2</td>\n",
       "      <td>1</td>\n",
       "    </tr>\n",
       "    <tr>\n",
       "      <th>Número de hospedes</th>\n",
       "      <td>2.0</td>\n",
       "      <td>2.0</td>\n",
       "      <td>3.0</td>\n",
       "      <td>1.0</td>\n",
       "      <td>2.0</td>\n",
       "      <td>1.0</td>\n",
       "      <td>2.0</td>\n",
       "      <td>3.0</td>\n",
       "    </tr>\n",
       "    <tr>\n",
       "      <th>Regime de alimentação</th>\n",
       "      <td>Sem refeicao</td>\n",
       "      <td>Café da manha e jantar</td>\n",
       "      <td>Café da manha</td>\n",
       "      <td>Café da manha</td>\n",
       "      <td>Café da manha e jantar</td>\n",
       "      <td>Café da manha</td>\n",
       "      <td>Café da manha</td>\n",
       "      <td>Café da manha</td>\n",
       "    </tr>\n",
       "    <tr>\n",
       "      <th>Nacionalidade</th>\n",
       "      <td>United Kingdom</td>\n",
       "      <td>Italy</td>\n",
       "      <td>Netherlands</td>\n",
       "      <td>Angola</td>\n",
       "      <td>Spain</td>\n",
       "      <td>Spain</td>\n",
       "      <td>Spain</td>\n",
       "      <td>New Zealand</td>\n",
       "    </tr>\n",
       "    <tr>\n",
       "      <th>Forma de Reserva</th>\n",
       "      <td>Agência</td>\n",
       "      <td>Agência</td>\n",
       "      <td>Agência</td>\n",
       "      <td>Balcão</td>\n",
       "      <td>Agência</td>\n",
       "      <td>B2B</td>\n",
       "      <td>Balcão</td>\n",
       "      <td>Agência</td>\n",
       "    </tr>\n",
       "    <tr>\n",
       "      <th>Já se hospedou anterioremente</th>\n",
       "      <td>Não</td>\n",
       "      <td>Não</td>\n",
       "      <td>Não</td>\n",
       "      <td>Não</td>\n",
       "      <td>Não</td>\n",
       "      <td>Sim</td>\n",
       "      <td>Não</td>\n",
       "      <td>Não</td>\n",
       "    </tr>\n",
       "    <tr>\n",
       "      <th>Tipo do quarto reservado</th>\n",
       "      <td>Amethyst</td>\n",
       "      <td>Amethyst</td>\n",
       "      <td>Green Emerald</td>\n",
       "      <td>Pink Sapphire</td>\n",
       "      <td>Amethyst</td>\n",
       "      <td>Amethyst</td>\n",
       "      <td>Amethyst</td>\n",
       "      <td>Green Emerald</td>\n",
       "    </tr>\n",
       "    <tr>\n",
       "      <th>Reserva feita por agência de turismo</th>\n",
       "      <td>Sim</td>\n",
       "      <td>Sim</td>\n",
       "      <td>Sim</td>\n",
       "      <td>Não</td>\n",
       "      <td>Sim</td>\n",
       "      <td>Não</td>\n",
       "      <td>Não</td>\n",
       "      <td>Sim</td>\n",
       "    </tr>\n",
       "    <tr>\n",
       "      <th>Reserva feita por empresa</th>\n",
       "      <td>Não</td>\n",
       "      <td>Não</td>\n",
       "      <td>Não</td>\n",
       "      <td>Não</td>\n",
       "      <td>Não</td>\n",
       "      <td>Sim</td>\n",
       "      <td>Não</td>\n",
       "      <td>Não</td>\n",
       "    </tr>\n",
       "    <tr>\n",
       "      <th>Reserva com Estacionamento</th>\n",
       "      <td>Não</td>\n",
       "      <td>Não</td>\n",
       "      <td>Não</td>\n",
       "      <td>Não</td>\n",
       "      <td>Não</td>\n",
       "      <td>Não</td>\n",
       "      <td>Sim</td>\n",
       "      <td>Sim</td>\n",
       "    </tr>\n",
       "    <tr>\n",
       "      <th>Reserva com Observações</th>\n",
       "      <td>1 a 3</td>\n",
       "      <td>Nenhuma</td>\n",
       "      <td>Nenhuma</td>\n",
       "      <td>1 a 3</td>\n",
       "      <td>Nenhuma</td>\n",
       "      <td>Nenhuma</td>\n",
       "      <td>Nenhuma</td>\n",
       "      <td>1 a 3</td>\n",
       "    </tr>\n",
       "    <tr>\n",
       "      <th>Reserva Cancelada</th>\n",
       "      <td>1</td>\n",
       "      <td>1</td>\n",
       "      <td>1</td>\n",
       "      <td>1</td>\n",
       "      <td>1</td>\n",
       "      <td>0</td>\n",
       "      <td>0</td>\n",
       "      <td>0</td>\n",
       "    </tr>\n",
       "  </tbody>\n",
       "</table>\n",
       "</div>"
      ],
      "text/plain": [
       "                                               48789                   2921   \\\n",
       "id                                             60988                   41662   \n",
       "Classificação do hotel                    4 estrelas              4 estrelas   \n",
       "Meses da reserva até o check-in                    1                       5   \n",
       "Número de pernoites reservadas                     2                       3   \n",
       "Número de hospedes                               2.0                     2.0   \n",
       "Regime de alimentação                   Sem refeicao  Café da manha e jantar   \n",
       "Nacionalidade                         United Kingdom                   Italy   \n",
       "Forma de Reserva                             Agência                 Agência   \n",
       "Já se hospedou anterioremente                    Não                     Não   \n",
       "Tipo do quarto reservado                    Amethyst                Amethyst   \n",
       "Reserva feita por agência de turismo             Sim                     Sim   \n",
       "Reserva feita por empresa                        Não                     Não   \n",
       "Reserva com Estacionamento                       Não                     Não   \n",
       "Reserva com Observações                        1 a 3                 Nenhuma   \n",
       "Reserva Cancelada                                  1                       1   \n",
       "\n",
       "                                              23811          15180  \\\n",
       "id                                            62172          82005   \n",
       "Classificação do hotel                   4 estrelas     4 estrelas   \n",
       "Meses da reserva até o check-in                  10              1   \n",
       "Número de pernoites reservadas                    6              7   \n",
       "Número de hospedes                              3.0            1.0   \n",
       "Regime de alimentação                 Café da manha  Café da manha   \n",
       "Nacionalidade                           Netherlands         Angola   \n",
       "Forma de Reserva                            Agência         Balcão   \n",
       "Já se hospedou anterioremente                   Não            Não   \n",
       "Tipo do quarto reservado              Green Emerald  Pink Sapphire   \n",
       "Reserva feita por agência de turismo            Sim            Não   \n",
       "Reserva feita por empresa                       Não            Não   \n",
       "Reserva com Estacionamento                      Não            Não   \n",
       "Reserva com Observações                     Nenhuma          1 a 3   \n",
       "Reserva Cancelada                                 1              1   \n",
       "\n",
       "                                                       29677          28610  \\\n",
       "id                                                     82103          77212   \n",
       "Classificação do hotel                            4 estrelas     4 estrelas   \n",
       "Meses da reserva até o check-in                            8              1   \n",
       "Número de pernoites reservadas                             2              1   \n",
       "Número de hospedes                                       2.0            1.0   \n",
       "Regime de alimentação                 Café da manha e jantar  Café da manha   \n",
       "Nacionalidade                                          Spain          Spain   \n",
       "Forma de Reserva                                     Agência            B2B   \n",
       "Já se hospedou anterioremente                            Não            Sim   \n",
       "Tipo do quarto reservado                            Amethyst       Amethyst   \n",
       "Reserva feita por agência de turismo                     Sim            Não   \n",
       "Reserva feita por empresa                                Não            Sim   \n",
       "Reserva com Estacionamento                               Não            Não   \n",
       "Reserva com Observações                              Nenhuma        Nenhuma   \n",
       "Reserva Cancelada                                          1              0   \n",
       "\n",
       "                                              43             47923  \n",
       "id                                            77744          93632  \n",
       "Classificação do hotel                   4 estrelas     4 estrelas  \n",
       "Meses da reserva até o check-in                   1              2  \n",
       "Número de pernoites reservadas                    2              1  \n",
       "Número de hospedes                              2.0            3.0  \n",
       "Regime de alimentação                 Café da manha  Café da manha  \n",
       "Nacionalidade                                 Spain    New Zealand  \n",
       "Forma de Reserva                             Balcão        Agência  \n",
       "Já se hospedou anterioremente                   Não            Não  \n",
       "Tipo do quarto reservado                   Amethyst  Green Emerald  \n",
       "Reserva feita por agência de turismo            Não            Sim  \n",
       "Reserva feita por empresa                       Não            Não  \n",
       "Reserva com Estacionamento                      Sim            Sim  \n",
       "Reserva com Observações                     Nenhuma          1 a 3  \n",
       "Reserva Cancelada                                 0              0  "
      ]
     },
     "execution_count": 5,
     "metadata": {},
     "output_type": "execute_result"
    }
   ],
   "source": [
    "train.sample(8).T"
   ]
  },
  {
   "cell_type": "code",
   "execution_count": 6,
   "id": "3830c78c",
   "metadata": {
    "ExecuteTime": {
     "end_time": "2023-03-26T17:00:32.501921Z",
     "start_time": "2023-03-26T17:00:32.473032Z"
    }
   },
   "outputs": [
    {
     "data": {
      "text/html": [
       "<div>\n",
       "<style scoped>\n",
       "    .dataframe tbody tr th:only-of-type {\n",
       "        vertical-align: middle;\n",
       "    }\n",
       "\n",
       "    .dataframe tbody tr th {\n",
       "        vertical-align: top;\n",
       "    }\n",
       "\n",
       "    .dataframe thead th {\n",
       "        text-align: right;\n",
       "    }\n",
       "</style>\n",
       "<table border=\"1\" class=\"dataframe\">\n",
       "  <thead>\n",
       "    <tr style=\"text-align: right;\">\n",
       "      <th></th>\n",
       "      <th>16975</th>\n",
       "      <th>5314</th>\n",
       "      <th>25928</th>\n",
       "      <th>47273</th>\n",
       "      <th>26488</th>\n",
       "    </tr>\n",
       "  </thead>\n",
       "  <tbody>\n",
       "    <tr>\n",
       "      <th>id</th>\n",
       "      <td>116900</td>\n",
       "      <td>27310</td>\n",
       "      <td>43981</td>\n",
       "      <td>8804</td>\n",
       "      <td>15758</td>\n",
       "    </tr>\n",
       "    <tr>\n",
       "      <th>Classificação do hotel</th>\n",
       "      <td>4 estrelas</td>\n",
       "      <td>5 estrelas</td>\n",
       "      <td>4 estrelas</td>\n",
       "      <td>5 estrelas</td>\n",
       "      <td>5 estrelas</td>\n",
       "    </tr>\n",
       "    <tr>\n",
       "      <th>Meses da reserva até o check-in</th>\n",
       "      <td>15</td>\n",
       "      <td>3</td>\n",
       "      <td>3</td>\n",
       "      <td>12</td>\n",
       "      <td>16</td>\n",
       "    </tr>\n",
       "    <tr>\n",
       "      <th>Número de pernoites reservadas</th>\n",
       "      <td>3</td>\n",
       "      <td>5</td>\n",
       "      <td>2</td>\n",
       "      <td>5</td>\n",
       "      <td>2</td>\n",
       "    </tr>\n",
       "    <tr>\n",
       "      <th>Número de hospedes</th>\n",
       "      <td>2.0</td>\n",
       "      <td>3.0</td>\n",
       "      <td>2.0</td>\n",
       "      <td>1.0</td>\n",
       "      <td>2.0</td>\n",
       "    </tr>\n",
       "    <tr>\n",
       "      <th>Regime de alimentação</th>\n",
       "      <td>Café da manha</td>\n",
       "      <td>Café da manha</td>\n",
       "      <td>Café da manha</td>\n",
       "      <td>Café da manha</td>\n",
       "      <td>Café da manha e jantar</td>\n",
       "    </tr>\n",
       "    <tr>\n",
       "      <th>Nacionalidade</th>\n",
       "      <td>United Kingdom</td>\n",
       "      <td>Spain</td>\n",
       "      <td>Spain</td>\n",
       "      <td>United Kingdom</td>\n",
       "      <td>Spain</td>\n",
       "    </tr>\n",
       "    <tr>\n",
       "      <th>Forma de Reserva</th>\n",
       "      <td>Agência</td>\n",
       "      <td>Balcão</td>\n",
       "      <td>Agência</td>\n",
       "      <td>B2B</td>\n",
       "      <td>Agência</td>\n",
       "    </tr>\n",
       "    <tr>\n",
       "      <th>Já se hospedou anterioremente</th>\n",
       "      <td>Não</td>\n",
       "      <td>Não</td>\n",
       "      <td>Não</td>\n",
       "      <td>Não</td>\n",
       "      <td>Não</td>\n",
       "    </tr>\n",
       "    <tr>\n",
       "      <th>Tipo do quarto reservado</th>\n",
       "      <td>Amethyst</td>\n",
       "      <td>Tanzanite</td>\n",
       "      <td>Amethyst</td>\n",
       "      <td>Amethyst</td>\n",
       "      <td>Amethyst</td>\n",
       "    </tr>\n",
       "    <tr>\n",
       "      <th>Reserva feita por agência de turismo</th>\n",
       "      <td>Sim</td>\n",
       "      <td>Sim</td>\n",
       "      <td>Sim</td>\n",
       "      <td>Não</td>\n",
       "      <td>Sim</td>\n",
       "    </tr>\n",
       "    <tr>\n",
       "      <th>Reserva feita por empresa</th>\n",
       "      <td>Não</td>\n",
       "      <td>Não</td>\n",
       "      <td>Não</td>\n",
       "      <td>Sim</td>\n",
       "      <td>Não</td>\n",
       "    </tr>\n",
       "    <tr>\n",
       "      <th>Reserva com Estacionamento</th>\n",
       "      <td>Não</td>\n",
       "      <td>Não</td>\n",
       "      <td>Não</td>\n",
       "      <td>Não</td>\n",
       "      <td>Não</td>\n",
       "    </tr>\n",
       "    <tr>\n",
       "      <th>Reserva com Observações</th>\n",
       "      <td>1 a 3</td>\n",
       "      <td>1 a 3</td>\n",
       "      <td>Nenhuma</td>\n",
       "      <td>Nenhuma</td>\n",
       "      <td>Nenhuma</td>\n",
       "    </tr>\n",
       "  </tbody>\n",
       "</table>\n",
       "</div>"
      ],
      "text/plain": [
       "                                               16975          5314   \\\n",
       "id                                            116900          27310   \n",
       "Classificação do hotel                    4 estrelas     5 estrelas   \n",
       "Meses da reserva até o check-in                   15              3   \n",
       "Número de pernoites reservadas                     3              5   \n",
       "Número de hospedes                               2.0            3.0   \n",
       "Regime de alimentação                  Café da manha  Café da manha   \n",
       "Nacionalidade                         United Kingdom          Spain   \n",
       "Forma de Reserva                             Agência         Balcão   \n",
       "Já se hospedou anterioremente                    Não            Não   \n",
       "Tipo do quarto reservado                    Amethyst      Tanzanite   \n",
       "Reserva feita por agência de turismo             Sim            Sim   \n",
       "Reserva feita por empresa                        Não            Não   \n",
       "Reserva com Estacionamento                       Não            Não   \n",
       "Reserva com Observações                        1 a 3          1 a 3   \n",
       "\n",
       "                                              25928           47273  \\\n",
       "id                                            43981            8804   \n",
       "Classificação do hotel                   4 estrelas      5 estrelas   \n",
       "Meses da reserva até o check-in                   3              12   \n",
       "Número de pernoites reservadas                    2               5   \n",
       "Número de hospedes                              2.0             1.0   \n",
       "Regime de alimentação                 Café da manha   Café da manha   \n",
       "Nacionalidade                                 Spain  United Kingdom   \n",
       "Forma de Reserva                            Agência             B2B   \n",
       "Já se hospedou anterioremente                   Não             Não   \n",
       "Tipo do quarto reservado                   Amethyst        Amethyst   \n",
       "Reserva feita por agência de turismo            Sim             Não   \n",
       "Reserva feita por empresa                       Não             Sim   \n",
       "Reserva com Estacionamento                      Não             Não   \n",
       "Reserva com Observações                     Nenhuma         Nenhuma   \n",
       "\n",
       "                                                       26488  \n",
       "id                                                     15758  \n",
       "Classificação do hotel                            5 estrelas  \n",
       "Meses da reserva até o check-in                           16  \n",
       "Número de pernoites reservadas                             2  \n",
       "Número de hospedes                                       2.0  \n",
       "Regime de alimentação                 Café da manha e jantar  \n",
       "Nacionalidade                                          Spain  \n",
       "Forma de Reserva                                     Agência  \n",
       "Já se hospedou anterioremente                            Não  \n",
       "Tipo do quarto reservado                            Amethyst  \n",
       "Reserva feita por agência de turismo                     Sim  \n",
       "Reserva feita por empresa                                Não  \n",
       "Reserva com Estacionamento                               Não  \n",
       "Reserva com Observações                              Nenhuma  "
      ]
     },
     "execution_count": 6,
     "metadata": {},
     "output_type": "execute_result"
    }
   ],
   "source": [
    "test.sample(5).T"
   ]
  },
  {
   "cell_type": "markdown",
   "id": "002e666b",
   "metadata": {},
   "source": [
    "## 0.3 Adjust Columns Names"
   ]
  },
  {
   "cell_type": "code",
   "execution_count": 7,
   "id": "e9175419",
   "metadata": {
    "ExecuteTime": {
     "end_time": "2023-03-26T17:00:32.532366Z",
     "start_time": "2023-03-26T17:00:32.503897Z"
    }
   },
   "outputs": [],
   "source": [
    "# Concatenate train and test together\n",
    "all_data = pd.concat([train, test])"
   ]
  },
  {
   "cell_type": "code",
   "execution_count": 8,
   "id": "e290b082",
   "metadata": {
    "ExecuteTime": {
     "end_time": "2023-03-26T17:00:32.610023Z",
     "start_time": "2023-03-26T17:00:32.534336Z"
    }
   },
   "outputs": [],
   "source": [
    "## Alteração nome das variábeis\n",
    "\n",
    "all_data.columns = [c.replace(' ', '_') for c in all_data.columns]\n",
    "\n",
    "cols_old = all_data.columns\n",
    "\n",
    "snakecase = lambda x: inflection.underscore(x)\n",
    "\n",
    "cols_new = list(map(snakecase, cols_old))\n",
    "\n",
    "#rename\n",
    "all_data.columns = cols_new\n",
    "\n",
    "# Split back into train and test\n",
    "train = all_data[all_data['id'].isin(train['id'])]\n",
    "test = all_data[all_data['id'].isin(test['id'])].drop('reserva_cancelada', axis=1)\n"
   ]
  },
  {
   "cell_type": "code",
   "execution_count": null,
   "id": "7ef89f32",
   "metadata": {
    "ExecuteTime": {
     "end_time": "2023-03-26T08:23:07.090516Z",
     "start_time": "2023-03-26T08:23:07.066690Z"
    }
   },
   "outputs": [],
   "source": []
  },
  {
   "cell_type": "code",
   "execution_count": 9,
   "id": "4bcbba8d",
   "metadata": {
    "ExecuteTime": {
     "end_time": "2023-03-26T17:00:32.626283Z",
     "start_time": "2023-03-26T17:00:32.615022Z"
    }
   },
   "outputs": [
    {
     "data": {
      "text/plain": [
       "Index(['id', 'classificação_do_hotel', 'meses_da_reserva_até_o_check_in',\n",
       "       'número_de_pernoites_reservadas', 'número_de_hospedes',\n",
       "       'regime_de_alimentação', 'nacionalidade', 'forma_de_reserva',\n",
       "       'já_se_hospedou_anterioremente', 'tipo_do_quarto_reservado',\n",
       "       'reserva_feita_por_agência_de_turismo', 'reserva_feita_por_empresa',\n",
       "       'reserva_com_estacionamento', 'reserva_com_observações',\n",
       "       'reserva_cancelada'],\n",
       "      dtype='object')"
      ]
     },
     "execution_count": 9,
     "metadata": {},
     "output_type": "execute_result"
    }
   ],
   "source": [
    "train.columns"
   ]
  },
  {
   "cell_type": "markdown",
   "id": "fc5071f8",
   "metadata": {},
   "source": [
    "## 0.4 Split data \"Production\""
   ]
  },
  {
   "cell_type": "code",
   "execution_count": 10,
   "id": "187572db",
   "metadata": {
    "ExecuteTime": {
     "end_time": "2023-03-26T17:00:32.644069Z",
     "start_time": "2023-03-26T17:00:32.627931Z"
    }
   },
   "outputs": [],
   "source": [
    "## Separação de dados que o modelo só utilizará no momento do teste, simulação de dados da produção (que nunca viu)\n",
    "\n",
    "# features = df_test.drop(columns=['id', 'Reserva Cancelada'], axis=1)\n",
    "# label = df_test['Reserva Cancelada']\n",
    "\n",
    "# X, X_prod, y, y_prod = ms.train_test_split(features, label, split_size=0.2, random_state=42)\n"
   ]
  },
  {
   "cell_type": "markdown",
   "id": "7f8afe02",
   "metadata": {},
   "source": [
    "## 0.5 Split data Train & Validation"
   ]
  },
  {
   "cell_type": "code",
   "execution_count": 11,
   "id": "ab6a66a8",
   "metadata": {
    "ExecuteTime": {
     "end_time": "2023-03-26T17:00:32.657924Z",
     "start_time": "2023-03-26T17:00:32.648648Z"
    }
   },
   "outputs": [],
   "source": [
    "# Separação de dados de treino e validação\n",
    "\n",
    "#X_train = train.drop(columns=['id', 'reserva_cancelada'])\n",
    "#y_train = train['reserva_cancelada']\n",
    "\n",
    "#X_train, X_val, y_train, y_val = ms.train_test_split(X_train, y_train, test_size=0.2, random_state=42)\n",
    "\n"
   ]
  },
  {
   "cell_type": "code",
   "execution_count": 12,
   "id": "2ba4379c",
   "metadata": {
    "ExecuteTime": {
     "end_time": "2023-03-26T17:00:32.672846Z",
     "start_time": "2023-03-26T17:00:32.662781Z"
    }
   },
   "outputs": [],
   "source": [
    "# X_train.shape"
   ]
  },
  {
   "cell_type": "markdown",
   "id": "793d2f82",
   "metadata": {},
   "source": [
    "# 1.0 Data Description"
   ]
  },
  {
   "cell_type": "code",
   "execution_count": 13,
   "id": "b81466f6",
   "metadata": {
    "ExecuteTime": {
     "end_time": "2023-03-26T17:00:32.688058Z",
     "start_time": "2023-03-26T17:00:32.678484Z"
    }
   },
   "outputs": [],
   "source": [
    "## Backup do Dataframe\n",
    "\n",
    "df1 = train.copy()"
   ]
  },
  {
   "cell_type": "code",
   "execution_count": 14,
   "id": "53161368",
   "metadata": {
    "ExecuteTime": {
     "end_time": "2023-03-26T17:00:32.719893Z",
     "start_time": "2023-03-26T17:00:32.689222Z"
    }
   },
   "outputs": [
    {
     "data": {
      "text/html": [
       "<div>\n",
       "<style scoped>\n",
       "    .dataframe tbody tr th:only-of-type {\n",
       "        vertical-align: middle;\n",
       "    }\n",
       "\n",
       "    .dataframe tbody tr th {\n",
       "        vertical-align: top;\n",
       "    }\n",
       "\n",
       "    .dataframe thead th {\n",
       "        text-align: right;\n",
       "    }\n",
       "</style>\n",
       "<table border=\"1\" class=\"dataframe\">\n",
       "  <thead>\n",
       "    <tr style=\"text-align: right;\">\n",
       "      <th></th>\n",
       "      <th>65423</th>\n",
       "      <th>36249</th>\n",
       "      <th>16311</th>\n",
       "      <th>2828</th>\n",
       "      <th>58277</th>\n",
       "      <th>30902</th>\n",
       "      <th>7746</th>\n",
       "      <th>14177</th>\n",
       "    </tr>\n",
       "  </thead>\n",
       "  <tbody>\n",
       "    <tr>\n",
       "      <th>id</th>\n",
       "      <td>40851</td>\n",
       "      <td>76785</td>\n",
       "      <td>32532</td>\n",
       "      <td>62181</td>\n",
       "      <td>92077</td>\n",
       "      <td>29578</td>\n",
       "      <td>42528</td>\n",
       "      <td>21649</td>\n",
       "    </tr>\n",
       "    <tr>\n",
       "      <th>classificação_do_hotel</th>\n",
       "      <td>4 estrelas</td>\n",
       "      <td>4 estrelas</td>\n",
       "      <td>5 estrelas</td>\n",
       "      <td>4 estrelas</td>\n",
       "      <td>4 estrelas</td>\n",
       "      <td>5 estrelas</td>\n",
       "      <td>4 estrelas</td>\n",
       "      <td>5 estrelas</td>\n",
       "    </tr>\n",
       "    <tr>\n",
       "      <th>meses_da_reserva_até_o_check_in</th>\n",
       "      <td>1</td>\n",
       "      <td>6</td>\n",
       "      <td>1</td>\n",
       "      <td>5</td>\n",
       "      <td>1</td>\n",
       "      <td>8</td>\n",
       "      <td>1</td>\n",
       "      <td>1</td>\n",
       "    </tr>\n",
       "    <tr>\n",
       "      <th>número_de_pernoites_reservadas</th>\n",
       "      <td>4</td>\n",
       "      <td>3</td>\n",
       "      <td>1</td>\n",
       "      <td>2</td>\n",
       "      <td>2</td>\n",
       "      <td>7</td>\n",
       "      <td>2</td>\n",
       "      <td>1</td>\n",
       "    </tr>\n",
       "    <tr>\n",
       "      <th>número_de_hospedes</th>\n",
       "      <td>1.0</td>\n",
       "      <td>2.0</td>\n",
       "      <td>1.0</td>\n",
       "      <td>2.0</td>\n",
       "      <td>1.0</td>\n",
       "      <td>2.0</td>\n",
       "      <td>2.0</td>\n",
       "      <td>2.0</td>\n",
       "    </tr>\n",
       "    <tr>\n",
       "      <th>regime_de_alimentação</th>\n",
       "      <td>Café da manha</td>\n",
       "      <td>Café da manha e jantar</td>\n",
       "      <td>Café da manha</td>\n",
       "      <td>Sem refeicao</td>\n",
       "      <td>Café da manha</td>\n",
       "      <td>Café da manha</td>\n",
       "      <td>Sem refeicao</td>\n",
       "      <td>Café da manha</td>\n",
       "    </tr>\n",
       "    <tr>\n",
       "      <th>nacionalidade</th>\n",
       "      <td>Spain</td>\n",
       "      <td>Spain</td>\n",
       "      <td>Spain</td>\n",
       "      <td>Spain</td>\n",
       "      <td>Italy</td>\n",
       "      <td>Spain</td>\n",
       "      <td>Spain</td>\n",
       "      <td>Spain</td>\n",
       "    </tr>\n",
       "    <tr>\n",
       "      <th>forma_de_reserva</th>\n",
       "      <td>Agência</td>\n",
       "      <td>Agência</td>\n",
       "      <td>Agência</td>\n",
       "      <td>Agência</td>\n",
       "      <td>Balcão</td>\n",
       "      <td>Agência</td>\n",
       "      <td>Agência</td>\n",
       "      <td>Balcão</td>\n",
       "    </tr>\n",
       "    <tr>\n",
       "      <th>já_se_hospedou_anterioremente</th>\n",
       "      <td>Não</td>\n",
       "      <td>Não</td>\n",
       "      <td>Não</td>\n",
       "      <td>Não</td>\n",
       "      <td>Não</td>\n",
       "      <td>Não</td>\n",
       "      <td>Não</td>\n",
       "      <td>Não</td>\n",
       "    </tr>\n",
       "    <tr>\n",
       "      <th>tipo_do_quarto_reservado</th>\n",
       "      <td>Amethyst</td>\n",
       "      <td>Amethyst</td>\n",
       "      <td>Amethyst</td>\n",
       "      <td>Amethyst</td>\n",
       "      <td>Amethyst</td>\n",
       "      <td>Pink Sapphire</td>\n",
       "      <td>Amethyst</td>\n",
       "      <td>Amethyst</td>\n",
       "    </tr>\n",
       "    <tr>\n",
       "      <th>reserva_feita_por_agência_de_turismo</th>\n",
       "      <td>Sim</td>\n",
       "      <td>Sim</td>\n",
       "      <td>Sim</td>\n",
       "      <td>Sim</td>\n",
       "      <td>Não</td>\n",
       "      <td>Sim</td>\n",
       "      <td>Sim</td>\n",
       "      <td>Não</td>\n",
       "    </tr>\n",
       "    <tr>\n",
       "      <th>reserva_feita_por_empresa</th>\n",
       "      <td>Não</td>\n",
       "      <td>Não</td>\n",
       "      <td>Não</td>\n",
       "      <td>Não</td>\n",
       "      <td>Não</td>\n",
       "      <td>Não</td>\n",
       "      <td>Não</td>\n",
       "      <td>Não</td>\n",
       "    </tr>\n",
       "    <tr>\n",
       "      <th>reserva_com_estacionamento</th>\n",
       "      <td>Não</td>\n",
       "      <td>Não</td>\n",
       "      <td>Não</td>\n",
       "      <td>Não</td>\n",
       "      <td>Não</td>\n",
       "      <td>Não</td>\n",
       "      <td>Não</td>\n",
       "      <td>Não</td>\n",
       "    </tr>\n",
       "    <tr>\n",
       "      <th>reserva_com_observações</th>\n",
       "      <td>Nenhuma</td>\n",
       "      <td>Nenhuma</td>\n",
       "      <td>Nenhuma</td>\n",
       "      <td>1 a 3</td>\n",
       "      <td>Nenhuma</td>\n",
       "      <td>1 a 3</td>\n",
       "      <td>1 a 3</td>\n",
       "      <td>Nenhuma</td>\n",
       "    </tr>\n",
       "    <tr>\n",
       "      <th>reserva_cancelada</th>\n",
       "      <td>0.0</td>\n",
       "      <td>1.0</td>\n",
       "      <td>0.0</td>\n",
       "      <td>1.0</td>\n",
       "      <td>0.0</td>\n",
       "      <td>0.0</td>\n",
       "      <td>0.0</td>\n",
       "      <td>0.0</td>\n",
       "    </tr>\n",
       "  </tbody>\n",
       "</table>\n",
       "</div>"
      ],
      "text/plain": [
       "                                              65423                   36249  \\\n",
       "id                                            40851                   76785   \n",
       "classificação_do_hotel                   4 estrelas              4 estrelas   \n",
       "meses_da_reserva_até_o_check_in                   1                       6   \n",
       "número_de_pernoites_reservadas                    4                       3   \n",
       "número_de_hospedes                              1.0                     2.0   \n",
       "regime_de_alimentação                 Café da manha  Café da manha e jantar   \n",
       "nacionalidade                                 Spain                   Spain   \n",
       "forma_de_reserva                            Agência                 Agência   \n",
       "já_se_hospedou_anterioremente                   Não                     Não   \n",
       "tipo_do_quarto_reservado                   Amethyst                Amethyst   \n",
       "reserva_feita_por_agência_de_turismo            Sim                     Sim   \n",
       "reserva_feita_por_empresa                       Não                     Não   \n",
       "reserva_com_estacionamento                      Não                     Não   \n",
       "reserva_com_observações                     Nenhuma                 Nenhuma   \n",
       "reserva_cancelada                               0.0                     1.0   \n",
       "\n",
       "                                              16311         2828   \\\n",
       "id                                            32532         62181   \n",
       "classificação_do_hotel                   5 estrelas    4 estrelas   \n",
       "meses_da_reserva_até_o_check_in                   1             5   \n",
       "número_de_pernoites_reservadas                    1             2   \n",
       "número_de_hospedes                              1.0           2.0   \n",
       "regime_de_alimentação                 Café da manha  Sem refeicao   \n",
       "nacionalidade                                 Spain         Spain   \n",
       "forma_de_reserva                            Agência       Agência   \n",
       "já_se_hospedou_anterioremente                   Não           Não   \n",
       "tipo_do_quarto_reservado                   Amethyst      Amethyst   \n",
       "reserva_feita_por_agência_de_turismo            Sim           Sim   \n",
       "reserva_feita_por_empresa                       Não           Não   \n",
       "reserva_com_estacionamento                      Não           Não   \n",
       "reserva_com_observações                     Nenhuma         1 a 3   \n",
       "reserva_cancelada                               0.0           1.0   \n",
       "\n",
       "                                              58277          30902  \\\n",
       "id                                            92077          29578   \n",
       "classificação_do_hotel                   4 estrelas     5 estrelas   \n",
       "meses_da_reserva_até_o_check_in                   1              8   \n",
       "número_de_pernoites_reservadas                    2              7   \n",
       "número_de_hospedes                              1.0            2.0   \n",
       "regime_de_alimentação                 Café da manha  Café da manha   \n",
       "nacionalidade                                 Italy          Spain   \n",
       "forma_de_reserva                             Balcão        Agência   \n",
       "já_se_hospedou_anterioremente                   Não            Não   \n",
       "tipo_do_quarto_reservado                   Amethyst  Pink Sapphire   \n",
       "reserva_feita_por_agência_de_turismo            Não            Sim   \n",
       "reserva_feita_por_empresa                       Não            Não   \n",
       "reserva_com_estacionamento                      Não            Não   \n",
       "reserva_com_observações                     Nenhuma          1 a 3   \n",
       "reserva_cancelada                               0.0            0.0   \n",
       "\n",
       "                                             7746           14177  \n",
       "id                                           42528          21649  \n",
       "classificação_do_hotel                  4 estrelas     5 estrelas  \n",
       "meses_da_reserva_até_o_check_in                  1              1  \n",
       "número_de_pernoites_reservadas                   2              1  \n",
       "número_de_hospedes                             2.0            2.0  \n",
       "regime_de_alimentação                 Sem refeicao  Café da manha  \n",
       "nacionalidade                                Spain          Spain  \n",
       "forma_de_reserva                           Agência         Balcão  \n",
       "já_se_hospedou_anterioremente                  Não            Não  \n",
       "tipo_do_quarto_reservado                  Amethyst       Amethyst  \n",
       "reserva_feita_por_agência_de_turismo           Sim            Não  \n",
       "reserva_feita_por_empresa                      Não            Não  \n",
       "reserva_com_estacionamento                     Não            Não  \n",
       "reserva_com_observações                      1 a 3        Nenhuma  \n",
       "reserva_cancelada                              0.0            0.0  "
      ]
     },
     "execution_count": 14,
     "metadata": {},
     "output_type": "execute_result"
    }
   ],
   "source": [
    "df1.sample(8).T"
   ]
  },
  {
   "cell_type": "code",
   "execution_count": 15,
   "id": "9840bda5",
   "metadata": {
    "ExecuteTime": {
     "end_time": "2023-03-26T17:00:34.422417Z",
     "start_time": "2023-03-26T17:00:32.721896Z"
    }
   },
   "outputs": [
    {
     "data": {
      "image/png": "[encoded data removed]",
      "text/plain": [
       "<Figure size 2500x1200 with 1 Axes>"
      ]
     },
     "metadata": {},
     "output_type": "display_data"
    }
   ],
   "source": [
    "x = np.arange(1, df1.shape[0]+1, 1)\n",
    "y = df1['id'].sort_values().values\n",
    "sns.lineplot(x=x, y=y);"
   ]
  },
  {
   "cell_type": "code",
   "execution_count": 16,
   "id": "6662a596",
   "metadata": {
    "ExecuteTime": {
     "end_time": "2023-03-26T17:00:34.438576Z",
     "start_time": "2023-03-26T17:00:34.424407Z"
    }
   },
   "outputs": [
    {
     "data": {
      "text/html": [
       "<div>\n",
       "<style scoped>\n",
       "    .dataframe tbody tr th:only-of-type {\n",
       "        vertical-align: middle;\n",
       "    }\n",
       "\n",
       "    .dataframe tbody tr th {\n",
       "        vertical-align: top;\n",
       "    }\n",
       "\n",
       "    .dataframe thead th {\n",
       "        text-align: right;\n",
       "    }\n",
       "</style>\n",
       "<table border=\"1\" class=\"dataframe\">\n",
       "  <thead>\n",
       "    <tr style=\"text-align: right;\">\n",
       "      <th></th>\n",
       "      <th>8358</th>\n",
       "      <th>36627</th>\n",
       "      <th>64865</th>\n",
       "    </tr>\n",
       "  </thead>\n",
       "  <tbody>\n",
       "    <tr>\n",
       "      <th>id</th>\n",
       "      <td>40887</td>\n",
       "      <td>40899</td>\n",
       "      <td>41412</td>\n",
       "    </tr>\n",
       "    <tr>\n",
       "      <th>classificação_do_hotel</th>\n",
       "      <td>4 estrelas</td>\n",
       "      <td>4 estrelas</td>\n",
       "      <td>4 estrelas</td>\n",
       "    </tr>\n",
       "    <tr>\n",
       "      <th>meses_da_reserva_até_o_check_in</th>\n",
       "      <td>1</td>\n",
       "      <td>1</td>\n",
       "      <td>1</td>\n",
       "    </tr>\n",
       "    <tr>\n",
       "      <th>número_de_pernoites_reservadas</th>\n",
       "      <td>2</td>\n",
       "      <td>2</td>\n",
       "      <td>7</td>\n",
       "    </tr>\n",
       "    <tr>\n",
       "      <th>número_de_hospedes</th>\n",
       "      <td>NaN</td>\n",
       "      <td>NaN</td>\n",
       "      <td>NaN</td>\n",
       "    </tr>\n",
       "    <tr>\n",
       "      <th>regime_de_alimentação</th>\n",
       "      <td>Café da manha</td>\n",
       "      <td>Café da manha</td>\n",
       "      <td>Café da manha</td>\n",
       "    </tr>\n",
       "    <tr>\n",
       "      <th>nacionalidade</th>\n",
       "      <td>Spain</td>\n",
       "      <td>Spain</td>\n",
       "      <td>Spain</td>\n",
       "    </tr>\n",
       "    <tr>\n",
       "      <th>forma_de_reserva</th>\n",
       "      <td>B2B</td>\n",
       "      <td>B2B</td>\n",
       "      <td>B2B</td>\n",
       "    </tr>\n",
       "    <tr>\n",
       "      <th>já_se_hospedou_anterioremente</th>\n",
       "      <td>Não</td>\n",
       "      <td>Não</td>\n",
       "      <td>Não</td>\n",
       "    </tr>\n",
       "    <tr>\n",
       "      <th>tipo_do_quarto_reservado</th>\n",
       "      <td>Blue Sapphire</td>\n",
       "      <td>Blue Sapphire</td>\n",
       "      <td>Blue Sapphire</td>\n",
       "    </tr>\n",
       "    <tr>\n",
       "      <th>reserva_feita_por_agência_de_turismo</th>\n",
       "      <td>Sim</td>\n",
       "      <td>Não</td>\n",
       "      <td>Sim</td>\n",
       "    </tr>\n",
       "    <tr>\n",
       "      <th>reserva_feita_por_empresa</th>\n",
       "      <td>Não</td>\n",
       "      <td>Não</td>\n",
       "      <td>Não</td>\n",
       "    </tr>\n",
       "    <tr>\n",
       "      <th>reserva_com_estacionamento</th>\n",
       "      <td>Não</td>\n",
       "      <td>Não</td>\n",
       "      <td>Não</td>\n",
       "    </tr>\n",
       "    <tr>\n",
       "      <th>reserva_com_observações</th>\n",
       "      <td>1 a 3</td>\n",
       "      <td>1 a 3</td>\n",
       "      <td>1 a 3</td>\n",
       "    </tr>\n",
       "    <tr>\n",
       "      <th>reserva_cancelada</th>\n",
       "      <td>1.0</td>\n",
       "      <td>1.0</td>\n",
       "      <td>1.0</td>\n",
       "    </tr>\n",
       "  </tbody>\n",
       "</table>\n",
       "</div>"
      ],
      "text/plain": [
       "                                              8358           36627  \\\n",
       "id                                            40887          40899   \n",
       "classificação_do_hotel                   4 estrelas     4 estrelas   \n",
       "meses_da_reserva_até_o_check_in                   1              1   \n",
       "número_de_pernoites_reservadas                    2              2   \n",
       "número_de_hospedes                              NaN            NaN   \n",
       "regime_de_alimentação                 Café da manha  Café da manha   \n",
       "nacionalidade                                 Spain          Spain   \n",
       "forma_de_reserva                                B2B            B2B   \n",
       "já_se_hospedou_anterioremente                   Não            Não   \n",
       "tipo_do_quarto_reservado              Blue Sapphire  Blue Sapphire   \n",
       "reserva_feita_por_agência_de_turismo            Sim            Não   \n",
       "reserva_feita_por_empresa                       Não            Não   \n",
       "reserva_com_estacionamento                      Não            Não   \n",
       "reserva_com_observações                       1 a 3          1 a 3   \n",
       "reserva_cancelada                               1.0            1.0   \n",
       "\n",
       "                                              64865  \n",
       "id                                            41412  \n",
       "classificação_do_hotel                   4 estrelas  \n",
       "meses_da_reserva_até_o_check_in                   1  \n",
       "número_de_pernoites_reservadas                    7  \n",
       "número_de_hospedes                              NaN  \n",
       "regime_de_alimentação                 Café da manha  \n",
       "nacionalidade                                 Spain  \n",
       "forma_de_reserva                                B2B  \n",
       "já_se_hospedou_anterioremente                   Não  \n",
       "tipo_do_quarto_reservado              Blue Sapphire  \n",
       "reserva_feita_por_agência_de_turismo            Sim  \n",
       "reserva_feita_por_empresa                       Não  \n",
       "reserva_com_estacionamento                      Não  \n",
       "reserva_com_observações                       1 a 3  \n",
       "reserva_cancelada                               1.0  "
      ]
     },
     "execution_count": 16,
     "metadata": {},
     "output_type": "execute_result"
    }
   ],
   "source": [
    "df1[df1['número_de_hospedes'].isna()].T"
   ]
  },
  {
   "cell_type": "code",
   "execution_count": 17,
   "id": "b2b5b9d6",
   "metadata": {
    "ExecuteTime": {
     "end_time": "2023-03-26T17:00:34.454289Z",
     "start_time": "2023-03-26T17:00:34.440544Z"
    }
   },
   "outputs": [
    {
     "data": {
      "text/plain": [
       "Index(['id', 'classificação_do_hotel', 'meses_da_reserva_até_o_check_in',\n",
       "       'número_de_pernoites_reservadas', 'número_de_hospedes',\n",
       "       'regime_de_alimentação', 'nacionalidade', 'forma_de_reserva',\n",
       "       'já_se_hospedou_anterioremente', 'tipo_do_quarto_reservado',\n",
       "       'reserva_feita_por_agência_de_turismo', 'reserva_feita_por_empresa',\n",
       "       'reserva_com_estacionamento', 'reserva_com_observações',\n",
       "       'reserva_cancelada'],\n",
       "      dtype='object')"
      ]
     },
     "execution_count": 17,
     "metadata": {},
     "output_type": "execute_result"
    }
   ],
   "source": [
    "df1.columns"
   ]
  },
  {
   "cell_type": "markdown",
   "id": "a7933bc7",
   "metadata": {},
   "source": [
    "## 1.1 Data Dimension"
   ]
  },
  {
   "cell_type": "code",
   "execution_count": 18,
   "id": "7a9f99e1",
   "metadata": {
    "ExecuteTime": {
     "end_time": "2023-03-26T17:00:34.470098Z",
     "start_time": "2023-03-26T17:00:34.458015Z"
    }
   },
   "outputs": [
    {
     "data": {
      "text/plain": [
       "(72159, 15)"
      ]
     },
     "execution_count": 18,
     "metadata": {},
     "output_type": "execute_result"
    }
   ],
   "source": [
    "df1.shape"
   ]
  },
  {
   "cell_type": "markdown",
   "id": "3fa18969",
   "metadata": {},
   "source": [
    "## 1.2 Data Types and Changes"
   ]
  },
  {
   "cell_type": "code",
   "execution_count": 19,
   "id": "1fe5a1d5",
   "metadata": {
    "ExecuteTime": {
     "end_time": "2023-03-26T17:00:34.485807Z",
     "start_time": "2023-03-26T17:00:34.474098Z"
    }
   },
   "outputs": [
    {
     "data": {
      "text/plain": [
       "id                                        int64\n",
       "classificação_do_hotel                   object\n",
       "meses_da_reserva_até_o_check_in           int64\n",
       "número_de_pernoites_reservadas            int64\n",
       "número_de_hospedes                      float64\n",
       "regime_de_alimentação                    object\n",
       "nacionalidade                            object\n",
       "forma_de_reserva                         object\n",
       "já_se_hospedou_anterioremente            object\n",
       "tipo_do_quarto_reservado                 object\n",
       "reserva_feita_por_agência_de_turismo     object\n",
       "reserva_feita_por_empresa                object\n",
       "reserva_com_estacionamento               object\n",
       "reserva_com_observações                  object\n",
       "reserva_cancelada                       float64\n",
       "dtype: object"
      ]
     },
     "execution_count": 19,
     "metadata": {},
     "output_type": "execute_result"
    }
   ],
   "source": [
    "df1.dtypes"
   ]
  },
  {
   "cell_type": "markdown",
   "id": "d819771e",
   "metadata": {},
   "source": [
    "## 1.3 Check NA's"
   ]
  },
  {
   "cell_type": "code",
   "execution_count": 20,
   "id": "eb528642",
   "metadata": {
    "ExecuteTime": {
     "end_time": "2023-03-26T17:00:34.596242Z",
     "start_time": "2023-03-26T17:00:34.489277Z"
    }
   },
   "outputs": [
    {
     "data": {
      "text/plain": [
       "id                                         0\n",
       "classificação_do_hotel                     0\n",
       "meses_da_reserva_até_o_check_in            0\n",
       "número_de_pernoites_reservadas             0\n",
       "número_de_hospedes                         3\n",
       "regime_de_alimentação                      0\n",
       "nacionalidade                           1093\n",
       "forma_de_reserva                           0\n",
       "já_se_hospedou_anterioremente              0\n",
       "tipo_do_quarto_reservado                   0\n",
       "reserva_feita_por_agência_de_turismo       0\n",
       "reserva_feita_por_empresa                  0\n",
       "reserva_com_estacionamento                 0\n",
       "reserva_com_observações                    0\n",
       "reserva_cancelada                          0\n",
       "dtype: int64"
      ]
     },
     "execution_count": 20,
     "metadata": {},
     "output_type": "execute_result"
    }
   ],
   "source": [
    "df1.isna().sum()"
   ]
  },
  {
   "cell_type": "markdown",
   "id": "c228b585",
   "metadata": {},
   "source": [
    "## 1.4 Data Descriptive"
   ]
  },
  {
   "cell_type": "code",
   "execution_count": 21,
   "id": "2a509690",
   "metadata": {
    "ExecuteTime": {
     "end_time": "2023-03-26T17:00:34.628054Z",
     "start_time": "2023-03-26T17:00:34.597796Z"
    }
   },
   "outputs": [
    {
     "data": {
      "text/html": [
       "<div>\n",
       "<style scoped>\n",
       "    .dataframe tbody tr th:only-of-type {\n",
       "        vertical-align: middle;\n",
       "    }\n",
       "\n",
       "    .dataframe tbody tr th {\n",
       "        vertical-align: top;\n",
       "    }\n",
       "\n",
       "    .dataframe thead th {\n",
       "        text-align: right;\n",
       "    }\n",
       "</style>\n",
       "<table border=\"1\" class=\"dataframe\">\n",
       "  <thead>\n",
       "    <tr style=\"text-align: right;\">\n",
       "      <th></th>\n",
       "      <th>id</th>\n",
       "      <th>meses_da_reserva_até_o_check_in</th>\n",
       "      <th>número_de_pernoites_reservadas</th>\n",
       "      <th>número_de_hospedes</th>\n",
       "      <th>reserva_cancelada</th>\n",
       "    </tr>\n",
       "  </thead>\n",
       "  <tbody>\n",
       "    <tr>\n",
       "      <th>count</th>\n",
       "      <td>72159.000000</td>\n",
       "      <td>72159.000000</td>\n",
       "      <td>72159.000000</td>\n",
       "      <td>72156.000000</td>\n",
       "      <td>72159.000000</td>\n",
       "    </tr>\n",
       "    <tr>\n",
       "      <th>mean</th>\n",
       "      <td>60093.687787</td>\n",
       "      <td>7.145928</td>\n",
       "      <td>15.824152</td>\n",
       "      <td>14.258773</td>\n",
       "      <td>0.370418</td>\n",
       "    </tr>\n",
       "    <tr>\n",
       "      <th>std</th>\n",
       "      <td>34726.028006</td>\n",
       "      <td>25.852330</td>\n",
       "      <td>98.248479</td>\n",
       "      <td>96.446167</td>\n",
       "      <td>0.482920</td>\n",
       "    </tr>\n",
       "    <tr>\n",
       "      <th>min</th>\n",
       "      <td>1.000000</td>\n",
       "      <td>1.000000</td>\n",
       "      <td>0.000000</td>\n",
       "      <td>0.000000</td>\n",
       "      <td>0.000000</td>\n",
       "    </tr>\n",
       "    <tr>\n",
       "      <th>25%</th>\n",
       "      <td>30013.500000</td>\n",
       "      <td>1.000000</td>\n",
       "      <td>2.000000</td>\n",
       "      <td>2.000000</td>\n",
       "      <td>0.000000</td>\n",
       "    </tr>\n",
       "    <tr>\n",
       "      <th>50%</th>\n",
       "      <td>60080.000000</td>\n",
       "      <td>3.000000</td>\n",
       "      <td>3.000000</td>\n",
       "      <td>2.000000</td>\n",
       "      <td>0.000000</td>\n",
       "    </tr>\n",
       "    <tr>\n",
       "      <th>75%</th>\n",
       "      <td>90301.000000</td>\n",
       "      <td>6.000000</td>\n",
       "      <td>4.000000</td>\n",
       "      <td>2.000000</td>\n",
       "      <td>1.000000</td>\n",
       "    </tr>\n",
       "    <tr>\n",
       "      <th>max</th>\n",
       "      <td>120265.000000</td>\n",
       "      <td>311.000000</td>\n",
       "      <td>1172.000000</td>\n",
       "      <td>1153.000000</td>\n",
       "      <td>1.000000</td>\n",
       "    </tr>\n",
       "  </tbody>\n",
       "</table>\n",
       "</div>"
      ],
      "text/plain": [
       "                  id  meses_da_reserva_até_o_check_in  \\\n",
       "count   72159.000000                     72159.000000   \n",
       "mean    60093.687787                         7.145928   \n",
       "std     34726.028006                        25.852330   \n",
       "min         1.000000                         1.000000   \n",
       "25%     30013.500000                         1.000000   \n",
       "50%     60080.000000                         3.000000   \n",
       "75%     90301.000000                         6.000000   \n",
       "max    120265.000000                       311.000000   \n",
       "\n",
       "       número_de_pernoites_reservadas  número_de_hospedes  reserva_cancelada  \n",
       "count                    72159.000000        72156.000000       72159.000000  \n",
       "mean                        15.824152           14.258773           0.370418  \n",
       "std                         98.248479           96.446167           0.482920  \n",
       "min                          0.000000            0.000000           0.000000  \n",
       "25%                          2.000000            2.000000           0.000000  \n",
       "50%                          3.000000            2.000000           0.000000  \n",
       "75%                          4.000000            2.000000           1.000000  \n",
       "max                       1172.000000         1153.000000           1.000000  "
      ]
     },
     "execution_count": 21,
     "metadata": {},
     "output_type": "execute_result"
    }
   ],
   "source": [
    "df1.describe()"
   ]
  },
  {
   "cell_type": "markdown",
   "id": "f4cf944b",
   "metadata": {},
   "source": [
    "### 1.4.1 Numerical Attributes"
   ]
  },
  {
   "cell_type": "code",
   "execution_count": 22,
   "id": "945a8727",
   "metadata": {
    "ExecuteTime": {
     "end_time": "2023-03-26T17:00:34.642959Z",
     "start_time": "2023-03-26T17:00:34.629929Z"
    }
   },
   "outputs": [],
   "source": [
    "## Divisão de features numericas\n",
    "\n",
    "num_attr = df1.select_dtypes(include=['int64', 'float64'])"
   ]
  },
  {
   "cell_type": "code",
   "execution_count": 23,
   "id": "200384cb",
   "metadata": {
    "ExecuteTime": {
     "end_time": "2023-03-26T17:00:34.704775Z",
     "start_time": "2023-03-26T17:00:34.644959Z"
    }
   },
   "outputs": [
    {
     "data": {
      "text/html": [
       "<div>\n",
       "<style scoped>\n",
       "    .dataframe tbody tr th:only-of-type {\n",
       "        vertical-align: middle;\n",
       "    }\n",
       "\n",
       "    .dataframe tbody tr th {\n",
       "        vertical-align: top;\n",
       "    }\n",
       "\n",
       "    .dataframe thead th {\n",
       "        text-align: right;\n",
       "    }\n",
       "</style>\n",
       "<table border=\"1\" class=\"dataframe\">\n",
       "  <thead>\n",
       "    <tr style=\"text-align: right;\">\n",
       "      <th></th>\n",
       "      <th>Atributos</th>\n",
       "      <th>Min</th>\n",
       "      <th>Media</th>\n",
       "      <th>Max</th>\n",
       "      <th>Range</th>\n",
       "      <th>Mediana</th>\n",
       "      <th>Desvio_Padrao</th>\n",
       "      <th>Skew</th>\n",
       "      <th>Kurtosis</th>\n",
       "    </tr>\n",
       "  </thead>\n",
       "  <tbody>\n",
       "    <tr>\n",
       "      <th>0</th>\n",
       "      <td>id</td>\n",
       "      <td>1.0</td>\n",
       "      <td>60093.687787</td>\n",
       "      <td>120265.0</td>\n",
       "      <td>120264.0</td>\n",
       "      <td>60080.0</td>\n",
       "      <td>34725.787383</td>\n",
       "      <td>0.000051</td>\n",
       "      <td>-1.203219</td>\n",
       "    </tr>\n",
       "    <tr>\n",
       "      <th>1</th>\n",
       "      <td>meses_da_reserva_até_o_check_in</td>\n",
       "      <td>1.0</td>\n",
       "      <td>7.145928</td>\n",
       "      <td>311.0</td>\n",
       "      <td>310.0</td>\n",
       "      <td>3.0</td>\n",
       "      <td>25.852151</td>\n",
       "      <td>8.667253</td>\n",
       "      <td>79.725538</td>\n",
       "    </tr>\n",
       "    <tr>\n",
       "      <th>2</th>\n",
       "      <td>número_de_pernoites_reservadas</td>\n",
       "      <td>0.0</td>\n",
       "      <td>15.824152</td>\n",
       "      <td>1172.0</td>\n",
       "      <td>1172.0</td>\n",
       "      <td>3.0</td>\n",
       "      <td>98.247798</td>\n",
       "      <td>8.765012</td>\n",
       "      <td>80.204284</td>\n",
       "    </tr>\n",
       "    <tr>\n",
       "      <th>3</th>\n",
       "      <td>número_de_hospedes</td>\n",
       "      <td>0.0</td>\n",
       "      <td>14.258773</td>\n",
       "      <td>1153.0</td>\n",
       "      <td>1153.0</td>\n",
       "      <td>NaN</td>\n",
       "      <td>96.445499</td>\n",
       "      <td>8.723259</td>\n",
       "      <td>79.664540</td>\n",
       "    </tr>\n",
       "    <tr>\n",
       "      <th>4</th>\n",
       "      <td>reserva_cancelada</td>\n",
       "      <td>0.0</td>\n",
       "      <td>0.370418</td>\n",
       "      <td>1.0</td>\n",
       "      <td>1.0</td>\n",
       "      <td>0.0</td>\n",
       "      <td>0.482917</td>\n",
       "      <td>0.536675</td>\n",
       "      <td>-1.712028</td>\n",
       "    </tr>\n",
       "  </tbody>\n",
       "</table>\n",
       "</div>"
      ],
      "text/plain": [
       "                         Atributos  Min         Media       Max     Range  \\\n",
       "0                               id  1.0  60093.687787  120265.0  120264.0   \n",
       "1  meses_da_reserva_até_o_check_in  1.0      7.145928     311.0     310.0   \n",
       "2   número_de_pernoites_reservadas  0.0     15.824152    1172.0    1172.0   \n",
       "3               número_de_hospedes  0.0     14.258773    1153.0    1153.0   \n",
       "4                reserva_cancelada  0.0      0.370418       1.0       1.0   \n",
       "\n",
       "   Mediana  Desvio_Padrao      Skew   Kurtosis  \n",
       "0  60080.0   34725.787383  0.000051  -1.203219  \n",
       "1      3.0      25.852151  8.667253  79.725538  \n",
       "2      3.0      98.247798  8.765012  80.204284  \n",
       "3      NaN      96.445499  8.723259  79.664540  \n",
       "4      0.0       0.482917  0.536675  -1.712028  "
      ]
     },
     "execution_count": 23,
     "metadata": {},
     "output_type": "execute_result"
    }
   ],
   "source": [
    "## Tendência Central (média e mediana)\n",
    "\n",
    "ct1 = pd.DataFrame(num_attr.apply(np.mean)).T\n",
    "ct2 = pd.DataFrame(num_attr.apply(np.median)).T\n",
    "\n",
    "\n",
    "## Dispersão (std, min, max, range, skew, kurtosis)\n",
    "\n",
    "d1 = pd.DataFrame(num_attr.apply(np.std)).T\n",
    "d2 = pd.DataFrame(num_attr.apply(np.min)).T\n",
    "d3 = pd.DataFrame(num_attr.apply(np.max)).T\n",
    "d4 = pd.DataFrame(num_attr.apply(lambda x: x.max() - x.min())).T\n",
    "d5 = pd.DataFrame(num_attr.apply(lambda x: x.skew())).T\n",
    "d6 = pd.DataFrame(num_attr.apply(lambda x: x.kurtosis())).T\n",
    "\n",
    "## Concatenando os resultados\n",
    "\n",
    "num_attr_result = pd.concat([d2, ct1, d3, d4, ct2, d1, d5, d6]).T.reset_index()\n",
    "num_attr_result.columns = ['Atributos', 'Min', 'Media', 'Max', 'Range', 'Mediana', 'Desvio_Padrao', 'Skew', 'Kurtosis']\n",
    "num_attr_result"
   ]
  },
  {
   "cell_type": "markdown",
   "id": "966ef4a8",
   "metadata": {},
   "source": [
    "### 1.4.2 Categorical Attributes"
   ]
  },
  {
   "cell_type": "code",
   "execution_count": 24,
   "id": "3e6cd811",
   "metadata": {
    "ExecuteTime": {
     "end_time": "2023-03-26T17:00:34.720529Z",
     "start_time": "2023-03-26T17:00:34.707800Z"
    }
   },
   "outputs": [],
   "source": [
    "cat_attr = df1.select_dtypes(exclude=['int64', 'float64', 'datetime64[ns]'])"
   ]
  },
  {
   "cell_type": "code",
   "execution_count": 25,
   "id": "3ad8f3f3",
   "metadata": {
    "ExecuteTime": {
     "end_time": "2023-03-26T17:00:34.766764Z",
     "start_time": "2023-03-26T17:00:34.722505Z"
    }
   },
   "outputs": [
    {
     "data": {
      "text/plain": [
       "classificação_do_hotel                    2\n",
       "regime_de_alimentação                     4\n",
       "nacionalidade                           170\n",
       "forma_de_reserva                          3\n",
       "já_se_hospedou_anterioremente             2\n",
       "tipo_do_quarto_reservado                 10\n",
       "reserva_feita_por_agência_de_turismo      2\n",
       "reserva_feita_por_empresa                 2\n",
       "reserva_com_estacionamento                2\n",
       "reserva_com_observações                   3\n",
       "dtype: int64"
      ]
     },
     "execution_count": 25,
     "metadata": {},
     "output_type": "execute_result"
    }
   ],
   "source": [
    "## Mostra os valores únicos das variáveis categóricas\n",
    "\n",
    "cat_attr.apply(lambda x: x.unique().shape[0])\n",
    "\n"
   ]
  },
  {
   "cell_type": "code",
   "execution_count": null,
   "id": "84e0d476",
   "metadata": {
    "ExecuteTime": {
     "end_time": "2023-03-26T01:26:36.493216Z",
     "start_time": "2023-03-26T01:26:35.992151Z"
    }
   },
   "outputs": [],
   "source": []
  },
  {
   "cell_type": "markdown",
   "id": "70487c29",
   "metadata": {},
   "source": [
    "# 2.0 Feature Engineering "
   ]
  },
  {
   "cell_type": "code",
   "execution_count": 26,
   "id": "502ed7ef",
   "metadata": {
    "ExecuteTime": {
     "end_time": "2023-03-26T17:00:34.782753Z",
     "start_time": "2023-03-26T17:00:34.768809Z"
    }
   },
   "outputs": [],
   "source": [
    "# Backup do Dataframe\n",
    "\n",
    "df2 = df1.copy()"
   ]
  },
  {
   "cell_type": "markdown",
   "id": "27f7fa1d",
   "metadata": {},
   "source": [
    "## 2.1 Mindmap"
   ]
  },
  {
   "cell_type": "code",
   "execution_count": 27,
   "id": "1894dfd9",
   "metadata": {
    "ExecuteTime": {
     "end_time": "2023-03-26T17:00:34.798264Z",
     "start_time": "2023-03-26T17:00:34.790322Z"
    }
   },
   "outputs": [],
   "source": [
    "## Mostra imagem\n",
    "\n",
    "# Image('img/imagem.png')"
   ]
  },
  {
   "cell_type": "markdown",
   "id": "fc54a8d4",
   "metadata": {},
   "source": [
    "## 2.2 Hypothesis"
   ]
  },
  {
   "cell_type": "code",
   "execution_count": 28,
   "id": "c255cb63",
   "metadata": {
    "ExecuteTime": {
     "end_time": "2023-03-26T17:00:34.829581Z",
     "start_time": "2023-03-26T17:00:34.801270Z"
    }
   },
   "outputs": [
    {
     "data": {
      "text/html": [
       "<div>\n",
       "<style scoped>\n",
       "    .dataframe tbody tr th:only-of-type {\n",
       "        vertical-align: middle;\n",
       "    }\n",
       "\n",
       "    .dataframe tbody tr th {\n",
       "        vertical-align: top;\n",
       "    }\n",
       "\n",
       "    .dataframe thead th {\n",
       "        text-align: right;\n",
       "    }\n",
       "</style>\n",
       "<table border=\"1\" class=\"dataframe\">\n",
       "  <thead>\n",
       "    <tr style=\"text-align: right;\">\n",
       "      <th></th>\n",
       "      <th>46057</th>\n",
       "      <th>1644</th>\n",
       "      <th>35422</th>\n",
       "      <th>20528</th>\n",
       "      <th>49280</th>\n",
       "    </tr>\n",
       "  </thead>\n",
       "  <tbody>\n",
       "    <tr>\n",
       "      <th>id</th>\n",
       "      <td>51070</td>\n",
       "      <td>113322</td>\n",
       "      <td>64898</td>\n",
       "      <td>26300</td>\n",
       "      <td>78442</td>\n",
       "    </tr>\n",
       "    <tr>\n",
       "      <th>classificação_do_hotel</th>\n",
       "      <td>4 estrelas</td>\n",
       "      <td>4 estrelas</td>\n",
       "      <td>4 estrelas</td>\n",
       "      <td>5 estrelas</td>\n",
       "      <td>4 estrelas</td>\n",
       "    </tr>\n",
       "    <tr>\n",
       "      <th>meses_da_reserva_até_o_check_in</th>\n",
       "      <td>5</td>\n",
       "      <td>1</td>\n",
       "      <td>2</td>\n",
       "      <td>6</td>\n",
       "      <td>1</td>\n",
       "    </tr>\n",
       "    <tr>\n",
       "      <th>número_de_pernoites_reservadas</th>\n",
       "      <td>5</td>\n",
       "      <td>1</td>\n",
       "      <td>3</td>\n",
       "      <td>6</td>\n",
       "      <td>4</td>\n",
       "    </tr>\n",
       "    <tr>\n",
       "      <th>número_de_hospedes</th>\n",
       "      <td>2.0</td>\n",
       "      <td>1.0</td>\n",
       "      <td>2.0</td>\n",
       "      <td>2.0</td>\n",
       "      <td>1.0</td>\n",
       "    </tr>\n",
       "    <tr>\n",
       "      <th>regime_de_alimentação</th>\n",
       "      <td>Café da manha</td>\n",
       "      <td>Café da manha</td>\n",
       "      <td>Café da manha</td>\n",
       "      <td>Café da manha e jantar</td>\n",
       "      <td>Café da manha</td>\n",
       "    </tr>\n",
       "    <tr>\n",
       "      <th>nacionalidade</th>\n",
       "      <td>United Kingdom</td>\n",
       "      <td>China</td>\n",
       "      <td>Russia</td>\n",
       "      <td>Spain</td>\n",
       "      <td>United States</td>\n",
       "    </tr>\n",
       "    <tr>\n",
       "      <th>forma_de_reserva</th>\n",
       "      <td>Agência</td>\n",
       "      <td>Agência</td>\n",
       "      <td>Agência</td>\n",
       "      <td>Agência</td>\n",
       "      <td>Agência</td>\n",
       "    </tr>\n",
       "    <tr>\n",
       "      <th>já_se_hospedou_anterioremente</th>\n",
       "      <td>Não</td>\n",
       "      <td>Não</td>\n",
       "      <td>Não</td>\n",
       "      <td>Não</td>\n",
       "      <td>Não</td>\n",
       "    </tr>\n",
       "    <tr>\n",
       "      <th>tipo_do_quarto_reservado</th>\n",
       "      <td>Amethyst</td>\n",
       "      <td>Amethyst</td>\n",
       "      <td>Amethyst</td>\n",
       "      <td>Green Emerald</td>\n",
       "      <td>Amethyst</td>\n",
       "    </tr>\n",
       "    <tr>\n",
       "      <th>reserva_feita_por_agência_de_turismo</th>\n",
       "      <td>Sim</td>\n",
       "      <td>Sim</td>\n",
       "      <td>Sim</td>\n",
       "      <td>Sim</td>\n",
       "      <td>Sim</td>\n",
       "    </tr>\n",
       "    <tr>\n",
       "      <th>reserva_feita_por_empresa</th>\n",
       "      <td>Não</td>\n",
       "      <td>Não</td>\n",
       "      <td>Não</td>\n",
       "      <td>Não</td>\n",
       "      <td>Não</td>\n",
       "    </tr>\n",
       "    <tr>\n",
       "      <th>reserva_com_estacionamento</th>\n",
       "      <td>Não</td>\n",
       "      <td>Não</td>\n",
       "      <td>Não</td>\n",
       "      <td>Sim</td>\n",
       "      <td>Não</td>\n",
       "    </tr>\n",
       "    <tr>\n",
       "      <th>reserva_com_observações</th>\n",
       "      <td>Nenhuma</td>\n",
       "      <td>1 a 3</td>\n",
       "      <td>Nenhuma</td>\n",
       "      <td>1 a 3</td>\n",
       "      <td>Nenhuma</td>\n",
       "    </tr>\n",
       "    <tr>\n",
       "      <th>reserva_cancelada</th>\n",
       "      <td>0.0</td>\n",
       "      <td>0.0</td>\n",
       "      <td>1.0</td>\n",
       "      <td>0.0</td>\n",
       "      <td>0.0</td>\n",
       "    </tr>\n",
       "  </tbody>\n",
       "</table>\n",
       "</div>"
      ],
      "text/plain": [
       "                                               46057          1644   \\\n",
       "id                                             51070         113322   \n",
       "classificação_do_hotel                    4 estrelas     4 estrelas   \n",
       "meses_da_reserva_até_o_check_in                    5              1   \n",
       "número_de_pernoites_reservadas                     5              1   \n",
       "número_de_hospedes                               2.0            1.0   \n",
       "regime_de_alimentação                  Café da manha  Café da manha   \n",
       "nacionalidade                         United Kingdom          China   \n",
       "forma_de_reserva                             Agência        Agência   \n",
       "já_se_hospedou_anterioremente                    Não            Não   \n",
       "tipo_do_quarto_reservado                    Amethyst       Amethyst   \n",
       "reserva_feita_por_agência_de_turismo             Sim            Sim   \n",
       "reserva_feita_por_empresa                        Não            Não   \n",
       "reserva_com_estacionamento                       Não            Não   \n",
       "reserva_com_observações                      Nenhuma          1 a 3   \n",
       "reserva_cancelada                                0.0            0.0   \n",
       "\n",
       "                                              35422                   20528  \\\n",
       "id                                            64898                   26300   \n",
       "classificação_do_hotel                   4 estrelas              5 estrelas   \n",
       "meses_da_reserva_até_o_check_in                   2                       6   \n",
       "número_de_pernoites_reservadas                    3                       6   \n",
       "número_de_hospedes                              2.0                     2.0   \n",
       "regime_de_alimentação                 Café da manha  Café da manha e jantar   \n",
       "nacionalidade                                Russia                   Spain   \n",
       "forma_de_reserva                            Agência                 Agência   \n",
       "já_se_hospedou_anterioremente                   Não                     Não   \n",
       "tipo_do_quarto_reservado                   Amethyst           Green Emerald   \n",
       "reserva_feita_por_agência_de_turismo            Sim                     Sim   \n",
       "reserva_feita_por_empresa                       Não                     Não   \n",
       "reserva_com_estacionamento                      Não                     Sim   \n",
       "reserva_com_observações                     Nenhuma                   1 a 3   \n",
       "reserva_cancelada                               1.0                     0.0   \n",
       "\n",
       "                                              49280  \n",
       "id                                            78442  \n",
       "classificação_do_hotel                   4 estrelas  \n",
       "meses_da_reserva_até_o_check_in                   1  \n",
       "número_de_pernoites_reservadas                    4  \n",
       "número_de_hospedes                              1.0  \n",
       "regime_de_alimentação                 Café da manha  \n",
       "nacionalidade                         United States  \n",
       "forma_de_reserva                            Agência  \n",
       "já_se_hospedou_anterioremente                   Não  \n",
       "tipo_do_quarto_reservado                   Amethyst  \n",
       "reserva_feita_por_agência_de_turismo            Sim  \n",
       "reserva_feita_por_empresa                       Não  \n",
       "reserva_com_estacionamento                      Não  \n",
       "reserva_com_observações                     Nenhuma  \n",
       "reserva_cancelada                               0.0  "
      ]
     },
     "execution_count": 28,
     "metadata": {},
     "output_type": "execute_result"
    }
   ],
   "source": [
    "# Criação de hipóteses (brainstorm)\n",
    "df2.sample(5).T"
   ]
  },
  {
   "cell_type": "markdown",
   "id": "800aa7fc",
   "metadata": {},
   "source": [
    "## 2.3 Feature Engineering "
   ]
  },
  {
   "cell_type": "code",
   "execution_count": 29,
   "id": "daef81a7",
   "metadata": {
    "ExecuteTime": {
     "end_time": "2023-03-26T17:00:35.653117Z",
     "start_time": "2023-03-26T17:00:34.831555Z"
    }
   },
   "outputs": [],
   "source": [
    "## Criação das features para tentar responder as questões levantadas\n",
    "\n",
    "df2['client_class'] = df2.apply(lambda x: 1 if (x['já_se_hospedou_anterioremente'] == 'Sim') &\n",
    "                                               (x['reserva_com_estacionamento']    == 'Sim') else 0, axis=1)\n"
   ]
  },
  {
   "cell_type": "code",
   "execution_count": 30,
   "id": "a15326e0",
   "metadata": {
    "ExecuteTime": {
     "end_time": "2023-03-26T17:00:35.684750Z",
     "start_time": "2023-03-26T17:00:35.655322Z"
    }
   },
   "outputs": [
    {
     "data": {
      "text/html": [
       "<div>\n",
       "<style scoped>\n",
       "    .dataframe tbody tr th:only-of-type {\n",
       "        vertical-align: middle;\n",
       "    }\n",
       "\n",
       "    .dataframe tbody tr th {\n",
       "        vertical-align: top;\n",
       "    }\n",
       "\n",
       "    .dataframe thead th {\n",
       "        text-align: right;\n",
       "    }\n",
       "</style>\n",
       "<table border=\"1\" class=\"dataframe\">\n",
       "  <thead>\n",
       "    <tr style=\"text-align: right;\">\n",
       "      <th></th>\n",
       "      <th>67356</th>\n",
       "      <th>40185</th>\n",
       "      <th>60329</th>\n",
       "      <th>5085</th>\n",
       "      <th>737</th>\n",
       "      <th>20715</th>\n",
       "      <th>57686</th>\n",
       "      <th>62492</th>\n",
       "      <th>59088</th>\n",
       "      <th>3250</th>\n",
       "    </tr>\n",
       "  </thead>\n",
       "  <tbody>\n",
       "    <tr>\n",
       "      <th>id</th>\n",
       "      <td>75622</td>\n",
       "      <td>48102</td>\n",
       "      <td>15330</td>\n",
       "      <td>40780</td>\n",
       "      <td>54960</td>\n",
       "      <td>23358</td>\n",
       "      <td>24119</td>\n",
       "      <td>28078</td>\n",
       "      <td>33808</td>\n",
       "      <td>101472</td>\n",
       "    </tr>\n",
       "    <tr>\n",
       "      <th>classificação_do_hotel</th>\n",
       "      <td>4 estrelas</td>\n",
       "      <td>4 estrelas</td>\n",
       "      <td>5 estrelas</td>\n",
       "      <td>4 estrelas</td>\n",
       "      <td>4 estrelas</td>\n",
       "      <td>5 estrelas</td>\n",
       "      <td>5 estrelas</td>\n",
       "      <td>5 estrelas</td>\n",
       "      <td>5 estrelas</td>\n",
       "      <td>4 estrelas</td>\n",
       "    </tr>\n",
       "    <tr>\n",
       "      <th>meses_da_reserva_até_o_check_in</th>\n",
       "      <td>10</td>\n",
       "      <td>1</td>\n",
       "      <td>1</td>\n",
       "      <td>4</td>\n",
       "      <td>1</td>\n",
       "      <td>3</td>\n",
       "      <td>1</td>\n",
       "      <td>1</td>\n",
       "      <td>1</td>\n",
       "      <td>7</td>\n",
       "    </tr>\n",
       "    <tr>\n",
       "      <th>número_de_pernoites_reservadas</th>\n",
       "      <td>2</td>\n",
       "      <td>2</td>\n",
       "      <td>3</td>\n",
       "      <td>3</td>\n",
       "      <td>1</td>\n",
       "      <td>7</td>\n",
       "      <td>1</td>\n",
       "      <td>3</td>\n",
       "      <td>1</td>\n",
       "      <td>4</td>\n",
       "    </tr>\n",
       "    <tr>\n",
       "      <th>número_de_hospedes</th>\n",
       "      <td>2.0</td>\n",
       "      <td>3.0</td>\n",
       "      <td>1.0</td>\n",
       "      <td>1.0</td>\n",
       "      <td>2.0</td>\n",
       "      <td>2.0</td>\n",
       "      <td>1.0</td>\n",
       "      <td>2.0</td>\n",
       "      <td>1.0</td>\n",
       "      <td>2.0</td>\n",
       "    </tr>\n",
       "    <tr>\n",
       "      <th>regime_de_alimentação</th>\n",
       "      <td>Café da manha</td>\n",
       "      <td>Café da manha</td>\n",
       "      <td>Café da manha</td>\n",
       "      <td>Café da manha e jantar</td>\n",
       "      <td>Café da manha</td>\n",
       "      <td>Café da manha e jantar</td>\n",
       "      <td>Café da manha</td>\n",
       "      <td>Café da manha e jantar</td>\n",
       "      <td>Café da manha</td>\n",
       "      <td>Café da manha</td>\n",
       "    </tr>\n",
       "    <tr>\n",
       "      <th>nacionalidade</th>\n",
       "      <td>Spain</td>\n",
       "      <td>Spain</td>\n",
       "      <td>Spain</td>\n",
       "      <td>Italy</td>\n",
       "      <td>Germany</td>\n",
       "      <td>France</td>\n",
       "      <td>Spain</td>\n",
       "      <td>Spain</td>\n",
       "      <td>Germany</td>\n",
       "      <td>United Kingdom</td>\n",
       "    </tr>\n",
       "    <tr>\n",
       "      <th>forma_de_reserva</th>\n",
       "      <td>Agência</td>\n",
       "      <td>Agência</td>\n",
       "      <td>B2B</td>\n",
       "      <td>Agência</td>\n",
       "      <td>Agência</td>\n",
       "      <td>Agência</td>\n",
       "      <td>B2B</td>\n",
       "      <td>Balcão</td>\n",
       "      <td>Agência</td>\n",
       "      <td>Agência</td>\n",
       "    </tr>\n",
       "    <tr>\n",
       "      <th>já_se_hospedou_anterioremente</th>\n",
       "      <td>Não</td>\n",
       "      <td>Não</td>\n",
       "      <td>Sim</td>\n",
       "      <td>Não</td>\n",
       "      <td>Não</td>\n",
       "      <td>Não</td>\n",
       "      <td>Não</td>\n",
       "      <td>Não</td>\n",
       "      <td>Não</td>\n",
       "      <td>Não</td>\n",
       "    </tr>\n",
       "    <tr>\n",
       "      <th>tipo_do_quarto_reservado</th>\n",
       "      <td>Amethyst</td>\n",
       "      <td>Amethyst</td>\n",
       "      <td>Amethyst</td>\n",
       "      <td>Amethyst</td>\n",
       "      <td>Green Emerald</td>\n",
       "      <td>Amethyst</td>\n",
       "      <td>Amethyst</td>\n",
       "      <td>Amethyst</td>\n",
       "      <td>Pink Sapphire</td>\n",
       "      <td>Amethyst</td>\n",
       "    </tr>\n",
       "    <tr>\n",
       "      <th>reserva_feita_por_agência_de_turismo</th>\n",
       "      <td>Sim</td>\n",
       "      <td>Sim</td>\n",
       "      <td>Sim</td>\n",
       "      <td>Sim</td>\n",
       "      <td>Sim</td>\n",
       "      <td>Sim</td>\n",
       "      <td>Não</td>\n",
       "      <td>Não</td>\n",
       "      <td>Sim</td>\n",
       "      <td>Sim</td>\n",
       "    </tr>\n",
       "    <tr>\n",
       "      <th>reserva_feita_por_empresa</th>\n",
       "      <td>Não</td>\n",
       "      <td>Não</td>\n",
       "      <td>Não</td>\n",
       "      <td>Não</td>\n",
       "      <td>Não</td>\n",
       "      <td>Não</td>\n",
       "      <td>Sim</td>\n",
       "      <td>Não</td>\n",
       "      <td>Não</td>\n",
       "      <td>Não</td>\n",
       "    </tr>\n",
       "    <tr>\n",
       "      <th>reserva_com_estacionamento</th>\n",
       "      <td>Não</td>\n",
       "      <td>Não</td>\n",
       "      <td>Não</td>\n",
       "      <td>Não</td>\n",
       "      <td>Não</td>\n",
       "      <td>Sim</td>\n",
       "      <td>Sim</td>\n",
       "      <td>Não</td>\n",
       "      <td>Não</td>\n",
       "      <td>Não</td>\n",
       "    </tr>\n",
       "    <tr>\n",
       "      <th>reserva_com_observações</th>\n",
       "      <td>Nenhuma</td>\n",
       "      <td>1 a 3</td>\n",
       "      <td>Nenhuma</td>\n",
       "      <td>Nenhuma</td>\n",
       "      <td>Nenhuma</td>\n",
       "      <td>1 a 3</td>\n",
       "      <td>Nenhuma</td>\n",
       "      <td>Nenhuma</td>\n",
       "      <td>1 a 3</td>\n",
       "      <td>1 a 3</td>\n",
       "    </tr>\n",
       "    <tr>\n",
       "      <th>reserva_cancelada</th>\n",
       "      <td>1.0</td>\n",
       "      <td>1.0</td>\n",
       "      <td>0.0</td>\n",
       "      <td>0.0</td>\n",
       "      <td>1.0</td>\n",
       "      <td>0.0</td>\n",
       "      <td>0.0</td>\n",
       "      <td>0.0</td>\n",
       "      <td>0.0</td>\n",
       "      <td>0.0</td>\n",
       "    </tr>\n",
       "    <tr>\n",
       "      <th>client_class</th>\n",
       "      <td>0</td>\n",
       "      <td>0</td>\n",
       "      <td>0</td>\n",
       "      <td>0</td>\n",
       "      <td>0</td>\n",
       "      <td>0</td>\n",
       "      <td>0</td>\n",
       "      <td>0</td>\n",
       "      <td>0</td>\n",
       "      <td>0</td>\n",
       "    </tr>\n",
       "  </tbody>\n",
       "</table>\n",
       "</div>"
      ],
      "text/plain": [
       "                                              67356          40185  \\\n",
       "id                                            75622          48102   \n",
       "classificação_do_hotel                   4 estrelas     4 estrelas   \n",
       "meses_da_reserva_até_o_check_in                  10              1   \n",
       "número_de_pernoites_reservadas                    2              2   \n",
       "número_de_hospedes                              2.0            3.0   \n",
       "regime_de_alimentação                 Café da manha  Café da manha   \n",
       "nacionalidade                                 Spain          Spain   \n",
       "forma_de_reserva                            Agência        Agência   \n",
       "já_se_hospedou_anterioremente                   Não            Não   \n",
       "tipo_do_quarto_reservado                   Amethyst       Amethyst   \n",
       "reserva_feita_por_agência_de_turismo            Sim            Sim   \n",
       "reserva_feita_por_empresa                       Não            Não   \n",
       "reserva_com_estacionamento                      Não            Não   \n",
       "reserva_com_observações                     Nenhuma          1 a 3   \n",
       "reserva_cancelada                               1.0            1.0   \n",
       "client_class                                      0              0   \n",
       "\n",
       "                                              60329                   5085   \\\n",
       "id                                            15330                   40780   \n",
       "classificação_do_hotel                   5 estrelas              4 estrelas   \n",
       "meses_da_reserva_até_o_check_in                   1                       4   \n",
       "número_de_pernoites_reservadas                    3                       3   \n",
       "número_de_hospedes                              1.0                     1.0   \n",
       "regime_de_alimentação                 Café da manha  Café da manha e jantar   \n",
       "nacionalidade                                 Spain                   Italy   \n",
       "forma_de_reserva                                B2B                 Agência   \n",
       "já_se_hospedou_anterioremente                   Sim                     Não   \n",
       "tipo_do_quarto_reservado                   Amethyst                Amethyst   \n",
       "reserva_feita_por_agência_de_turismo            Sim                     Sim   \n",
       "reserva_feita_por_empresa                       Não                     Não   \n",
       "reserva_com_estacionamento                      Não                     Não   \n",
       "reserva_com_observações                     Nenhuma                 Nenhuma   \n",
       "reserva_cancelada                               0.0                     0.0   \n",
       "client_class                                      0                       0   \n",
       "\n",
       "                                              737                     20715  \\\n",
       "id                                            54960                   23358   \n",
       "classificação_do_hotel                   4 estrelas              5 estrelas   \n",
       "meses_da_reserva_até_o_check_in                   1                       3   \n",
       "número_de_pernoites_reservadas                    1                       7   \n",
       "número_de_hospedes                              2.0                     2.0   \n",
       "regime_de_alimentação                 Café da manha  Café da manha e jantar   \n",
       "nacionalidade                               Germany                  France   \n",
       "forma_de_reserva                            Agência                 Agência   \n",
       "já_se_hospedou_anterioremente                   Não                     Não   \n",
       "tipo_do_quarto_reservado              Green Emerald                Amethyst   \n",
       "reserva_feita_por_agência_de_turismo            Sim                     Sim   \n",
       "reserva_feita_por_empresa                       Não                     Não   \n",
       "reserva_com_estacionamento                      Não                     Sim   \n",
       "reserva_com_observações                     Nenhuma                   1 a 3   \n",
       "reserva_cancelada                               1.0                     0.0   \n",
       "client_class                                      0                       0   \n",
       "\n",
       "                                              57686                   62492  \\\n",
       "id                                            24119                   28078   \n",
       "classificação_do_hotel                   5 estrelas              5 estrelas   \n",
       "meses_da_reserva_até_o_check_in                   1                       1   \n",
       "número_de_pernoites_reservadas                    1                       3   \n",
       "número_de_hospedes                              1.0                     2.0   \n",
       "regime_de_alimentação                 Café da manha  Café da manha e jantar   \n",
       "nacionalidade                                 Spain                   Spain   \n",
       "forma_de_reserva                                B2B                  Balcão   \n",
       "já_se_hospedou_anterioremente                   Não                     Não   \n",
       "tipo_do_quarto_reservado                   Amethyst                Amethyst   \n",
       "reserva_feita_por_agência_de_turismo            Não                     Não   \n",
       "reserva_feita_por_empresa                       Sim                     Não   \n",
       "reserva_com_estacionamento                      Sim                     Não   \n",
       "reserva_com_observações                     Nenhuma                 Nenhuma   \n",
       "reserva_cancelada                               0.0                     0.0   \n",
       "client_class                                      0                       0   \n",
       "\n",
       "                                              59088           3250   \n",
       "id                                            33808          101472  \n",
       "classificação_do_hotel                   5 estrelas      4 estrelas  \n",
       "meses_da_reserva_até_o_check_in                   1               7  \n",
       "número_de_pernoites_reservadas                    1               4  \n",
       "número_de_hospedes                              1.0             2.0  \n",
       "regime_de_alimentação                 Café da manha   Café da manha  \n",
       "nacionalidade                               Germany  United Kingdom  \n",
       "forma_de_reserva                            Agência         Agência  \n",
       "já_se_hospedou_anterioremente                   Não             Não  \n",
       "tipo_do_quarto_reservado              Pink Sapphire        Amethyst  \n",
       "reserva_feita_por_agência_de_turismo            Sim             Sim  \n",
       "reserva_feita_por_empresa                       Não             Não  \n",
       "reserva_com_estacionamento                      Não             Não  \n",
       "reserva_com_observações                       1 a 3           1 a 3  \n",
       "reserva_cancelada                               0.0             0.0  \n",
       "client_class                                      0               0  "
      ]
     },
     "execution_count": 30,
     "metadata": {},
     "output_type": "execute_result"
    }
   ],
   "source": [
    "df2.sample(10).T"
   ]
  },
  {
   "cell_type": "markdown",
   "id": "9b429cd9",
   "metadata": {},
   "source": [
    "# 3.0 Data Filtering"
   ]
  },
  {
   "cell_type": "code",
   "execution_count": 31,
   "id": "499337a1",
   "metadata": {
    "ExecuteTime": {
     "end_time": "2023-03-26T17:00:35.699895Z",
     "start_time": "2023-03-26T17:00:35.688866Z"
    }
   },
   "outputs": [],
   "source": [
    "# Backup do Dataframe\n",
    "\n",
    "df3 = df2.copy()"
   ]
  },
  {
   "cell_type": "code",
   "execution_count": 32,
   "id": "ffba58a5",
   "metadata": {
    "ExecuteTime": {
     "end_time": "2023-03-26T17:00:35.715301Z",
     "start_time": "2023-03-26T17:00:35.701856Z"
    }
   },
   "outputs": [],
   "source": [
    "## Caso seja necessária a retirada de alguma feature que não tenha relevância"
   ]
  },
  {
   "cell_type": "markdown",
   "id": "3e741fc2",
   "metadata": {},
   "source": [
    "# 4.0 EDA"
   ]
  },
  {
   "cell_type": "code",
   "execution_count": 33,
   "id": "28136ff3",
   "metadata": {
    "ExecuteTime": {
     "end_time": "2023-03-26T17:00:35.746245Z",
     "start_time": "2023-03-26T17:00:35.718010Z"
    }
   },
   "outputs": [],
   "source": [
    "# Backup do Dataframe\n",
    "\n",
    "df4 = df3.copy()"
   ]
  },
  {
   "cell_type": "markdown",
   "id": "904dd61a",
   "metadata": {},
   "source": [
    "## 4.1 Univariate Analysis"
   ]
  },
  {
   "cell_type": "code",
   "execution_count": null,
   "id": "d68d7c06",
   "metadata": {},
   "outputs": [],
   "source": []
  },
  {
   "cell_type": "markdown",
   "id": "42a8fdc5",
   "metadata": {},
   "source": [
    "## 4.2 Bivariate Analysis"
   ]
  },
  {
   "cell_type": "code",
   "execution_count": 34,
   "id": "56862fff",
   "metadata": {
    "ExecuteTime": {
     "end_time": "2023-03-26T17:00:35.762063Z",
     "start_time": "2023-03-26T17:00:35.750420Z"
    }
   },
   "outputs": [],
   "source": [
    "#plt.scatter(x='id', y='', data=df4);"
   ]
  },
  {
   "cell_type": "markdown",
   "id": "ffc9a12b",
   "metadata": {},
   "source": [
    "\n",
    "## 4.3 Multivariate Analysis"
   ]
  },
  {
   "cell_type": "code",
   "execution_count": 35,
   "id": "d9a33271",
   "metadata": {
    "ExecuteTime": {
     "end_time": "2023-03-26T17:00:36.288907Z",
     "start_time": "2023-03-26T17:00:35.764039Z"
    }
   },
   "outputs": [
    {
     "data": {
      "image/png": "[encoded data removed]",
      "text/plain": [
       "<Figure size 2500x1200 with 2 Axes>"
      ]
     },
     "metadata": {},
     "output_type": "display_data"
    }
   ],
   "source": [
    "## Gráfico Mapa de calor - mostra a correlação entre as features (qt mais perto de 1, mais relacionado está)\n",
    "\n",
    "correlation = num_attr.corr(method='pearson')\n",
    "\n",
    "sns.heatmap(correlation, annot=True);"
   ]
  },
  {
   "cell_type": "markdown",
   "id": "d9160e37",
   "metadata": {},
   "source": [
    "# 5.0 Data Preparation"
   ]
  },
  {
   "cell_type": "code",
   "execution_count": 36,
   "id": "2797b0b9",
   "metadata": {
    "ExecuteTime": {
     "end_time": "2023-03-26T17:00:36.304556Z",
     "start_time": "2023-03-26T17:00:36.290919Z"
    }
   },
   "outputs": [],
   "source": [
    "# Backup do Dataframe\n",
    "\n",
    "df5 = df4.copy()"
   ]
  },
  {
   "cell_type": "markdown",
   "id": "7f32df08",
   "metadata": {},
   "source": [
    "## 5.1 Standardization"
   ]
  },
  {
   "cell_type": "code",
   "execution_count": null,
   "id": "c042c92d",
   "metadata": {},
   "outputs": [],
   "source": []
  },
  {
   "cell_type": "markdown",
   "id": "1dcbe34a",
   "metadata": {},
   "source": [
    "## 5.2 Rescaling"
   ]
  },
  {
   "cell_type": "code",
   "execution_count": 37,
   "id": "769e39e6",
   "metadata": {
    "ExecuteTime": {
     "end_time": "2023-03-26T17:00:36.351532Z",
     "start_time": "2023-03-26T17:00:36.308252Z"
    }
   },
   "outputs": [],
   "source": [
    "## Métodos para Rescala\n",
    "\n",
    "rs = RobustScaler()\n",
    "mms = MinMaxScaler()\n",
    "\n",
    "## Exemplo\n",
    "df5['id'] = mms.fit_transform(df5[['id']].values)\n",
    "df5['meses_da_reserva_até_o_check_in'] = mms.fit_transform(df5[['meses_da_reserva_até_o_check_in']].values)\n",
    "df5['número_de_pernoites_reservadas'] = mms.fit_transform(df5[['número_de_pernoites_reservadas']].values)\n",
    "df5['número_de_hospedes'] = rs.fit_transform(df5[['número_de_hospedes']].values)"
   ]
  },
  {
   "cell_type": "markdown",
   "id": "2dab2528",
   "metadata": {},
   "source": [
    "\n",
    "## 5.3 Encoder"
   ]
  },
  {
   "cell_type": "code",
   "execution_count": 38,
   "id": "1369a36e",
   "metadata": {
    "ExecuteTime": {
     "end_time": "2023-03-26T17:00:36.367019Z",
     "start_time": "2023-03-26T17:00:36.354053Z"
    }
   },
   "outputs": [],
   "source": [
    "le = LabelEncoder()"
   ]
  },
  {
   "cell_type": "markdown",
   "id": "7e951d2a",
   "metadata": {},
   "source": [
    "### 5.3.1 Encoding"
   ]
  },
  {
   "cell_type": "code",
   "execution_count": 39,
   "id": "60897eec",
   "metadata": {
    "ExecuteTime": {
     "end_time": "2023-03-26T17:00:36.462368Z",
     "start_time": "2023-03-26T17:00:36.368570Z"
    }
   },
   "outputs": [],
   "source": [
    "## Label Encoding\n",
    "\n",
    "df5['já_se_hospedou_anterioremente']         = le.fit_transform(df5['já_se_hospedou_anterioremente'])\n",
    "df5['reserva_feita_por_agência_de_turismo']  = le.fit_transform(df5['reserva_feita_por_agência_de_turismo'])\n",
    "df5['reserva_feita_por_empresa']             = le.fit_transform(df5['reserva_feita_por_empresa'])\n",
    "df5['reserva_com_estacionamento']            = le.fit_transform(df5['reserva_com_estacionamento'])\n",
    "df5['forma_de_reserva']                      = le.fit_transform(df5['forma_de_reserva'])\n",
    "df5['classificação_do_hotel']                = le.fit_transform(df5['classificação_do_hotel'])"
   ]
  },
  {
   "cell_type": "code",
   "execution_count": 40,
   "id": "b576d2b4",
   "metadata": {
    "ExecuteTime": {
     "end_time": "2023-03-26T17:00:36.509530Z",
     "start_time": "2023-03-26T17:00:36.464372Z"
    }
   },
   "outputs": [],
   "source": [
    "## Ordinal Encoding (dar peso)\n",
    "\n",
    "## regime_de_alimentação\n",
    "regime_alim_dict = {'Sem refeicao'                   : 0,\n",
    "                    'Café da manha'                  : 1,\n",
    "                    'Café da manha e jantar'         : 2,\n",
    "                    'Café da manha, almoco e jantar' : 3}\n",
    "df5['regime_de_alimentação'] = df5['regime_de_alimentação'].map(regime_alim_dict)\n",
    "\n",
    "## tipo_do_quarto_reservado\n",
    "#tp_quarto_dict = {\n",
    "#'Moonstone'     :1,\n",
    "#'Peridot'       :2,\n",
    "#'Topaz'         :3,\n",
    "#'Garnet'        :4,\n",
    "#'Tanzanite'     :5, \n",
    "#'Amethyst'      :6,\n",
    "#'Green Emerald' :7,\n",
    "#'Pink Sapphire' :8,\n",
    "#'Blue Sapphire' :9,   \n",
    "#'Red Ruby'      :10 \n",
    "#}\n",
    "tp_quarto_dict = {\n",
    "'Red Ruby'      :1,\n",
    "'Blue Sapphire' :2,\n",
    "'Pink Sapphire' :3,\n",
    "'Green Emerald' :4,\n",
    "'Amethyst'      :5,   \n",
    "'Tanzanite'     :6,    \n",
    "'Garnet'        :7,    \n",
    "'Topaz'         :8,    \n",
    "'Peridot'       :9,\n",
    "'Moonstone'     :10\n",
    "}\n",
    "\n",
    "df5['tipo_do_quarto_reservado'] = df5['tipo_do_quarto_reservado'].map(tp_quarto_dict)\n",
    "\n",
    "## reserva_com_observações\n",
    "reserv_obs_dict = {'Nenhuma':0, '1 a 3':1, 'Mais de 3':2}\n",
    "df5['reserva_com_observações'] = df5['reserva_com_observações'].map(reserv_obs_dict)\n"
   ]
  },
  {
   "cell_type": "code",
   "execution_count": 41,
   "id": "ea01b35a",
   "metadata": {
    "ExecuteTime": {
     "end_time": "2023-03-26T17:00:37.116302Z",
     "start_time": "2023-03-26T17:00:36.513533Z"
    },
    "scrolled": false
   },
   "outputs": [
    {
     "data": {
      "image/png": "[encoded data removed]",
      "text/plain": [
       "<Figure size 2500x1200 with 1 Axes>"
      ]
     },
     "metadata": {},
     "output_type": "display_data"
    }
   ],
   "source": [
    "sns.boxplot(x='tipo_do_quarto_reservado', y='id', data=df5);"
   ]
  },
  {
   "cell_type": "code",
   "execution_count": 42,
   "id": "e3cfb597",
   "metadata": {
    "ExecuteTime": {
     "end_time": "2023-03-26T17:00:38.771566Z",
     "start_time": "2023-03-26T17:00:37.118370Z"
    }
   },
   "outputs": [
    {
     "data": {
      "image/png": "[encoded data removed]",
      "text/plain": [
       "<Figure size 2500x1200 with 2 Axes>"
      ]
     },
     "metadata": {},
     "output_type": "display_data"
    }
   ],
   "source": [
    "correlation = df5.corr(method='pearson')\n",
    "\n",
    "sns.heatmap(correlation, annot=True);"
   ]
  },
  {
   "cell_type": "code",
   "execution_count": 43,
   "id": "2fe90e3f",
   "metadata": {
    "ExecuteTime": {
     "end_time": "2023-03-26T17:00:38.880261Z",
     "start_time": "2023-03-26T17:00:38.776096Z"
    }
   },
   "outputs": [],
   "source": [
    "## Category Encoders\n",
    "\n",
    "count = CountEncoder(cols=['nacionalidade'], return_df=True) \n",
    "df5['nacionalidade'] = count.fit_transform(df5['nacionalidade'])\n"
   ]
  },
  {
   "cell_type": "code",
   "execution_count": 44,
   "id": "0a3f6142",
   "metadata": {
    "ExecuteTime": {
     "end_time": "2023-03-26T17:00:38.896285Z",
     "start_time": "2023-03-26T17:00:38.883237Z"
    }
   },
   "outputs": [],
   "source": [
    "# Comentado pois não houve mudança no F1-Score\n",
    "\n",
    "#df5['class_num_noites'] = df5['número_de_pernoites_reservadas'].apply(lambda x:\n",
    "#                               1 if x <= 2     else\n",
    "#                               2 if 2 < x <= 3 else\n",
    "#                               3 if 3 < x <= 4 else\n",
    "#                               4 if 4 < x <= 7 else\n",
    "#                               5)\n",
    "#\n",
    "#df5['class_mes'] = df5['meses_da_reserva_até_o_check_in'].apply(lambda x:\n",
    "#                               1 if x <= 1     else\n",
    "#                               2 if 1 < x <= 3 else\n",
    "#                               3 if 3 < x <= 6 else\n",
    "#                               4 if 6 < x <=13 else\n",
    "#                               5)"
   ]
  },
  {
   "cell_type": "code",
   "execution_count": 45,
   "id": "31d64753",
   "metadata": {
    "ExecuteTime": {
     "end_time": "2023-03-26T17:00:38.911918Z",
     "start_time": "2023-03-26T17:00:38.901367Z"
    }
   },
   "outputs": [],
   "source": [
    "## Intervalos de ID (não melhorou)\n",
    "\n",
    "#df5['class_id'] = df5['id'].apply(lambda x:\n",
    "#                                  1 if x           <=       6000       else\n",
    "#                                  2 if 6000        < x <=  (6000*2)    else\n",
    "#                                  3 if (6000*2)    < x <=  (6000*3)    else\n",
    "#                                  4 if (6000*3)    < x <=  (6000*4)    else\n",
    "#                                  5 if (6000*4)    < x <=  (6000*5)    else\n",
    "#                                  6 if (6000*5)    < x <=  (6000*6)    else\n",
    "#                                  7 if (6000*6)    < x <=  (6000*7)    else\n",
    "#                                  8 if (6000*7)    < x <=  (6000*8)    else\n",
    "#                                  9 if (6000*8)    < x <=  (6000*9)    else\n",
    "#                                 10 if (6000*9)    < x <=  (6000*10)   else\n",
    "#                                 11 if (6000*10)   < x <=  (6000*11)   else\n",
    "#                                 12 if (6000*11)   < x <=  (6000*12)   else\n",
    "#                                 13 if (6000*12)   < x <=  (6000*13)   else\n",
    "#                                 14 if (6000*13)   < x <=  (6000*14)   else\n",
    "#                                 15 if (6000*14)   < x <=  (6000*15)   else\n",
    "#                                 16 if (6000*15)   < x <=  (6000*16)   else\n",
    "#                                 17 if (6000*16)   < x <=  (6000*17)   else\n",
    "#                                 18 if (6000*17)   < x <=  (6000*18)   else\n",
    "#                                 19 if (6000*18)   < x <=  (6000*19)   else\n",
    "#                                 20)\n"
   ]
  },
  {
   "cell_type": "code",
   "execution_count": 46,
   "id": "b5fc02cb",
   "metadata": {
    "ExecuteTime": {
     "end_time": "2023-03-26T17:00:38.957799Z",
     "start_time": "2023-03-26T17:00:38.914892Z"
    }
   },
   "outputs": [
    {
     "data": {
      "text/html": [
       "<div>\n",
       "<style scoped>\n",
       "    .dataframe tbody tr th:only-of-type {\n",
       "        vertical-align: middle;\n",
       "    }\n",
       "\n",
       "    .dataframe tbody tr th {\n",
       "        vertical-align: top;\n",
       "    }\n",
       "\n",
       "    .dataframe thead th {\n",
       "        text-align: right;\n",
       "    }\n",
       "</style>\n",
       "<table border=\"1\" class=\"dataframe\">\n",
       "  <thead>\n",
       "    <tr style=\"text-align: right;\">\n",
       "      <th></th>\n",
       "      <th>1312</th>\n",
       "      <th>21658</th>\n",
       "      <th>26492</th>\n",
       "      <th>3773</th>\n",
       "      <th>716</th>\n",
       "      <th>47531</th>\n",
       "      <th>1560</th>\n",
       "      <th>10424</th>\n",
       "      <th>37888</th>\n",
       "      <th>67666</th>\n",
       "    </tr>\n",
       "  </thead>\n",
       "  <tbody>\n",
       "    <tr>\n",
       "      <th>id</th>\n",
       "      <td>0.321410</td>\n",
       "      <td>0.048477</td>\n",
       "      <td>0.527007</td>\n",
       "      <td>0.677776</td>\n",
       "      <td>0.105169</td>\n",
       "      <td>0.909033</td>\n",
       "      <td>0.610815</td>\n",
       "      <td>0.420458</td>\n",
       "      <td>0.992051</td>\n",
       "      <td>0.835129</td>\n",
       "    </tr>\n",
       "    <tr>\n",
       "      <th>classificação_do_hotel</th>\n",
       "      <td>1.000000</td>\n",
       "      <td>1.000000</td>\n",
       "      <td>0.000000</td>\n",
       "      <td>0.000000</td>\n",
       "      <td>1.000000</td>\n",
       "      <td>0.000000</td>\n",
       "      <td>0.000000</td>\n",
       "      <td>0.000000</td>\n",
       "      <td>0.000000</td>\n",
       "      <td>0.000000</td>\n",
       "    </tr>\n",
       "    <tr>\n",
       "      <th>meses_da_reserva_até_o_check_in</th>\n",
       "      <td>0.000000</td>\n",
       "      <td>0.019355</td>\n",
       "      <td>0.003226</td>\n",
       "      <td>0.000000</td>\n",
       "      <td>0.035484</td>\n",
       "      <td>0.016129</td>\n",
       "      <td>0.022581</td>\n",
       "      <td>0.000000</td>\n",
       "      <td>0.000000</td>\n",
       "      <td>0.006452</td>\n",
       "    </tr>\n",
       "    <tr>\n",
       "      <th>número_de_pernoites_reservadas</th>\n",
       "      <td>0.000853</td>\n",
       "      <td>0.001706</td>\n",
       "      <td>0.001706</td>\n",
       "      <td>0.005119</td>\n",
       "      <td>0.005973</td>\n",
       "      <td>0.001706</td>\n",
       "      <td>0.005119</td>\n",
       "      <td>0.002560</td>\n",
       "      <td>0.000853</td>\n",
       "      <td>0.003413</td>\n",
       "    </tr>\n",
       "    <tr>\n",
       "      <th>número_de_hospedes</th>\n",
       "      <td>0.000000</td>\n",
       "      <td>0.000000</td>\n",
       "      <td>0.000000</td>\n",
       "      <td>-1.000000</td>\n",
       "      <td>0.000000</td>\n",
       "      <td>0.000000</td>\n",
       "      <td>0.000000</td>\n",
       "      <td>546.000000</td>\n",
       "      <td>1.000000</td>\n",
       "      <td>-1.000000</td>\n",
       "    </tr>\n",
       "    <tr>\n",
       "      <th>regime_de_alimentação</th>\n",
       "      <td>1.000000</td>\n",
       "      <td>2.000000</td>\n",
       "      <td>1.000000</td>\n",
       "      <td>1.000000</td>\n",
       "      <td>1.000000</td>\n",
       "      <td>1.000000</td>\n",
       "      <td>0.000000</td>\n",
       "      <td>1.000000</td>\n",
       "      <td>1.000000</td>\n",
       "      <td>1.000000</td>\n",
       "    </tr>\n",
       "    <tr>\n",
       "      <th>nacionalidade</th>\n",
       "      <td>34212.000000</td>\n",
       "      <td>4393.000000</td>\n",
       "      <td>34212.000000</td>\n",
       "      <td>421.000000</td>\n",
       "      <td>2061.000000</td>\n",
       "      <td>421.000000</td>\n",
       "      <td>4393.000000</td>\n",
       "      <td>149.000000</td>\n",
       "      <td>34212.000000</td>\n",
       "      <td>7267.000000</td>\n",
       "    </tr>\n",
       "    <tr>\n",
       "      <th>forma_de_reserva</th>\n",
       "      <td>0.000000</td>\n",
       "      <td>0.000000</td>\n",
       "      <td>0.000000</td>\n",
       "      <td>2.000000</td>\n",
       "      <td>0.000000</td>\n",
       "      <td>0.000000</td>\n",
       "      <td>0.000000</td>\n",
       "      <td>0.000000</td>\n",
       "      <td>2.000000</td>\n",
       "      <td>2.000000</td>\n",
       "    </tr>\n",
       "    <tr>\n",
       "      <th>já_se_hospedou_anterioremente</th>\n",
       "      <td>0.000000</td>\n",
       "      <td>0.000000</td>\n",
       "      <td>0.000000</td>\n",
       "      <td>0.000000</td>\n",
       "      <td>0.000000</td>\n",
       "      <td>0.000000</td>\n",
       "      <td>0.000000</td>\n",
       "      <td>0.000000</td>\n",
       "      <td>0.000000</td>\n",
       "      <td>0.000000</td>\n",
       "    </tr>\n",
       "    <tr>\n",
       "      <th>tipo_do_quarto_reservado</th>\n",
       "      <td>4.000000</td>\n",
       "      <td>5.000000</td>\n",
       "      <td>5.000000</td>\n",
       "      <td>5.000000</td>\n",
       "      <td>4.000000</td>\n",
       "      <td>5.000000</td>\n",
       "      <td>5.000000</td>\n",
       "      <td>4.000000</td>\n",
       "      <td>4.000000</td>\n",
       "      <td>3.000000</td>\n",
       "    </tr>\n",
       "    <tr>\n",
       "      <th>reserva_feita_por_agência_de_turismo</th>\n",
       "      <td>1.000000</td>\n",
       "      <td>1.000000</td>\n",
       "      <td>1.000000</td>\n",
       "      <td>1.000000</td>\n",
       "      <td>1.000000</td>\n",
       "      <td>1.000000</td>\n",
       "      <td>1.000000</td>\n",
       "      <td>1.000000</td>\n",
       "      <td>0.000000</td>\n",
       "      <td>1.000000</td>\n",
       "    </tr>\n",
       "    <tr>\n",
       "      <th>reserva_feita_por_empresa</th>\n",
       "      <td>0.000000</td>\n",
       "      <td>0.000000</td>\n",
       "      <td>0.000000</td>\n",
       "      <td>0.000000</td>\n",
       "      <td>0.000000</td>\n",
       "      <td>0.000000</td>\n",
       "      <td>0.000000</td>\n",
       "      <td>0.000000</td>\n",
       "      <td>0.000000</td>\n",
       "      <td>0.000000</td>\n",
       "    </tr>\n",
       "    <tr>\n",
       "      <th>reserva_com_estacionamento</th>\n",
       "      <td>0.000000</td>\n",
       "      <td>0.000000</td>\n",
       "      <td>0.000000</td>\n",
       "      <td>0.000000</td>\n",
       "      <td>0.000000</td>\n",
       "      <td>0.000000</td>\n",
       "      <td>0.000000</td>\n",
       "      <td>0.000000</td>\n",
       "      <td>0.000000</td>\n",
       "      <td>0.000000</td>\n",
       "    </tr>\n",
       "    <tr>\n",
       "      <th>reserva_com_observações</th>\n",
       "      <td>1.000000</td>\n",
       "      <td>0.000000</td>\n",
       "      <td>0.000000</td>\n",
       "      <td>0.000000</td>\n",
       "      <td>0.000000</td>\n",
       "      <td>1.000000</td>\n",
       "      <td>1.000000</td>\n",
       "      <td>0.000000</td>\n",
       "      <td>0.000000</td>\n",
       "      <td>0.000000</td>\n",
       "    </tr>\n",
       "    <tr>\n",
       "      <th>reserva_cancelada</th>\n",
       "      <td>0.000000</td>\n",
       "      <td>0.000000</td>\n",
       "      <td>1.000000</td>\n",
       "      <td>0.000000</td>\n",
       "      <td>1.000000</td>\n",
       "      <td>0.000000</td>\n",
       "      <td>1.000000</td>\n",
       "      <td>1.000000</td>\n",
       "      <td>0.000000</td>\n",
       "      <td>0.000000</td>\n",
       "    </tr>\n",
       "    <tr>\n",
       "      <th>client_class</th>\n",
       "      <td>0.000000</td>\n",
       "      <td>0.000000</td>\n",
       "      <td>0.000000</td>\n",
       "      <td>0.000000</td>\n",
       "      <td>0.000000</td>\n",
       "      <td>0.000000</td>\n",
       "      <td>0.000000</td>\n",
       "      <td>0.000000</td>\n",
       "      <td>0.000000</td>\n",
       "      <td>0.000000</td>\n",
       "    </tr>\n",
       "  </tbody>\n",
       "</table>\n",
       "</div>"
      ],
      "text/plain": [
       "                                             1312         21658         26492  \\\n",
       "id                                        0.321410     0.048477      0.527007   \n",
       "classificação_do_hotel                    1.000000     1.000000      0.000000   \n",
       "meses_da_reserva_até_o_check_in           0.000000     0.019355      0.003226   \n",
       "número_de_pernoites_reservadas            0.000853     0.001706      0.001706   \n",
       "número_de_hospedes                        0.000000     0.000000      0.000000   \n",
       "regime_de_alimentação                     1.000000     2.000000      1.000000   \n",
       "nacionalidade                         34212.000000  4393.000000  34212.000000   \n",
       "forma_de_reserva                          0.000000     0.000000      0.000000   \n",
       "já_se_hospedou_anterioremente             0.000000     0.000000      0.000000   \n",
       "tipo_do_quarto_reservado                  4.000000     5.000000      5.000000   \n",
       "reserva_feita_por_agência_de_turismo      1.000000     1.000000      1.000000   \n",
       "reserva_feita_por_empresa                 0.000000     0.000000      0.000000   \n",
       "reserva_com_estacionamento                0.000000     0.000000      0.000000   \n",
       "reserva_com_observações                   1.000000     0.000000      0.000000   \n",
       "reserva_cancelada                         0.000000     0.000000      1.000000   \n",
       "client_class                              0.000000     0.000000      0.000000   \n",
       "\n",
       "                                           3773         716         47531  \\\n",
       "id                                      0.677776     0.105169    0.909033   \n",
       "classificação_do_hotel                  0.000000     1.000000    0.000000   \n",
       "meses_da_reserva_até_o_check_in         0.000000     0.035484    0.016129   \n",
       "número_de_pernoites_reservadas          0.005119     0.005973    0.001706   \n",
       "número_de_hospedes                     -1.000000     0.000000    0.000000   \n",
       "regime_de_alimentação                   1.000000     1.000000    1.000000   \n",
       "nacionalidade                         421.000000  2061.000000  421.000000   \n",
       "forma_de_reserva                        2.000000     0.000000    0.000000   \n",
       "já_se_hospedou_anterioremente           0.000000     0.000000    0.000000   \n",
       "tipo_do_quarto_reservado                5.000000     4.000000    5.000000   \n",
       "reserva_feita_por_agência_de_turismo    1.000000     1.000000    1.000000   \n",
       "reserva_feita_por_empresa               0.000000     0.000000    0.000000   \n",
       "reserva_com_estacionamento              0.000000     0.000000    0.000000   \n",
       "reserva_com_observações                 0.000000     0.000000    1.000000   \n",
       "reserva_cancelada                       0.000000     1.000000    0.000000   \n",
       "client_class                            0.000000     0.000000    0.000000   \n",
       "\n",
       "                                            1560        10424         37888  \\\n",
       "id                                       0.610815    0.420458      0.992051   \n",
       "classificação_do_hotel                   0.000000    0.000000      0.000000   \n",
       "meses_da_reserva_até_o_check_in          0.022581    0.000000      0.000000   \n",
       "número_de_pernoites_reservadas           0.005119    0.002560      0.000853   \n",
       "número_de_hospedes                       0.000000  546.000000      1.000000   \n",
       "regime_de_alimentação                    0.000000    1.000000      1.000000   \n",
       "nacionalidade                         4393.000000  149.000000  34212.000000   \n",
       "forma_de_reserva                         0.000000    0.000000      2.000000   \n",
       "já_se_hospedou_anterioremente            0.000000    0.000000      0.000000   \n",
       "tipo_do_quarto_reservado                 5.000000    4.000000      4.000000   \n",
       "reserva_feita_por_agência_de_turismo     1.000000    1.000000      0.000000   \n",
       "reserva_feita_por_empresa                0.000000    0.000000      0.000000   \n",
       "reserva_com_estacionamento               0.000000    0.000000      0.000000   \n",
       "reserva_com_observações                  1.000000    0.000000      0.000000   \n",
       "reserva_cancelada                        1.000000    1.000000      0.000000   \n",
       "client_class                             0.000000    0.000000      0.000000   \n",
       "\n",
       "                                            67666  \n",
       "id                                       0.835129  \n",
       "classificação_do_hotel                   0.000000  \n",
       "meses_da_reserva_até_o_check_in          0.006452  \n",
       "número_de_pernoites_reservadas           0.003413  \n",
       "número_de_hospedes                      -1.000000  \n",
       "regime_de_alimentação                    1.000000  \n",
       "nacionalidade                         7267.000000  \n",
       "forma_de_reserva                         2.000000  \n",
       "já_se_hospedou_anterioremente            0.000000  \n",
       "tipo_do_quarto_reservado                 3.000000  \n",
       "reserva_feita_por_agência_de_turismo     1.000000  \n",
       "reserva_feita_por_empresa                0.000000  \n",
       "reserva_com_estacionamento               0.000000  \n",
       "reserva_com_observações                  0.000000  \n",
       "reserva_cancelada                        0.000000  \n",
       "client_class                             0.000000  "
      ]
     },
     "execution_count": 46,
     "metadata": {},
     "output_type": "execute_result"
    }
   ],
   "source": [
    "df5.sample(10).T"
   ]
  },
  {
   "cell_type": "code",
   "execution_count": 47,
   "id": "819ee261",
   "metadata": {
    "ExecuteTime": {
     "end_time": "2023-03-26T17:00:38.989729Z",
     "start_time": "2023-03-26T17:00:38.961817Z"
    }
   },
   "outputs": [
    {
     "data": {
      "text/plain": [
       "id                                      float64\n",
       "classificação_do_hotel                    int32\n",
       "meses_da_reserva_até_o_check_in         float64\n",
       "número_de_pernoites_reservadas          float64\n",
       "número_de_hospedes                      float64\n",
       "regime_de_alimentação                     int64\n",
       "nacionalidade                             int64\n",
       "forma_de_reserva                          int32\n",
       "já_se_hospedou_anterioremente             int32\n",
       "tipo_do_quarto_reservado                  int64\n",
       "reserva_feita_por_agência_de_turismo      int32\n",
       "reserva_feita_por_empresa                 int32\n",
       "reserva_com_estacionamento                int32\n",
       "reserva_com_observações                   int64\n",
       "reserva_cancelada                       float64\n",
       "client_class                              int64\n",
       "dtype: object"
      ]
     },
     "execution_count": 47,
     "metadata": {},
     "output_type": "execute_result"
    }
   ],
   "source": [
    "df5.dtypes"
   ]
  },
  {
   "cell_type": "code",
   "execution_count": 48,
   "id": "3da8570c",
   "metadata": {
    "ExecuteTime": {
     "end_time": "2023-03-26T17:00:39.021915Z",
     "start_time": "2023-03-26T17:00:38.992732Z"
    }
   },
   "outputs": [
    {
     "data": {
      "text/plain": [
       "id                                      0\n",
       "classificação_do_hotel                  0\n",
       "meses_da_reserva_até_o_check_in         0\n",
       "número_de_pernoites_reservadas          0\n",
       "número_de_hospedes                      3\n",
       "regime_de_alimentação                   0\n",
       "nacionalidade                           0\n",
       "forma_de_reserva                        0\n",
       "já_se_hospedou_anterioremente           0\n",
       "tipo_do_quarto_reservado                0\n",
       "reserva_feita_por_agência_de_turismo    0\n",
       "reserva_feita_por_empresa               0\n",
       "reserva_com_estacionamento              0\n",
       "reserva_com_observações                 0\n",
       "reserva_cancelada                       0\n",
       "client_class                            0\n",
       "dtype: int64"
      ]
     },
     "execution_count": 48,
     "metadata": {},
     "output_type": "execute_result"
    }
   ],
   "source": [
    "df5.isna().sum()"
   ]
  },
  {
   "cell_type": "code",
   "execution_count": 49,
   "id": "597731a7",
   "metadata": {
    "ExecuteTime": {
     "end_time": "2023-03-26T17:00:39.053990Z",
     "start_time": "2023-03-26T17:00:39.024893Z"
    }
   },
   "outputs": [
    {
     "data": {
      "text/html": [
       "<div>\n",
       "<style scoped>\n",
       "    .dataframe tbody tr th:only-of-type {\n",
       "        vertical-align: middle;\n",
       "    }\n",
       "\n",
       "    .dataframe tbody tr th {\n",
       "        vertical-align: top;\n",
       "    }\n",
       "\n",
       "    .dataframe thead th {\n",
       "        text-align: right;\n",
       "    }\n",
       "</style>\n",
       "<table border=\"1\" class=\"dataframe\">\n",
       "  <thead>\n",
       "    <tr style=\"text-align: right;\">\n",
       "      <th></th>\n",
       "      <th>8358</th>\n",
       "      <th>36627</th>\n",
       "      <th>64865</th>\n",
       "    </tr>\n",
       "  </thead>\n",
       "  <tbody>\n",
       "    <tr>\n",
       "      <th>id</th>\n",
       "      <td>0.339969</td>\n",
       "      <td>0.340069</td>\n",
       "      <td>0.344334</td>\n",
       "    </tr>\n",
       "    <tr>\n",
       "      <th>classificação_do_hotel</th>\n",
       "      <td>0.000000</td>\n",
       "      <td>0.000000</td>\n",
       "      <td>0.000000</td>\n",
       "    </tr>\n",
       "    <tr>\n",
       "      <th>meses_da_reserva_até_o_check_in</th>\n",
       "      <td>0.000000</td>\n",
       "      <td>0.000000</td>\n",
       "      <td>0.000000</td>\n",
       "    </tr>\n",
       "    <tr>\n",
       "      <th>número_de_pernoites_reservadas</th>\n",
       "      <td>0.001706</td>\n",
       "      <td>0.001706</td>\n",
       "      <td>0.005973</td>\n",
       "    </tr>\n",
       "    <tr>\n",
       "      <th>número_de_hospedes</th>\n",
       "      <td>NaN</td>\n",
       "      <td>NaN</td>\n",
       "      <td>NaN</td>\n",
       "    </tr>\n",
       "    <tr>\n",
       "      <th>regime_de_alimentação</th>\n",
       "      <td>1.000000</td>\n",
       "      <td>1.000000</td>\n",
       "      <td>1.000000</td>\n",
       "    </tr>\n",
       "    <tr>\n",
       "      <th>nacionalidade</th>\n",
       "      <td>34212.000000</td>\n",
       "      <td>34212.000000</td>\n",
       "      <td>34212.000000</td>\n",
       "    </tr>\n",
       "    <tr>\n",
       "      <th>forma_de_reserva</th>\n",
       "      <td>1.000000</td>\n",
       "      <td>1.000000</td>\n",
       "      <td>1.000000</td>\n",
       "    </tr>\n",
       "    <tr>\n",
       "      <th>já_se_hospedou_anterioremente</th>\n",
       "      <td>0.000000</td>\n",
       "      <td>0.000000</td>\n",
       "      <td>0.000000</td>\n",
       "    </tr>\n",
       "    <tr>\n",
       "      <th>tipo_do_quarto_reservado</th>\n",
       "      <td>2.000000</td>\n",
       "      <td>2.000000</td>\n",
       "      <td>2.000000</td>\n",
       "    </tr>\n",
       "    <tr>\n",
       "      <th>reserva_feita_por_agência_de_turismo</th>\n",
       "      <td>1.000000</td>\n",
       "      <td>0.000000</td>\n",
       "      <td>1.000000</td>\n",
       "    </tr>\n",
       "    <tr>\n",
       "      <th>reserva_feita_por_empresa</th>\n",
       "      <td>0.000000</td>\n",
       "      <td>0.000000</td>\n",
       "      <td>0.000000</td>\n",
       "    </tr>\n",
       "    <tr>\n",
       "      <th>reserva_com_estacionamento</th>\n",
       "      <td>0.000000</td>\n",
       "      <td>0.000000</td>\n",
       "      <td>0.000000</td>\n",
       "    </tr>\n",
       "    <tr>\n",
       "      <th>reserva_com_observações</th>\n",
       "      <td>1.000000</td>\n",
       "      <td>1.000000</td>\n",
       "      <td>1.000000</td>\n",
       "    </tr>\n",
       "    <tr>\n",
       "      <th>reserva_cancelada</th>\n",
       "      <td>1.000000</td>\n",
       "      <td>1.000000</td>\n",
       "      <td>1.000000</td>\n",
       "    </tr>\n",
       "    <tr>\n",
       "      <th>client_class</th>\n",
       "      <td>0.000000</td>\n",
       "      <td>0.000000</td>\n",
       "      <td>0.000000</td>\n",
       "    </tr>\n",
       "  </tbody>\n",
       "</table>\n",
       "</div>"
      ],
      "text/plain": [
       "                                             8358          36627         64865\n",
       "id                                        0.339969      0.340069      0.344334\n",
       "classificação_do_hotel                    0.000000      0.000000      0.000000\n",
       "meses_da_reserva_até_o_check_in           0.000000      0.000000      0.000000\n",
       "número_de_pernoites_reservadas            0.001706      0.001706      0.005973\n",
       "número_de_hospedes                             NaN           NaN           NaN\n",
       "regime_de_alimentação                     1.000000      1.000000      1.000000\n",
       "nacionalidade                         34212.000000  34212.000000  34212.000000\n",
       "forma_de_reserva                          1.000000      1.000000      1.000000\n",
       "já_se_hospedou_anterioremente             0.000000      0.000000      0.000000\n",
       "tipo_do_quarto_reservado                  2.000000      2.000000      2.000000\n",
       "reserva_feita_por_agência_de_turismo      1.000000      0.000000      1.000000\n",
       "reserva_feita_por_empresa                 0.000000      0.000000      0.000000\n",
       "reserva_com_estacionamento                0.000000      0.000000      0.000000\n",
       "reserva_com_observações                   1.000000      1.000000      1.000000\n",
       "reserva_cancelada                         1.000000      1.000000      1.000000\n",
       "client_class                              0.000000      0.000000      0.000000"
      ]
     },
     "execution_count": 49,
     "metadata": {},
     "output_type": "execute_result"
    }
   ],
   "source": [
    "df5[df5['número_de_hospedes'].isna()].T"
   ]
  },
  {
   "cell_type": "code",
   "execution_count": 50,
   "id": "08dddee5",
   "metadata": {
    "ExecuteTime": {
     "end_time": "2023-03-26T17:00:39.086346Z",
     "start_time": "2023-03-26T17:00:39.059673Z"
    }
   },
   "outputs": [],
   "source": [
    "df5 = df5.fillna(0)"
   ]
  },
  {
   "cell_type": "code",
   "execution_count": 51,
   "id": "6ac1487d",
   "metadata": {
    "ExecuteTime": {
     "end_time": "2023-03-26T17:00:39.117724Z",
     "start_time": "2023-03-26T17:00:39.088500Z"
    }
   },
   "outputs": [],
   "source": [
    "# Aletração da variável para inteiro \n",
    "df5['reserva_cancelada'] = df5['reserva_cancelada'].astype(int)\n",
    "df5['número_de_hospedes'] = df5['número_de_hospedes'].astype(int)"
   ]
  },
  {
   "cell_type": "code",
   "execution_count": 52,
   "id": "843ec40a",
   "metadata": {
    "ExecuteTime": {
     "end_time": "2023-03-26T17:00:39.148946Z",
     "start_time": "2023-03-26T17:00:39.120744Z"
    }
   },
   "outputs": [
    {
     "data": {
      "text/plain": [
       "id                                      float64\n",
       "classificação_do_hotel                    int32\n",
       "meses_da_reserva_até_o_check_in         float64\n",
       "número_de_pernoites_reservadas          float64\n",
       "número_de_hospedes                        int32\n",
       "regime_de_alimentação                     int64\n",
       "nacionalidade                             int64\n",
       "forma_de_reserva                          int32\n",
       "já_se_hospedou_anterioremente             int32\n",
       "tipo_do_quarto_reservado                  int64\n",
       "reserva_feita_por_agência_de_turismo      int32\n",
       "reserva_feita_por_empresa                 int32\n",
       "reserva_com_estacionamento                int32\n",
       "reserva_com_observações                   int64\n",
       "reserva_cancelada                         int32\n",
       "client_class                              int64\n",
       "dtype: object"
      ]
     },
     "execution_count": 52,
     "metadata": {},
     "output_type": "execute_result"
    }
   ],
   "source": [
    "df5.dtypes"
   ]
  },
  {
   "cell_type": "markdown",
   "id": "dd7477fc",
   "metadata": {},
   "source": [
    "### 5.3.2 Response Variable Transformation"
   ]
  },
  {
   "cell_type": "code",
   "execution_count": null,
   "id": "d53b08b1",
   "metadata": {},
   "outputs": [],
   "source": []
  },
  {
   "cell_type": "markdown",
   "id": "1f02db97",
   "metadata": {},
   "source": [
    "### 5.3.3 Nature Transformation"
   ]
  },
  {
   "cell_type": "code",
   "execution_count": null,
   "id": "1ae7bc4a",
   "metadata": {},
   "outputs": [],
   "source": []
  },
  {
   "cell_type": "markdown",
   "id": "6df72047",
   "metadata": {},
   "source": [
    "## 5.4 Validation Preparation"
   ]
  },
  {
   "cell_type": "code",
   "execution_count": null,
   "id": "d2ed6159",
   "metadata": {},
   "outputs": [],
   "source": []
  },
  {
   "cell_type": "markdown",
   "id": "984bbe44",
   "metadata": {},
   "source": [
    "# 6.0 Feature Selection"
   ]
  },
  {
   "cell_type": "code",
   "execution_count": 53,
   "id": "7cf70d0b",
   "metadata": {
    "ExecuteTime": {
     "end_time": "2023-03-26T17:00:39.164821Z",
     "start_time": "2023-03-26T17:00:39.151950Z"
    }
   },
   "outputs": [],
   "source": [
    "# Backup do Dataframe\n",
    "\n",
    "df6 = df5.copy()"
   ]
  },
  {
   "cell_type": "code",
   "execution_count": 54,
   "id": "0c6339b4",
   "metadata": {
    "ExecuteTime": {
     "end_time": "2023-03-26T17:00:39.179954Z",
     "start_time": "2023-03-26T17:00:39.167868Z"
    }
   },
   "outputs": [],
   "source": [
    "## Drop das features que não serão utilizadas\n",
    "\n",
    "# X_train = df6.drop(['col_index','var_resposta'],axis=1)\n",
    "# X_validation = X_validation.drop('var_resposta',axis=1)"
   ]
  },
  {
   "cell_type": "markdown",
   "id": "49c8f5dd",
   "metadata": {},
   "source": [
    "## 6.1 Feature Selector (boruta)"
   ]
  },
  {
   "cell_type": "code",
   "execution_count": 55,
   "id": "ec97976b",
   "metadata": {
    "ExecuteTime": {
     "end_time": "2023-03-26T17:01:02.668715Z",
     "start_time": "2023-03-26T17:00:39.185912Z"
    }
   },
   "outputs": [
    {
     "data": {
      "text/plain": [
       "['id',\n",
       " 'classificação_do_hotel',\n",
       " 'meses_da_reserva_até_o_check_in',\n",
       " 'nacionalidade',\n",
       " 'reserva_com_observações']"
      ]
     },
     "execution_count": 55,
     "metadata": {},
     "output_type": "execute_result"
    }
   ],
   "source": [
    "train = df6.copy()\n",
    "X_train = train.drop(columns='reserva_cancelada')\n",
    "y_train = train['reserva_cancelada']\n",
    "\n",
    "X_train_n = X_train.values\n",
    "y_train_n = y_train.values.ravel() \n",
    "#define randomForestRegressor\n",
    "rf = RandomForestClassifier(n_jobs=-1, n_estimators=400)\n",
    "boruta = BorutaPy(rf, n_estimators='auto', random_state=42).fit(X_train_n,y_train_n)\n",
    "cols_selected = boruta.support_.tolist()\n",
    "\n",
    "X_train_fs = X_train\n",
    "cols_selected_boruta = X_train_fs.iloc[:,cols_selected].columns.to_list()\n",
    "\n",
    "cols_not_selected_boruta = list(np.setdiff1d(X_train_fs.columns,cols_selected_boruta) )\n",
    "cols_selected_boruta"
   ]
  },
  {
   "cell_type": "markdown",
   "id": "0bc8aa41",
   "metadata": {},
   "source": [
    "## 6.2 Feature Importance (RandomForest)"
   ]
  },
  {
   "cell_type": "code",
   "execution_count": 56,
   "id": "8d42b6f4",
   "metadata": {
    "ExecuteTime": {
     "end_time": "2023-03-26T17:01:02.685053Z",
     "start_time": "2023-03-26T17:01:02.671239Z"
    }
   },
   "outputs": [],
   "source": [
    "## Lista de features ordenadas por importância\n",
    "\n",
    "# Define\n",
    "# rf = RandomForestClassifier(random_state=42, n_jobs=-1, n_estimators=500).fit(X_train, y_train)\n",
    "# feature_importance_sorted = rf.feature_importances_.argsort()\n",
    "\n",
    "## Exibição\n",
    "# sns.barplot(y=rf.feature_names_in_[feature_importance_sorted], x=rf.feature_importances_[feature_importance_sorted] );\n",
    "# df_feature_importance_rf = pd.DataFrame( {'feature'    :rf.feature_names_in_[feature_importance_sorted],\n",
    "#                                           'importance' :rf.feature_importances_[feature_importance_sorted] } )\n",
    "# df_feature_importance_rf.sort_values(by='importance', ascending=False)"
   ]
  },
  {
   "cell_type": "markdown",
   "id": "edfa5edf",
   "metadata": {},
   "source": [
    "## 6.3 Feature Importance (XGBoost)"
   ]
  },
  {
   "cell_type": "code",
   "execution_count": 57,
   "id": "742882b8",
   "metadata": {
    "ExecuteTime": {
     "end_time": "2023-03-26T17:01:02.700720Z",
     "start_time": "2023-03-26T17:01:02.688662Z"
    }
   },
   "outputs": [],
   "source": [
    "## Lista de features ordenadas por importância\n",
    "\n",
    "# xgbc = XGBClassifier(random_state=42, n_jobs=-1, n_estimators=500).fit(X_train, y_train)\n",
    "# feature_importance_sorted = xgbc.feature_importances_.argsort()\n",
    "\n",
    "## Exibição\n",
    "# sns.barplot(y=xgbc.feature_names_in_[feature_importance_sorted], x=xgbc.feature_importances_[feature_importance_sorted] );\n",
    "# df_feature_importance_xgbc = pd.DataFrame( {'feature':xgbc.feature_names_in_[feature_importance_sorted],\n",
    "#                                             'importance': xgbc.feature_importances_[feature_importance_sorted] } )\n",
    "# df_feature_importance_xgbc.sort_values(by='importance', ascending=False)"
   ]
  },
  {
   "cell_type": "markdown",
   "id": "e1a73781",
   "metadata": {},
   "source": [
    "# 7.0 Machine Learning Models"
   ]
  },
  {
   "cell_type": "code",
   "execution_count": 58,
   "id": "6a92a6df",
   "metadata": {
    "ExecuteTime": {
     "end_time": "2023-03-26T17:01:02.762965Z",
     "start_time": "2023-03-26T17:01:02.704717Z"
    }
   },
   "outputs": [],
   "source": [
    "#cols_importants = ['id', 'classificação_do_hotel', 'meses_da_reserva_até_o_check_in',\n",
    "#                    'nacionalidade', 'reserva_com_observações', 'reserva_cancelada']\n",
    "#train = df6[cols_importants]\n",
    "\n",
    "train = df6.copy()\n",
    "X_train = train.drop(columns='reserva_cancelada')\n",
    "y_train = train['reserva_cancelada']\n",
    "\n",
    "X_train, X_val, y_train, y_val = ms.train_test_split(X_train, y_train, test_size=0.1, random_state=42)"
   ]
  },
  {
   "cell_type": "code",
   "execution_count": 59,
   "id": "f8b3ecfe",
   "metadata": {
    "ExecuteTime": {
     "end_time": "2023-03-26T17:01:02.794314Z",
     "start_time": "2023-03-26T17:01:02.768628Z"
    }
   },
   "outputs": [
    {
     "data": {
      "text/plain": [
       "(id                                      float64\n",
       " classificação_do_hotel                    int32\n",
       " meses_da_reserva_até_o_check_in         float64\n",
       " número_de_pernoites_reservadas          float64\n",
       " número_de_hospedes                        int32\n",
       " regime_de_alimentação                     int64\n",
       " nacionalidade                             int64\n",
       " forma_de_reserva                          int32\n",
       " já_se_hospedou_anterioremente             int32\n",
       " tipo_do_quarto_reservado                  int64\n",
       " reserva_feita_por_agência_de_turismo      int32\n",
       " reserva_feita_por_empresa                 int32\n",
       " reserva_com_estacionamento                int32\n",
       " reserva_com_observações                   int64\n",
       " client_class                              int64\n",
       " dtype: object,\n",
       " id                                      float64\n",
       " classificação_do_hotel                    int32\n",
       " meses_da_reserva_até_o_check_in         float64\n",
       " número_de_pernoites_reservadas          float64\n",
       " número_de_hospedes                        int32\n",
       " regime_de_alimentação                     int64\n",
       " nacionalidade                             int64\n",
       " forma_de_reserva                          int32\n",
       " já_se_hospedou_anterioremente             int32\n",
       " tipo_do_quarto_reservado                  int64\n",
       " reserva_feita_por_agência_de_turismo      int32\n",
       " reserva_feita_por_empresa                 int32\n",
       " reserva_com_estacionamento                int32\n",
       " reserva_com_observações                   int64\n",
       " client_class                              int64\n",
       " dtype: object)"
      ]
     },
     "execution_count": 59,
     "metadata": {},
     "output_type": "execute_result"
    }
   ],
   "source": [
    "X_train.dtypes, X_val.dtypes"
   ]
  },
  {
   "cell_type": "code",
   "execution_count": 60,
   "id": "143fda36",
   "metadata": {
    "ExecuteTime": {
     "end_time": "2023-03-26T17:01:02.810070Z",
     "start_time": "2023-03-26T17:01:02.797808Z"
    }
   },
   "outputs": [],
   "source": [
    "# Dados de Treino + Validação\n",
    "\n",
    "#values = [i for i in range(1, 60)]\n",
    "#test_score = list()\n",
    "\n",
    "#for i in values:\n",
    "\n",
    "    ## Define\n",
    "#    dt_model = tree.DecisionTreeClassifier(max_depth=i)\n",
    "\n",
    "    ## Training\n",
    "#    dt_model.fit(X_train, y_train)\n",
    "\n",
    "    ## Classificação\n",
    "#    yhat_val = dt_model.predict(X_val)\n",
    "\n",
    "    ## Métrica sobre os dados de validação\n",
    "#    f1score_val = mt.f1_score(y_val, yhat_val)\n",
    "    #print('F1-Score over Validation: {}'.format(f1score_val))\n",
    "#    test_score.append(f1score_val)\n"
   ]
  },
  {
   "cell_type": "code",
   "execution_count": 61,
   "id": "c7707ecd",
   "metadata": {
    "ExecuteTime": {
     "end_time": "2023-03-26T17:01:02.825858Z",
     "start_time": "2023-03-26T17:01:02.813075Z"
    },
    "scrolled": false
   },
   "outputs": [],
   "source": [
    "#plt.plot(values, test_score, '-o', label='Test');"
   ]
  },
  {
   "cell_type": "code",
   "execution_count": 62,
   "id": "e1d0b6e4",
   "metadata": {
    "ExecuteTime": {
     "end_time": "2023-03-26T17:01:02.841048Z",
     "start_time": "2023-03-26T17:01:02.830015Z"
    }
   },
   "outputs": [],
   "source": [
    "## Define\n",
    "#dt_model = tree.DecisionTreeClassifier(max_depth=14)\n",
    "\n",
    "## Training\n",
    "#dt_model.fit(X_train, y_train)\n",
    "\n",
    "## Classificação\n",
    "#yhat_val = dt_model.predict(X_val)\n",
    "\n",
    "## Métrica sobre os dados de validação\n",
    "#f1score_val = mt.f1_score(y_val, yhat_val, average='macro')\n",
    "#print('F1-Score over Validation: {}'.format(f1score_val))"
   ]
  },
  {
   "cell_type": "code",
   "execution_count": 63,
   "id": "81a6b7d3",
   "metadata": {
    "ExecuteTime": {
     "end_time": "2023-03-26T17:01:02.856211Z",
     "start_time": "2023-03-26T17:01:02.844077Z"
    }
   },
   "outputs": [],
   "source": [
    "# Dados de Treino + Validação\n",
    "\n",
    "## Define\n",
    "#lr_model = LogisticRegression()\n",
    "\n",
    "## Training\n",
    "#lr_model.fit(X_train, y_train)\n",
    "\n",
    "## Classificação\n",
    "#yhat_val = lr_model.predict(X_val)\n",
    "\n",
    "## Métrica sobre os dados de validação\n",
    "# f1score_val = mt.f1_score(y_val, yhat_val, average='macro')\n",
    "#f1score_val = mt.f1_score(y_val, yhat_val)\n",
    "#print('F1-Score over Validation: {}'.format(f1score_val))\n",
    "\n"
   ]
  },
  {
   "cell_type": "code",
   "execution_count": 64,
   "id": "79442ae4",
   "metadata": {
    "ExecuteTime": {
     "end_time": "2023-03-26T17:01:02.872308Z",
     "start_time": "2023-03-26T17:01:02.860212Z"
    }
   },
   "outputs": [],
   "source": [
    "# Dados de Treino + Validação\n",
    "\n",
    "## Define\n",
    "#model_svm = svm.SVC()\n",
    "\n",
    "## Training\n",
    "#model_svm.fit(X_train, y_train)\n",
    "\n",
    "## Classificação\n",
    "#yhat_val = model_svm.predict(X_val)\n",
    "\n",
    "## Métrica sobre os dados de validação\n",
    "#f1score_val = mt.f1_score(y_val, yhat_val)\n",
    "#print('F1-Score over Validation: {}'.format(f1score_val))\n",
    "\n",
    "# Resultado sem macro\n",
    "#F1-Score over Validation: 0.8504432370603374\n"
   ]
  },
  {
   "cell_type": "code",
   "execution_count": 65,
   "id": "7eb8031c",
   "metadata": {
    "ExecuteTime": {
     "end_time": "2023-03-26T17:01:02.888114Z",
     "start_time": "2023-03-26T17:01:02.876799Z"
    }
   },
   "outputs": [],
   "source": [
    "#f1score_val = mt.f1_score(y_val, yhat_val, average='macro')\n",
    "#print('F1-Score over Validation: {}'.format(f1score_val))\n",
    "\n",
    "# Resultado com macro\n",
    "#F1-Score over Validation: 0.8825230935206438"
   ]
  },
  {
   "cell_type": "code",
   "execution_count": 66,
   "id": "625e2309",
   "metadata": {
    "ExecuteTime": {
     "end_time": "2023-03-26T17:01:02.903354Z",
     "start_time": "2023-03-26T17:01:02.893931Z"
    }
   },
   "outputs": [],
   "source": [
    "# Dados de Treino + Validação\n",
    "\n",
    "## Define\n",
    "#model_xgb = XGBClassifier(random_state=42, n_jobs=-1, n_estimators=500)\n",
    "#model_xgb = XGBClassifier(n_estimators=200) #0.9726429809358752\n",
    "#model_xgb = XGBClassifier(n_estimators=650) #0.9738586411533524\n",
    "\n",
    "## Training\n",
    "#model_xgb.fit(X_train, y_train)\n",
    "\n",
    "## Classificação\n",
    "#yhat_val = model_xgb.predict(X_val)\n"
   ]
  },
  {
   "cell_type": "code",
   "execution_count": 67,
   "id": "f038a61d",
   "metadata": {
    "ExecuteTime": {
     "end_time": "2023-03-26T17:01:02.919397Z",
     "start_time": "2023-03-26T17:01:02.905875Z"
    }
   },
   "outputs": [],
   "source": [
    "## Métrica sobre os dados de validação\n",
    "#f1score_val = mt.f1_score(y_val, yhat_val, average='macro')\n",
    "#print('F1-Score over validation: {}'.format(f1score_val))\n",
    "\n",
    "#F1-Score over validation: 0.9706334958847082\n",
    "\n",
    "# splitando 0.1\n",
    "#F1-Score over validation: 0.9731097027505708\n"
   ]
  },
  {
   "cell_type": "code",
   "execution_count": 68,
   "id": "b41cd3f4",
   "metadata": {
    "ExecuteTime": {
     "end_time": "2023-03-26T17:01:02.935070Z",
     "start_time": "2023-03-26T17:01:02.921392Z"
    }
   },
   "outputs": [],
   "source": [
    "#values = [i for i in range(100, 1000, 50)]\n",
    "#test_score = list()\n",
    "\n",
    "#for i in values:\n",
    "\n",
    "    ## Define\n",
    "#    model_xgb = XGBClassifier(n_estimators=i)\n",
    "\n",
    "    ## Training\n",
    "#    model_xgb.fit(X_train, y_train)\n",
    "\n",
    "    ## Classificação\n",
    "#    yhat_val = model_xgb.predict(X_val)\n",
    "\n",
    "    ## Métrica sobre os dados de validação\n",
    "#    f1score_val = mt.f1_score(y_val, yhat_val, average='macro')\n",
    "    #print('F1-Score over Validation: {}'.format(f1score_val))\n",
    "#    test_score.append(f1score_val)"
   ]
  },
  {
   "cell_type": "code",
   "execution_count": 69,
   "id": "dd7a06e7",
   "metadata": {
    "ExecuteTime": {
     "end_time": "2023-03-26T17:01:02.950444Z",
     "start_time": "2023-03-26T17:01:02.938277Z"
    }
   },
   "outputs": [],
   "source": [
    "#plt.plot(values, test_score, '-o', label='Test');"
   ]
  },
  {
   "cell_type": "code",
   "execution_count": 70,
   "id": "ac0c18aa",
   "metadata": {
    "ExecuteTime": {
     "end_time": "2023-03-26T17:01:13.625983Z",
     "start_time": "2023-03-26T17:01:02.954472Z"
    }
   },
   "outputs": [],
   "source": [
    "# Dados de Treino + Validação\n",
    "\n",
    "## Define\n",
    "#model_rf = RandomForestClassifier() #0.9716405467834264\n",
    "#model_rf = RandomForestClassifier(n_estimators=650) # 0.9726931619378634\n",
    "#model_rf = RandomForestClassifier(max_depth=20,\n",
    "#                                  min_impurity_decrease=0.0,\n",
    "#                                  min_samples_split=2,\n",
    "#                                  n_estimators=1200) # 0.9728454505969373\n",
    "model_rf = RandomForestClassifier(n_estimators= 400, min_samples_split= 2, \n",
    "                               min_samples_leaf= 2, max_features= 10, \n",
    "                               max_depth= 20, criterion= 'gini',  \n",
    "                               bootstrap = True, n_jobs=-1, \n",
    "                               random_state=42) # 0.9736885394399479\n",
    "## Training\n",
    "model_rf.fit(X_train, y_train)\n",
    "\n",
    "## Classificação\n",
    "yhat_val = model_rf.predict(X_val)\n"
   ]
  },
  {
   "cell_type": "code",
   "execution_count": 71,
   "id": "2c796df6",
   "metadata": {
    "ExecuteTime": {
     "end_time": "2023-03-26T17:01:13.657087Z",
     "start_time": "2023-03-26T17:01:13.631026Z"
    }
   },
   "outputs": [
    {
     "name": "stdout",
     "output_type": "stream",
     "text": [
      "F1-Score over validation: 0.97339231209161\n"
     ]
    }
   ],
   "source": [
    "## Métrica sobre os dados de validação\n",
    "f1score_val = mt.f1_score(y_val, yhat_val, average='macro')\n",
    "print('F1-Score over validation: {}'.format(f1score_val))\n"
   ]
  },
  {
   "cell_type": "markdown",
   "id": "8ec5d2d9",
   "metadata": {},
   "source": [
    "## 7.1 Models and Cross-Validation"
   ]
  },
  {
   "cell_type": "code",
   "execution_count": null,
   "id": "11923ba6",
   "metadata": {},
   "outputs": [],
   "source": []
  },
  {
   "cell_type": "markdown",
   "id": "20b912fa",
   "metadata": {},
   "source": [
    "## 7.2 Model to Submission"
   ]
  },
  {
   "cell_type": "code",
   "execution_count": 72,
   "id": "eb44502c",
   "metadata": {
    "ExecuteTime": {
     "end_time": "2023-03-26T17:01:13.906048Z",
     "start_time": "2023-03-26T17:01:13.661100Z"
    }
   },
   "outputs": [],
   "source": [
    "## Label Encoding\n",
    "\n",
    "test['já_se_hospedou_anterioremente']         = le.fit_transform(test['já_se_hospedou_anterioremente'])\n",
    "test['reserva_feita_por_agência_de_turismo']  = le.fit_transform(test['reserva_feita_por_agência_de_turismo'])\n",
    "test['reserva_feita_por_empresa']             = le.fit_transform(test['reserva_feita_por_empresa'])\n",
    "test['reserva_com_estacionamento']            = le.fit_transform(test['reserva_com_estacionamento'])\n",
    "test['forma_de_reserva']                      = le.fit_transform(test['forma_de_reserva'])\n",
    "test['classificação_do_hotel']                = le.fit_transform(test['classificação_do_hotel'])\n",
    "\n",
    "## Ordinal Encoding (dar peso)\n",
    "\n",
    "## regime_de_alimentação\n",
    "regime_alim_dict = {'Sem refeicao'                   : 3,\n",
    "                    'Café da manha'                  : 2,\n",
    "                    'Café da manha e jantar'         : 1,\n",
    "                    'Café da manha, almoco e jantar' : 0}\n",
    "test['regime_de_alimentação'] = test['regime_de_alimentação'].map(regime_alim_dict)\n",
    "\n",
    "## tipo_do_quarto_reservado\n",
    "tp_quarto_dict = {\n",
    "'Moonstone'     :1,\n",
    "'Peridot'       :2,\n",
    "'Topaz'         :3,\n",
    "'Garnet'        :4,\n",
    "'Tanzanite'     :5, \n",
    "'Amethyst'      :6,\n",
    "'Green Emerald' :7,\n",
    "'Pink Sapphire' :8,\n",
    "'Blue Sapphire' :9,   \n",
    "'Red Ruby'      :10 \n",
    "}\n",
    "test['tipo_do_quarto_reservado'] = test['tipo_do_quarto_reservado'].map(tp_quarto_dict)\n",
    "\n",
    "## reserva_com_observações\n",
    "reserv_obs_dict = {'Nenhuma':2, '1 a 3':1, 'Mais de 3':0}\n",
    "test['reserva_com_observações'] = test['reserva_com_observações'].map(reserv_obs_dict)\n",
    "\n",
    "\n",
    "## Category Encoders\n",
    "\n",
    "count = CountEncoder(cols=['nacionalidade'], return_df=True) \n",
    "test['nacionalidade'] = count.fit_transform(test['nacionalidade'])\n",
    "\n",
    "\n",
    "\n",
    "## Limpezas dos NA's\n",
    "test = test.fillna(0)\n",
    "\n",
    "\n",
    "## Alteração da variável alvo\n",
    "test['número_de_hospedes'] = test['número_de_hospedes'].astype(int)\n",
    "test['regime_de_alimentação'] = test['regime_de_alimentação'].astype(int)\n",
    "test['tipo_do_quarto_reservado'] = test['tipo_do_quarto_reservado'].astype(int)\n",
    "test['reserva_com_observações'] = test['reserva_com_observações'].astype(int)"
   ]
  },
  {
   "cell_type": "code",
   "execution_count": 73,
   "id": "559125e0",
   "metadata": {
    "ExecuteTime": {
     "end_time": "2023-03-26T17:01:13.921448Z",
     "start_time": "2023-03-26T17:01:13.909511Z"
    }
   },
   "outputs": [
    {
     "data": {
      "text/plain": [
       "id                                      int64\n",
       "classificação_do_hotel                  int32\n",
       "meses_da_reserva_até_o_check_in         int64\n",
       "número_de_pernoites_reservadas          int64\n",
       "número_de_hospedes                      int32\n",
       "regime_de_alimentação                   int32\n",
       "nacionalidade                           int64\n",
       "forma_de_reserva                        int32\n",
       "já_se_hospedou_anterioremente           int32\n",
       "tipo_do_quarto_reservado                int32\n",
       "reserva_feita_por_agência_de_turismo    int32\n",
       "reserva_feita_por_empresa               int32\n",
       "reserva_com_estacionamento              int32\n",
       "reserva_com_observações                 int32\n",
       "dtype: object"
      ]
     },
     "execution_count": 73,
     "metadata": {},
     "output_type": "execute_result"
    }
   ],
   "source": [
    "test.dtypes"
   ]
  },
  {
   "cell_type": "code",
   "execution_count": 74,
   "id": "ceebf395",
   "metadata": {
    "ExecuteTime": {
     "end_time": "2023-03-26T17:01:13.936724Z",
     "start_time": "2023-03-26T17:01:13.924632Z"
    }
   },
   "outputs": [],
   "source": [
    "#predicao_lr = model.predict(test)\n",
    "\n",
    "#df_final_lr = pd.concat([test.id, pd.Series(predicao_lr, name = 'Reserva Cancelada')], axis=1)\n",
    "\n",
    "#df_final_lr.head()\n"
   ]
  },
  {
   "cell_type": "code",
   "execution_count": 75,
   "id": "d91a244e",
   "metadata": {
    "ExecuteTime": {
     "end_time": "2023-03-26T17:01:13.952335Z",
     "start_time": "2023-03-26T17:01:13.942692Z"
    }
   },
   "outputs": [],
   "source": [
    "#predicao_svm = model_svm.predict(test)\n",
    "\n",
    "#df_final_svm = pd.concat([test.id, pd.Series(predicao_svm, name = 'Reserva Cancelada')], axis=1)\n",
    "\n",
    "#df_final_svm.head()\n"
   ]
  },
  {
   "cell_type": "code",
   "execution_count": 76,
   "id": "510db36e",
   "metadata": {
    "ExecuteTime": {
     "end_time": "2023-03-26T17:01:13.967437Z",
     "start_time": "2023-03-26T17:01:13.957360Z"
    }
   },
   "outputs": [],
   "source": [
    "#predicao_dt = dt_model.predict(test)\n",
    "\n",
    "#df_final_dt = pd.concat([test.id, pd.Series(predicao_dt, name = 'Reserva Cancelada')], axis=1)\n",
    "\n",
    "#df_final_dt.head()\n"
   ]
  },
  {
   "cell_type": "code",
   "execution_count": 77,
   "id": "9331535c",
   "metadata": {
    "ExecuteTime": {
     "end_time": "2023-03-26T17:01:13.982650Z",
     "start_time": "2023-03-26T17:01:13.971448Z"
    }
   },
   "outputs": [],
   "source": [
    "#predicao_xgb = model_xgb.predict(test)\n",
    "\n",
    "#df_final_xgb = pd.concat([test.id, pd.Series(predicao_xgb, name = 'Reserva Cancelada')], axis=1)\n",
    "\n",
    "#df_final_xgb.head()\n"
   ]
  },
  {
   "cell_type": "code",
   "execution_count": 78,
   "id": "b906ae4d",
   "metadata": {
    "ExecuteTime": {
     "end_time": "2023-03-26T17:01:14.711691Z",
     "start_time": "2023-03-26T17:01:13.986661Z"
    }
   },
   "outputs": [
    {
     "name": "stderr",
     "output_type": "stream",
     "text": [
      "C:\\Users\\marci\\anaconda3\\lib\\site-packages\\sklearn\\base.py:493: FutureWarning: The feature names should match those that were passed during fit. Starting version 1.2, an error will be raised.\n",
      "Feature names seen at fit time, yet now missing:\n",
      "- client_class\n",
      "\n",
      "  warnings.warn(message, FutureWarning)\n"
     ]
    },
    {
     "ename": "ValueError",
     "evalue": "X has 14 features, but RandomForestClassifier is expecting 15 features as input.",
     "output_type": "error",
     "traceback": [
      "\u001b[1;31m---------------------------------------------------------------------------\u001b[0m",
      "\u001b[1;31mValueError\u001b[0m                                Traceback (most recent call last)",
      "\u001b[1;32m~\\AppData\\Local\\Temp\\ipykernel_7392\\3730981986.py\u001b[0m in \u001b[0;36m<module>\u001b[1;34m\u001b[0m\n\u001b[1;32m----> 1\u001b[1;33m \u001b[0mpredicao_rf\u001b[0m \u001b[1;33m=\u001b[0m \u001b[0mmodel_rf\u001b[0m\u001b[1;33m.\u001b[0m\u001b[0mpredict\u001b[0m\u001b[1;33m(\u001b[0m\u001b[0mtest\u001b[0m\u001b[1;33m)\u001b[0m\u001b[1;33m\u001b[0m\u001b[1;33m\u001b[0m\u001b[0m\n\u001b[0m\u001b[0;32m      2\u001b[0m \u001b[1;33m\u001b[0m\u001b[0m\n\u001b[0;32m      3\u001b[0m \u001b[0mdf_final_rf\u001b[0m \u001b[1;33m=\u001b[0m \u001b[0mpd\u001b[0m\u001b[1;33m.\u001b[0m\u001b[0mconcat\u001b[0m\u001b[1;33m(\u001b[0m\u001b[1;33m[\u001b[0m\u001b[0mtest\u001b[0m\u001b[1;33m.\u001b[0m\u001b[0mid\u001b[0m\u001b[1;33m,\u001b[0m \u001b[0mpd\u001b[0m\u001b[1;33m.\u001b[0m\u001b[0mSeries\u001b[0m\u001b[1;33m(\u001b[0m\u001b[0mpredicao_rf\u001b[0m\u001b[1;33m,\u001b[0m \u001b[0mname\u001b[0m \u001b[1;33m=\u001b[0m \u001b[1;34m'Reserva Cancelada'\u001b[0m\u001b[1;33m)\u001b[0m\u001b[1;33m]\u001b[0m\u001b[1;33m,\u001b[0m \u001b[0maxis\u001b[0m\u001b[1;33m=\u001b[0m\u001b[1;36m1\u001b[0m\u001b[1;33m)\u001b[0m\u001b[1;33m\u001b[0m\u001b[1;33m\u001b[0m\u001b[0m\n\u001b[0;32m      4\u001b[0m \u001b[1;33m\u001b[0m\u001b[0m\n\u001b[0;32m      5\u001b[0m \u001b[0mdf_final_rf\u001b[0m\u001b[1;33m.\u001b[0m\u001b[0mhead\u001b[0m\u001b[1;33m(\u001b[0m\u001b[1;33m)\u001b[0m\u001b[1;33m\u001b[0m\u001b[1;33m\u001b[0m\u001b[0m\n",
      "\u001b[1;32m~\\anaconda3\\lib\\site-packages\\sklearn\\ensemble\\_forest.py\u001b[0m in \u001b[0;36mpredict\u001b[1;34m(self, X)\u001b[0m\n\u001b[0;32m    806\u001b[0m             \u001b[0mThe\u001b[0m \u001b[0mpredicted\u001b[0m \u001b[0mclasses\u001b[0m\u001b[1;33m.\u001b[0m\u001b[1;33m\u001b[0m\u001b[1;33m\u001b[0m\u001b[0m\n\u001b[0;32m    807\u001b[0m         \"\"\"\n\u001b[1;32m--> 808\u001b[1;33m         \u001b[0mproba\u001b[0m \u001b[1;33m=\u001b[0m \u001b[0mself\u001b[0m\u001b[1;33m.\u001b[0m\u001b[0mpredict_proba\u001b[0m\u001b[1;33m(\u001b[0m\u001b[0mX\u001b[0m\u001b[1;33m)\u001b[0m\u001b[1;33m\u001b[0m\u001b[1;33m\u001b[0m\u001b[0m\n\u001b[0m\u001b[0;32m    809\u001b[0m \u001b[1;33m\u001b[0m\u001b[0m\n\u001b[0;32m    810\u001b[0m         \u001b[1;32mif\u001b[0m \u001b[0mself\u001b[0m\u001b[1;33m.\u001b[0m\u001b[0mn_outputs_\u001b[0m \u001b[1;33m==\u001b[0m \u001b[1;36m1\u001b[0m\u001b[1;33m:\u001b[0m\u001b[1;33m\u001b[0m\u001b[1;33m\u001b[0m\u001b[0m\n",
      "\u001b[1;32m~\\anaconda3\\lib\\site-packages\\sklearn\\ensemble\\_forest.py\u001b[0m in \u001b[0;36mpredict_proba\u001b[1;34m(self, X)\u001b[0m\n\u001b[0;32m    848\u001b[0m         \u001b[0mcheck_is_fitted\u001b[0m\u001b[1;33m(\u001b[0m\u001b[0mself\u001b[0m\u001b[1;33m)\u001b[0m\u001b[1;33m\u001b[0m\u001b[1;33m\u001b[0m\u001b[0m\n\u001b[0;32m    849\u001b[0m         \u001b[1;31m# Check data\u001b[0m\u001b[1;33m\u001b[0m\u001b[1;33m\u001b[0m\u001b[0m\n\u001b[1;32m--> 850\u001b[1;33m         \u001b[0mX\u001b[0m \u001b[1;33m=\u001b[0m \u001b[0mself\u001b[0m\u001b[1;33m.\u001b[0m\u001b[0m_validate_X_predict\u001b[0m\u001b[1;33m(\u001b[0m\u001b[0mX\u001b[0m\u001b[1;33m)\u001b[0m\u001b[1;33m\u001b[0m\u001b[1;33m\u001b[0m\u001b[0m\n\u001b[0m\u001b[0;32m    851\u001b[0m \u001b[1;33m\u001b[0m\u001b[0m\n\u001b[0;32m    852\u001b[0m         \u001b[1;31m# Assign chunk of trees to jobs\u001b[0m\u001b[1;33m\u001b[0m\u001b[1;33m\u001b[0m\u001b[0m\n",
      "\u001b[1;32m~\\anaconda3\\lib\\site-packages\\sklearn\\ensemble\\_forest.py\u001b[0m in \u001b[0;36m_validate_X_predict\u001b[1;34m(self, X)\u001b[0m\n\u001b[0;32m    577\u001b[0m         Validate X whenever one tries to predict, apply, predict_proba.\"\"\"\n\u001b[0;32m    578\u001b[0m         \u001b[0mcheck_is_fitted\u001b[0m\u001b[1;33m(\u001b[0m\u001b[0mself\u001b[0m\u001b[1;33m)\u001b[0m\u001b[1;33m\u001b[0m\u001b[1;33m\u001b[0m\u001b[0m\n\u001b[1;32m--> 579\u001b[1;33m         \u001b[0mX\u001b[0m \u001b[1;33m=\u001b[0m \u001b[0mself\u001b[0m\u001b[1;33m.\u001b[0m\u001b[0m_validate_data\u001b[0m\u001b[1;33m(\u001b[0m\u001b[0mX\u001b[0m\u001b[1;33m,\u001b[0m \u001b[0mdtype\u001b[0m\u001b[1;33m=\u001b[0m\u001b[0mDTYPE\u001b[0m\u001b[1;33m,\u001b[0m \u001b[0maccept_sparse\u001b[0m\u001b[1;33m=\u001b[0m\u001b[1;34m\"csr\"\u001b[0m\u001b[1;33m,\u001b[0m \u001b[0mreset\u001b[0m\u001b[1;33m=\u001b[0m\u001b[1;32mFalse\u001b[0m\u001b[1;33m)\u001b[0m\u001b[1;33m\u001b[0m\u001b[1;33m\u001b[0m\u001b[0m\n\u001b[0m\u001b[0;32m    580\u001b[0m         \u001b[1;32mif\u001b[0m \u001b[0missparse\u001b[0m\u001b[1;33m(\u001b[0m\u001b[0mX\u001b[0m\u001b[1;33m)\u001b[0m \u001b[1;32mand\u001b[0m \u001b[1;33m(\u001b[0m\u001b[0mX\u001b[0m\u001b[1;33m.\u001b[0m\u001b[0mindices\u001b[0m\u001b[1;33m.\u001b[0m\u001b[0mdtype\u001b[0m \u001b[1;33m!=\u001b[0m \u001b[0mnp\u001b[0m\u001b[1;33m.\u001b[0m\u001b[0mintc\u001b[0m \u001b[1;32mor\u001b[0m \u001b[0mX\u001b[0m\u001b[1;33m.\u001b[0m\u001b[0mindptr\u001b[0m\u001b[1;33m.\u001b[0m\u001b[0mdtype\u001b[0m \u001b[1;33m!=\u001b[0m \u001b[0mnp\u001b[0m\u001b[1;33m.\u001b[0m\u001b[0mintc\u001b[0m\u001b[1;33m)\u001b[0m\u001b[1;33m:\u001b[0m\u001b[1;33m\u001b[0m\u001b[1;33m\u001b[0m\u001b[0m\n\u001b[0;32m    581\u001b[0m             \u001b[1;32mraise\u001b[0m \u001b[0mValueError\u001b[0m\u001b[1;33m(\u001b[0m\u001b[1;34m\"No support for np.int64 index based sparse matrices\"\u001b[0m\u001b[1;33m)\u001b[0m\u001b[1;33m\u001b[0m\u001b[1;33m\u001b[0m\u001b[0m\n",
      "\u001b[1;32m~\\anaconda3\\lib\\site-packages\\sklearn\\base.py\u001b[0m in \u001b[0;36m_validate_data\u001b[1;34m(self, X, y, reset, validate_separately, **check_params)\u001b[0m\n\u001b[0;32m    583\u001b[0m \u001b[1;33m\u001b[0m\u001b[0m\n\u001b[0;32m    584\u001b[0m         \u001b[1;32mif\u001b[0m \u001b[1;32mnot\u001b[0m \u001b[0mno_val_X\u001b[0m \u001b[1;32mand\u001b[0m \u001b[0mcheck_params\u001b[0m\u001b[1;33m.\u001b[0m\u001b[0mget\u001b[0m\u001b[1;33m(\u001b[0m\u001b[1;34m\"ensure_2d\"\u001b[0m\u001b[1;33m,\u001b[0m \u001b[1;32mTrue\u001b[0m\u001b[1;33m)\u001b[0m\u001b[1;33m:\u001b[0m\u001b[1;33m\u001b[0m\u001b[1;33m\u001b[0m\u001b[0m\n\u001b[1;32m--> 585\u001b[1;33m             \u001b[0mself\u001b[0m\u001b[1;33m.\u001b[0m\u001b[0m_check_n_features\u001b[0m\u001b[1;33m(\u001b[0m\u001b[0mX\u001b[0m\u001b[1;33m,\u001b[0m \u001b[0mreset\u001b[0m\u001b[1;33m=\u001b[0m\u001b[0mreset\u001b[0m\u001b[1;33m)\u001b[0m\u001b[1;33m\u001b[0m\u001b[1;33m\u001b[0m\u001b[0m\n\u001b[0m\u001b[0;32m    586\u001b[0m \u001b[1;33m\u001b[0m\u001b[0m\n\u001b[0;32m    587\u001b[0m         \u001b[1;32mreturn\u001b[0m \u001b[0mout\u001b[0m\u001b[1;33m\u001b[0m\u001b[1;33m\u001b[0m\u001b[0m\n",
      "\u001b[1;32m~\\anaconda3\\lib\\site-packages\\sklearn\\base.py\u001b[0m in \u001b[0;36m_check_n_features\u001b[1;34m(self, X, reset)\u001b[0m\n\u001b[0;32m    398\u001b[0m \u001b[1;33m\u001b[0m\u001b[0m\n\u001b[0;32m    399\u001b[0m         \u001b[1;32mif\u001b[0m \u001b[0mn_features\u001b[0m \u001b[1;33m!=\u001b[0m \u001b[0mself\u001b[0m\u001b[1;33m.\u001b[0m\u001b[0mn_features_in_\u001b[0m\u001b[1;33m:\u001b[0m\u001b[1;33m\u001b[0m\u001b[1;33m\u001b[0m\u001b[0m\n\u001b[1;32m--> 400\u001b[1;33m             raise ValueError(\n\u001b[0m\u001b[0;32m    401\u001b[0m                 \u001b[1;34mf\"X has {n_features} features, but {self.__class__.__name__} \"\u001b[0m\u001b[1;33m\u001b[0m\u001b[1;33m\u001b[0m\u001b[0m\n\u001b[0;32m    402\u001b[0m                 \u001b[1;34mf\"is expecting {self.n_features_in_} features as input.\"\u001b[0m\u001b[1;33m\u001b[0m\u001b[1;33m\u001b[0m\u001b[0m\n",
      "\u001b[1;31mValueError\u001b[0m: X has 14 features, but RandomForestClassifier is expecting 15 features as input."
     ]
    }
   ],
   "source": [
    "predicao_rf = model_rf.predict(test)\n",
    "\n",
    "df_final_rf = pd.concat([test.id, pd.Series(predicao_rf, name = 'Reserva Cancelada')], axis=1)\n",
    "\n",
    "df_final_rf.head()\n"
   ]
  },
  {
   "cell_type": "code",
   "execution_count": null,
   "id": "63bddd60",
   "metadata": {
    "ExecuteTime": {
     "end_time": "2023-03-26T17:01:14.714691Z",
     "start_time": "2023-03-26T17:01:14.714691Z"
    }
   },
   "outputs": [],
   "source": [
    "df_final_rf.dtypes"
   ]
  },
  {
   "cell_type": "code",
   "execution_count": null,
   "id": "66117cdf",
   "metadata": {
    "ExecuteTime": {
     "end_time": "2023-03-26T17:01:14.720429Z",
     "start_time": "2023-03-26T17:01:14.720429Z"
    }
   },
   "outputs": [],
   "source": [
    "df_final_rf.to_csv('../data/result/submission.csv', index=False) #Arquivo de submissão pronto para ser enviado."
   ]
  },
  {
   "cell_type": "markdown",
   "id": "2f63e502",
   "metadata": {},
   "source": [
    "# 8.0 Hyperparameter Fine Tunning"
   ]
  },
  {
   "cell_type": "markdown",
   "id": "ed5b6f39",
   "metadata": {},
   "source": [
    "## 8.1 Model 1 (RandomForest)"
   ]
  },
  {
   "cell_type": "code",
   "execution_count": null,
   "id": "3097205e",
   "metadata": {
    "ExecuteTime": {
     "end_time": "2023-03-26T17:01:14.724433Z",
     "start_time": "2023-03-26T17:01:14.724433Z"
    }
   },
   "outputs": [],
   "source": [
    "## Definição dos parâmetros utilizados pelo algoritmo\n",
    "\n",
    "#parameters = {\n",
    "#     'n_estimators': [800,1200,2000],\n",
    "#     'max_depth': [5,20,40,80,None],\n",
    "#     'min_samples_split': [2,10,20,40],\n",
    "#     'min_impurity_decrease': [0,.05,0.1]\n",
    "#}\n",
    "\n",
    "\n",
    "## Definição do método\n",
    "\n",
    "#skf = StratifiedKFold(n_splits = 10)\n",
    "#rf_search =  BayesSearchCV(estimator = RandomForestClassifier(max_features = 'sqrt'),\n",
    "#                            search_spaces = parameters,\n",
    "#                            n_jobs = -1,\n",
    "#                            cv = skf,\n",
    "#                            scoring = 'f1_weighted',\n",
    "#                            random_state = 42)\n",
    "\n",
    "#rf_search_result = rf_search.fit(X_train, y_train)"
   ]
  },
  {
   "cell_type": "code",
   "execution_count": null,
   "id": "da66544c",
   "metadata": {
    "ExecuteTime": {
     "end_time": "2023-03-26T17:01:14.725949Z",
     "start_time": "2023-03-26T17:01:14.725949Z"
    }
   },
   "outputs": [],
   "source": [
    "#rf_search_result.best_params_\n",
    "\n",
    "#OrderedDict([('max_depth', 20),\n",
    "#             ('min_impurity_decrease', 0.0),\n",
    "#             ('min_samples_split', 2),\n",
    "#             ('n_estimators', 1200)]"
   ]
  },
  {
   "cell_type": "markdown",
   "id": "be0e44e2",
   "metadata": {},
   "source": [
    "## 8.1 Model 2 (XGBoost)"
   ]
  },
  {
   "cell_type": "code",
   "execution_count": null,
   "id": "ba046dac",
   "metadata": {
    "ExecuteTime": {
     "end_time": "2023-03-26T17:01:14.729084Z",
     "start_time": "2023-03-26T17:01:14.729084Z"
    }
   },
   "outputs": [],
   "source": [
    "## Definição dos parâmetros utilizados pelo algoritmo\n",
    "\n",
    "#parameters = {\n",
    "#     'n_estimators': [500,800,1200,1600,2200,3000],\n",
    "#     'learning_rate': [0.05,0.1,0.15],\n",
    "#     'max_depth': [10,20,40,80,None],\n",
    "#     'min_samples_split': [2,10,20,40,100],\n",
    "#     'min_impurity_decrease': [0,.05,.1],\n",
    "#     'colsample_bytree': [0.3,0.5,0.8],\n",
    "#     'subsample': [0.1,0.4,0.7]\n",
    "#}\n",
    "\n",
    "\n",
    "#skf = StratifiedKFold(n_splits=10)\n",
    "#xgb_search =  BayesSearchCV(estimator = XGBClassifier(),\n",
    "#                            search_spaces = parameters,\n",
    "#                            n_jobs = -1,\n",
    "#                            cv = skf,\n",
    "#                            scoring = 'f1_weighted',\n",
    "#                            random_state = 42)\n",
    "\n",
    "#xgb_search_result = xgb_search.fit(X_train, y_train)"
   ]
  },
  {
   "cell_type": "code",
   "execution_count": null,
   "id": "cf353b35",
   "metadata": {
    "ExecuteTime": {
     "end_time": "2023-03-26T17:01:14.731084Z",
     "start_time": "2023-03-26T17:01:14.731084Z"
    }
   },
   "outputs": [],
   "source": [
    "#model = XGBClassifier()\n",
    "#n_estimators = range(50, 400, 50)\n",
    "#param_grid = dict(n_estimators=n_estimators)\n",
    "#kfold = StratifiedKFold(n_splits=3, shuffle=True, random_state=7)\n",
    "#grid_search = GridSearchCV(model, param_grid, scoring=\"neg_log_loss\", n_jobs=-1, cv=kfold)\n",
    "#grid_result = grid_search.fit(X_train, y_train)"
   ]
  },
  {
   "cell_type": "code",
   "execution_count": null,
   "id": "8e91fe05",
   "metadata": {
    "ExecuteTime": {
     "end_time": "2023-03-26T17:01:14.735083Z",
     "start_time": "2023-03-26T17:01:14.735083Z"
    }
   },
   "outputs": [],
   "source": [
    "#grid_result"
   ]
  }
 ],
 "metadata": {
  "kernelspec": {
   "display_name": "Python 3 (ipykernel)",
   "language": "python",
   "name": "python3"
  },
  "language_info": {
   "codemirror_mode": {
    "name": "ipython",
    "version": 3
   },
   "file_extension": ".py",
   "mimetype": "text/x-python",
   "name": "python",
   "nbconvert_exporter": "python",
   "pygments_lexer": "ipython3",
   "version": "3.9.13"
  },
  "toc": {
   "base_numbering": 1,
   "nav_menu": {},
   "number_sections": false,
   "sideBar": true,
   "skip_h1_title": false,
   "title_cell": "Table of Contents",
   "title_sidebar": "Contents",
   "toc_cell": false,
   "toc_position": {
    "height": "calc(100% - 180px)",
    "left": "10px",
    "top": "150px",
    "width": "306px"
   },
   "toc_section_display": true,
   "toc_window_display": false
  },
  "vscode": {
   "interpreter": {
    "hash": "7ea365085f3807110e1cdcb04122fb278047fe100a09bc2730588139759355b3"
   }
  }
 },
 "nbformat": 4,
 "nbformat_minor": 5
}
