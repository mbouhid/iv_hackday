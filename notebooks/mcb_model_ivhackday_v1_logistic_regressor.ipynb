{
 "cells": [
  {
   "cell_type": "markdown",
   "id": "414269b6",
   "metadata": {},
   "source": [
    "# Projet Name\n",
    "* Description"
   ]
  },
  {
   "cell_type": "markdown",
   "id": "f299e24b",
   "metadata": {},
   "source": [
    "# 0.0 Imports"
   ]
  },
  {
   "cell_type": "markdown",
   "id": "5e3bf30c",
   "metadata": {},
   "source": [
    "## 0.0 Libs"
   ]
  },
  {
   "cell_type": "code",
   "execution_count": 1,
   "id": "163d310e",
   "metadata": {
    "ExecuteTime": {
     "end_time": "2023-03-25T22:45:53.283432Z",
     "start_time": "2023-03-25T22:45:51.519022Z"
    }
   },
   "outputs": [],
   "source": [
    "# Importação das bibliotecas\n",
    "\n",
    "import numpy as np\n",
    "import pandas as pd\n",
    "import inflection\n",
    "\n",
    "import seaborn as sns\n",
    "# from matplotlib import pyplot as plt\n",
    "\n",
    "\n",
    "# Pré-processamento\n",
    "from sklearn.preprocessing  import RobustScaler, MinMaxScaler, LabelEncoder, OneHotEncoder, OrdinalEncoder\n",
    "from category_encoders.count import CountEncoder\n",
    "\n",
    "from sklearn import metrics           as mt\n",
    "from sklearn import model_selection   as ms\n",
    "\n",
    "####### Algoritmos para Classificação e Regressão\n",
    "# from sklearn.neighbors      import KNeighborsClassifier\n",
    "# from sklearn.ensemble       import RandomForestClassifier\n",
    "# from xgboost                import XGBClassifier\n",
    "\n",
    "# from sklearn.ensemble       import RandomForestRegressor\n",
    "\n",
    "# from sklearn                import linear_model as lm\n",
    "# from sklearn.linear_model   import LogisticRegression, LinearRegression, Lasso\n",
    "\n",
    "from sklearn.linear_model   import LogisticRegression\n",
    "\n",
    "\n",
    "####### Algoritmos só para Classificação\n",
    "# from sklearn.naive_bayes  import MultinomialNB\n",
    "# from sklearn.naive_bayes  import CategoricalNB\n",
    "# from mixed_naive_bayes    import MixedNB\n",
    "\n",
    "\n",
    "# --\n",
    "# Lib para não mostrar warnings de melhorias futuras (sugestão de novos comandos) das bibliotecas\n",
    "# import warnings\n",
    "# warnings.filterwarnings('ignore')\n",
    "\n",
    "# from boruta                 import BorutaPy\n",
    "\n",
    "# from IPython.display        import Image"
   ]
  },
  {
   "cell_type": "markdown",
   "id": "78850f81",
   "metadata": {},
   "source": [
    "## 0.1 Help Functions"
   ]
  },
  {
   "cell_type": "code",
   "execution_count": 2,
   "id": "f3ef0afb",
   "metadata": {
    "ExecuteTime": {
     "end_time": "2023-03-25T22:45:53.310611Z",
     "start_time": "2023-03-25T22:45:53.285325Z"
    }
   },
   "outputs": [],
   "source": [
    "# Funções criadas para evitar retrabalho\n",
    "\n",
    "\n",
    "def data_description(df):\n",
    "    print('Variables:\\n\\n{}'.format(df.dtypes), end='\\n\\n')\n",
    "    print('===============================')\n",
    "    print('Number of rows {}'.format(df.shape[0]), end='\\n\\n')\n",
    "    print('Number of columns {}'.format(df.shape[1]), end='\\n\\n')\n",
    "    print('===============================')\n",
    "    print('NA analysis'.format(end='\\n') )\n",
    "    for i in df.columns:\n",
    "        print('column {}: {} {}'.format(i,df[i].isna().any(), df[i].isna().sum() ) )\n",
    "    print('===============================')\n",
    "    print('Unique values for each columns'.format(end='\\n') )\n",
    "    for i in df.columns:\n",
    "        print('column {}: {}'.format(i,df[i].unique() ) )\n",
    "\n",
    "\n",
    "\n",
    "\n"
   ]
  },
  {
   "cell_type": "markdown",
   "id": "8612300e",
   "metadata": {},
   "source": [
    "## 0.2 Load Data"
   ]
  },
  {
   "cell_type": "code",
   "execution_count": 3,
   "id": "d4e6cb05",
   "metadata": {
    "ExecuteTime": {
     "end_time": "2023-03-25T22:45:53.527060Z",
     "start_time": "2023-03-25T22:45:53.314196Z"
    }
   },
   "outputs": [],
   "source": [
    "# Coleta de dados do diretório /data, do banco de dados, ou outro lugar especificado abaixo\n",
    "\n",
    "train = pd.read_csv('../data/train.csv')\n",
    "\n",
    "test = pd.read_csv('../data/test.csv')\n"
   ]
  },
  {
   "cell_type": "code",
   "execution_count": 4,
   "id": "04365989",
   "metadata": {
    "ExecuteTime": {
     "end_time": "2023-03-25T22:45:53.543056Z",
     "start_time": "2023-03-25T22:45:53.529003Z"
    }
   },
   "outputs": [
    {
     "data": {
      "text/plain": [
       "((72159, 15), (48106, 14))"
      ]
     },
     "execution_count": 4,
     "metadata": {},
     "output_type": "execute_result"
    }
   ],
   "source": [
    "train.shape, test.shape"
   ]
  },
  {
   "cell_type": "code",
   "execution_count": 5,
   "id": "2c450659",
   "metadata": {
    "ExecuteTime": {
     "end_time": "2023-03-25T22:45:53.573776Z",
     "start_time": "2023-03-25T22:45:53.547490Z"
    }
   },
   "outputs": [
    {
     "data": {
      "text/html": [
       "<div>\n",
       "<style scoped>\n",
       "    .dataframe tbody tr th:only-of-type {\n",
       "        vertical-align: middle;\n",
       "    }\n",
       "\n",
       "    .dataframe tbody tr th {\n",
       "        vertical-align: top;\n",
       "    }\n",
       "\n",
       "    .dataframe thead th {\n",
       "        text-align: right;\n",
       "    }\n",
       "</style>\n",
       "<table border=\"1\" class=\"dataframe\">\n",
       "  <thead>\n",
       "    <tr style=\"text-align: right;\">\n",
       "      <th></th>\n",
       "      <th>53041</th>\n",
       "      <th>30657</th>\n",
       "      <th>21562</th>\n",
       "      <th>44628</th>\n",
       "      <th>44545</th>\n",
       "    </tr>\n",
       "  </thead>\n",
       "  <tbody>\n",
       "    <tr>\n",
       "      <th>id</th>\n",
       "      <td>99364</td>\n",
       "      <td>61548</td>\n",
       "      <td>113191</td>\n",
       "      <td>51497</td>\n",
       "      <td>63861</td>\n",
       "    </tr>\n",
       "    <tr>\n",
       "      <th>Classificação do hotel</th>\n",
       "      <td>4 estrelas</td>\n",
       "      <td>4 estrelas</td>\n",
       "      <td>4 estrelas</td>\n",
       "      <td>4 estrelas</td>\n",
       "      <td>4 estrelas</td>\n",
       "    </tr>\n",
       "    <tr>\n",
       "      <th>Meses da reserva até o check-in</th>\n",
       "      <td>8</td>\n",
       "      <td>2</td>\n",
       "      <td>1</td>\n",
       "      <td>3</td>\n",
       "      <td>1</td>\n",
       "    </tr>\n",
       "    <tr>\n",
       "      <th>Número de pernoites reservadas</th>\n",
       "      <td>4</td>\n",
       "      <td>3</td>\n",
       "      <td>2</td>\n",
       "      <td>4</td>\n",
       "      <td>14</td>\n",
       "    </tr>\n",
       "    <tr>\n",
       "      <th>Número de hospedes</th>\n",
       "      <td>2.0</td>\n",
       "      <td>3.0</td>\n",
       "      <td>2.0</td>\n",
       "      <td>2.0</td>\n",
       "      <td>3.0</td>\n",
       "    </tr>\n",
       "    <tr>\n",
       "      <th>Regime de alimentação</th>\n",
       "      <td>Café da manha</td>\n",
       "      <td>Café da manha</td>\n",
       "      <td>Café da manha</td>\n",
       "      <td>Café da manha</td>\n",
       "      <td>Café da manha</td>\n",
       "    </tr>\n",
       "    <tr>\n",
       "      <th>Nacionalidade</th>\n",
       "      <td>Belgium</td>\n",
       "      <td>Netherlands</td>\n",
       "      <td>Spain</td>\n",
       "      <td>Italy</td>\n",
       "      <td>China</td>\n",
       "    </tr>\n",
       "    <tr>\n",
       "      <th>Forma de Reserva</th>\n",
       "      <td>Agência</td>\n",
       "      <td>Agência</td>\n",
       "      <td>Agência</td>\n",
       "      <td>Agência</td>\n",
       "      <td>Agência</td>\n",
       "    </tr>\n",
       "    <tr>\n",
       "      <th>Já se hospedou anterioremente</th>\n",
       "      <td>Não</td>\n",
       "      <td>Não</td>\n",
       "      <td>Não</td>\n",
       "      <td>Não</td>\n",
       "      <td>Não</td>\n",
       "    </tr>\n",
       "    <tr>\n",
       "      <th>Tipo do quarto reservado</th>\n",
       "      <td>Amethyst</td>\n",
       "      <td>Amethyst</td>\n",
       "      <td>Amethyst</td>\n",
       "      <td>Amethyst</td>\n",
       "      <td>Green Emerald</td>\n",
       "    </tr>\n",
       "    <tr>\n",
       "      <th>Reserva feita por agência de turismo</th>\n",
       "      <td>Sim</td>\n",
       "      <td>Sim</td>\n",
       "      <td>Sim</td>\n",
       "      <td>Sim</td>\n",
       "      <td>Sim</td>\n",
       "    </tr>\n",
       "    <tr>\n",
       "      <th>Reserva feita por empresa</th>\n",
       "      <td>Não</td>\n",
       "      <td>Não</td>\n",
       "      <td>Não</td>\n",
       "      <td>Não</td>\n",
       "      <td>Não</td>\n",
       "    </tr>\n",
       "    <tr>\n",
       "      <th>Reserva com Estacionamento</th>\n",
       "      <td>Não</td>\n",
       "      <td>Não</td>\n",
       "      <td>Não</td>\n",
       "      <td>Não</td>\n",
       "      <td>Não</td>\n",
       "    </tr>\n",
       "    <tr>\n",
       "      <th>Reserva com Observações</th>\n",
       "      <td>1 a 3</td>\n",
       "      <td>1 a 3</td>\n",
       "      <td>Nenhuma</td>\n",
       "      <td>Nenhuma</td>\n",
       "      <td>Nenhuma</td>\n",
       "    </tr>\n",
       "    <tr>\n",
       "      <th>Reserva Cancelada</th>\n",
       "      <td>0</td>\n",
       "      <td>1</td>\n",
       "      <td>0</td>\n",
       "      <td>1</td>\n",
       "      <td>1</td>\n",
       "    </tr>\n",
       "  </tbody>\n",
       "</table>\n",
       "</div>"
      ],
      "text/plain": [
       "                                              53041          30657  \\\n",
       "id                                            99364          61548   \n",
       "Classificação do hotel                   4 estrelas     4 estrelas   \n",
       "Meses da reserva até o check-in                   8              2   \n",
       "Número de pernoites reservadas                    4              3   \n",
       "Número de hospedes                              2.0            3.0   \n",
       "Regime de alimentação                 Café da manha  Café da manha   \n",
       "Nacionalidade                               Belgium    Netherlands   \n",
       "Forma de Reserva                            Agência        Agência   \n",
       "Já se hospedou anterioremente                   Não            Não   \n",
       "Tipo do quarto reservado                   Amethyst       Amethyst   \n",
       "Reserva feita por agência de turismo            Sim            Sim   \n",
       "Reserva feita por empresa                       Não            Não   \n",
       "Reserva com Estacionamento                      Não            Não   \n",
       "Reserva com Observações                       1 a 3          1 a 3   \n",
       "Reserva Cancelada                                 0              1   \n",
       "\n",
       "                                              21562          44628  \\\n",
       "id                                           113191          51497   \n",
       "Classificação do hotel                   4 estrelas     4 estrelas   \n",
       "Meses da reserva até o check-in                   1              3   \n",
       "Número de pernoites reservadas                    2              4   \n",
       "Número de hospedes                              2.0            2.0   \n",
       "Regime de alimentação                 Café da manha  Café da manha   \n",
       "Nacionalidade                                 Spain          Italy   \n",
       "Forma de Reserva                            Agência        Agência   \n",
       "Já se hospedou anterioremente                   Não            Não   \n",
       "Tipo do quarto reservado                   Amethyst       Amethyst   \n",
       "Reserva feita por agência de turismo            Sim            Sim   \n",
       "Reserva feita por empresa                       Não            Não   \n",
       "Reserva com Estacionamento                      Não            Não   \n",
       "Reserva com Observações                     Nenhuma        Nenhuma   \n",
       "Reserva Cancelada                                 0              1   \n",
       "\n",
       "                                              44545  \n",
       "id                                            63861  \n",
       "Classificação do hotel                   4 estrelas  \n",
       "Meses da reserva até o check-in                   1  \n",
       "Número de pernoites reservadas                   14  \n",
       "Número de hospedes                              3.0  \n",
       "Regime de alimentação                 Café da manha  \n",
       "Nacionalidade                                 China  \n",
       "Forma de Reserva                            Agência  \n",
       "Já se hospedou anterioremente                   Não  \n",
       "Tipo do quarto reservado              Green Emerald  \n",
       "Reserva feita por agência de turismo            Sim  \n",
       "Reserva feita por empresa                       Não  \n",
       "Reserva com Estacionamento                      Não  \n",
       "Reserva com Observações                     Nenhuma  \n",
       "Reserva Cancelada                                 1  "
      ]
     },
     "execution_count": 5,
     "metadata": {},
     "output_type": "execute_result"
    }
   ],
   "source": [
    "train.sample(5).T"
   ]
  },
  {
   "cell_type": "code",
   "execution_count": 6,
   "id": "9ea0d8b8",
   "metadata": {
    "ExecuteTime": {
     "end_time": "2023-03-25T22:45:53.604247Z",
     "start_time": "2023-03-25T22:45:53.575864Z"
    }
   },
   "outputs": [
    {
     "data": {
      "text/html": [
       "<div>\n",
       "<style scoped>\n",
       "    .dataframe tbody tr th:only-of-type {\n",
       "        vertical-align: middle;\n",
       "    }\n",
       "\n",
       "    .dataframe tbody tr th {\n",
       "        vertical-align: top;\n",
       "    }\n",
       "\n",
       "    .dataframe thead th {\n",
       "        text-align: right;\n",
       "    }\n",
       "</style>\n",
       "<table border=\"1\" class=\"dataframe\">\n",
       "  <thead>\n",
       "    <tr style=\"text-align: right;\">\n",
       "      <th></th>\n",
       "      <th>38073</th>\n",
       "      <th>34787</th>\n",
       "      <th>9385</th>\n",
       "      <th>38841</th>\n",
       "      <th>17771</th>\n",
       "    </tr>\n",
       "  </thead>\n",
       "  <tbody>\n",
       "    <tr>\n",
       "      <th>id</th>\n",
       "      <td>46457</td>\n",
       "      <td>14942</td>\n",
       "      <td>112111</td>\n",
       "      <td>52277</td>\n",
       "      <td>77264</td>\n",
       "    </tr>\n",
       "    <tr>\n",
       "      <th>Classificação do hotel</th>\n",
       "      <td>4 estrelas</td>\n",
       "      <td>5 estrelas</td>\n",
       "      <td>4 estrelas</td>\n",
       "      <td>4 estrelas</td>\n",
       "      <td>4 estrelas</td>\n",
       "    </tr>\n",
       "    <tr>\n",
       "      <th>Meses da reserva até o check-in</th>\n",
       "      <td>1</td>\n",
       "      <td>8</td>\n",
       "      <td>6</td>\n",
       "      <td>11</td>\n",
       "      <td>1</td>\n",
       "    </tr>\n",
       "    <tr>\n",
       "      <th>Número de pernoites reservadas</th>\n",
       "      <td>4</td>\n",
       "      <td>6</td>\n",
       "      <td>3</td>\n",
       "      <td>3</td>\n",
       "      <td>3</td>\n",
       "    </tr>\n",
       "    <tr>\n",
       "      <th>Número de hospedes</th>\n",
       "      <td>2.0</td>\n",
       "      <td>2.0</td>\n",
       "      <td>1.0</td>\n",
       "      <td>2.0</td>\n",
       "      <td>1.0</td>\n",
       "    </tr>\n",
       "    <tr>\n",
       "      <th>Regime de alimentação</th>\n",
       "      <td>Sem refeicao</td>\n",
       "      <td>Café da manha, almoco e jantar</td>\n",
       "      <td>Café da manha</td>\n",
       "      <td>Café da manha</td>\n",
       "      <td>Café da manha</td>\n",
       "    </tr>\n",
       "    <tr>\n",
       "      <th>Nacionalidade</th>\n",
       "      <td>United States</td>\n",
       "      <td>Spain</td>\n",
       "      <td>France</td>\n",
       "      <td>Austria</td>\n",
       "      <td>Spain</td>\n",
       "    </tr>\n",
       "    <tr>\n",
       "      <th>Forma de Reserva</th>\n",
       "      <td>Agência</td>\n",
       "      <td>B2B</td>\n",
       "      <td>Agência</td>\n",
       "      <td>Agência</td>\n",
       "      <td>B2B</td>\n",
       "    </tr>\n",
       "    <tr>\n",
       "      <th>Já se hospedou anterioremente</th>\n",
       "      <td>Não</td>\n",
       "      <td>Não</td>\n",
       "      <td>Não</td>\n",
       "      <td>Não</td>\n",
       "      <td>Sim</td>\n",
       "    </tr>\n",
       "    <tr>\n",
       "      <th>Tipo do quarto reservado</th>\n",
       "      <td>Amethyst</td>\n",
       "      <td>Amethyst</td>\n",
       "      <td>Amethyst</td>\n",
       "      <td>Amethyst</td>\n",
       "      <td>Amethyst</td>\n",
       "    </tr>\n",
       "    <tr>\n",
       "      <th>Reserva feita por agência de turismo</th>\n",
       "      <td>Sim</td>\n",
       "      <td>Sim</td>\n",
       "      <td>Sim</td>\n",
       "      <td>Sim</td>\n",
       "      <td>Não</td>\n",
       "    </tr>\n",
       "    <tr>\n",
       "      <th>Reserva feita por empresa</th>\n",
       "      <td>Não</td>\n",
       "      <td>Não</td>\n",
       "      <td>Não</td>\n",
       "      <td>Não</td>\n",
       "      <td>Sim</td>\n",
       "    </tr>\n",
       "    <tr>\n",
       "      <th>Reserva com Estacionamento</th>\n",
       "      <td>Não</td>\n",
       "      <td>Não</td>\n",
       "      <td>Não</td>\n",
       "      <td>Não</td>\n",
       "      <td>Sim</td>\n",
       "    </tr>\n",
       "    <tr>\n",
       "      <th>Reserva com Observações</th>\n",
       "      <td>1 a 3</td>\n",
       "      <td>Nenhuma</td>\n",
       "      <td>Nenhuma</td>\n",
       "      <td>Nenhuma</td>\n",
       "      <td>1 a 3</td>\n",
       "    </tr>\n",
       "  </tbody>\n",
       "</table>\n",
       "</div>"
      ],
      "text/plain": [
       "                                              38073  \\\n",
       "id                                            46457   \n",
       "Classificação do hotel                   4 estrelas   \n",
       "Meses da reserva até o check-in                   1   \n",
       "Número de pernoites reservadas                    4   \n",
       "Número de hospedes                              2.0   \n",
       "Regime de alimentação                  Sem refeicao   \n",
       "Nacionalidade                         United States   \n",
       "Forma de Reserva                            Agência   \n",
       "Já se hospedou anterioremente                   Não   \n",
       "Tipo do quarto reservado                   Amethyst   \n",
       "Reserva feita por agência de turismo            Sim   \n",
       "Reserva feita por empresa                       Não   \n",
       "Reserva com Estacionamento                      Não   \n",
       "Reserva com Observações                       1 a 3   \n",
       "\n",
       "                                                               34787  \\\n",
       "id                                                             14942   \n",
       "Classificação do hotel                                    5 estrelas   \n",
       "Meses da reserva até o check-in                                    8   \n",
       "Número de pernoites reservadas                                     6   \n",
       "Número de hospedes                                               2.0   \n",
       "Regime de alimentação                 Café da manha, almoco e jantar   \n",
       "Nacionalidade                                                  Spain   \n",
       "Forma de Reserva                                                 B2B   \n",
       "Já se hospedou anterioremente                                    Não   \n",
       "Tipo do quarto reservado                                    Amethyst   \n",
       "Reserva feita por agência de turismo                             Sim   \n",
       "Reserva feita por empresa                                        Não   \n",
       "Reserva com Estacionamento                                       Não   \n",
       "Reserva com Observações                                      Nenhuma   \n",
       "\n",
       "                                              9385           38841  \\\n",
       "id                                           112111          52277   \n",
       "Classificação do hotel                   4 estrelas     4 estrelas   \n",
       "Meses da reserva até o check-in                   6             11   \n",
       "Número de pernoites reservadas                    3              3   \n",
       "Número de hospedes                              1.0            2.0   \n",
       "Regime de alimentação                 Café da manha  Café da manha   \n",
       "Nacionalidade                                France        Austria   \n",
       "Forma de Reserva                            Agência        Agência   \n",
       "Já se hospedou anterioremente                   Não            Não   \n",
       "Tipo do quarto reservado                   Amethyst       Amethyst   \n",
       "Reserva feita por agência de turismo            Sim            Sim   \n",
       "Reserva feita por empresa                       Não            Não   \n",
       "Reserva com Estacionamento                      Não            Não   \n",
       "Reserva com Observações                     Nenhuma        Nenhuma   \n",
       "\n",
       "                                              17771  \n",
       "id                                            77264  \n",
       "Classificação do hotel                   4 estrelas  \n",
       "Meses da reserva até o check-in                   1  \n",
       "Número de pernoites reservadas                    3  \n",
       "Número de hospedes                              1.0  \n",
       "Regime de alimentação                 Café da manha  \n",
       "Nacionalidade                                 Spain  \n",
       "Forma de Reserva                                B2B  \n",
       "Já se hospedou anterioremente                   Sim  \n",
       "Tipo do quarto reservado                   Amethyst  \n",
       "Reserva feita por agência de turismo            Não  \n",
       "Reserva feita por empresa                       Sim  \n",
       "Reserva com Estacionamento                      Sim  \n",
       "Reserva com Observações                       1 a 3  "
      ]
     },
     "execution_count": 6,
     "metadata": {},
     "output_type": "execute_result"
    }
   ],
   "source": [
    "test.sample(5).T"
   ]
  },
  {
   "cell_type": "markdown",
   "id": "a14fcce0",
   "metadata": {},
   "source": [
    "## 0.3 Adjust Columns Names"
   ]
  },
  {
   "cell_type": "code",
   "execution_count": 7,
   "id": "ae8e20c8",
   "metadata": {
    "ExecuteTime": {
     "end_time": "2023-03-25T22:45:53.634991Z",
     "start_time": "2023-03-25T22:45:53.608228Z"
    }
   },
   "outputs": [],
   "source": [
    "# Concatenate train and test together\n",
    "all_data = pd.concat([train, test])"
   ]
  },
  {
   "cell_type": "code",
   "execution_count": 8,
   "id": "64e3a70d",
   "metadata": {
    "ExecuteTime": {
     "end_time": "2023-03-25T22:45:53.712156Z",
     "start_time": "2023-03-25T22:45:53.636948Z"
    }
   },
   "outputs": [],
   "source": [
    "## Alteração nome das variábeis\n",
    "\n",
    "all_data.columns = [c.replace(' ', '_') for c in all_data.columns]\n",
    "\n",
    "cols_old = all_data.columns\n",
    "\n",
    "snakecase = lambda x: inflection.underscore(x)\n",
    "\n",
    "cols_new = list(map(snakecase, cols_old))\n",
    "\n",
    "#rename\n",
    "all_data.columns = cols_new\n",
    "\n",
    "# Split back into train and test\n",
    "train = all_data[all_data['id'].isin(train['id'])]\n",
    "test = all_data[all_data['id'].isin(test['id'])].drop('reserva_cancelada', axis=1)\n"
   ]
  },
  {
   "cell_type": "code",
   "execution_count": 9,
   "id": "070edb3c",
   "metadata": {
    "ExecuteTime": {
     "end_time": "2023-03-25T22:45:53.727329Z",
     "start_time": "2023-03-25T22:45:53.717262Z"
    }
   },
   "outputs": [
    {
     "data": {
      "text/plain": [
       "Index(['id', 'classificação_do_hotel', 'meses_da_reserva_até_o_check_in',\n",
       "       'número_de_pernoites_reservadas', 'número_de_hospedes',\n",
       "       'regime_de_alimentação', 'nacionalidade', 'forma_de_reserva',\n",
       "       'já_se_hospedou_anterioremente', 'tipo_do_quarto_reservado',\n",
       "       'reserva_feita_por_agência_de_turismo', 'reserva_feita_por_empresa',\n",
       "       'reserva_com_estacionamento', 'reserva_com_observações',\n",
       "       'reserva_cancelada'],\n",
       "      dtype='object')"
      ]
     },
     "execution_count": 9,
     "metadata": {},
     "output_type": "execute_result"
    }
   ],
   "source": [
    "train.columns"
   ]
  },
  {
   "cell_type": "markdown",
   "id": "fc5071f8",
   "metadata": {},
   "source": [
    "## 0.4 Split data \"Production\""
   ]
  },
  {
   "cell_type": "code",
   "execution_count": 10,
   "id": "187572db",
   "metadata": {
    "ExecuteTime": {
     "end_time": "2023-03-25T22:45:53.743355Z",
     "start_time": "2023-03-25T22:45:53.729302Z"
    }
   },
   "outputs": [],
   "source": [
    "## Separação de dados que o modelo só utilizará no momento do teste, simulação de dados da produção (que nunca viu)\n",
    "\n",
    "# features = df_test.drop(columns=['id', 'Reserva Cancelada'], axis=1)\n",
    "# label = df_test['Reserva Cancelada']\n",
    "\n",
    "# X, X_prod, y, y_prod = ms.train_test_split(features, label, split_size=0.2, random_state=42)\n"
   ]
  },
  {
   "cell_type": "markdown",
   "id": "7f8afe02",
   "metadata": {},
   "source": [
    "## 0.5 Split data Train & Validation"
   ]
  },
  {
   "cell_type": "code",
   "execution_count": 11,
   "id": "ab6a66a8",
   "metadata": {
    "ExecuteTime": {
     "end_time": "2023-03-25T22:45:53.759171Z",
     "start_time": "2023-03-25T22:45:53.745409Z"
    }
   },
   "outputs": [],
   "source": [
    "# Separação de dados de treino e validação\n",
    "\n",
    "#X_train = train.drop(columns=['id', 'reserva_cancelada'])\n",
    "#y_train = train['reserva_cancelada']\n",
    "\n",
    "#X_train, X_val, y_train, y_val = ms.train_test_split(X_train, y_train, test_size=0.2, random_state=42)\n",
    "\n"
   ]
  },
  {
   "cell_type": "code",
   "execution_count": 12,
   "id": "412c8f21",
   "metadata": {
    "ExecuteTime": {
     "end_time": "2023-03-25T22:45:53.774416Z",
     "start_time": "2023-03-25T22:45:53.761158Z"
    }
   },
   "outputs": [],
   "source": [
    "# X_train.shape"
   ]
  },
  {
   "cell_type": "markdown",
   "id": "793d2f82",
   "metadata": {},
   "source": [
    "# 1.0 Data Description"
   ]
  },
  {
   "cell_type": "code",
   "execution_count": 13,
   "id": "b81466f6",
   "metadata": {
    "ExecuteTime": {
     "end_time": "2023-03-25T22:45:53.789897Z",
     "start_time": "2023-03-25T22:45:53.776368Z"
    }
   },
   "outputs": [],
   "source": [
    "## Backup do Dataframe\n",
    "\n",
    "df1 = train.copy()"
   ]
  },
  {
   "cell_type": "code",
   "execution_count": 14,
   "id": "a9552a00",
   "metadata": {
    "ExecuteTime": {
     "end_time": "2023-03-25T22:45:53.820323Z",
     "start_time": "2023-03-25T22:45:53.791893Z"
    }
   },
   "outputs": [
    {
     "data": {
      "text/html": [
       "<div>\n",
       "<style scoped>\n",
       "    .dataframe tbody tr th:only-of-type {\n",
       "        vertical-align: middle;\n",
       "    }\n",
       "\n",
       "    .dataframe tbody tr th {\n",
       "        vertical-align: top;\n",
       "    }\n",
       "\n",
       "    .dataframe thead th {\n",
       "        text-align: right;\n",
       "    }\n",
       "</style>\n",
       "<table border=\"1\" class=\"dataframe\">\n",
       "  <thead>\n",
       "    <tr style=\"text-align: right;\">\n",
       "      <th></th>\n",
       "      <th>60389</th>\n",
       "      <th>14388</th>\n",
       "      <th>69639</th>\n",
       "      <th>16543</th>\n",
       "      <th>46527</th>\n",
       "      <th>44059</th>\n",
       "      <th>52863</th>\n",
       "      <th>62230</th>\n",
       "    </tr>\n",
       "  </thead>\n",
       "  <tbody>\n",
       "    <tr>\n",
       "      <th>id</th>\n",
       "      <td>107267</td>\n",
       "      <td>86955</td>\n",
       "      <td>42936</td>\n",
       "      <td>62068</td>\n",
       "      <td>54991</td>\n",
       "      <td>59816</td>\n",
       "      <td>44466</td>\n",
       "      <td>64977</td>\n",
       "    </tr>\n",
       "    <tr>\n",
       "      <th>classificação_do_hotel</th>\n",
       "      <td>4 estrelas</td>\n",
       "      <td>4 estrelas</td>\n",
       "      <td>4 estrelas</td>\n",
       "      <td>4 estrelas</td>\n",
       "      <td>4 estrelas</td>\n",
       "      <td>4 estrelas</td>\n",
       "      <td>4 estrelas</td>\n",
       "      <td>4 estrelas</td>\n",
       "    </tr>\n",
       "    <tr>\n",
       "      <th>meses_da_reserva_até_o_check_in</th>\n",
       "      <td>1</td>\n",
       "      <td>1</td>\n",
       "      <td>1</td>\n",
       "      <td>3</td>\n",
       "      <td>13</td>\n",
       "      <td>16</td>\n",
       "      <td>283</td>\n",
       "      <td>5</td>\n",
       "    </tr>\n",
       "    <tr>\n",
       "      <th>número_de_pernoites_reservadas</th>\n",
       "      <td>3</td>\n",
       "      <td>1</td>\n",
       "      <td>2</td>\n",
       "      <td>6</td>\n",
       "      <td>2</td>\n",
       "      <td>2</td>\n",
       "      <td>2</td>\n",
       "      <td>2</td>\n",
       "    </tr>\n",
       "    <tr>\n",
       "      <th>número_de_hospedes</th>\n",
       "      <td>2.0</td>\n",
       "      <td>3.0</td>\n",
       "      <td>2.0</td>\n",
       "      <td>2.0</td>\n",
       "      <td>2.0</td>\n",
       "      <td>2.0</td>\n",
       "      <td>1.0</td>\n",
       "      <td>2.0</td>\n",
       "    </tr>\n",
       "    <tr>\n",
       "      <th>regime_de_alimentação</th>\n",
       "      <td>Café da manha</td>\n",
       "      <td>Café da manha</td>\n",
       "      <td>Café da manha</td>\n",
       "      <td>Café da manha</td>\n",
       "      <td>Café da manha</td>\n",
       "      <td>Café da manha</td>\n",
       "      <td>Café da manha</td>\n",
       "      <td>Café da manha</td>\n",
       "    </tr>\n",
       "    <tr>\n",
       "      <th>nacionalidade</th>\n",
       "      <td>Russia</td>\n",
       "      <td>Spain</td>\n",
       "      <td>Norway</td>\n",
       "      <td>Romania</td>\n",
       "      <td>Spain</td>\n",
       "      <td>Spain</td>\n",
       "      <td>Spain</td>\n",
       "      <td>Spain</td>\n",
       "    </tr>\n",
       "    <tr>\n",
       "      <th>forma_de_reserva</th>\n",
       "      <td>Agência</td>\n",
       "      <td>Agência</td>\n",
       "      <td>Agência</td>\n",
       "      <td>Agência</td>\n",
       "      <td>Agência</td>\n",
       "      <td>Agência</td>\n",
       "      <td>Agência</td>\n",
       "      <td>Agência</td>\n",
       "    </tr>\n",
       "    <tr>\n",
       "      <th>já_se_hospedou_anterioremente</th>\n",
       "      <td>Não</td>\n",
       "      <td>Não</td>\n",
       "      <td>Não</td>\n",
       "      <td>Não</td>\n",
       "      <td>Não</td>\n",
       "      <td>Não</td>\n",
       "      <td>Não</td>\n",
       "      <td>Não</td>\n",
       "    </tr>\n",
       "    <tr>\n",
       "      <th>tipo_do_quarto_reservado</th>\n",
       "      <td>Green Emerald</td>\n",
       "      <td>Amethyst</td>\n",
       "      <td>Amethyst</td>\n",
       "      <td>Amethyst</td>\n",
       "      <td>Amethyst</td>\n",
       "      <td>Amethyst</td>\n",
       "      <td>Amethyst</td>\n",
       "      <td>Amethyst</td>\n",
       "    </tr>\n",
       "    <tr>\n",
       "      <th>reserva_feita_por_agência_de_turismo</th>\n",
       "      <td>Sim</td>\n",
       "      <td>Sim</td>\n",
       "      <td>Sim</td>\n",
       "      <td>Sim</td>\n",
       "      <td>Sim</td>\n",
       "      <td>Sim</td>\n",
       "      <td>Sim</td>\n",
       "      <td>Sim</td>\n",
       "    </tr>\n",
       "    <tr>\n",
       "      <th>reserva_feita_por_empresa</th>\n",
       "      <td>Não</td>\n",
       "      <td>Não</td>\n",
       "      <td>Não</td>\n",
       "      <td>Não</td>\n",
       "      <td>Não</td>\n",
       "      <td>Não</td>\n",
       "      <td>Não</td>\n",
       "      <td>Não</td>\n",
       "    </tr>\n",
       "    <tr>\n",
       "      <th>reserva_com_estacionamento</th>\n",
       "      <td>Não</td>\n",
       "      <td>Não</td>\n",
       "      <td>Não</td>\n",
       "      <td>Não</td>\n",
       "      <td>Não</td>\n",
       "      <td>Não</td>\n",
       "      <td>Não</td>\n",
       "      <td>Não</td>\n",
       "    </tr>\n",
       "    <tr>\n",
       "      <th>reserva_com_observações</th>\n",
       "      <td>1 a 3</td>\n",
       "      <td>Nenhuma</td>\n",
       "      <td>1 a 3</td>\n",
       "      <td>1 a 3</td>\n",
       "      <td>Nenhuma</td>\n",
       "      <td>Nenhuma</td>\n",
       "      <td>Nenhuma</td>\n",
       "      <td>Nenhuma</td>\n",
       "    </tr>\n",
       "    <tr>\n",
       "      <th>reserva_cancelada</th>\n",
       "      <td>0.0</td>\n",
       "      <td>0.0</td>\n",
       "      <td>0.0</td>\n",
       "      <td>1.0</td>\n",
       "      <td>1.0</td>\n",
       "      <td>1.0</td>\n",
       "      <td>0.0</td>\n",
       "      <td>1.0</td>\n",
       "    </tr>\n",
       "  </tbody>\n",
       "</table>\n",
       "</div>"
      ],
      "text/plain": [
       "                                              60389          14388  \\\n",
       "id                                           107267          86955   \n",
       "classificação_do_hotel                   4 estrelas     4 estrelas   \n",
       "meses_da_reserva_até_o_check_in                   1              1   \n",
       "número_de_pernoites_reservadas                    3              1   \n",
       "número_de_hospedes                              2.0            3.0   \n",
       "regime_de_alimentação                 Café da manha  Café da manha   \n",
       "nacionalidade                                Russia          Spain   \n",
       "forma_de_reserva                            Agência        Agência   \n",
       "já_se_hospedou_anterioremente                   Não            Não   \n",
       "tipo_do_quarto_reservado              Green Emerald       Amethyst   \n",
       "reserva_feita_por_agência_de_turismo            Sim            Sim   \n",
       "reserva_feita_por_empresa                       Não            Não   \n",
       "reserva_com_estacionamento                      Não            Não   \n",
       "reserva_com_observações                       1 a 3        Nenhuma   \n",
       "reserva_cancelada                               0.0            0.0   \n",
       "\n",
       "                                              69639          16543  \\\n",
       "id                                            42936          62068   \n",
       "classificação_do_hotel                   4 estrelas     4 estrelas   \n",
       "meses_da_reserva_até_o_check_in                   1              3   \n",
       "número_de_pernoites_reservadas                    2              6   \n",
       "número_de_hospedes                              2.0            2.0   \n",
       "regime_de_alimentação                 Café da manha  Café da manha   \n",
       "nacionalidade                                Norway        Romania   \n",
       "forma_de_reserva                            Agência        Agência   \n",
       "já_se_hospedou_anterioremente                   Não            Não   \n",
       "tipo_do_quarto_reservado                   Amethyst       Amethyst   \n",
       "reserva_feita_por_agência_de_turismo            Sim            Sim   \n",
       "reserva_feita_por_empresa                       Não            Não   \n",
       "reserva_com_estacionamento                      Não            Não   \n",
       "reserva_com_observações                       1 a 3          1 a 3   \n",
       "reserva_cancelada                               0.0            1.0   \n",
       "\n",
       "                                              46527          44059  \\\n",
       "id                                            54991          59816   \n",
       "classificação_do_hotel                   4 estrelas     4 estrelas   \n",
       "meses_da_reserva_até_o_check_in                  13             16   \n",
       "número_de_pernoites_reservadas                    2              2   \n",
       "número_de_hospedes                              2.0            2.0   \n",
       "regime_de_alimentação                 Café da manha  Café da manha   \n",
       "nacionalidade                                 Spain          Spain   \n",
       "forma_de_reserva                            Agência        Agência   \n",
       "já_se_hospedou_anterioremente                   Não            Não   \n",
       "tipo_do_quarto_reservado                   Amethyst       Amethyst   \n",
       "reserva_feita_por_agência_de_turismo            Sim            Sim   \n",
       "reserva_feita_por_empresa                       Não            Não   \n",
       "reserva_com_estacionamento                      Não            Não   \n",
       "reserva_com_observações                     Nenhuma        Nenhuma   \n",
       "reserva_cancelada                               1.0            1.0   \n",
       "\n",
       "                                              52863          62230  \n",
       "id                                            44466          64977  \n",
       "classificação_do_hotel                   4 estrelas     4 estrelas  \n",
       "meses_da_reserva_até_o_check_in                 283              5  \n",
       "número_de_pernoites_reservadas                    2              2  \n",
       "número_de_hospedes                              1.0            2.0  \n",
       "regime_de_alimentação                 Café da manha  Café da manha  \n",
       "nacionalidade                                 Spain          Spain  \n",
       "forma_de_reserva                            Agência        Agência  \n",
       "já_se_hospedou_anterioremente                   Não            Não  \n",
       "tipo_do_quarto_reservado                   Amethyst       Amethyst  \n",
       "reserva_feita_por_agência_de_turismo            Sim            Sim  \n",
       "reserva_feita_por_empresa                       Não            Não  \n",
       "reserva_com_estacionamento                      Não            Não  \n",
       "reserva_com_observações                     Nenhuma        Nenhuma  \n",
       "reserva_cancelada                               0.0            1.0  "
      ]
     },
     "execution_count": 14,
     "metadata": {},
     "output_type": "execute_result"
    }
   ],
   "source": [
    "df1.sample(8).T"
   ]
  },
  {
   "cell_type": "code",
   "execution_count": 15,
   "id": "de4a8d1a",
   "metadata": {
    "ExecuteTime": {
     "end_time": "2023-03-25T22:45:53.835799Z",
     "start_time": "2023-03-25T22:45:53.822325Z"
    }
   },
   "outputs": [
    {
     "data": {
      "text/html": [
       "<div>\n",
       "<style scoped>\n",
       "    .dataframe tbody tr th:only-of-type {\n",
       "        vertical-align: middle;\n",
       "    }\n",
       "\n",
       "    .dataframe tbody tr th {\n",
       "        vertical-align: top;\n",
       "    }\n",
       "\n",
       "    .dataframe thead th {\n",
       "        text-align: right;\n",
       "    }\n",
       "</style>\n",
       "<table border=\"1\" class=\"dataframe\">\n",
       "  <thead>\n",
       "    <tr style=\"text-align: right;\">\n",
       "      <th></th>\n",
       "      <th>8358</th>\n",
       "      <th>36627</th>\n",
       "      <th>64865</th>\n",
       "    </tr>\n",
       "  </thead>\n",
       "  <tbody>\n",
       "    <tr>\n",
       "      <th>id</th>\n",
       "      <td>40887</td>\n",
       "      <td>40899</td>\n",
       "      <td>41412</td>\n",
       "    </tr>\n",
       "    <tr>\n",
       "      <th>classificação_do_hotel</th>\n",
       "      <td>4 estrelas</td>\n",
       "      <td>4 estrelas</td>\n",
       "      <td>4 estrelas</td>\n",
       "    </tr>\n",
       "    <tr>\n",
       "      <th>meses_da_reserva_até_o_check_in</th>\n",
       "      <td>1</td>\n",
       "      <td>1</td>\n",
       "      <td>1</td>\n",
       "    </tr>\n",
       "    <tr>\n",
       "      <th>número_de_pernoites_reservadas</th>\n",
       "      <td>2</td>\n",
       "      <td>2</td>\n",
       "      <td>7</td>\n",
       "    </tr>\n",
       "    <tr>\n",
       "      <th>número_de_hospedes</th>\n",
       "      <td>NaN</td>\n",
       "      <td>NaN</td>\n",
       "      <td>NaN</td>\n",
       "    </tr>\n",
       "    <tr>\n",
       "      <th>regime_de_alimentação</th>\n",
       "      <td>Café da manha</td>\n",
       "      <td>Café da manha</td>\n",
       "      <td>Café da manha</td>\n",
       "    </tr>\n",
       "    <tr>\n",
       "      <th>nacionalidade</th>\n",
       "      <td>Spain</td>\n",
       "      <td>Spain</td>\n",
       "      <td>Spain</td>\n",
       "    </tr>\n",
       "    <tr>\n",
       "      <th>forma_de_reserva</th>\n",
       "      <td>B2B</td>\n",
       "      <td>B2B</td>\n",
       "      <td>B2B</td>\n",
       "    </tr>\n",
       "    <tr>\n",
       "      <th>já_se_hospedou_anterioremente</th>\n",
       "      <td>Não</td>\n",
       "      <td>Não</td>\n",
       "      <td>Não</td>\n",
       "    </tr>\n",
       "    <tr>\n",
       "      <th>tipo_do_quarto_reservado</th>\n",
       "      <td>Blue Sapphire</td>\n",
       "      <td>Blue Sapphire</td>\n",
       "      <td>Blue Sapphire</td>\n",
       "    </tr>\n",
       "    <tr>\n",
       "      <th>reserva_feita_por_agência_de_turismo</th>\n",
       "      <td>Sim</td>\n",
       "      <td>Não</td>\n",
       "      <td>Sim</td>\n",
       "    </tr>\n",
       "    <tr>\n",
       "      <th>reserva_feita_por_empresa</th>\n",
       "      <td>Não</td>\n",
       "      <td>Não</td>\n",
       "      <td>Não</td>\n",
       "    </tr>\n",
       "    <tr>\n",
       "      <th>reserva_com_estacionamento</th>\n",
       "      <td>Não</td>\n",
       "      <td>Não</td>\n",
       "      <td>Não</td>\n",
       "    </tr>\n",
       "    <tr>\n",
       "      <th>reserva_com_observações</th>\n",
       "      <td>1 a 3</td>\n",
       "      <td>1 a 3</td>\n",
       "      <td>1 a 3</td>\n",
       "    </tr>\n",
       "    <tr>\n",
       "      <th>reserva_cancelada</th>\n",
       "      <td>1.0</td>\n",
       "      <td>1.0</td>\n",
       "      <td>1.0</td>\n",
       "    </tr>\n",
       "  </tbody>\n",
       "</table>\n",
       "</div>"
      ],
      "text/plain": [
       "                                              8358           36627  \\\n",
       "id                                            40887          40899   \n",
       "classificação_do_hotel                   4 estrelas     4 estrelas   \n",
       "meses_da_reserva_até_o_check_in                   1              1   \n",
       "número_de_pernoites_reservadas                    2              2   \n",
       "número_de_hospedes                              NaN            NaN   \n",
       "regime_de_alimentação                 Café da manha  Café da manha   \n",
       "nacionalidade                                 Spain          Spain   \n",
       "forma_de_reserva                                B2B            B2B   \n",
       "já_se_hospedou_anterioremente                   Não            Não   \n",
       "tipo_do_quarto_reservado              Blue Sapphire  Blue Sapphire   \n",
       "reserva_feita_por_agência_de_turismo            Sim            Não   \n",
       "reserva_feita_por_empresa                       Não            Não   \n",
       "reserva_com_estacionamento                      Não            Não   \n",
       "reserva_com_observações                       1 a 3          1 a 3   \n",
       "reserva_cancelada                               1.0            1.0   \n",
       "\n",
       "                                              64865  \n",
       "id                                            41412  \n",
       "classificação_do_hotel                   4 estrelas  \n",
       "meses_da_reserva_até_o_check_in                   1  \n",
       "número_de_pernoites_reservadas                    7  \n",
       "número_de_hospedes                              NaN  \n",
       "regime_de_alimentação                 Café da manha  \n",
       "nacionalidade                                 Spain  \n",
       "forma_de_reserva                                B2B  \n",
       "já_se_hospedou_anterioremente                   Não  \n",
       "tipo_do_quarto_reservado              Blue Sapphire  \n",
       "reserva_feita_por_agência_de_turismo            Sim  \n",
       "reserva_feita_por_empresa                       Não  \n",
       "reserva_com_estacionamento                      Não  \n",
       "reserva_com_observações                       1 a 3  \n",
       "reserva_cancelada                               1.0  "
      ]
     },
     "execution_count": 15,
     "metadata": {},
     "output_type": "execute_result"
    }
   ],
   "source": [
    "df1[df1['número_de_hospedes'].isna()].T"
   ]
  },
  {
   "cell_type": "code",
   "execution_count": 16,
   "id": "dc37940e",
   "metadata": {
    "ExecuteTime": {
     "end_time": "2023-03-25T22:45:53.850991Z",
     "start_time": "2023-03-25T22:45:53.838823Z"
    }
   },
   "outputs": [
    {
     "data": {
      "text/plain": [
       "Index(['id', 'classificação_do_hotel', 'meses_da_reserva_até_o_check_in',\n",
       "       'número_de_pernoites_reservadas', 'número_de_hospedes',\n",
       "       'regime_de_alimentação', 'nacionalidade', 'forma_de_reserva',\n",
       "       'já_se_hospedou_anterioremente', 'tipo_do_quarto_reservado',\n",
       "       'reserva_feita_por_agência_de_turismo', 'reserva_feita_por_empresa',\n",
       "       'reserva_com_estacionamento', 'reserva_com_observações',\n",
       "       'reserva_cancelada'],\n",
       "      dtype='object')"
      ]
     },
     "execution_count": 16,
     "metadata": {},
     "output_type": "execute_result"
    }
   ],
   "source": [
    "df1.columns"
   ]
  },
  {
   "cell_type": "markdown",
   "id": "a7933bc7",
   "metadata": {},
   "source": [
    "## 1.1 Data Dimension"
   ]
  },
  {
   "cell_type": "code",
   "execution_count": 17,
   "id": "7a9f99e1",
   "metadata": {
    "ExecuteTime": {
     "end_time": "2023-03-25T22:45:53.866125Z",
     "start_time": "2023-03-25T22:45:53.851970Z"
    }
   },
   "outputs": [
    {
     "data": {
      "text/plain": [
       "(72159, 15)"
      ]
     },
     "execution_count": 17,
     "metadata": {},
     "output_type": "execute_result"
    }
   ],
   "source": [
    "df1.shape"
   ]
  },
  {
   "cell_type": "markdown",
   "id": "3fa18969",
   "metadata": {},
   "source": [
    "## 1.2 Data Types and Changes"
   ]
  },
  {
   "cell_type": "code",
   "execution_count": 18,
   "id": "1fe5a1d5",
   "metadata": {
    "ExecuteTime": {
     "end_time": "2023-03-25T22:45:53.881714Z",
     "start_time": "2023-03-25T22:45:53.868100Z"
    }
   },
   "outputs": [
    {
     "data": {
      "text/plain": [
       "id                                        int64\n",
       "classificação_do_hotel                   object\n",
       "meses_da_reserva_até_o_check_in           int64\n",
       "número_de_pernoites_reservadas            int64\n",
       "número_de_hospedes                      float64\n",
       "regime_de_alimentação                    object\n",
       "nacionalidade                            object\n",
       "forma_de_reserva                         object\n",
       "já_se_hospedou_anterioremente            object\n",
       "tipo_do_quarto_reservado                 object\n",
       "reserva_feita_por_agência_de_turismo     object\n",
       "reserva_feita_por_empresa                object\n",
       "reserva_com_estacionamento               object\n",
       "reserva_com_observações                  object\n",
       "reserva_cancelada                       float64\n",
       "dtype: object"
      ]
     },
     "execution_count": 18,
     "metadata": {},
     "output_type": "execute_result"
    }
   ],
   "source": [
    "df1.dtypes"
   ]
  },
  {
   "cell_type": "markdown",
   "id": "d819771e",
   "metadata": {},
   "source": [
    "## 1.3 Check NA's"
   ]
  },
  {
   "cell_type": "code",
   "execution_count": 19,
   "id": "eb528642",
   "metadata": {
    "ExecuteTime": {
     "end_time": "2023-03-25T22:45:53.975978Z",
     "start_time": "2023-03-25T22:45:53.883236Z"
    }
   },
   "outputs": [
    {
     "data": {
      "text/plain": [
       "id                                         0\n",
       "classificação_do_hotel                     0\n",
       "meses_da_reserva_até_o_check_in            0\n",
       "número_de_pernoites_reservadas             0\n",
       "número_de_hospedes                         3\n",
       "regime_de_alimentação                      0\n",
       "nacionalidade                           1093\n",
       "forma_de_reserva                           0\n",
       "já_se_hospedou_anterioremente              0\n",
       "tipo_do_quarto_reservado                   0\n",
       "reserva_feita_por_agência_de_turismo       0\n",
       "reserva_feita_por_empresa                  0\n",
       "reserva_com_estacionamento                 0\n",
       "reserva_com_observações                    0\n",
       "reserva_cancelada                          0\n",
       "dtype: int64"
      ]
     },
     "execution_count": 19,
     "metadata": {},
     "output_type": "execute_result"
    }
   ],
   "source": [
    "df1.isna().sum()"
   ]
  },
  {
   "cell_type": "markdown",
   "id": "c228b585",
   "metadata": {},
   "source": [
    "## 1.4 Data Descriptive"
   ]
  },
  {
   "cell_type": "code",
   "execution_count": 20,
   "id": "2a509690",
   "metadata": {
    "ExecuteTime": {
     "end_time": "2023-03-25T22:45:54.006870Z",
     "start_time": "2023-03-25T22:45:53.976955Z"
    }
   },
   "outputs": [
    {
     "data": {
      "text/html": [
       "<div>\n",
       "<style scoped>\n",
       "    .dataframe tbody tr th:only-of-type {\n",
       "        vertical-align: middle;\n",
       "    }\n",
       "\n",
       "    .dataframe tbody tr th {\n",
       "        vertical-align: top;\n",
       "    }\n",
       "\n",
       "    .dataframe thead th {\n",
       "        text-align: right;\n",
       "    }\n",
       "</style>\n",
       "<table border=\"1\" class=\"dataframe\">\n",
       "  <thead>\n",
       "    <tr style=\"text-align: right;\">\n",
       "      <th></th>\n",
       "      <th>id</th>\n",
       "      <th>meses_da_reserva_até_o_check_in</th>\n",
       "      <th>número_de_pernoites_reservadas</th>\n",
       "      <th>número_de_hospedes</th>\n",
       "      <th>reserva_cancelada</th>\n",
       "    </tr>\n",
       "  </thead>\n",
       "  <tbody>\n",
       "    <tr>\n",
       "      <th>count</th>\n",
       "      <td>72159.000000</td>\n",
       "      <td>72159.000000</td>\n",
       "      <td>72159.000000</td>\n",
       "      <td>72156.000000</td>\n",
       "      <td>72159.000000</td>\n",
       "    </tr>\n",
       "    <tr>\n",
       "      <th>mean</th>\n",
       "      <td>60093.687787</td>\n",
       "      <td>7.145928</td>\n",
       "      <td>15.824152</td>\n",
       "      <td>14.258773</td>\n",
       "      <td>0.370418</td>\n",
       "    </tr>\n",
       "    <tr>\n",
       "      <th>std</th>\n",
       "      <td>34726.028006</td>\n",
       "      <td>25.852330</td>\n",
       "      <td>98.248479</td>\n",
       "      <td>96.446167</td>\n",
       "      <td>0.482920</td>\n",
       "    </tr>\n",
       "    <tr>\n",
       "      <th>min</th>\n",
       "      <td>1.000000</td>\n",
       "      <td>1.000000</td>\n",
       "      <td>0.000000</td>\n",
       "      <td>0.000000</td>\n",
       "      <td>0.000000</td>\n",
       "    </tr>\n",
       "    <tr>\n",
       "      <th>25%</th>\n",
       "      <td>30013.500000</td>\n",
       "      <td>1.000000</td>\n",
       "      <td>2.000000</td>\n",
       "      <td>2.000000</td>\n",
       "      <td>0.000000</td>\n",
       "    </tr>\n",
       "    <tr>\n",
       "      <th>50%</th>\n",
       "      <td>60080.000000</td>\n",
       "      <td>3.000000</td>\n",
       "      <td>3.000000</td>\n",
       "      <td>2.000000</td>\n",
       "      <td>0.000000</td>\n",
       "    </tr>\n",
       "    <tr>\n",
       "      <th>75%</th>\n",
       "      <td>90301.000000</td>\n",
       "      <td>6.000000</td>\n",
       "      <td>4.000000</td>\n",
       "      <td>2.000000</td>\n",
       "      <td>1.000000</td>\n",
       "    </tr>\n",
       "    <tr>\n",
       "      <th>max</th>\n",
       "      <td>120265.000000</td>\n",
       "      <td>311.000000</td>\n",
       "      <td>1172.000000</td>\n",
       "      <td>1153.000000</td>\n",
       "      <td>1.000000</td>\n",
       "    </tr>\n",
       "  </tbody>\n",
       "</table>\n",
       "</div>"
      ],
      "text/plain": [
       "                  id  meses_da_reserva_até_o_check_in  \\\n",
       "count   72159.000000                     72159.000000   \n",
       "mean    60093.687787                         7.145928   \n",
       "std     34726.028006                        25.852330   \n",
       "min         1.000000                         1.000000   \n",
       "25%     30013.500000                         1.000000   \n",
       "50%     60080.000000                         3.000000   \n",
       "75%     90301.000000                         6.000000   \n",
       "max    120265.000000                       311.000000   \n",
       "\n",
       "       número_de_pernoites_reservadas  número_de_hospedes  reserva_cancelada  \n",
       "count                    72159.000000        72156.000000       72159.000000  \n",
       "mean                        15.824152           14.258773           0.370418  \n",
       "std                         98.248479           96.446167           0.482920  \n",
       "min                          0.000000            0.000000           0.000000  \n",
       "25%                          2.000000            2.000000           0.000000  \n",
       "50%                          3.000000            2.000000           0.000000  \n",
       "75%                          4.000000            2.000000           1.000000  \n",
       "max                       1172.000000         1153.000000           1.000000  "
      ]
     },
     "execution_count": 20,
     "metadata": {},
     "output_type": "execute_result"
    }
   ],
   "source": [
    "df1.describe()"
   ]
  },
  {
   "cell_type": "markdown",
   "id": "f4cf944b",
   "metadata": {},
   "source": [
    "### 1.4.1 Numerical Attributes"
   ]
  },
  {
   "cell_type": "code",
   "execution_count": 21,
   "id": "945a8727",
   "metadata": {
    "ExecuteTime": {
     "end_time": "2023-03-25T22:45:54.021925Z",
     "start_time": "2023-03-25T22:45:54.008870Z"
    }
   },
   "outputs": [],
   "source": [
    "## Divisão de features numericas\n",
    "\n",
    "# num_attr = df1.select_dtypes(include=['int64', 'float64'])"
   ]
  },
  {
   "cell_type": "code",
   "execution_count": 22,
   "id": "200384cb",
   "metadata": {
    "ExecuteTime": {
     "end_time": "2023-03-25T22:45:54.037573Z",
     "start_time": "2023-03-25T22:45:54.023446Z"
    }
   },
   "outputs": [],
   "source": [
    "## Tendência Central (média e mediana)\n",
    "\n",
    "# ct1 = pd.DataFrame(num_attr.apply(np.mean)).T\n",
    "# ct2 = pd.DataFrame(num_attr.apply(np.median)).T\n",
    "\n",
    "\n",
    "## Dispersão (std, min, max, range, skew, kurtosis)\n",
    "\n",
    "# d1 = pd.DataFrame(num_attr.apply(np.std)).T\n",
    "# d2 = pd.DataFrame(num_attr.apply(np.min)).T\n",
    "# d3 = pd.DataFrame(num_attr.apply(np.max)).T\n",
    "# d4 = pd.DataFrame(num_attr.apply(lambda x: x.max() - x.min())).T\n",
    "# d5 = pd.DataFrame(num_attr.apply(lambda x: x.skew())).T\n",
    "# d6 = pd.DataFrame(num_attr.apply(lambda x: x.kurtosis())).T\n",
    "\n",
    "## Concatenando os resultados\n",
    "\n",
    "# num_attr_result = pd.concat([d2, ct1, d3, d4, ct2, d1, d5, d6])\n",
    "# num_attr_result.columns = ['Atributos', 'Min', 'Media', 'Max', 'Range', 'Mediana', 'Desvio_Padrao', 'Skew', 'Kurtosis']\n",
    "# num_attr_result"
   ]
  },
  {
   "cell_type": "markdown",
   "id": "966ef4a8",
   "metadata": {},
   "source": [
    "### 1.4.2 Categorical Attributes"
   ]
  },
  {
   "cell_type": "code",
   "execution_count": 23,
   "id": "3e6cd811",
   "metadata": {
    "ExecuteTime": {
     "end_time": "2023-03-25T22:45:54.053151Z",
     "start_time": "2023-03-25T22:45:54.039549Z"
    }
   },
   "outputs": [],
   "source": [
    "# cat_attr = df1.select_dtypes(exclude=['int64', 'float64', 'datetime64[ns]'])"
   ]
  },
  {
   "cell_type": "code",
   "execution_count": 24,
   "id": "3ad8f3f3",
   "metadata": {
    "ExecuteTime": {
     "end_time": "2023-03-25T22:45:54.068777Z",
     "start_time": "2023-03-25T22:45:54.055214Z"
    }
   },
   "outputs": [],
   "source": [
    "## Mostra os valores únicos das variáveis categóricas\n",
    "\n",
    "# cat_attr.apply(lambda x: x.unique().shape[0])\n",
    "\n"
   ]
  },
  {
   "cell_type": "markdown",
   "id": "70487c29",
   "metadata": {},
   "source": [
    "# 2.0 Feature Engineering "
   ]
  },
  {
   "cell_type": "code",
   "execution_count": 25,
   "id": "502ed7ef",
   "metadata": {
    "ExecuteTime": {
     "end_time": "2023-03-25T22:45:54.084011Z",
     "start_time": "2023-03-25T22:45:54.070752Z"
    }
   },
   "outputs": [],
   "source": [
    "# Backup do Dataframe\n",
    "\n",
    "df2 = df1.copy()"
   ]
  },
  {
   "cell_type": "markdown",
   "id": "27f7fa1d",
   "metadata": {},
   "source": [
    "## 2.1 Mindmap"
   ]
  },
  {
   "cell_type": "code",
   "execution_count": 26,
   "id": "1894dfd9",
   "metadata": {
    "ExecuteTime": {
     "end_time": "2023-03-25T22:45:54.099699Z",
     "start_time": "2023-03-25T22:45:54.086064Z"
    }
   },
   "outputs": [],
   "source": [
    "## Mostra imagem\n",
    "\n",
    "# Image('img/imagem.png')"
   ]
  },
  {
   "cell_type": "markdown",
   "id": "fc54a8d4",
   "metadata": {},
   "source": [
    "## 2.2 Hypothesis"
   ]
  },
  {
   "cell_type": "code",
   "execution_count": 27,
   "id": "c255cb63",
   "metadata": {
    "ExecuteTime": {
     "end_time": "2023-03-25T22:45:54.115193Z",
     "start_time": "2023-03-25T22:45:54.106720Z"
    }
   },
   "outputs": [],
   "source": [
    "# Criação de hipóteses (brainstorm)\n"
   ]
  },
  {
   "cell_type": "markdown",
   "id": "800aa7fc",
   "metadata": {},
   "source": [
    "## 2.3 Feature Engineering "
   ]
  },
  {
   "cell_type": "code",
   "execution_count": 28,
   "id": "daef81a7",
   "metadata": {
    "ExecuteTime": {
     "end_time": "2023-03-25T22:45:54.130500Z",
     "start_time": "2023-03-25T22:45:54.117469Z"
    }
   },
   "outputs": [],
   "source": [
    "## Criação das features para tentar responder as questões levantadas\n"
   ]
  },
  {
   "cell_type": "markdown",
   "id": "9b429cd9",
   "metadata": {},
   "source": [
    "# 3.0 Data Filtering"
   ]
  },
  {
   "cell_type": "code",
   "execution_count": 29,
   "id": "499337a1",
   "metadata": {
    "ExecuteTime": {
     "end_time": "2023-03-25T22:45:54.146200Z",
     "start_time": "2023-03-25T22:45:54.131503Z"
    }
   },
   "outputs": [],
   "source": [
    "# Backup do Dataframe\n",
    "\n",
    "df3 = df2.copy()"
   ]
  },
  {
   "cell_type": "code",
   "execution_count": 30,
   "id": "ffba58a5",
   "metadata": {
    "ExecuteTime": {
     "end_time": "2023-03-25T22:45:54.161764Z",
     "start_time": "2023-03-25T22:45:54.148199Z"
    }
   },
   "outputs": [],
   "source": [
    "## Caso seja necessária a retirada de alguma feature que não tenha relevância"
   ]
  },
  {
   "cell_type": "markdown",
   "id": "3e741fc2",
   "metadata": {},
   "source": [
    "# 4.0 EDA"
   ]
  },
  {
   "cell_type": "code",
   "execution_count": 31,
   "id": "28136ff3",
   "metadata": {
    "ExecuteTime": {
     "end_time": "2023-03-25T22:45:54.183505Z",
     "start_time": "2023-03-25T22:45:54.163275Z"
    }
   },
   "outputs": [],
   "source": [
    "# Backup do Dataframe\n",
    "\n",
    "df4 = df3.copy()"
   ]
  },
  {
   "cell_type": "markdown",
   "id": "904dd61a",
   "metadata": {},
   "source": [
    "## 4.1 Univariate Analysis"
   ]
  },
  {
   "cell_type": "code",
   "execution_count": null,
   "id": "d68d7c06",
   "metadata": {},
   "outputs": [],
   "source": []
  },
  {
   "cell_type": "markdown",
   "id": "42a8fdc5",
   "metadata": {},
   "source": [
    "## 4.2 Bivariate Analysis"
   ]
  },
  {
   "cell_type": "code",
   "execution_count": null,
   "id": "56862fff",
   "metadata": {},
   "outputs": [],
   "source": []
  },
  {
   "cell_type": "markdown",
   "id": "ffc9a12b",
   "metadata": {},
   "source": [
    "\n",
    "## 4.3 Multivariate Analysis"
   ]
  },
  {
   "cell_type": "code",
   "execution_count": 32,
   "id": "d9a33271",
   "metadata": {
    "ExecuteTime": {
     "end_time": "2023-03-25T22:45:54.199121Z",
     "start_time": "2023-03-25T22:45:54.188044Z"
    }
   },
   "outputs": [],
   "source": [
    "## Gráfico Mapa de calor - mostra a correlação entre as features (qt mais perto de 1, mais relacionado está)\n",
    "\n",
    "#correlation = num_attributes.corr(method='pearson')\n",
    "\n",
    "#sns.heatmap(correlation, annot=True);"
   ]
  },
  {
   "cell_type": "markdown",
   "id": "d9160e37",
   "metadata": {},
   "source": [
    "# 5.0 Data Preparation"
   ]
  },
  {
   "cell_type": "code",
   "execution_count": 33,
   "id": "2797b0b9",
   "metadata": {
    "ExecuteTime": {
     "end_time": "2023-03-25T22:45:54.212157Z",
     "start_time": "2023-03-25T22:45:54.201101Z"
    }
   },
   "outputs": [],
   "source": [
    "# Backup do Dataframe\n",
    "\n",
    "df5 = df4.copy()"
   ]
  },
  {
   "cell_type": "markdown",
   "id": "7f32df08",
   "metadata": {},
   "source": [
    "## 5.1 Standardization"
   ]
  },
  {
   "cell_type": "code",
   "execution_count": null,
   "id": "c042c92d",
   "metadata": {},
   "outputs": [],
   "source": []
  },
  {
   "cell_type": "markdown",
   "id": "1dcbe34a",
   "metadata": {},
   "source": [
    "## 5.2 Rescaling"
   ]
  },
  {
   "cell_type": "code",
   "execution_count": 34,
   "id": "769e39e6",
   "metadata": {
    "ExecuteTime": {
     "end_time": "2023-03-25T22:45:54.227716Z",
     "start_time": "2023-03-25T22:45:54.217253Z"
    }
   },
   "outputs": [],
   "source": [
    "## Métodos para Rescala\n",
    "\n",
    "# rs = RobustScaler()\n",
    "# mms = MinMaxScaler()\n",
    "\n",
    "## Exemplo\n",
    "# df5['feature'] = rs.fit_transform(df5[['feature']].values)\n"
   ]
  },
  {
   "cell_type": "markdown",
   "id": "2dab2528",
   "metadata": {},
   "source": [
    "\n",
    "## 5.3 Encoder"
   ]
  },
  {
   "cell_type": "code",
   "execution_count": 35,
   "id": "1369a36e",
   "metadata": {
    "ExecuteTime": {
     "end_time": "2023-03-25T22:45:54.243203Z",
     "start_time": "2023-03-25T22:45:54.229720Z"
    }
   },
   "outputs": [],
   "source": [
    "le = LabelEncoder()"
   ]
  },
  {
   "cell_type": "markdown",
   "id": "7e951d2a",
   "metadata": {},
   "source": [
    "### 5.3.1 Encoding"
   ]
  },
  {
   "cell_type": "code",
   "execution_count": 36,
   "id": "60897eec",
   "metadata": {
    "ExecuteTime": {
     "end_time": "2023-03-25T22:45:54.337317Z",
     "start_time": "2023-03-25T22:45:54.246444Z"
    }
   },
   "outputs": [],
   "source": [
    "## Label Encoding\n",
    "\n",
    "df5['já_se_hospedou_anterioremente']         = le.fit_transform(df5['já_se_hospedou_anterioremente'])\n",
    "df5['reserva_feita_por_agência_de_turismo']  = le.fit_transform(df5['reserva_feita_por_agência_de_turismo'])\n",
    "df5['reserva_feita_por_empresa']             = le.fit_transform(df5['reserva_feita_por_empresa'])\n",
    "df5['reserva_com_estacionamento']            = le.fit_transform(df5['reserva_com_estacionamento'])\n",
    "df5['forma_de_reserva']                      = le.fit_transform(df5['forma_de_reserva'])\n",
    "df5['classificação_do_hotel']                = le.fit_transform(df5['classificação_do_hotel'])"
   ]
  },
  {
   "cell_type": "code",
   "execution_count": 37,
   "id": "b576d2b4",
   "metadata": {
    "ExecuteTime": {
     "end_time": "2023-03-25T22:45:54.369100Z",
     "start_time": "2023-03-25T22:45:54.339294Z"
    }
   },
   "outputs": [],
   "source": [
    "## Ordinal Encoding (dar peso)\n",
    "\n",
    "## regime_de_alimentação\n",
    "regime_alim_dict = {'Sem refeicao'                   : 0,\n",
    "                    'Café da manha'                  : 1,\n",
    "                    'Café da manha e jantar'         : 2,\n",
    "                    'Café da manha, almoco e jantar' : 3}\n",
    "df5['regime_de_alimentação'] = df5['regime_de_alimentação'].map(regime_alim_dict)\n",
    "\n",
    "## tipo_do_quarto_reservado\n",
    "tp_quarto_dict = {\n",
    "'Moonstone'     :1,\n",
    "'Peridot'       :2,\n",
    "'Topaz'         :3,\n",
    "'Garnet'        :4,\n",
    "'Tanzanite'     :5, \n",
    "'Amethyst'      :6,\n",
    "'Green Emerald' :7,\n",
    "'Pink Sapphire' :8,\n",
    "'Blue Sapphire' :9,   \n",
    "'Red Ruby'      :10 \n",
    "}\n",
    "df5['tipo_do_quarto_reservado'] = df5['tipo_do_quarto_reservado'].map(tp_quarto_dict)\n",
    "\n",
    "## reserva_com_observações\n",
    "reserv_obs_dict = {'Nenhuma':0, '1 a 3':1, 'Mais de 3':2}\n",
    "df5['reserva_com_observações'] = df5['reserva_com_observações'].map(reserv_obs_dict)\n"
   ]
  },
  {
   "cell_type": "code",
   "execution_count": 38,
   "id": "775fd4e5",
   "metadata": {
    "ExecuteTime": {
     "end_time": "2023-03-25T22:45:54.463262Z",
     "start_time": "2023-03-25T22:45:54.371611Z"
    }
   },
   "outputs": [],
   "source": [
    "## Category Encoders\n",
    "\n",
    "count = CountEncoder(cols=['nacionalidade'], return_df=True) \n",
    "df5['nacionalidade'] = count.fit_transform(df5['nacionalidade'])\n"
   ]
  },
  {
   "cell_type": "code",
   "execution_count": 39,
   "id": "358925d0",
   "metadata": {
    "ExecuteTime": {
     "end_time": "2023-03-25T22:45:54.478536Z",
     "start_time": "2023-03-25T22:45:54.465387Z"
    }
   },
   "outputs": [],
   "source": [
    "#num_attributes['class_num_noites'] = num_attributes['número_de_pernoites_reservadas'].apply(lambda x:\n",
    "#                        1 if x <= 2     else\n",
    "#                        2 if 2 < x <= 3 else\n",
    "#                        3 if 3 < x <= 4 else\n",
    "#                        4 if 4 < x <= 7 else\n",
    "#                        5)\n",
    "\n",
    "# num_attributes['class_mes'] = num_attributes['meses_da_reserva_até_o_check_in'].apply(lambda x:\n",
    "#                        1 if x < = 1    else\n",
    "#                        2 if 1 < x <= 3 else\n",
    "#                        3 if 3 < x <= 6 else\n",
    "#                        4 if 6 < x <=13 else\n",
    "#                        5)"
   ]
  },
  {
   "cell_type": "code",
   "execution_count": 40,
   "id": "eef2e5dd",
   "metadata": {
    "ExecuteTime": {
     "end_time": "2023-03-25T22:45:54.525799Z",
     "start_time": "2023-03-25T22:45:54.480535Z"
    }
   },
   "outputs": [
    {
     "data": {
      "text/html": [
       "<div>\n",
       "<style scoped>\n",
       "    .dataframe tbody tr th:only-of-type {\n",
       "        vertical-align: middle;\n",
       "    }\n",
       "\n",
       "    .dataframe tbody tr th {\n",
       "        vertical-align: top;\n",
       "    }\n",
       "\n",
       "    .dataframe thead th {\n",
       "        text-align: right;\n",
       "    }\n",
       "</style>\n",
       "<table border=\"1\" class=\"dataframe\">\n",
       "  <thead>\n",
       "    <tr style=\"text-align: right;\">\n",
       "      <th></th>\n",
       "      <th>5893</th>\n",
       "      <th>34321</th>\n",
       "      <th>65980</th>\n",
       "      <th>18807</th>\n",
       "      <th>65325</th>\n",
       "      <th>7484</th>\n",
       "      <th>66572</th>\n",
       "      <th>19877</th>\n",
       "      <th>67851</th>\n",
       "      <th>322</th>\n",
       "    </tr>\n",
       "  </thead>\n",
       "  <tbody>\n",
       "    <tr>\n",
       "      <th>id</th>\n",
       "      <td>40990.0</td>\n",
       "      <td>79557.0</td>\n",
       "      <td>59763.0</td>\n",
       "      <td>51732.0</td>\n",
       "      <td>28832.0</td>\n",
       "      <td>79463.0</td>\n",
       "      <td>103690.0</td>\n",
       "      <td>67047.0</td>\n",
       "      <td>71790.0</td>\n",
       "      <td>42577.0</td>\n",
       "    </tr>\n",
       "    <tr>\n",
       "      <th>classificação_do_hotel</th>\n",
       "      <td>0.0</td>\n",
       "      <td>0.0</td>\n",
       "      <td>0.0</td>\n",
       "      <td>0.0</td>\n",
       "      <td>1.0</td>\n",
       "      <td>0.0</td>\n",
       "      <td>0.0</td>\n",
       "      <td>0.0</td>\n",
       "      <td>0.0</td>\n",
       "      <td>0.0</td>\n",
       "    </tr>\n",
       "    <tr>\n",
       "      <th>meses_da_reserva_até_o_check_in</th>\n",
       "      <td>1.0</td>\n",
       "      <td>8.0</td>\n",
       "      <td>16.0</td>\n",
       "      <td>11.0</td>\n",
       "      <td>13.0</td>\n",
       "      <td>1.0</td>\n",
       "      <td>3.0</td>\n",
       "      <td>6.0</td>\n",
       "      <td>4.0</td>\n",
       "      <td>1.0</td>\n",
       "    </tr>\n",
       "    <tr>\n",
       "      <th>número_de_pernoites_reservadas</th>\n",
       "      <td>6.0</td>\n",
       "      <td>3.0</td>\n",
       "      <td>2.0</td>\n",
       "      <td>4.0</td>\n",
       "      <td>3.0</td>\n",
       "      <td>4.0</td>\n",
       "      <td>5.0</td>\n",
       "      <td>4.0</td>\n",
       "      <td>4.0</td>\n",
       "      <td>3.0</td>\n",
       "    </tr>\n",
       "    <tr>\n",
       "      <th>número_de_hospedes</th>\n",
       "      <td>2.0</td>\n",
       "      <td>3.0</td>\n",
       "      <td>2.0</td>\n",
       "      <td>137.0</td>\n",
       "      <td>2.0</td>\n",
       "      <td>2.0</td>\n",
       "      <td>3.0</td>\n",
       "      <td>2.0</td>\n",
       "      <td>2.0</td>\n",
       "      <td>2.0</td>\n",
       "    </tr>\n",
       "    <tr>\n",
       "      <th>regime_de_alimentação</th>\n",
       "      <td>1.0</td>\n",
       "      <td>1.0</td>\n",
       "      <td>1.0</td>\n",
       "      <td>1.0</td>\n",
       "      <td>1.0</td>\n",
       "      <td>2.0</td>\n",
       "      <td>1.0</td>\n",
       "      <td>1.0</td>\n",
       "      <td>1.0</td>\n",
       "      <td>1.0</td>\n",
       "    </tr>\n",
       "    <tr>\n",
       "      <th>nacionalidade</th>\n",
       "      <td>34212.0</td>\n",
       "      <td>6251.0</td>\n",
       "      <td>34212.0</td>\n",
       "      <td>34212.0</td>\n",
       "      <td>12.0</td>\n",
       "      <td>34212.0</td>\n",
       "      <td>34212.0</td>\n",
       "      <td>2230.0</td>\n",
       "      <td>2061.0</td>\n",
       "      <td>6251.0</td>\n",
       "    </tr>\n",
       "    <tr>\n",
       "      <th>forma_de_reserva</th>\n",
       "      <td>0.0</td>\n",
       "      <td>0.0</td>\n",
       "      <td>0.0</td>\n",
       "      <td>0.0</td>\n",
       "      <td>0.0</td>\n",
       "      <td>0.0</td>\n",
       "      <td>0.0</td>\n",
       "      <td>0.0</td>\n",
       "      <td>0.0</td>\n",
       "      <td>0.0</td>\n",
       "    </tr>\n",
       "    <tr>\n",
       "      <th>já_se_hospedou_anterioremente</th>\n",
       "      <td>0.0</td>\n",
       "      <td>0.0</td>\n",
       "      <td>0.0</td>\n",
       "      <td>0.0</td>\n",
       "      <td>0.0</td>\n",
       "      <td>0.0</td>\n",
       "      <td>0.0</td>\n",
       "      <td>0.0</td>\n",
       "      <td>0.0</td>\n",
       "      <td>0.0</td>\n",
       "    </tr>\n",
       "    <tr>\n",
       "      <th>tipo_do_quarto_reservado</th>\n",
       "      <td>6.0</td>\n",
       "      <td>6.0</td>\n",
       "      <td>6.0</td>\n",
       "      <td>6.0</td>\n",
       "      <td>6.0</td>\n",
       "      <td>6.0</td>\n",
       "      <td>7.0</td>\n",
       "      <td>6.0</td>\n",
       "      <td>6.0</td>\n",
       "      <td>6.0</td>\n",
       "    </tr>\n",
       "    <tr>\n",
       "      <th>reserva_feita_por_agência_de_turismo</th>\n",
       "      <td>1.0</td>\n",
       "      <td>1.0</td>\n",
       "      <td>1.0</td>\n",
       "      <td>1.0</td>\n",
       "      <td>1.0</td>\n",
       "      <td>1.0</td>\n",
       "      <td>1.0</td>\n",
       "      <td>1.0</td>\n",
       "      <td>1.0</td>\n",
       "      <td>1.0</td>\n",
       "    </tr>\n",
       "    <tr>\n",
       "      <th>reserva_feita_por_empresa</th>\n",
       "      <td>0.0</td>\n",
       "      <td>0.0</td>\n",
       "      <td>0.0</td>\n",
       "      <td>0.0</td>\n",
       "      <td>0.0</td>\n",
       "      <td>0.0</td>\n",
       "      <td>0.0</td>\n",
       "      <td>0.0</td>\n",
       "      <td>0.0</td>\n",
       "      <td>0.0</td>\n",
       "    </tr>\n",
       "    <tr>\n",
       "      <th>reserva_com_estacionamento</th>\n",
       "      <td>0.0</td>\n",
       "      <td>0.0</td>\n",
       "      <td>0.0</td>\n",
       "      <td>0.0</td>\n",
       "      <td>1.0</td>\n",
       "      <td>0.0</td>\n",
       "      <td>0.0</td>\n",
       "      <td>0.0</td>\n",
       "      <td>0.0</td>\n",
       "      <td>0.0</td>\n",
       "    </tr>\n",
       "    <tr>\n",
       "      <th>reserva_com_observações</th>\n",
       "      <td>0.0</td>\n",
       "      <td>0.0</td>\n",
       "      <td>0.0</td>\n",
       "      <td>0.0</td>\n",
       "      <td>0.0</td>\n",
       "      <td>0.0</td>\n",
       "      <td>1.0</td>\n",
       "      <td>1.0</td>\n",
       "      <td>0.0</td>\n",
       "      <td>0.0</td>\n",
       "    </tr>\n",
       "    <tr>\n",
       "      <th>reserva_cancelada</th>\n",
       "      <td>0.0</td>\n",
       "      <td>0.0</td>\n",
       "      <td>1.0</td>\n",
       "      <td>1.0</td>\n",
       "      <td>0.0</td>\n",
       "      <td>0.0</td>\n",
       "      <td>0.0</td>\n",
       "      <td>1.0</td>\n",
       "      <td>1.0</td>\n",
       "      <td>0.0</td>\n",
       "    </tr>\n",
       "  </tbody>\n",
       "</table>\n",
       "</div>"
      ],
      "text/plain": [
       "                                        5893     34321    65980    18807  \\\n",
       "id                                    40990.0  79557.0  59763.0  51732.0   \n",
       "classificação_do_hotel                    0.0      0.0      0.0      0.0   \n",
       "meses_da_reserva_até_o_check_in           1.0      8.0     16.0     11.0   \n",
       "número_de_pernoites_reservadas            6.0      3.0      2.0      4.0   \n",
       "número_de_hospedes                        2.0      3.0      2.0    137.0   \n",
       "regime_de_alimentação                     1.0      1.0      1.0      1.0   \n",
       "nacionalidade                         34212.0   6251.0  34212.0  34212.0   \n",
       "forma_de_reserva                          0.0      0.0      0.0      0.0   \n",
       "já_se_hospedou_anterioremente             0.0      0.0      0.0      0.0   \n",
       "tipo_do_quarto_reservado                  6.0      6.0      6.0      6.0   \n",
       "reserva_feita_por_agência_de_turismo      1.0      1.0      1.0      1.0   \n",
       "reserva_feita_por_empresa                 0.0      0.0      0.0      0.0   \n",
       "reserva_com_estacionamento                0.0      0.0      0.0      0.0   \n",
       "reserva_com_observações                   0.0      0.0      0.0      0.0   \n",
       "reserva_cancelada                         0.0      0.0      1.0      1.0   \n",
       "\n",
       "                                        65325    7484      66572    19877  \\\n",
       "id                                    28832.0  79463.0  103690.0  67047.0   \n",
       "classificação_do_hotel                    1.0      0.0       0.0      0.0   \n",
       "meses_da_reserva_até_o_check_in          13.0      1.0       3.0      6.0   \n",
       "número_de_pernoites_reservadas            3.0      4.0       5.0      4.0   \n",
       "número_de_hospedes                        2.0      2.0       3.0      2.0   \n",
       "regime_de_alimentação                     1.0      2.0       1.0      1.0   \n",
       "nacionalidade                            12.0  34212.0   34212.0   2230.0   \n",
       "forma_de_reserva                          0.0      0.0       0.0      0.0   \n",
       "já_se_hospedou_anterioremente             0.0      0.0       0.0      0.0   \n",
       "tipo_do_quarto_reservado                  6.0      6.0       7.0      6.0   \n",
       "reserva_feita_por_agência_de_turismo      1.0      1.0       1.0      1.0   \n",
       "reserva_feita_por_empresa                 0.0      0.0       0.0      0.0   \n",
       "reserva_com_estacionamento                1.0      0.0       0.0      0.0   \n",
       "reserva_com_observações                   0.0      0.0       1.0      1.0   \n",
       "reserva_cancelada                         0.0      0.0       0.0      1.0   \n",
       "\n",
       "                                        67851    322    \n",
       "id                                    71790.0  42577.0  \n",
       "classificação_do_hotel                    0.0      0.0  \n",
       "meses_da_reserva_até_o_check_in           4.0      1.0  \n",
       "número_de_pernoites_reservadas            4.0      3.0  \n",
       "número_de_hospedes                        2.0      2.0  \n",
       "regime_de_alimentação                     1.0      1.0  \n",
       "nacionalidade                          2061.0   6251.0  \n",
       "forma_de_reserva                          0.0      0.0  \n",
       "já_se_hospedou_anterioremente             0.0      0.0  \n",
       "tipo_do_quarto_reservado                  6.0      6.0  \n",
       "reserva_feita_por_agência_de_turismo      1.0      1.0  \n",
       "reserva_feita_por_empresa                 0.0      0.0  \n",
       "reserva_com_estacionamento                0.0      0.0  \n",
       "reserva_com_observações                   0.0      0.0  \n",
       "reserva_cancelada                         1.0      0.0  "
      ]
     },
     "execution_count": 40,
     "metadata": {},
     "output_type": "execute_result"
    }
   ],
   "source": [
    "df5.sample(10).T"
   ]
  },
  {
   "cell_type": "code",
   "execution_count": 41,
   "id": "d98d0f57",
   "metadata": {
    "ExecuteTime": {
     "end_time": "2023-03-25T22:45:54.540852Z",
     "start_time": "2023-03-25T22:45:54.528800Z"
    }
   },
   "outputs": [
    {
     "data": {
      "text/plain": [
       "id                                        int64\n",
       "classificação_do_hotel                    int32\n",
       "meses_da_reserva_até_o_check_in           int64\n",
       "número_de_pernoites_reservadas            int64\n",
       "número_de_hospedes                      float64\n",
       "regime_de_alimentação                     int64\n",
       "nacionalidade                             int64\n",
       "forma_de_reserva                          int32\n",
       "já_se_hospedou_anterioremente             int32\n",
       "tipo_do_quarto_reservado                  int64\n",
       "reserva_feita_por_agência_de_turismo      int32\n",
       "reserva_feita_por_empresa                 int32\n",
       "reserva_com_estacionamento                int32\n",
       "reserva_com_observações                   int64\n",
       "reserva_cancelada                       float64\n",
       "dtype: object"
      ]
     },
     "execution_count": 41,
     "metadata": {},
     "output_type": "execute_result"
    }
   ],
   "source": [
    "df5.dtypes"
   ]
  },
  {
   "cell_type": "code",
   "execution_count": 42,
   "id": "0b5923ff",
   "metadata": {
    "ExecuteTime": {
     "end_time": "2023-03-25T22:45:54.555999Z",
     "start_time": "2023-03-25T22:45:54.541856Z"
    }
   },
   "outputs": [
    {
     "data": {
      "text/plain": [
       "id                                      0\n",
       "classificação_do_hotel                  0\n",
       "meses_da_reserva_até_o_check_in         0\n",
       "número_de_pernoites_reservadas          0\n",
       "número_de_hospedes                      3\n",
       "regime_de_alimentação                   0\n",
       "nacionalidade                           0\n",
       "forma_de_reserva                        0\n",
       "já_se_hospedou_anterioremente           0\n",
       "tipo_do_quarto_reservado                0\n",
       "reserva_feita_por_agência_de_turismo    0\n",
       "reserva_feita_por_empresa               0\n",
       "reserva_com_estacionamento              0\n",
       "reserva_com_observações                 0\n",
       "reserva_cancelada                       0\n",
       "dtype: int64"
      ]
     },
     "execution_count": 42,
     "metadata": {},
     "output_type": "execute_result"
    }
   ],
   "source": [
    "df5.isna().sum()"
   ]
  },
  {
   "cell_type": "code",
   "execution_count": 43,
   "id": "759cc757",
   "metadata": {
    "ExecuteTime": {
     "end_time": "2023-03-25T22:45:54.593333Z",
     "start_time": "2023-03-25T22:45:54.559008Z"
    }
   },
   "outputs": [
    {
     "data": {
      "text/html": [
       "<div>\n",
       "<style scoped>\n",
       "    .dataframe tbody tr th:only-of-type {\n",
       "        vertical-align: middle;\n",
       "    }\n",
       "\n",
       "    .dataframe tbody tr th {\n",
       "        vertical-align: top;\n",
       "    }\n",
       "\n",
       "    .dataframe thead th {\n",
       "        text-align: right;\n",
       "    }\n",
       "</style>\n",
       "<table border=\"1\" class=\"dataframe\">\n",
       "  <thead>\n",
       "    <tr style=\"text-align: right;\">\n",
       "      <th></th>\n",
       "      <th>8358</th>\n",
       "      <th>36627</th>\n",
       "      <th>64865</th>\n",
       "    </tr>\n",
       "  </thead>\n",
       "  <tbody>\n",
       "    <tr>\n",
       "      <th>id</th>\n",
       "      <td>40887.0</td>\n",
       "      <td>40899.0</td>\n",
       "      <td>41412.0</td>\n",
       "    </tr>\n",
       "    <tr>\n",
       "      <th>classificação_do_hotel</th>\n",
       "      <td>0.0</td>\n",
       "      <td>0.0</td>\n",
       "      <td>0.0</td>\n",
       "    </tr>\n",
       "    <tr>\n",
       "      <th>meses_da_reserva_até_o_check_in</th>\n",
       "      <td>1.0</td>\n",
       "      <td>1.0</td>\n",
       "      <td>1.0</td>\n",
       "    </tr>\n",
       "    <tr>\n",
       "      <th>número_de_pernoites_reservadas</th>\n",
       "      <td>2.0</td>\n",
       "      <td>2.0</td>\n",
       "      <td>7.0</td>\n",
       "    </tr>\n",
       "    <tr>\n",
       "      <th>número_de_hospedes</th>\n",
       "      <td>NaN</td>\n",
       "      <td>NaN</td>\n",
       "      <td>NaN</td>\n",
       "    </tr>\n",
       "    <tr>\n",
       "      <th>regime_de_alimentação</th>\n",
       "      <td>1.0</td>\n",
       "      <td>1.0</td>\n",
       "      <td>1.0</td>\n",
       "    </tr>\n",
       "    <tr>\n",
       "      <th>nacionalidade</th>\n",
       "      <td>34212.0</td>\n",
       "      <td>34212.0</td>\n",
       "      <td>34212.0</td>\n",
       "    </tr>\n",
       "    <tr>\n",
       "      <th>forma_de_reserva</th>\n",
       "      <td>1.0</td>\n",
       "      <td>1.0</td>\n",
       "      <td>1.0</td>\n",
       "    </tr>\n",
       "    <tr>\n",
       "      <th>já_se_hospedou_anterioremente</th>\n",
       "      <td>0.0</td>\n",
       "      <td>0.0</td>\n",
       "      <td>0.0</td>\n",
       "    </tr>\n",
       "    <tr>\n",
       "      <th>tipo_do_quarto_reservado</th>\n",
       "      <td>9.0</td>\n",
       "      <td>9.0</td>\n",
       "      <td>9.0</td>\n",
       "    </tr>\n",
       "    <tr>\n",
       "      <th>reserva_feita_por_agência_de_turismo</th>\n",
       "      <td>1.0</td>\n",
       "      <td>0.0</td>\n",
       "      <td>1.0</td>\n",
       "    </tr>\n",
       "    <tr>\n",
       "      <th>reserva_feita_por_empresa</th>\n",
       "      <td>0.0</td>\n",
       "      <td>0.0</td>\n",
       "      <td>0.0</td>\n",
       "    </tr>\n",
       "    <tr>\n",
       "      <th>reserva_com_estacionamento</th>\n",
       "      <td>0.0</td>\n",
       "      <td>0.0</td>\n",
       "      <td>0.0</td>\n",
       "    </tr>\n",
       "    <tr>\n",
       "      <th>reserva_com_observações</th>\n",
       "      <td>1.0</td>\n",
       "      <td>1.0</td>\n",
       "      <td>1.0</td>\n",
       "    </tr>\n",
       "    <tr>\n",
       "      <th>reserva_cancelada</th>\n",
       "      <td>1.0</td>\n",
       "      <td>1.0</td>\n",
       "      <td>1.0</td>\n",
       "    </tr>\n",
       "  </tbody>\n",
       "</table>\n",
       "</div>"
      ],
      "text/plain": [
       "                                        8358     36627    64865\n",
       "id                                    40887.0  40899.0  41412.0\n",
       "classificação_do_hotel                    0.0      0.0      0.0\n",
       "meses_da_reserva_até_o_check_in           1.0      1.0      1.0\n",
       "número_de_pernoites_reservadas            2.0      2.0      7.0\n",
       "número_de_hospedes                        NaN      NaN      NaN\n",
       "regime_de_alimentação                     1.0      1.0      1.0\n",
       "nacionalidade                         34212.0  34212.0  34212.0\n",
       "forma_de_reserva                          1.0      1.0      1.0\n",
       "já_se_hospedou_anterioremente             0.0      0.0      0.0\n",
       "tipo_do_quarto_reservado                  9.0      9.0      9.0\n",
       "reserva_feita_por_agência_de_turismo      1.0      0.0      1.0\n",
       "reserva_feita_por_empresa                 0.0      0.0      0.0\n",
       "reserva_com_estacionamento                0.0      0.0      0.0\n",
       "reserva_com_observações                   1.0      1.0      1.0\n",
       "reserva_cancelada                         1.0      1.0      1.0"
      ]
     },
     "execution_count": 43,
     "metadata": {},
     "output_type": "execute_result"
    }
   ],
   "source": [
    "df5[df5['número_de_hospedes'].isna()].T"
   ]
  },
  {
   "cell_type": "code",
   "execution_count": 44,
   "id": "4fee866c",
   "metadata": {
    "ExecuteTime": {
     "end_time": "2023-03-25T22:45:54.608858Z",
     "start_time": "2023-03-25T22:45:54.595357Z"
    }
   },
   "outputs": [],
   "source": [
    "df5 = df5.fillna(0)"
   ]
  },
  {
   "cell_type": "code",
   "execution_count": 46,
   "id": "64e74f91",
   "metadata": {
    "ExecuteTime": {
     "end_time": "2023-03-25T22:46:38.840536Z",
     "start_time": "2023-03-25T22:46:38.821368Z"
    }
   },
   "outputs": [],
   "source": [
    "# Aletração da variável para inteiro \n",
    "df5['reserva_cancelada'] = df5['reserva_cancelada'].astype(int)\n",
    "df5['número_de_hospedes'] = df5['número_de_hospedes'].astype(int)"
   ]
  },
  {
   "cell_type": "code",
   "execution_count": 47,
   "id": "021cab23",
   "metadata": {
    "ExecuteTime": {
     "end_time": "2023-03-25T22:46:40.297999Z",
     "start_time": "2023-03-25T22:46:40.272015Z"
    }
   },
   "outputs": [
    {
     "data": {
      "text/plain": [
       "id                                      int64\n",
       "classificação_do_hotel                  int32\n",
       "meses_da_reserva_até_o_check_in         int64\n",
       "número_de_pernoites_reservadas          int64\n",
       "número_de_hospedes                      int32\n",
       "regime_de_alimentação                   int64\n",
       "nacionalidade                           int64\n",
       "forma_de_reserva                        int32\n",
       "já_se_hospedou_anterioremente           int32\n",
       "tipo_do_quarto_reservado                int64\n",
       "reserva_feita_por_agência_de_turismo    int32\n",
       "reserva_feita_por_empresa               int32\n",
       "reserva_com_estacionamento              int32\n",
       "reserva_com_observações                 int64\n",
       "reserva_cancelada                       int32\n",
       "dtype: object"
      ]
     },
     "execution_count": 47,
     "metadata": {},
     "output_type": "execute_result"
    }
   ],
   "source": [
    "df5.dtypes"
   ]
  },
  {
   "cell_type": "markdown",
   "id": "dd7477fc",
   "metadata": {},
   "source": [
    "### 5.3.2 Response Variable Transformation"
   ]
  },
  {
   "cell_type": "code",
   "execution_count": null,
   "id": "d53b08b1",
   "metadata": {},
   "outputs": [],
   "source": []
  },
  {
   "cell_type": "markdown",
   "id": "1f02db97",
   "metadata": {},
   "source": [
    "### 5.3.3 Nature Transformation"
   ]
  },
  {
   "cell_type": "code",
   "execution_count": null,
   "id": "1ae7bc4a",
   "metadata": {},
   "outputs": [],
   "source": []
  },
  {
   "cell_type": "markdown",
   "id": "6df72047",
   "metadata": {},
   "source": [
    "## 5.4 Validation Preparation"
   ]
  },
  {
   "cell_type": "code",
   "execution_count": null,
   "id": "d2ed6159",
   "metadata": {},
   "outputs": [],
   "source": []
  },
  {
   "cell_type": "markdown",
   "id": "984bbe44",
   "metadata": {},
   "source": [
    "# 6.0 Feature Selection"
   ]
  },
  {
   "cell_type": "code",
   "execution_count": 48,
   "id": "7cf70d0b",
   "metadata": {
    "ExecuteTime": {
     "end_time": "2023-03-25T22:46:48.653472Z",
     "start_time": "2023-03-25T22:46:48.629146Z"
    }
   },
   "outputs": [],
   "source": [
    "# Backup do Dataframe\n",
    "\n",
    "df6 = df5.copy()"
   ]
  },
  {
   "cell_type": "code",
   "execution_count": null,
   "id": "0c6339b4",
   "metadata": {
    "ExecuteTime": {
     "end_time": "2023-03-25T22:45:55.069663Z",
     "start_time": "2023-03-25T22:45:55.069663Z"
    }
   },
   "outputs": [],
   "source": [
    "## Drop das features que não serão utilizadas\n",
    "\n",
    "# X_train = df6.drop(['col_index','var_resposta'],axis=1)\n",
    "# X_validation = X_validation.drop('var_resposta',axis=1)"
   ]
  },
  {
   "cell_type": "markdown",
   "id": "49c8f5dd",
   "metadata": {},
   "source": [
    "## 6.1 Feature Selector (boruta)"
   ]
  },
  {
   "cell_type": "code",
   "execution_count": null,
   "id": "ec97976b",
   "metadata": {
    "ExecuteTime": {
     "end_time": "2023-03-25T22:45:55.070663Z",
     "start_time": "2023-03-25T22:45:55.070663Z"
    }
   },
   "outputs": [],
   "source": [
    "# X_train_n = X_train.values\n",
    "# y_train_n = y_train.values.ravel() \n",
    "\n",
    "## Define RandomForest\n",
    "\n",
    "# rf = RandomForestClassifier(n_jobs=-1, n_estimators=500)\n",
    "# boruta = BorutaPy(rf, n_estimators='auto', random_state=42).fit(X_train_n, y_train_n)\n",
    "# cols_selected = boruta.support_.tolist()\n",
    "\n",
    "\n",
    "# X_train_fs = X_train\n",
    "# cols_selected_boruta = X_train_fs.iloc[:, cols_selected].columns.to_list()\n",
    "\n",
    "# cols_not_selected_boruta = list(np.setdiff1d(X_train_fs.columns, cols_selected_boruta) )\n",
    "# cols_selected_boruta"
   ]
  },
  {
   "cell_type": "markdown",
   "id": "0bc8aa41",
   "metadata": {},
   "source": [
    "## 6.2 Feature Importance (RandomForest)"
   ]
  },
  {
   "cell_type": "code",
   "execution_count": null,
   "id": "8d42b6f4",
   "metadata": {
    "ExecuteTime": {
     "end_time": "2023-03-25T22:45:55.073181Z",
     "start_time": "2023-03-25T22:45:55.073181Z"
    }
   },
   "outputs": [],
   "source": [
    "## Lista de features ordenadas por importância\n",
    "\n",
    "# Define\n",
    "# rf = RandomForestClassifier(random_state=42, n_jobs=-1, n_estimators=500).fit(X_train, y_train)\n",
    "# feature_importance_sorted = rf.feature_importances_.argsort()\n",
    "\n",
    "## Exibição\n",
    "# sns.barplot(y=rf.feature_names_in_[feature_importance_sorted], x=rf.feature_importances_[feature_importance_sorted] );\n",
    "# df_feature_importance_rf = pd.DataFrame( {'feature'    :rf.feature_names_in_[feature_importance_sorted],\n",
    "#                                           'importance' :rf.feature_importances_[feature_importance_sorted] } )\n",
    "# df_feature_importance_rf.sort_values(by='importance', ascending=False)"
   ]
  },
  {
   "cell_type": "markdown",
   "id": "edfa5edf",
   "metadata": {},
   "source": [
    "## 6.3 Feature Importance (XGBoost)"
   ]
  },
  {
   "cell_type": "code",
   "execution_count": null,
   "id": "742882b8",
   "metadata": {
    "ExecuteTime": {
     "end_time": "2023-03-25T22:45:55.074936Z",
     "start_time": "2023-03-25T22:45:55.074936Z"
    }
   },
   "outputs": [],
   "source": [
    "## Lista de features ordenadas por importância\n",
    "\n",
    "# xgbc = XGBClassifier(random_state=42, n_jobs=-1, n_estimators=500).fit(X_train, y_train)\n",
    "# feature_importance_sorted = xgbc.feature_importances_.argsort()\n",
    "\n",
    "## Exibição\n",
    "# sns.barplot(y=xgbc.feature_names_in_[feature_importance_sorted], x=xgbc.feature_importances_[feature_importance_sorted] );\n",
    "# df_feature_importance_xgbc = pd.DataFrame( {'feature':xgbc.feature_names_in_[feature_importance_sorted],\n",
    "#                                             'importance': xgbc.feature_importances_[feature_importance_sorted] } )\n",
    "# df_feature_importance_xgbc.sort_values(by='importance', ascending=False)"
   ]
  },
  {
   "cell_type": "markdown",
   "id": "e1a73781",
   "metadata": {},
   "source": [
    "# 7.0 Machine Learning Models"
   ]
  },
  {
   "cell_type": "code",
   "execution_count": 49,
   "id": "5e1ccc46",
   "metadata": {
    "ExecuteTime": {
     "end_time": "2023-03-25T22:46:57.673623Z",
     "start_time": "2023-03-25T22:46:57.616676Z"
    }
   },
   "outputs": [],
   "source": [
    "train = df6.copy()\n",
    "X_train = train.drop(columns='reserva_cancelada')\n",
    "y_train = train['reserva_cancelada']\n",
    "\n",
    "X_train, X_val, y_train, y_val = ms.train_test_split(X_train, y_train, test_size=0.2, random_state=42)"
   ]
  },
  {
   "cell_type": "code",
   "execution_count": null,
   "id": "143fda36",
   "metadata": {
    "ExecuteTime": {
     "end_time": "2023-03-25T22:45:55.079204Z",
     "start_time": "2023-03-25T22:45:55.079204Z"
    }
   },
   "outputs": [],
   "source": [
    "# Dados de Treino + Validação\n",
    "\n",
    "## Define\n",
    "# model = tr.DecisionTreeClassifier(max_depth=)\n",
    "\n",
    "## Training\n",
    "# model.fit(np.concatenate((X_train, X_val), np.concatenate((y_train, y_val)))\n",
    "\n",
    "## Classificação\n",
    "# yhat_val = model.predict(X_val)\n",
    "\n",
    "## Métrica sobre os dados de validação\n",
    "# acc_val = mt.accuracy_score(y_val, yhat_val)\n",
    "# print('Accuracy over Validation: {}'.format(acc_val))\n",
    "\n"
   ]
  },
  {
   "cell_type": "code",
   "execution_count": 50,
   "id": "e8191ddf",
   "metadata": {
    "ExecuteTime": {
     "end_time": "2023-03-25T22:47:01.763629Z",
     "start_time": "2023-03-25T22:47:01.220987Z"
    }
   },
   "outputs": [
    {
     "name": "stdout",
     "output_type": "stream",
     "text": [
      "F1-Score over Validation: 0.5268681780016793\n"
     ]
    },
    {
     "name": "stderr",
     "output_type": "stream",
     "text": [
      "C:\\Users\\marci\\anaconda3\\lib\\site-packages\\sklearn\\linear_model\\_logistic.py:814: ConvergenceWarning: lbfgs failed to converge (status=1):\n",
      "STOP: TOTAL NO. of ITERATIONS REACHED LIMIT.\n",
      "\n",
      "Increase the number of iterations (max_iter) or scale the data as shown in:\n",
      "    https://scikit-learn.org/stable/modules/preprocessing.html\n",
      "Please also refer to the documentation for alternative solver options:\n",
      "    https://scikit-learn.org/stable/modules/linear_model.html#logistic-regression\n",
      "  n_iter_i = _check_optimize_result(\n"
     ]
    }
   ],
   "source": [
    "# Dados de Treino + Validação\n",
    "\n",
    "## Define\n",
    "model = LogisticRegression()\n",
    "\n",
    "## Training\n",
    "#model.fit(np.concatenate((X_train, X_val), np.concatenate((y_train, y_val)))\n",
    "model.fit(X_train, y_train)\n",
    "\n",
    "## Classificação\n",
    "yhat_val = model.predict(X_val)\n",
    "\n",
    "## Métrica sobre os dados de validação\n",
    "f1score_val = mt.f1_score(y_val, yhat_val)\n",
    "print('F1-Score over Validation: {}'.format(f1score_val))\n",
    "\n"
   ]
  },
  {
   "cell_type": "code",
   "execution_count": null,
   "id": "625e2309",
   "metadata": {
    "ExecuteTime": {
     "end_time": "2023-03-25T22:45:55.085447Z",
     "start_time": "2023-03-25T22:45:55.085447Z"
    }
   },
   "outputs": [],
   "source": [
    "# Dados de Treino + Produção\n",
    "\n",
    "## Define\n",
    "# model = tr.DecisionTreeClassifier(max_depth=)\n",
    "\n",
    "## Training\n",
    "# model.fit(np.concatenate((X_train, X_val), np.concatenate((y_train, y_val)))\n",
    "\n",
    "## Classificação\n",
    "# yhat_pred = model.predict(X_prod)\n",
    "\n",
    "## Métrica sobre os dados de validação\n",
    "# acc_prod = mt.accuracy_score(y_prod, yhat_pred)\n",
    "# print('Accuracy over production: {}'.format(acc_prod))\n",
    "\n"
   ]
  },
  {
   "cell_type": "markdown",
   "id": "8ec5d2d9",
   "metadata": {},
   "source": [
    "## 7.1 Models and Cross-Validation"
   ]
  },
  {
   "cell_type": "code",
   "execution_count": null,
   "id": "11923ba6",
   "metadata": {},
   "outputs": [],
   "source": []
  },
  {
   "cell_type": "markdown",
   "id": "20b912fa",
   "metadata": {},
   "source": [
    "## 7.2 Model to Submission"
   ]
  },
  {
   "cell_type": "code",
   "execution_count": 55,
   "id": "84a63a9d",
   "metadata": {
    "ExecuteTime": {
     "end_time": "2023-03-25T22:50:33.388699Z",
     "start_time": "2023-03-25T22:50:33.186203Z"
    }
   },
   "outputs": [],
   "source": [
    "## Label Encoding\n",
    "\n",
    "test['já_se_hospedou_anterioremente']         = le.fit_transform(test['já_se_hospedou_anterioremente'])\n",
    "test['reserva_feita_por_agência_de_turismo']  = le.fit_transform(test['reserva_feita_por_agência_de_turismo'])\n",
    "test['reserva_feita_por_empresa']             = le.fit_transform(test['reserva_feita_por_empresa'])\n",
    "test['reserva_com_estacionamento']            = le.fit_transform(test['reserva_com_estacionamento'])\n",
    "test['forma_de_reserva']                      = le.fit_transform(test['forma_de_reserva'])\n",
    "test['classificação_do_hotel']                = le.fit_transform(test['classificação_do_hotel'])\n",
    "\n",
    "## Ordinal Encoding (dar peso)\n",
    "\n",
    "## regime_de_alimentação\n",
    "regime_alim_dict = {'Sem refeicao'                   : 0,\n",
    "                    'Café da manha'                  : 1,\n",
    "                    'Café da manha e jantar'         : 2,\n",
    "                    'Café da manha, almoco e jantar' : 3}\n",
    "test['regime_de_alimentação'] = test['regime_de_alimentação'].map(regime_alim_dict)\n",
    "\n",
    "## tipo_do_quarto_reservado\n",
    "tp_quarto_dict = {\n",
    "'Moonstone'     :1,\n",
    "'Peridot'       :2,\n",
    "'Topaz'         :3,\n",
    "'Garnet'        :4,\n",
    "'Tanzanite'     :5, \n",
    "'Amethyst'      :6,\n",
    "'Green Emerald' :7,\n",
    "'Pink Sapphire' :8,\n",
    "'Blue Sapphire' :9,   \n",
    "'Red Ruby'      :10 \n",
    "}\n",
    "test['tipo_do_quarto_reservado'] = test['tipo_do_quarto_reservado'].map(tp_quarto_dict)\n",
    "\n",
    "## reserva_com_observações\n",
    "reserv_obs_dict = {'Nenhuma':0, '1 a 3':1, 'Mais de 3':2}\n",
    "test['reserva_com_observações'] = test['reserva_com_observações'].map(reserv_obs_dict)\n",
    "\n",
    "\n",
    "## Category Encoders\n",
    "\n",
    "count = CountEncoder(cols=['nacionalidade'], return_df=True) \n",
    "test['nacionalidade'] = count.fit_transform(test['nacionalidade'])\n",
    "\n",
    "\n",
    "\n",
    "## Limpezas dos NA's\n",
    "test = test.fillna(0)\n",
    "\n",
    "\n",
    "## Alteração da variável alvo\n",
    "test['número_de_hospedes'] = test['número_de_hospedes'].astype(int)\n",
    "test['regime_de_alimentação'] = test['regime_de_alimentação'].astype(int)\n",
    "test['tipo_do_quarto_reservado'] = test['tipo_do_quarto_reservado'].astype(int)\n",
    "test['reserva_com_observações'] = test['reserva_com_observações'].astype(int)"
   ]
  },
  {
   "cell_type": "code",
   "execution_count": 56,
   "id": "16d7dd5c",
   "metadata": {
    "ExecuteTime": {
     "end_time": "2023-03-25T22:50:34.951369Z",
     "start_time": "2023-03-25T22:50:34.926265Z"
    }
   },
   "outputs": [
    {
     "data": {
      "text/plain": [
       "id                                      int64\n",
       "classificação_do_hotel                  int64\n",
       "meses_da_reserva_até_o_check_in         int64\n",
       "número_de_pernoites_reservadas          int64\n",
       "número_de_hospedes                      int32\n",
       "regime_de_alimentação                   int32\n",
       "nacionalidade                           int64\n",
       "forma_de_reserva                        int64\n",
       "já_se_hospedou_anterioremente           int64\n",
       "tipo_do_quarto_reservado                int32\n",
       "reserva_feita_por_agência_de_turismo    int64\n",
       "reserva_feita_por_empresa               int64\n",
       "reserva_com_estacionamento              int64\n",
       "reserva_com_observações                 int32\n",
       "dtype: object"
      ]
     },
     "execution_count": 56,
     "metadata": {},
     "output_type": "execute_result"
    }
   ],
   "source": [
    "test.dtypes"
   ]
  },
  {
   "cell_type": "code",
   "execution_count": 57,
   "id": "ceebf395",
   "metadata": {
    "ExecuteTime": {
     "end_time": "2023-03-25T22:50:38.746881Z",
     "start_time": "2023-03-25T22:50:38.709356Z"
    }
   },
   "outputs": [
    {
     "data": {
      "text/html": [
       "<div>\n",
       "<style scoped>\n",
       "    .dataframe tbody tr th:only-of-type {\n",
       "        vertical-align: middle;\n",
       "    }\n",
       "\n",
       "    .dataframe tbody tr th {\n",
       "        vertical-align: top;\n",
       "    }\n",
       "\n",
       "    .dataframe thead th {\n",
       "        text-align: right;\n",
       "    }\n",
       "</style>\n",
       "<table border=\"1\" class=\"dataframe\">\n",
       "  <thead>\n",
       "    <tr style=\"text-align: right;\">\n",
       "      <th></th>\n",
       "      <th>id</th>\n",
       "      <th>Reserva Cancelada</th>\n",
       "    </tr>\n",
       "  </thead>\n",
       "  <tbody>\n",
       "    <tr>\n",
       "      <th>0</th>\n",
       "      <td>118345</td>\n",
       "      <td>0</td>\n",
       "    </tr>\n",
       "    <tr>\n",
       "      <th>1</th>\n",
       "      <td>9500</td>\n",
       "      <td>0</td>\n",
       "    </tr>\n",
       "    <tr>\n",
       "      <th>2</th>\n",
       "      <td>34558</td>\n",
       "      <td>0</td>\n",
       "    </tr>\n",
       "    <tr>\n",
       "      <th>3</th>\n",
       "      <td>70816</td>\n",
       "      <td>1</td>\n",
       "    </tr>\n",
       "    <tr>\n",
       "      <th>4</th>\n",
       "      <td>105321</td>\n",
       "      <td>0</td>\n",
       "    </tr>\n",
       "  </tbody>\n",
       "</table>\n",
       "</div>"
      ],
      "text/plain": [
       "       id  Reserva Cancelada\n",
       "0  118345                  0\n",
       "1    9500                  0\n",
       "2   34558                  0\n",
       "3   70816                  1\n",
       "4  105321                  0"
      ]
     },
     "execution_count": 57,
     "metadata": {},
     "output_type": "execute_result"
    }
   ],
   "source": [
    "predicao_lr = model.predict(test)\n",
    "\n",
    "df_final_lr = pd.concat([test.id, pd.Series(predicao_lr, name = 'Reserva Cancelada')], axis=1)\n",
    "\n",
    "df_final_lr.head()\n"
   ]
  },
  {
   "cell_type": "code",
   "execution_count": 58,
   "id": "f047d9b8",
   "metadata": {
    "ExecuteTime": {
     "end_time": "2023-03-25T22:50:43.213577Z",
     "start_time": "2023-03-25T22:50:43.190305Z"
    }
   },
   "outputs": [
    {
     "data": {
      "text/plain": [
       "id                   int64\n",
       "Reserva Cancelada    int32\n",
       "dtype: object"
      ]
     },
     "execution_count": 58,
     "metadata": {},
     "output_type": "execute_result"
    }
   ],
   "source": [
    "df_final_lr.dtypes"
   ]
  },
  {
   "cell_type": "code",
   "execution_count": 59,
   "id": "5385b72a",
   "metadata": {
    "ExecuteTime": {
     "end_time": "2023-03-25T22:50:45.460012Z",
     "start_time": "2023-03-25T22:50:45.378309Z"
    }
   },
   "outputs": [],
   "source": [
    "df_final_lr.to_csv('../data/result/submission.csv', index=False) #Arquivo de submissão pronto para ser enviado."
   ]
  },
  {
   "cell_type": "markdown",
   "id": "2f63e502",
   "metadata": {},
   "source": [
    "# 8.0 Hyperparameter Fine Tunning"
   ]
  },
  {
   "cell_type": "markdown",
   "id": "ed5b6f39",
   "metadata": {},
   "source": [
    "## 8.1 Model 1 (RandomForest)"
   ]
  },
  {
   "cell_type": "code",
   "execution_count": null,
   "id": "3097205e",
   "metadata": {
    "ExecuteTime": {
     "end_time": "2023-03-25T22:45:55.096601Z",
     "start_time": "2023-03-25T22:45:55.096601Z"
    }
   },
   "outputs": [],
   "source": [
    "## Definição dos parâmetros utilizados pelo algoritmo\n",
    "\n",
    "# parameters = {\n",
    "#     'n_estimators': [800,1200,2000],\n",
    "#     'max_depth': [5,20,40,80,None],\n",
    "#     'min_samples_split': [2,10,20,40],\n",
    "#     'min_impurity_decrease': [0,.05,0.1]\n",
    "# }\n",
    "\n",
    "\n",
    "## Definição do método\n",
    "\n",
    "# skf = StratifiedKFold(n_splits = 10)\n",
    "# rf_search =  BayesSearchCV(estimator = RandomForestClassifier(max_features = 'sqrt'),\n",
    "#                            search_spaces = parameters,\n",
    "#                            n_jobs = -1,\n",
    "#                            cv = skf,\n",
    "#                            scoring = 'f1_weighted',\n",
    "#                            random_state = 42)\n",
    "\n",
    "# rf_search_result = rf_search.fit(x_train, y_train)"
   ]
  },
  {
   "cell_type": "markdown",
   "id": "be0e44e2",
   "metadata": {},
   "source": [
    "## 8.1 Model 2 (XGBoost)"
   ]
  },
  {
   "cell_type": "code",
   "execution_count": null,
   "id": "ba046dac",
   "metadata": {
    "ExecuteTime": {
     "end_time": "2023-03-25T22:45:55.098601Z",
     "start_time": "2023-03-25T22:45:55.098601Z"
    }
   },
   "outputs": [],
   "source": [
    "## Definição dos parâmetros utilizados pelo algoritmo\n",
    "\n",
    "# parameters = {\n",
    "#     'n_estimators': [500,800,1200,1600,2200,3000],\n",
    "#     'learning_rate': [0.05,0.1,0.15],\n",
    "#     'max_depth': [10,20,40,80,None],\n",
    "#     'min_samples_split': [2,10,20,40,100],\n",
    "#     'min_impurity_decrease': [0,.05,.1],\n",
    "#     'colsample_bytree': [0.3,0.5,0.8],\n",
    "#     'subsample': [0.1,0.4,0.7]\n",
    "# }\n",
    "\n",
    "\n",
    "# skf = StratifiedKFold(n_splits=10)\n",
    "# xgb_search =  BayesSearchCV(estimator = XGBClassifier(),\n",
    "#                            search_spaces = parameters,\n",
    "#                            n_jobs = -1,\n",
    "#                            cv = skf,\n",
    "#                            scoring = 'f1_weighted',\n",
    "#                            random_state = 42)\n",
    "\n",
    "# xgb_search_result = xgb_search.fit(x_train, y_train)"
   ]
  }
 ],
 "metadata": {
  "kernelspec": {
   "display_name": "Python 3 (ipykernel)",
   "language": "python",
   "name": "python3"
  },
  "language_info": {
   "codemirror_mode": {
    "name": "ipython",
    "version": 3
   },
   "file_extension": ".py",
   "mimetype": "text/x-python",
   "name": "python",
   "nbconvert_exporter": "python",
   "pygments_lexer": "ipython3",
   "version": "3.9.13"
  },
  "toc": {
   "base_numbering": 1,
   "nav_menu": {},
   "number_sections": false,
   "sideBar": true,
   "skip_h1_title": false,
   "title_cell": "Table of Contents",
   "title_sidebar": "Contents",
   "toc_cell": false,
   "toc_position": {
    "height": "calc(100% - 180px)",
    "left": "10px",
    "top": "150px",
    "width": "306px"
   },
   "toc_section_display": true,
   "toc_window_display": true
  },
  "vscode": {
   "interpreter": {
    "hash": "7ea365085f3807110e1cdcb04122fb278047fe100a09bc2730588139759355b3"
   }
  }
 },
 "nbformat": 4,
 "nbformat_minor": 5
}
