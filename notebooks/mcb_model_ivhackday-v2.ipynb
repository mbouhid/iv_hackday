{
 "cells": [
  {
   "cell_type": "markdown",
   "id": "414269b6",
   "metadata": {},
   "source": [
    "# Projet Name\n",
    "* Description"
   ]
  },
  {
   "cell_type": "markdown",
   "id": "f299e24b",
   "metadata": {},
   "source": [
    "# 0.0 Imports"
   ]
  },
  {
   "cell_type": "markdown",
   "id": "5e3bf30c",
   "metadata": {},
   "source": [
    "## 0.0 Libs"
   ]
  },
  {
   "cell_type": "code",
   "execution_count": 72,
   "id": "163d310e",
   "metadata": {
    "ExecuteTime": {
     "end_time": "2023-03-25T23:47:15.888178Z",
     "start_time": "2023-03-25T23:47:15.866206Z"
    }
   },
   "outputs": [],
   "source": [
    "# Importação das bibliotecas\n",
    "\n",
    "import numpy as np\n",
    "import pandas as pd\n",
    "import inflection\n",
    "\n",
    "import seaborn as sns\n",
    "from matplotlib import pyplot as plt\n",
    "\n",
    "\n",
    "# Pré-processamento\n",
    "from sklearn.preprocessing  import RobustScaler, MinMaxScaler, LabelEncoder, OneHotEncoder, OrdinalEncoder\n",
    "from category_encoders.count import CountEncoder\n",
    "\n",
    "from sklearn import metrics           as mt\n",
    "from sklearn import model_selection   as ms\n",
    "\n",
    "####### Algoritmos para Classificação e Regressão\n",
    "# from sklearn.neighbors      import KNeighborsClassifier\n",
    "# from sklearn.ensemble       import RandomForestClassifier\n",
    "# from xgboost                import XGBClassifier\n",
    "\n",
    "# from sklearn.ensemble       import RandomForestRegressor\n",
    "\n",
    "# from sklearn                import linear_model as lm\n",
    "# from sklearn.linear_model   import LogisticRegression, LinearRegression, Lasso\n",
    "\n",
    "from sklearn.linear_model   import LogisticRegression\n",
    "from sklearn                import svm\n",
    "from sklearn                import tree\n",
    "\n",
    "\n",
    "\n",
    "####### Algoritmos só para Classificação\n",
    "# from sklearn.naive_bayes  import MultinomialNB\n",
    "# from sklearn.naive_bayes  import CategoricalNB\n",
    "# from mixed_naive_bayes    import MixedNB\n",
    "\n",
    "\n",
    "# --\n",
    "# Lib para não mostrar warnings de melhorias futuras (sugestão de novos comandos) das bibliotecas\n",
    "# import warnings\n",
    "# warnings.filterwarnings('ignore')\n",
    "\n",
    "# from boruta                 import BorutaPy\n",
    "\n",
    "# from IPython.display        import Image"
   ]
  },
  {
   "cell_type": "markdown",
   "id": "78850f81",
   "metadata": {},
   "source": [
    "## 0.1 Help Functions"
   ]
  },
  {
   "cell_type": "code",
   "execution_count": 2,
   "id": "f3ef0afb",
   "metadata": {
    "ExecuteTime": {
     "end_time": "2023-03-25T23:30:16.763503Z",
     "start_time": "2023-03-25T23:30:16.749513Z"
    }
   },
   "outputs": [],
   "source": [
    "# Funções criadas para evitar retrabalho\n",
    "\n",
    "\n",
    "def data_description(df):\n",
    "    print('Variables:\\n\\n{}'.format(df.dtypes), end='\\n\\n')\n",
    "    print('===============================')\n",
    "    print('Number of rows {}'.format(df.shape[0]), end='\\n\\n')\n",
    "    print('Number of columns {}'.format(df.shape[1]), end='\\n\\n')\n",
    "    print('===============================')\n",
    "    print('NA analysis'.format(end='\\n') )\n",
    "    for i in df.columns:\n",
    "        print('column {}: {} {}'.format(i,df[i].isna().any(), df[i].isna().sum() ) )\n",
    "    print('===============================')\n",
    "    print('Unique values for each columns'.format(end='\\n') )\n",
    "    for i in df.columns:\n",
    "        print('column {}: {}'.format(i,df[i].unique() ) )\n",
    "\n",
    "\n",
    "\n",
    "\n"
   ]
  },
  {
   "cell_type": "markdown",
   "id": "8612300e",
   "metadata": {},
   "source": [
    "## 0.2 Load Data"
   ]
  },
  {
   "cell_type": "code",
   "execution_count": 3,
   "id": "d4e6cb05",
   "metadata": {
    "ExecuteTime": {
     "end_time": "2023-03-25T23:30:17.025473Z",
     "start_time": "2023-03-25T23:30:16.770584Z"
    }
   },
   "outputs": [],
   "source": [
    "# Coleta de dados do diretório /data, do banco de dados, ou outro lugar especificado abaixo\n",
    "\n",
    "train = pd.read_csv('../data/train.csv')\n",
    "\n",
    "test = pd.read_csv('../data/test.csv')\n"
   ]
  },
  {
   "cell_type": "code",
   "execution_count": 4,
   "id": "cb36b61b",
   "metadata": {
    "ExecuteTime": {
     "end_time": "2023-03-25T23:30:17.041353Z",
     "start_time": "2023-03-25T23:30:17.027472Z"
    }
   },
   "outputs": [
    {
     "data": {
      "text/plain": [
       "((72159, 15), (48106, 14))"
      ]
     },
     "execution_count": 4,
     "metadata": {},
     "output_type": "execute_result"
    }
   ],
   "source": [
    "train.shape, test.shape"
   ]
  },
  {
   "cell_type": "code",
   "execution_count": 5,
   "id": "15fd7e53",
   "metadata": {
    "ExecuteTime": {
     "end_time": "2023-03-25T23:30:17.072471Z",
     "start_time": "2023-03-25T23:30:17.043327Z"
    }
   },
   "outputs": [
    {
     "data": {
      "text/html": [
       "<div>\n",
       "<style scoped>\n",
       "    .dataframe tbody tr th:only-of-type {\n",
       "        vertical-align: middle;\n",
       "    }\n",
       "\n",
       "    .dataframe tbody tr th {\n",
       "        vertical-align: top;\n",
       "    }\n",
       "\n",
       "    .dataframe thead th {\n",
       "        text-align: right;\n",
       "    }\n",
       "</style>\n",
       "<table border=\"1\" class=\"dataframe\">\n",
       "  <thead>\n",
       "    <tr style=\"text-align: right;\">\n",
       "      <th></th>\n",
       "      <th>39331</th>\n",
       "      <th>65976</th>\n",
       "      <th>43873</th>\n",
       "      <th>46528</th>\n",
       "      <th>25683</th>\n",
       "    </tr>\n",
       "  </thead>\n",
       "  <tbody>\n",
       "    <tr>\n",
       "      <th>id</th>\n",
       "      <td>21160</td>\n",
       "      <td>77387</td>\n",
       "      <td>8408</td>\n",
       "      <td>6862</td>\n",
       "      <td>97466</td>\n",
       "    </tr>\n",
       "    <tr>\n",
       "      <th>Classificação do hotel</th>\n",
       "      <td>5 estrelas</td>\n",
       "      <td>4 estrelas</td>\n",
       "      <td>5 estrelas</td>\n",
       "      <td>5 estrelas</td>\n",
       "      <td>4 estrelas</td>\n",
       "    </tr>\n",
       "    <tr>\n",
       "      <th>Meses da reserva até o check-in</th>\n",
       "      <td>1</td>\n",
       "      <td>1</td>\n",
       "      <td>10</td>\n",
       "      <td>7</td>\n",
       "      <td>1</td>\n",
       "    </tr>\n",
       "    <tr>\n",
       "      <th>Número de pernoites reservadas</th>\n",
       "      <td>1</td>\n",
       "      <td>2</td>\n",
       "      <td>461</td>\n",
       "      <td>14</td>\n",
       "      <td>2</td>\n",
       "    </tr>\n",
       "    <tr>\n",
       "      <th>Número de hospedes</th>\n",
       "      <td>2.0</td>\n",
       "      <td>1.0</td>\n",
       "      <td>2.0</td>\n",
       "      <td>2.0</td>\n",
       "      <td>1.0</td>\n",
       "    </tr>\n",
       "    <tr>\n",
       "      <th>Regime de alimentação</th>\n",
       "      <td>Café da manha</td>\n",
       "      <td>Café da manha</td>\n",
       "      <td>Café da manha</td>\n",
       "      <td>Café da manha e jantar</td>\n",
       "      <td>Sem refeicao</td>\n",
       "    </tr>\n",
       "    <tr>\n",
       "      <th>Nacionalidade</th>\n",
       "      <td>Spain</td>\n",
       "      <td>Spain</td>\n",
       "      <td>Spain</td>\n",
       "      <td>Poland</td>\n",
       "      <td>Belgium</td>\n",
       "    </tr>\n",
       "    <tr>\n",
       "      <th>Forma de Reserva</th>\n",
       "      <td>Balcão</td>\n",
       "      <td>Balcão</td>\n",
       "      <td>Agência</td>\n",
       "      <td>Agência</td>\n",
       "      <td>Agência</td>\n",
       "    </tr>\n",
       "    <tr>\n",
       "      <th>Já se hospedou anterioremente</th>\n",
       "      <td>Sim</td>\n",
       "      <td>Sim</td>\n",
       "      <td>Não</td>\n",
       "      <td>Não</td>\n",
       "      <td>Não</td>\n",
       "    </tr>\n",
       "    <tr>\n",
       "      <th>Tipo do quarto reservado</th>\n",
       "      <td>Amethyst</td>\n",
       "      <td>Amethyst</td>\n",
       "      <td>Amethyst</td>\n",
       "      <td>Green Emerald</td>\n",
       "      <td>Amethyst</td>\n",
       "    </tr>\n",
       "    <tr>\n",
       "      <th>Reserva feita por agência de turismo</th>\n",
       "      <td>Sim</td>\n",
       "      <td>Não</td>\n",
       "      <td>Sim</td>\n",
       "      <td>Sim</td>\n",
       "      <td>Sim</td>\n",
       "    </tr>\n",
       "    <tr>\n",
       "      <th>Reserva feita por empresa</th>\n",
       "      <td>Não</td>\n",
       "      <td>Sim</td>\n",
       "      <td>Não</td>\n",
       "      <td>Não</td>\n",
       "      <td>Não</td>\n",
       "    </tr>\n",
       "    <tr>\n",
       "      <th>Reserva com Estacionamento</th>\n",
       "      <td>Não</td>\n",
       "      <td>Não</td>\n",
       "      <td>Não</td>\n",
       "      <td>Não</td>\n",
       "      <td>Não</td>\n",
       "    </tr>\n",
       "    <tr>\n",
       "      <th>Reserva com Observações</th>\n",
       "      <td>Nenhuma</td>\n",
       "      <td>Nenhuma</td>\n",
       "      <td>Nenhuma</td>\n",
       "      <td>1 a 3</td>\n",
       "      <td>1 a 3</td>\n",
       "    </tr>\n",
       "    <tr>\n",
       "      <th>Reserva Cancelada</th>\n",
       "      <td>0</td>\n",
       "      <td>0</td>\n",
       "      <td>1</td>\n",
       "      <td>0</td>\n",
       "      <td>0</td>\n",
       "    </tr>\n",
       "  </tbody>\n",
       "</table>\n",
       "</div>"
      ],
      "text/plain": [
       "                                              39331          65976  \\\n",
       "id                                            21160          77387   \n",
       "Classificação do hotel                   5 estrelas     4 estrelas   \n",
       "Meses da reserva até o check-in                   1              1   \n",
       "Número de pernoites reservadas                    1              2   \n",
       "Número de hospedes                              2.0            1.0   \n",
       "Regime de alimentação                 Café da manha  Café da manha   \n",
       "Nacionalidade                                 Spain          Spain   \n",
       "Forma de Reserva                             Balcão         Balcão   \n",
       "Já se hospedou anterioremente                   Sim            Sim   \n",
       "Tipo do quarto reservado                   Amethyst       Amethyst   \n",
       "Reserva feita por agência de turismo            Sim            Não   \n",
       "Reserva feita por empresa                       Não            Sim   \n",
       "Reserva com Estacionamento                      Não            Não   \n",
       "Reserva com Observações                     Nenhuma        Nenhuma   \n",
       "Reserva Cancelada                                 0              0   \n",
       "\n",
       "                                              43873                   46528  \\\n",
       "id                                             8408                    6862   \n",
       "Classificação do hotel                   5 estrelas              5 estrelas   \n",
       "Meses da reserva até o check-in                  10                       7   \n",
       "Número de pernoites reservadas                  461                      14   \n",
       "Número de hospedes                              2.0                     2.0   \n",
       "Regime de alimentação                 Café da manha  Café da manha e jantar   \n",
       "Nacionalidade                                 Spain                  Poland   \n",
       "Forma de Reserva                            Agência                 Agência   \n",
       "Já se hospedou anterioremente                   Não                     Não   \n",
       "Tipo do quarto reservado                   Amethyst           Green Emerald   \n",
       "Reserva feita por agência de turismo            Sim                     Sim   \n",
       "Reserva feita por empresa                       Não                     Não   \n",
       "Reserva com Estacionamento                      Não                     Não   \n",
       "Reserva com Observações                     Nenhuma                   1 a 3   \n",
       "Reserva Cancelada                                 1                       0   \n",
       "\n",
       "                                             25683  \n",
       "id                                           97466  \n",
       "Classificação do hotel                  4 estrelas  \n",
       "Meses da reserva até o check-in                  1  \n",
       "Número de pernoites reservadas                   2  \n",
       "Número de hospedes                             1.0  \n",
       "Regime de alimentação                 Sem refeicao  \n",
       "Nacionalidade                              Belgium  \n",
       "Forma de Reserva                           Agência  \n",
       "Já se hospedou anterioremente                  Não  \n",
       "Tipo do quarto reservado                  Amethyst  \n",
       "Reserva feita por agência de turismo           Sim  \n",
       "Reserva feita por empresa                      Não  \n",
       "Reserva com Estacionamento                     Não  \n",
       "Reserva com Observações                      1 a 3  \n",
       "Reserva Cancelada                                0  "
      ]
     },
     "execution_count": 5,
     "metadata": {},
     "output_type": "execute_result"
    }
   ],
   "source": [
    "train.sample(5).T"
   ]
  },
  {
   "cell_type": "code",
   "execution_count": 6,
   "id": "3830c78c",
   "metadata": {
    "ExecuteTime": {
     "end_time": "2023-03-25T23:30:17.103231Z",
     "start_time": "2023-03-25T23:30:17.076483Z"
    }
   },
   "outputs": [
    {
     "data": {
      "text/html": [
       "<div>\n",
       "<style scoped>\n",
       "    .dataframe tbody tr th:only-of-type {\n",
       "        vertical-align: middle;\n",
       "    }\n",
       "\n",
       "    .dataframe tbody tr th {\n",
       "        vertical-align: top;\n",
       "    }\n",
       "\n",
       "    .dataframe thead th {\n",
       "        text-align: right;\n",
       "    }\n",
       "</style>\n",
       "<table border=\"1\" class=\"dataframe\">\n",
       "  <thead>\n",
       "    <tr style=\"text-align: right;\">\n",
       "      <th></th>\n",
       "      <th>13134</th>\n",
       "      <th>12056</th>\n",
       "      <th>25450</th>\n",
       "      <th>30778</th>\n",
       "      <th>35648</th>\n",
       "    </tr>\n",
       "  </thead>\n",
       "  <tbody>\n",
       "    <tr>\n",
       "      <th>id</th>\n",
       "      <td>38820</td>\n",
       "      <td>38473</td>\n",
       "      <td>87809</td>\n",
       "      <td>77002</td>\n",
       "      <td>3119</td>\n",
       "    </tr>\n",
       "    <tr>\n",
       "      <th>Classificação do hotel</th>\n",
       "      <td>5 estrelas</td>\n",
       "      <td>5 estrelas</td>\n",
       "      <td>4 estrelas</td>\n",
       "      <td>4 estrelas</td>\n",
       "      <td>5 estrelas</td>\n",
       "    </tr>\n",
       "    <tr>\n",
       "      <th>Meses da reserva até o check-in</th>\n",
       "      <td>4</td>\n",
       "      <td>1</td>\n",
       "      <td>5</td>\n",
       "      <td>13</td>\n",
       "      <td>3</td>\n",
       "    </tr>\n",
       "    <tr>\n",
       "      <th>Número de pernoites reservadas</th>\n",
       "      <td>7</td>\n",
       "      <td>1</td>\n",
       "      <td>4</td>\n",
       "      <td>2</td>\n",
       "      <td>4</td>\n",
       "    </tr>\n",
       "    <tr>\n",
       "      <th>Número de hospedes</th>\n",
       "      <td>704.0</td>\n",
       "      <td>2.0</td>\n",
       "      <td>2.0</td>\n",
       "      <td>2.0</td>\n",
       "      <td>2.0</td>\n",
       "    </tr>\n",
       "    <tr>\n",
       "      <th>Regime de alimentação</th>\n",
       "      <td>Café da manha</td>\n",
       "      <td>Café da manha</td>\n",
       "      <td>Café da manha</td>\n",
       "      <td>Café da manha</td>\n",
       "      <td>Café da manha</td>\n",
       "    </tr>\n",
       "    <tr>\n",
       "      <th>Nacionalidade</th>\n",
       "      <td>United Kingdom</td>\n",
       "      <td>France</td>\n",
       "      <td>United Kingdom</td>\n",
       "      <td>Spain</td>\n",
       "      <td>Spain</td>\n",
       "    </tr>\n",
       "    <tr>\n",
       "      <th>Forma de Reserva</th>\n",
       "      <td>Agência</td>\n",
       "      <td>Balcão</td>\n",
       "      <td>Agência</td>\n",
       "      <td>Agência</td>\n",
       "      <td>Agência</td>\n",
       "    </tr>\n",
       "    <tr>\n",
       "      <th>Já se hospedou anterioremente</th>\n",
       "      <td>Não</td>\n",
       "      <td>Não</td>\n",
       "      <td>Não</td>\n",
       "      <td>Não</td>\n",
       "      <td>Não</td>\n",
       "    </tr>\n",
       "    <tr>\n",
       "      <th>Tipo do quarto reservado</th>\n",
       "      <td>Amethyst</td>\n",
       "      <td>Red Ruby</td>\n",
       "      <td>Amethyst</td>\n",
       "      <td>Amethyst</td>\n",
       "      <td>Green Emerald</td>\n",
       "    </tr>\n",
       "    <tr>\n",
       "      <th>Reserva feita por agência de turismo</th>\n",
       "      <td>Sim</td>\n",
       "      <td>Não</td>\n",
       "      <td>Sim</td>\n",
       "      <td>Sim</td>\n",
       "      <td>Sim</td>\n",
       "    </tr>\n",
       "    <tr>\n",
       "      <th>Reserva feita por empresa</th>\n",
       "      <td>Não</td>\n",
       "      <td>Não</td>\n",
       "      <td>Não</td>\n",
       "      <td>Não</td>\n",
       "      <td>Não</td>\n",
       "    </tr>\n",
       "    <tr>\n",
       "      <th>Reserva com Estacionamento</th>\n",
       "      <td>Não</td>\n",
       "      <td>Sim</td>\n",
       "      <td>Não</td>\n",
       "      <td>Não</td>\n",
       "      <td>Não</td>\n",
       "    </tr>\n",
       "    <tr>\n",
       "      <th>Reserva com Observações</th>\n",
       "      <td>1 a 3</td>\n",
       "      <td>Nenhuma</td>\n",
       "      <td>Nenhuma</td>\n",
       "      <td>Nenhuma</td>\n",
       "      <td>1 a 3</td>\n",
       "    </tr>\n",
       "  </tbody>\n",
       "</table>\n",
       "</div>"
      ],
      "text/plain": [
       "                                               13134          12056  \\\n",
       "id                                             38820          38473   \n",
       "Classificação do hotel                    5 estrelas     5 estrelas   \n",
       "Meses da reserva até o check-in                    4              1   \n",
       "Número de pernoites reservadas                     7              1   \n",
       "Número de hospedes                             704.0            2.0   \n",
       "Regime de alimentação                  Café da manha  Café da manha   \n",
       "Nacionalidade                         United Kingdom         France   \n",
       "Forma de Reserva                             Agência         Balcão   \n",
       "Já se hospedou anterioremente                    Não            Não   \n",
       "Tipo do quarto reservado                    Amethyst       Red Ruby   \n",
       "Reserva feita por agência de turismo             Sim            Não   \n",
       "Reserva feita por empresa                        Não            Não   \n",
       "Reserva com Estacionamento                       Não            Sim   \n",
       "Reserva com Observações                        1 a 3        Nenhuma   \n",
       "\n",
       "                                               25450          30778  \\\n",
       "id                                             87809          77002   \n",
       "Classificação do hotel                    4 estrelas     4 estrelas   \n",
       "Meses da reserva até o check-in                    5             13   \n",
       "Número de pernoites reservadas                     4              2   \n",
       "Número de hospedes                               2.0            2.0   \n",
       "Regime de alimentação                  Café da manha  Café da manha   \n",
       "Nacionalidade                         United Kingdom          Spain   \n",
       "Forma de Reserva                             Agência        Agência   \n",
       "Já se hospedou anterioremente                    Não            Não   \n",
       "Tipo do quarto reservado                    Amethyst       Amethyst   \n",
       "Reserva feita por agência de turismo             Sim            Sim   \n",
       "Reserva feita por empresa                        Não            Não   \n",
       "Reserva com Estacionamento                       Não            Não   \n",
       "Reserva com Observações                      Nenhuma        Nenhuma   \n",
       "\n",
       "                                              35648  \n",
       "id                                             3119  \n",
       "Classificação do hotel                   5 estrelas  \n",
       "Meses da reserva até o check-in                   3  \n",
       "Número de pernoites reservadas                    4  \n",
       "Número de hospedes                              2.0  \n",
       "Regime de alimentação                 Café da manha  \n",
       "Nacionalidade                                 Spain  \n",
       "Forma de Reserva                            Agência  \n",
       "Já se hospedou anterioremente                   Não  \n",
       "Tipo do quarto reservado              Green Emerald  \n",
       "Reserva feita por agência de turismo            Sim  \n",
       "Reserva feita por empresa                       Não  \n",
       "Reserva com Estacionamento                      Não  \n",
       "Reserva com Observações                       1 a 3  "
      ]
     },
     "execution_count": 6,
     "metadata": {},
     "output_type": "execute_result"
    }
   ],
   "source": [
    "test.sample(5).T"
   ]
  },
  {
   "cell_type": "markdown",
   "id": "002e666b",
   "metadata": {},
   "source": [
    "## 0.3 Adjust Columns Names"
   ]
  },
  {
   "cell_type": "code",
   "execution_count": 7,
   "id": "e9175419",
   "metadata": {
    "ExecuteTime": {
     "end_time": "2023-03-25T23:30:17.137471Z",
     "start_time": "2023-03-25T23:30:17.106079Z"
    }
   },
   "outputs": [],
   "source": [
    "# Concatenate train and test together\n",
    "all_data = pd.concat([train, test])"
   ]
  },
  {
   "cell_type": "code",
   "execution_count": 8,
   "id": "e290b082",
   "metadata": {
    "ExecuteTime": {
     "end_time": "2023-03-25T23:30:17.214298Z",
     "start_time": "2023-03-25T23:30:17.141469Z"
    }
   },
   "outputs": [],
   "source": [
    "## Alteração nome das variábeis\n",
    "\n",
    "all_data.columns = [c.replace(' ', '_') for c in all_data.columns]\n",
    "\n",
    "cols_old = all_data.columns\n",
    "\n",
    "snakecase = lambda x: inflection.underscore(x)\n",
    "\n",
    "cols_new = list(map(snakecase, cols_old))\n",
    "\n",
    "#rename\n",
    "all_data.columns = cols_new\n",
    "\n",
    "# Split back into train and test\n",
    "train = all_data[all_data['id'].isin(train['id'])]\n",
    "test = all_data[all_data['id'].isin(test['id'])].drop('reserva_cancelada', axis=1)\n"
   ]
  },
  {
   "cell_type": "code",
   "execution_count": 9,
   "id": "4bcbba8d",
   "metadata": {
    "ExecuteTime": {
     "end_time": "2023-03-25T23:30:17.229580Z",
     "start_time": "2023-03-25T23:30:17.217472Z"
    }
   },
   "outputs": [
    {
     "data": {
      "text/plain": [
       "Index(['id', 'classificação_do_hotel', 'meses_da_reserva_até_o_check_in',\n",
       "       'número_de_pernoites_reservadas', 'número_de_hospedes',\n",
       "       'regime_de_alimentação', 'nacionalidade', 'forma_de_reserva',\n",
       "       'já_se_hospedou_anterioremente', 'tipo_do_quarto_reservado',\n",
       "       'reserva_feita_por_agência_de_turismo', 'reserva_feita_por_empresa',\n",
       "       'reserva_com_estacionamento', 'reserva_com_observações',\n",
       "       'reserva_cancelada'],\n",
       "      dtype='object')"
      ]
     },
     "execution_count": 9,
     "metadata": {},
     "output_type": "execute_result"
    }
   ],
   "source": [
    "train.columns"
   ]
  },
  {
   "cell_type": "markdown",
   "id": "fc5071f8",
   "metadata": {},
   "source": [
    "## 0.4 Split data \"Production\""
   ]
  },
  {
   "cell_type": "code",
   "execution_count": 10,
   "id": "187572db",
   "metadata": {
    "ExecuteTime": {
     "end_time": "2023-03-25T23:30:17.245169Z",
     "start_time": "2023-03-25T23:30:17.231510Z"
    }
   },
   "outputs": [],
   "source": [
    "## Separação de dados que o modelo só utilizará no momento do teste, simulação de dados da produção (que nunca viu)\n",
    "\n",
    "# features = df_test.drop(columns=['id', 'Reserva Cancelada'], axis=1)\n",
    "# label = df_test['Reserva Cancelada']\n",
    "\n",
    "# X, X_prod, y, y_prod = ms.train_test_split(features, label, split_size=0.2, random_state=42)\n"
   ]
  },
  {
   "cell_type": "markdown",
   "id": "7f8afe02",
   "metadata": {},
   "source": [
    "## 0.5 Split data Train & Validation"
   ]
  },
  {
   "cell_type": "code",
   "execution_count": 11,
   "id": "ab6a66a8",
   "metadata": {
    "ExecuteTime": {
     "end_time": "2023-03-25T23:30:17.260674Z",
     "start_time": "2023-03-25T23:30:17.247171Z"
    }
   },
   "outputs": [],
   "source": [
    "# Separação de dados de treino e validação\n",
    "\n",
    "#X_train = train.drop(columns=['id', 'reserva_cancelada'])\n",
    "#y_train = train['reserva_cancelada']\n",
    "\n",
    "#X_train, X_val, y_train, y_val = ms.train_test_split(X_train, y_train, test_size=0.2, random_state=42)\n",
    "\n"
   ]
  },
  {
   "cell_type": "code",
   "execution_count": 12,
   "id": "2ba4379c",
   "metadata": {
    "ExecuteTime": {
     "end_time": "2023-03-25T23:30:17.276814Z",
     "start_time": "2023-03-25T23:30:17.263238Z"
    }
   },
   "outputs": [],
   "source": [
    "# X_train.shape"
   ]
  },
  {
   "cell_type": "markdown",
   "id": "793d2f82",
   "metadata": {},
   "source": [
    "# 1.0 Data Description"
   ]
  },
  {
   "cell_type": "code",
   "execution_count": 13,
   "id": "b81466f6",
   "metadata": {
    "ExecuteTime": {
     "end_time": "2023-03-25T23:30:17.292316Z",
     "start_time": "2023-03-25T23:30:17.278922Z"
    }
   },
   "outputs": [],
   "source": [
    "## Backup do Dataframe\n",
    "\n",
    "df1 = train.copy()"
   ]
  },
  {
   "cell_type": "code",
   "execution_count": 14,
   "id": "53161368",
   "metadata": {
    "ExecuteTime": {
     "end_time": "2023-03-25T23:30:17.323536Z",
     "start_time": "2023-03-25T23:30:17.294315Z"
    }
   },
   "outputs": [
    {
     "data": {
      "text/html": [
       "<div>\n",
       "<style scoped>\n",
       "    .dataframe tbody tr th:only-of-type {\n",
       "        vertical-align: middle;\n",
       "    }\n",
       "\n",
       "    .dataframe tbody tr th {\n",
       "        vertical-align: top;\n",
       "    }\n",
       "\n",
       "    .dataframe thead th {\n",
       "        text-align: right;\n",
       "    }\n",
       "</style>\n",
       "<table border=\"1\" class=\"dataframe\">\n",
       "  <thead>\n",
       "    <tr style=\"text-align: right;\">\n",
       "      <th></th>\n",
       "      <th>11587</th>\n",
       "      <th>23334</th>\n",
       "      <th>68912</th>\n",
       "      <th>41142</th>\n",
       "      <th>4890</th>\n",
       "      <th>69424</th>\n",
       "      <th>26291</th>\n",
       "      <th>68889</th>\n",
       "    </tr>\n",
       "  </thead>\n",
       "  <tbody>\n",
       "    <tr>\n",
       "      <th>id</th>\n",
       "      <td>15328</td>\n",
       "      <td>108280</td>\n",
       "      <td>117740</td>\n",
       "      <td>33373</td>\n",
       "      <td>38737</td>\n",
       "      <td>80507</td>\n",
       "      <td>15110</td>\n",
       "      <td>55216</td>\n",
       "    </tr>\n",
       "    <tr>\n",
       "      <th>classificação_do_hotel</th>\n",
       "      <td>5 estrelas</td>\n",
       "      <td>4 estrelas</td>\n",
       "      <td>4 estrelas</td>\n",
       "      <td>5 estrelas</td>\n",
       "      <td>5 estrelas</td>\n",
       "      <td>4 estrelas</td>\n",
       "      <td>5 estrelas</td>\n",
       "      <td>4 estrelas</td>\n",
       "    </tr>\n",
       "    <tr>\n",
       "      <th>meses_da_reserva_até_o_check_in</th>\n",
       "      <td>1</td>\n",
       "      <td>2</td>\n",
       "      <td>5</td>\n",
       "      <td>4</td>\n",
       "      <td>6</td>\n",
       "      <td>1</td>\n",
       "      <td>8</td>\n",
       "      <td>1</td>\n",
       "    </tr>\n",
       "    <tr>\n",
       "      <th>número_de_pernoites_reservadas</th>\n",
       "      <td>1</td>\n",
       "      <td>3</td>\n",
       "      <td>3</td>\n",
       "      <td>4</td>\n",
       "      <td>822</td>\n",
       "      <td>4</td>\n",
       "      <td>3</td>\n",
       "      <td>2</td>\n",
       "    </tr>\n",
       "    <tr>\n",
       "      <th>número_de_hospedes</th>\n",
       "      <td>1.0</td>\n",
       "      <td>2.0</td>\n",
       "      <td>3.0</td>\n",
       "      <td>2.0</td>\n",
       "      <td>2.0</td>\n",
       "      <td>1.0</td>\n",
       "      <td>2.0</td>\n",
       "      <td>2.0</td>\n",
       "    </tr>\n",
       "    <tr>\n",
       "      <th>regime_de_alimentação</th>\n",
       "      <td>Café da manha</td>\n",
       "      <td>Café da manha</td>\n",
       "      <td>Café da manha</td>\n",
       "      <td>Café da manha e jantar</td>\n",
       "      <td>Café da manha e jantar</td>\n",
       "      <td>Café da manha</td>\n",
       "      <td>Café da manha</td>\n",
       "      <td>Sem refeicao</td>\n",
       "    </tr>\n",
       "    <tr>\n",
       "      <th>nacionalidade</th>\n",
       "      <td>Spain</td>\n",
       "      <td>United Kingdom</td>\n",
       "      <td>United States</td>\n",
       "      <td>United Kingdom</td>\n",
       "      <td>Spain</td>\n",
       "      <td>France</td>\n",
       "      <td>Spain</td>\n",
       "      <td>Spain</td>\n",
       "    </tr>\n",
       "    <tr>\n",
       "      <th>forma_de_reserva</th>\n",
       "      <td>B2B</td>\n",
       "      <td>Balcão</td>\n",
       "      <td>Agência</td>\n",
       "      <td>Agência</td>\n",
       "      <td>Agência</td>\n",
       "      <td>Agência</td>\n",
       "      <td>Agência</td>\n",
       "      <td>Agência</td>\n",
       "    </tr>\n",
       "    <tr>\n",
       "      <th>já_se_hospedou_anterioremente</th>\n",
       "      <td>Sim</td>\n",
       "      <td>Não</td>\n",
       "      <td>Não</td>\n",
       "      <td>Não</td>\n",
       "      <td>Não</td>\n",
       "      <td>Não</td>\n",
       "      <td>Não</td>\n",
       "      <td>Não</td>\n",
       "    </tr>\n",
       "    <tr>\n",
       "      <th>tipo_do_quarto_reservado</th>\n",
       "      <td>Amethyst</td>\n",
       "      <td>Green Emerald</td>\n",
       "      <td>Tanzanite</td>\n",
       "      <td>Amethyst</td>\n",
       "      <td>Amethyst</td>\n",
       "      <td>Amethyst</td>\n",
       "      <td>Amethyst</td>\n",
       "      <td>Amethyst</td>\n",
       "    </tr>\n",
       "    <tr>\n",
       "      <th>reserva_feita_por_agência_de_turismo</th>\n",
       "      <td>Sim</td>\n",
       "      <td>Sim</td>\n",
       "      <td>Sim</td>\n",
       "      <td>Sim</td>\n",
       "      <td>Sim</td>\n",
       "      <td>Sim</td>\n",
       "      <td>Não</td>\n",
       "      <td>Sim</td>\n",
       "    </tr>\n",
       "    <tr>\n",
       "      <th>reserva_feita_por_empresa</th>\n",
       "      <td>Não</td>\n",
       "      <td>Não</td>\n",
       "      <td>Não</td>\n",
       "      <td>Não</td>\n",
       "      <td>Não</td>\n",
       "      <td>Não</td>\n",
       "      <td>Não</td>\n",
       "      <td>Não</td>\n",
       "    </tr>\n",
       "    <tr>\n",
       "      <th>reserva_com_estacionamento</th>\n",
       "      <td>Não</td>\n",
       "      <td>Não</td>\n",
       "      <td>Não</td>\n",
       "      <td>Não</td>\n",
       "      <td>Não</td>\n",
       "      <td>Não</td>\n",
       "      <td>Não</td>\n",
       "      <td>Não</td>\n",
       "    </tr>\n",
       "    <tr>\n",
       "      <th>reserva_com_observações</th>\n",
       "      <td>Nenhuma</td>\n",
       "      <td>1 a 3</td>\n",
       "      <td>1 a 3</td>\n",
       "      <td>Nenhuma</td>\n",
       "      <td>Nenhuma</td>\n",
       "      <td>1 a 3</td>\n",
       "      <td>Nenhuma</td>\n",
       "      <td>Nenhuma</td>\n",
       "    </tr>\n",
       "    <tr>\n",
       "      <th>reserva_cancelada</th>\n",
       "      <td>0.0</td>\n",
       "      <td>0.0</td>\n",
       "      <td>0.0</td>\n",
       "      <td>0.0</td>\n",
       "      <td>0.0</td>\n",
       "      <td>0.0</td>\n",
       "      <td>1.0</td>\n",
       "      <td>1.0</td>\n",
       "    </tr>\n",
       "  </tbody>\n",
       "</table>\n",
       "</div>"
      ],
      "text/plain": [
       "                                              11587           23334  \\\n",
       "id                                            15328          108280   \n",
       "classificação_do_hotel                   5 estrelas      4 estrelas   \n",
       "meses_da_reserva_até_o_check_in                   1               2   \n",
       "número_de_pernoites_reservadas                    1               3   \n",
       "número_de_hospedes                              1.0             2.0   \n",
       "regime_de_alimentação                 Café da manha   Café da manha   \n",
       "nacionalidade                                 Spain  United Kingdom   \n",
       "forma_de_reserva                                B2B          Balcão   \n",
       "já_se_hospedou_anterioremente                   Sim             Não   \n",
       "tipo_do_quarto_reservado                   Amethyst   Green Emerald   \n",
       "reserva_feita_por_agência_de_turismo            Sim             Sim   \n",
       "reserva_feita_por_empresa                       Não             Não   \n",
       "reserva_com_estacionamento                      Não             Não   \n",
       "reserva_com_observações                     Nenhuma           1 a 3   \n",
       "reserva_cancelada                               0.0             0.0   \n",
       "\n",
       "                                              68912                   41142  \\\n",
       "id                                           117740                   33373   \n",
       "classificação_do_hotel                   4 estrelas              5 estrelas   \n",
       "meses_da_reserva_até_o_check_in                   5                       4   \n",
       "número_de_pernoites_reservadas                    3                       4   \n",
       "número_de_hospedes                              3.0                     2.0   \n",
       "regime_de_alimentação                 Café da manha  Café da manha e jantar   \n",
       "nacionalidade                         United States          United Kingdom   \n",
       "forma_de_reserva                            Agência                 Agência   \n",
       "já_se_hospedou_anterioremente                   Não                     Não   \n",
       "tipo_do_quarto_reservado                  Tanzanite                Amethyst   \n",
       "reserva_feita_por_agência_de_turismo            Sim                     Sim   \n",
       "reserva_feita_por_empresa                       Não                     Não   \n",
       "reserva_com_estacionamento                      Não                     Não   \n",
       "reserva_com_observações                       1 a 3                 Nenhuma   \n",
       "reserva_cancelada                               0.0                     0.0   \n",
       "\n",
       "                                                       4890           69424  \\\n",
       "id                                                     38737          80507   \n",
       "classificação_do_hotel                            5 estrelas     4 estrelas   \n",
       "meses_da_reserva_até_o_check_in                            6              1   \n",
       "número_de_pernoites_reservadas                           822              4   \n",
       "número_de_hospedes                                       2.0            1.0   \n",
       "regime_de_alimentação                 Café da manha e jantar  Café da manha   \n",
       "nacionalidade                                          Spain         France   \n",
       "forma_de_reserva                                     Agência        Agência   \n",
       "já_se_hospedou_anterioremente                            Não            Não   \n",
       "tipo_do_quarto_reservado                            Amethyst       Amethyst   \n",
       "reserva_feita_por_agência_de_turismo                     Sim            Sim   \n",
       "reserva_feita_por_empresa                                Não            Não   \n",
       "reserva_com_estacionamento                               Não            Não   \n",
       "reserva_com_observações                              Nenhuma          1 a 3   \n",
       "reserva_cancelada                                        0.0            0.0   \n",
       "\n",
       "                                              26291         68889  \n",
       "id                                            15110         55216  \n",
       "classificação_do_hotel                   5 estrelas    4 estrelas  \n",
       "meses_da_reserva_até_o_check_in                   8             1  \n",
       "número_de_pernoites_reservadas                    3             2  \n",
       "número_de_hospedes                              2.0           2.0  \n",
       "regime_de_alimentação                 Café da manha  Sem refeicao  \n",
       "nacionalidade                                 Spain         Spain  \n",
       "forma_de_reserva                            Agência       Agência  \n",
       "já_se_hospedou_anterioremente                   Não           Não  \n",
       "tipo_do_quarto_reservado                   Amethyst      Amethyst  \n",
       "reserva_feita_por_agência_de_turismo            Não           Sim  \n",
       "reserva_feita_por_empresa                       Não           Não  \n",
       "reserva_com_estacionamento                      Não           Não  \n",
       "reserva_com_observações                     Nenhuma       Nenhuma  \n",
       "reserva_cancelada                               1.0           1.0  "
      ]
     },
     "execution_count": 14,
     "metadata": {},
     "output_type": "execute_result"
    }
   ],
   "source": [
    "df1.sample(8).T"
   ]
  },
  {
   "cell_type": "code",
   "execution_count": 15,
   "id": "6662a596",
   "metadata": {
    "ExecuteTime": {
     "end_time": "2023-03-25T23:30:17.339038Z",
     "start_time": "2023-03-25T23:30:17.325026Z"
    }
   },
   "outputs": [
    {
     "data": {
      "text/html": [
       "<div>\n",
       "<style scoped>\n",
       "    .dataframe tbody tr th:only-of-type {\n",
       "        vertical-align: middle;\n",
       "    }\n",
       "\n",
       "    .dataframe tbody tr th {\n",
       "        vertical-align: top;\n",
       "    }\n",
       "\n",
       "    .dataframe thead th {\n",
       "        text-align: right;\n",
       "    }\n",
       "</style>\n",
       "<table border=\"1\" class=\"dataframe\">\n",
       "  <thead>\n",
       "    <tr style=\"text-align: right;\">\n",
       "      <th></th>\n",
       "      <th>8358</th>\n",
       "      <th>36627</th>\n",
       "      <th>64865</th>\n",
       "    </tr>\n",
       "  </thead>\n",
       "  <tbody>\n",
       "    <tr>\n",
       "      <th>id</th>\n",
       "      <td>40887</td>\n",
       "      <td>40899</td>\n",
       "      <td>41412</td>\n",
       "    </tr>\n",
       "    <tr>\n",
       "      <th>classificação_do_hotel</th>\n",
       "      <td>4 estrelas</td>\n",
       "      <td>4 estrelas</td>\n",
       "      <td>4 estrelas</td>\n",
       "    </tr>\n",
       "    <tr>\n",
       "      <th>meses_da_reserva_até_o_check_in</th>\n",
       "      <td>1</td>\n",
       "      <td>1</td>\n",
       "      <td>1</td>\n",
       "    </tr>\n",
       "    <tr>\n",
       "      <th>número_de_pernoites_reservadas</th>\n",
       "      <td>2</td>\n",
       "      <td>2</td>\n",
       "      <td>7</td>\n",
       "    </tr>\n",
       "    <tr>\n",
       "      <th>número_de_hospedes</th>\n",
       "      <td>NaN</td>\n",
       "      <td>NaN</td>\n",
       "      <td>NaN</td>\n",
       "    </tr>\n",
       "    <tr>\n",
       "      <th>regime_de_alimentação</th>\n",
       "      <td>Café da manha</td>\n",
       "      <td>Café da manha</td>\n",
       "      <td>Café da manha</td>\n",
       "    </tr>\n",
       "    <tr>\n",
       "      <th>nacionalidade</th>\n",
       "      <td>Spain</td>\n",
       "      <td>Spain</td>\n",
       "      <td>Spain</td>\n",
       "    </tr>\n",
       "    <tr>\n",
       "      <th>forma_de_reserva</th>\n",
       "      <td>B2B</td>\n",
       "      <td>B2B</td>\n",
       "      <td>B2B</td>\n",
       "    </tr>\n",
       "    <tr>\n",
       "      <th>já_se_hospedou_anterioremente</th>\n",
       "      <td>Não</td>\n",
       "      <td>Não</td>\n",
       "      <td>Não</td>\n",
       "    </tr>\n",
       "    <tr>\n",
       "      <th>tipo_do_quarto_reservado</th>\n",
       "      <td>Blue Sapphire</td>\n",
       "      <td>Blue Sapphire</td>\n",
       "      <td>Blue Sapphire</td>\n",
       "    </tr>\n",
       "    <tr>\n",
       "      <th>reserva_feita_por_agência_de_turismo</th>\n",
       "      <td>Sim</td>\n",
       "      <td>Não</td>\n",
       "      <td>Sim</td>\n",
       "    </tr>\n",
       "    <tr>\n",
       "      <th>reserva_feita_por_empresa</th>\n",
       "      <td>Não</td>\n",
       "      <td>Não</td>\n",
       "      <td>Não</td>\n",
       "    </tr>\n",
       "    <tr>\n",
       "      <th>reserva_com_estacionamento</th>\n",
       "      <td>Não</td>\n",
       "      <td>Não</td>\n",
       "      <td>Não</td>\n",
       "    </tr>\n",
       "    <tr>\n",
       "      <th>reserva_com_observações</th>\n",
       "      <td>1 a 3</td>\n",
       "      <td>1 a 3</td>\n",
       "      <td>1 a 3</td>\n",
       "    </tr>\n",
       "    <tr>\n",
       "      <th>reserva_cancelada</th>\n",
       "      <td>1.0</td>\n",
       "      <td>1.0</td>\n",
       "      <td>1.0</td>\n",
       "    </tr>\n",
       "  </tbody>\n",
       "</table>\n",
       "</div>"
      ],
      "text/plain": [
       "                                              8358           36627  \\\n",
       "id                                            40887          40899   \n",
       "classificação_do_hotel                   4 estrelas     4 estrelas   \n",
       "meses_da_reserva_até_o_check_in                   1              1   \n",
       "número_de_pernoites_reservadas                    2              2   \n",
       "número_de_hospedes                              NaN            NaN   \n",
       "regime_de_alimentação                 Café da manha  Café da manha   \n",
       "nacionalidade                                 Spain          Spain   \n",
       "forma_de_reserva                                B2B            B2B   \n",
       "já_se_hospedou_anterioremente                   Não            Não   \n",
       "tipo_do_quarto_reservado              Blue Sapphire  Blue Sapphire   \n",
       "reserva_feita_por_agência_de_turismo            Sim            Não   \n",
       "reserva_feita_por_empresa                       Não            Não   \n",
       "reserva_com_estacionamento                      Não            Não   \n",
       "reserva_com_observações                       1 a 3          1 a 3   \n",
       "reserva_cancelada                               1.0            1.0   \n",
       "\n",
       "                                              64865  \n",
       "id                                            41412  \n",
       "classificação_do_hotel                   4 estrelas  \n",
       "meses_da_reserva_até_o_check_in                   1  \n",
       "número_de_pernoites_reservadas                    7  \n",
       "número_de_hospedes                              NaN  \n",
       "regime_de_alimentação                 Café da manha  \n",
       "nacionalidade                                 Spain  \n",
       "forma_de_reserva                                B2B  \n",
       "já_se_hospedou_anterioremente                   Não  \n",
       "tipo_do_quarto_reservado              Blue Sapphire  \n",
       "reserva_feita_por_agência_de_turismo            Sim  \n",
       "reserva_feita_por_empresa                       Não  \n",
       "reserva_com_estacionamento                      Não  \n",
       "reserva_com_observações                       1 a 3  \n",
       "reserva_cancelada                               1.0  "
      ]
     },
     "execution_count": 15,
     "metadata": {},
     "output_type": "execute_result"
    }
   ],
   "source": [
    "df1[df1['número_de_hospedes'].isna()].T"
   ]
  },
  {
   "cell_type": "code",
   "execution_count": 16,
   "id": "b2b5b9d6",
   "metadata": {
    "ExecuteTime": {
     "end_time": "2023-03-25T23:30:17.355137Z",
     "start_time": "2023-03-25T23:30:17.342003Z"
    }
   },
   "outputs": [
    {
     "data": {
      "text/plain": [
       "Index(['id', 'classificação_do_hotel', 'meses_da_reserva_até_o_check_in',\n",
       "       'número_de_pernoites_reservadas', 'número_de_hospedes',\n",
       "       'regime_de_alimentação', 'nacionalidade', 'forma_de_reserva',\n",
       "       'já_se_hospedou_anterioremente', 'tipo_do_quarto_reservado',\n",
       "       'reserva_feita_por_agência_de_turismo', 'reserva_feita_por_empresa',\n",
       "       'reserva_com_estacionamento', 'reserva_com_observações',\n",
       "       'reserva_cancelada'],\n",
       "      dtype='object')"
      ]
     },
     "execution_count": 16,
     "metadata": {},
     "output_type": "execute_result"
    }
   ],
   "source": [
    "df1.columns"
   ]
  },
  {
   "cell_type": "markdown",
   "id": "a7933bc7",
   "metadata": {},
   "source": [
    "## 1.1 Data Dimension"
   ]
  },
  {
   "cell_type": "code",
   "execution_count": 17,
   "id": "7a9f99e1",
   "metadata": {
    "ExecuteTime": {
     "end_time": "2023-03-25T23:30:17.370720Z",
     "start_time": "2023-03-25T23:30:17.356682Z"
    }
   },
   "outputs": [
    {
     "data": {
      "text/plain": [
       "(72159, 15)"
      ]
     },
     "execution_count": 17,
     "metadata": {},
     "output_type": "execute_result"
    }
   ],
   "source": [
    "df1.shape"
   ]
  },
  {
   "cell_type": "markdown",
   "id": "3fa18969",
   "metadata": {},
   "source": [
    "## 1.2 Data Types and Changes"
   ]
  },
  {
   "cell_type": "code",
   "execution_count": 18,
   "id": "1fe5a1d5",
   "metadata": {
    "ExecuteTime": {
     "end_time": "2023-03-25T23:30:17.386493Z",
     "start_time": "2023-03-25T23:30:17.373233Z"
    }
   },
   "outputs": [
    {
     "data": {
      "text/plain": [
       "id                                        int64\n",
       "classificação_do_hotel                   object\n",
       "meses_da_reserva_até_o_check_in           int64\n",
       "número_de_pernoites_reservadas            int64\n",
       "número_de_hospedes                      float64\n",
       "regime_de_alimentação                    object\n",
       "nacionalidade                            object\n",
       "forma_de_reserva                         object\n",
       "já_se_hospedou_anterioremente            object\n",
       "tipo_do_quarto_reservado                 object\n",
       "reserva_feita_por_agência_de_turismo     object\n",
       "reserva_feita_por_empresa                object\n",
       "reserva_com_estacionamento               object\n",
       "reserva_com_observações                  object\n",
       "reserva_cancelada                       float64\n",
       "dtype: object"
      ]
     },
     "execution_count": 18,
     "metadata": {},
     "output_type": "execute_result"
    }
   ],
   "source": [
    "df1.dtypes"
   ]
  },
  {
   "cell_type": "markdown",
   "id": "d819771e",
   "metadata": {},
   "source": [
    "## 1.3 Check NA's"
   ]
  },
  {
   "cell_type": "code",
   "execution_count": 19,
   "id": "eb528642",
   "metadata": {
    "ExecuteTime": {
     "end_time": "2023-03-25T23:30:17.492078Z",
     "start_time": "2023-03-25T23:30:17.389489Z"
    }
   },
   "outputs": [
    {
     "data": {
      "text/plain": [
       "id                                         0\n",
       "classificação_do_hotel                     0\n",
       "meses_da_reserva_até_o_check_in            0\n",
       "número_de_pernoites_reservadas             0\n",
       "número_de_hospedes                         3\n",
       "regime_de_alimentação                      0\n",
       "nacionalidade                           1093\n",
       "forma_de_reserva                           0\n",
       "já_se_hospedou_anterioremente              0\n",
       "tipo_do_quarto_reservado                   0\n",
       "reserva_feita_por_agência_de_turismo       0\n",
       "reserva_feita_por_empresa                  0\n",
       "reserva_com_estacionamento                 0\n",
       "reserva_com_observações                    0\n",
       "reserva_cancelada                          0\n",
       "dtype: int64"
      ]
     },
     "execution_count": 19,
     "metadata": {},
     "output_type": "execute_result"
    }
   ],
   "source": [
    "df1.isna().sum()"
   ]
  },
  {
   "cell_type": "markdown",
   "id": "c228b585",
   "metadata": {},
   "source": [
    "## 1.4 Data Descriptive"
   ]
  },
  {
   "cell_type": "code",
   "execution_count": 20,
   "id": "2a509690",
   "metadata": {
    "ExecuteTime": {
     "end_time": "2023-03-25T23:30:17.523060Z",
     "start_time": "2023-03-25T23:30:17.494105Z"
    }
   },
   "outputs": [
    {
     "data": {
      "text/html": [
       "<div>\n",
       "<style scoped>\n",
       "    .dataframe tbody tr th:only-of-type {\n",
       "        vertical-align: middle;\n",
       "    }\n",
       "\n",
       "    .dataframe tbody tr th {\n",
       "        vertical-align: top;\n",
       "    }\n",
       "\n",
       "    .dataframe thead th {\n",
       "        text-align: right;\n",
       "    }\n",
       "</style>\n",
       "<table border=\"1\" class=\"dataframe\">\n",
       "  <thead>\n",
       "    <tr style=\"text-align: right;\">\n",
       "      <th></th>\n",
       "      <th>id</th>\n",
       "      <th>meses_da_reserva_até_o_check_in</th>\n",
       "      <th>número_de_pernoites_reservadas</th>\n",
       "      <th>número_de_hospedes</th>\n",
       "      <th>reserva_cancelada</th>\n",
       "    </tr>\n",
       "  </thead>\n",
       "  <tbody>\n",
       "    <tr>\n",
       "      <th>count</th>\n",
       "      <td>72159.000000</td>\n",
       "      <td>72159.000000</td>\n",
       "      <td>72159.000000</td>\n",
       "      <td>72156.000000</td>\n",
       "      <td>72159.000000</td>\n",
       "    </tr>\n",
       "    <tr>\n",
       "      <th>mean</th>\n",
       "      <td>60093.687787</td>\n",
       "      <td>7.145928</td>\n",
       "      <td>15.824152</td>\n",
       "      <td>14.258773</td>\n",
       "      <td>0.370418</td>\n",
       "    </tr>\n",
       "    <tr>\n",
       "      <th>std</th>\n",
       "      <td>34726.028006</td>\n",
       "      <td>25.852330</td>\n",
       "      <td>98.248479</td>\n",
       "      <td>96.446167</td>\n",
       "      <td>0.482920</td>\n",
       "    </tr>\n",
       "    <tr>\n",
       "      <th>min</th>\n",
       "      <td>1.000000</td>\n",
       "      <td>1.000000</td>\n",
       "      <td>0.000000</td>\n",
       "      <td>0.000000</td>\n",
       "      <td>0.000000</td>\n",
       "    </tr>\n",
       "    <tr>\n",
       "      <th>25%</th>\n",
       "      <td>30013.500000</td>\n",
       "      <td>1.000000</td>\n",
       "      <td>2.000000</td>\n",
       "      <td>2.000000</td>\n",
       "      <td>0.000000</td>\n",
       "    </tr>\n",
       "    <tr>\n",
       "      <th>50%</th>\n",
       "      <td>60080.000000</td>\n",
       "      <td>3.000000</td>\n",
       "      <td>3.000000</td>\n",
       "      <td>2.000000</td>\n",
       "      <td>0.000000</td>\n",
       "    </tr>\n",
       "    <tr>\n",
       "      <th>75%</th>\n",
       "      <td>90301.000000</td>\n",
       "      <td>6.000000</td>\n",
       "      <td>4.000000</td>\n",
       "      <td>2.000000</td>\n",
       "      <td>1.000000</td>\n",
       "    </tr>\n",
       "    <tr>\n",
       "      <th>max</th>\n",
       "      <td>120265.000000</td>\n",
       "      <td>311.000000</td>\n",
       "      <td>1172.000000</td>\n",
       "      <td>1153.000000</td>\n",
       "      <td>1.000000</td>\n",
       "    </tr>\n",
       "  </tbody>\n",
       "</table>\n",
       "</div>"
      ],
      "text/plain": [
       "                  id  meses_da_reserva_até_o_check_in  \\\n",
       "count   72159.000000                     72159.000000   \n",
       "mean    60093.687787                         7.145928   \n",
       "std     34726.028006                        25.852330   \n",
       "min         1.000000                         1.000000   \n",
       "25%     30013.500000                         1.000000   \n",
       "50%     60080.000000                         3.000000   \n",
       "75%     90301.000000                         6.000000   \n",
       "max    120265.000000                       311.000000   \n",
       "\n",
       "       número_de_pernoites_reservadas  número_de_hospedes  reserva_cancelada  \n",
       "count                    72159.000000        72156.000000       72159.000000  \n",
       "mean                        15.824152           14.258773           0.370418  \n",
       "std                         98.248479           96.446167           0.482920  \n",
       "min                          0.000000            0.000000           0.000000  \n",
       "25%                          2.000000            2.000000           0.000000  \n",
       "50%                          3.000000            2.000000           0.000000  \n",
       "75%                          4.000000            2.000000           1.000000  \n",
       "max                       1172.000000         1153.000000           1.000000  "
      ]
     },
     "execution_count": 20,
     "metadata": {},
     "output_type": "execute_result"
    }
   ],
   "source": [
    "df1.describe()"
   ]
  },
  {
   "cell_type": "markdown",
   "id": "f4cf944b",
   "metadata": {},
   "source": [
    "### 1.4.1 Numerical Attributes"
   ]
  },
  {
   "cell_type": "code",
   "execution_count": 21,
   "id": "945a8727",
   "metadata": {
    "ExecuteTime": {
     "end_time": "2023-03-25T23:30:17.539352Z",
     "start_time": "2023-03-25T23:30:17.525090Z"
    }
   },
   "outputs": [],
   "source": [
    "## Divisão de features numericas\n",
    "\n",
    "# num_attr = df1.select_dtypes(include=['int64', 'float64'])"
   ]
  },
  {
   "cell_type": "code",
   "execution_count": 22,
   "id": "200384cb",
   "metadata": {
    "ExecuteTime": {
     "end_time": "2023-03-25T23:30:17.554057Z",
     "start_time": "2023-03-25T23:30:17.541351Z"
    }
   },
   "outputs": [],
   "source": [
    "## Tendência Central (média e mediana)\n",
    "\n",
    "# ct1 = pd.DataFrame(num_attr.apply(np.mean)).T\n",
    "# ct2 = pd.DataFrame(num_attr.apply(np.median)).T\n",
    "\n",
    "\n",
    "## Dispersão (std, min, max, range, skew, kurtosis)\n",
    "\n",
    "# d1 = pd.DataFrame(num_attr.apply(np.std)).T\n",
    "# d2 = pd.DataFrame(num_attr.apply(np.min)).T\n",
    "# d3 = pd.DataFrame(num_attr.apply(np.max)).T\n",
    "# d4 = pd.DataFrame(num_attr.apply(lambda x: x.max() - x.min())).T\n",
    "# d5 = pd.DataFrame(num_attr.apply(lambda x: x.skew())).T\n",
    "# d6 = pd.DataFrame(num_attr.apply(lambda x: x.kurtosis())).T\n",
    "\n",
    "## Concatenando os resultados\n",
    "\n",
    "# num_attr_result = pd.concat([d2, ct1, d3, d4, ct2, d1, d5, d6])\n",
    "# num_attr_result.columns = ['Atributos', 'Min', 'Media', 'Max', 'Range', 'Mediana', 'Desvio_Padrao', 'Skew', 'Kurtosis']\n",
    "# num_attr_result"
   ]
  },
  {
   "cell_type": "markdown",
   "id": "966ef4a8",
   "metadata": {},
   "source": [
    "### 1.4.2 Categorical Attributes"
   ]
  },
  {
   "cell_type": "code",
   "execution_count": 23,
   "id": "3e6cd811",
   "metadata": {
    "ExecuteTime": {
     "end_time": "2023-03-25T23:30:17.570062Z",
     "start_time": "2023-03-25T23:30:17.556337Z"
    }
   },
   "outputs": [],
   "source": [
    "# cat_attr = df1.select_dtypes(exclude=['int64', 'float64', 'datetime64[ns]'])"
   ]
  },
  {
   "cell_type": "code",
   "execution_count": 24,
   "id": "3ad8f3f3",
   "metadata": {
    "ExecuteTime": {
     "end_time": "2023-03-25T23:30:17.586121Z",
     "start_time": "2023-03-25T23:30:17.571990Z"
    }
   },
   "outputs": [],
   "source": [
    "## Mostra os valores únicos das variáveis categóricas\n",
    "\n",
    "# cat_attr.apply(lambda x: x.unique().shape[0])\n",
    "\n"
   ]
  },
  {
   "cell_type": "markdown",
   "id": "70487c29",
   "metadata": {},
   "source": [
    "# 2.0 Feature Engineering "
   ]
  },
  {
   "cell_type": "code",
   "execution_count": 25,
   "id": "502ed7ef",
   "metadata": {
    "ExecuteTime": {
     "end_time": "2023-03-25T23:30:17.601703Z",
     "start_time": "2023-03-25T23:30:17.588130Z"
    }
   },
   "outputs": [],
   "source": [
    "# Backup do Dataframe\n",
    "\n",
    "df2 = df1.copy()"
   ]
  },
  {
   "cell_type": "markdown",
   "id": "27f7fa1d",
   "metadata": {},
   "source": [
    "## 2.1 Mindmap"
   ]
  },
  {
   "cell_type": "code",
   "execution_count": 26,
   "id": "1894dfd9",
   "metadata": {
    "ExecuteTime": {
     "end_time": "2023-03-25T23:30:17.617441Z",
     "start_time": "2023-03-25T23:30:17.604745Z"
    }
   },
   "outputs": [],
   "source": [
    "## Mostra imagem\n",
    "\n",
    "# Image('img/imagem.png')"
   ]
  },
  {
   "cell_type": "markdown",
   "id": "fc54a8d4",
   "metadata": {},
   "source": [
    "## 2.2 Hypothesis"
   ]
  },
  {
   "cell_type": "code",
   "execution_count": 27,
   "id": "c255cb63",
   "metadata": {
    "ExecuteTime": {
     "end_time": "2023-03-25T23:30:17.633558Z",
     "start_time": "2023-03-25T23:30:17.624865Z"
    }
   },
   "outputs": [],
   "source": [
    "# Criação de hipóteses (brainstorm)\n"
   ]
  },
  {
   "cell_type": "markdown",
   "id": "800aa7fc",
   "metadata": {},
   "source": [
    "## 2.3 Feature Engineering "
   ]
  },
  {
   "cell_type": "code",
   "execution_count": 28,
   "id": "daef81a7",
   "metadata": {
    "ExecuteTime": {
     "end_time": "2023-03-25T23:30:17.649239Z",
     "start_time": "2023-03-25T23:30:17.635077Z"
    }
   },
   "outputs": [],
   "source": [
    "## Criação das features para tentar responder as questões levantadas\n"
   ]
  },
  {
   "cell_type": "markdown",
   "id": "9b429cd9",
   "metadata": {},
   "source": [
    "# 3.0 Data Filtering"
   ]
  },
  {
   "cell_type": "code",
   "execution_count": 29,
   "id": "499337a1",
   "metadata": {
    "ExecuteTime": {
     "end_time": "2023-03-25T23:30:17.665208Z",
     "start_time": "2023-03-25T23:30:17.650242Z"
    }
   },
   "outputs": [],
   "source": [
    "# Backup do Dataframe\n",
    "\n",
    "df3 = df2.copy()"
   ]
  },
  {
   "cell_type": "code",
   "execution_count": 30,
   "id": "ffba58a5",
   "metadata": {
    "ExecuteTime": {
     "end_time": "2023-03-25T23:30:17.680709Z",
     "start_time": "2023-03-25T23:30:17.666209Z"
    }
   },
   "outputs": [],
   "source": [
    "## Caso seja necessária a retirada de alguma feature que não tenha relevância"
   ]
  },
  {
   "cell_type": "markdown",
   "id": "3e741fc2",
   "metadata": {},
   "source": [
    "# 4.0 EDA"
   ]
  },
  {
   "cell_type": "code",
   "execution_count": 31,
   "id": "28136ff3",
   "metadata": {
    "ExecuteTime": {
     "end_time": "2023-03-25T23:30:17.696023Z",
     "start_time": "2023-03-25T23:30:17.681714Z"
    }
   },
   "outputs": [],
   "source": [
    "# Backup do Dataframe\n",
    "\n",
    "df4 = df3.copy()"
   ]
  },
  {
   "cell_type": "markdown",
   "id": "904dd61a",
   "metadata": {},
   "source": [
    "## 4.1 Univariate Analysis"
   ]
  },
  {
   "cell_type": "code",
   "execution_count": null,
   "id": "d68d7c06",
   "metadata": {},
   "outputs": [],
   "source": []
  },
  {
   "cell_type": "markdown",
   "id": "42a8fdc5",
   "metadata": {},
   "source": [
    "## 4.2 Bivariate Analysis"
   ]
  },
  {
   "cell_type": "code",
   "execution_count": null,
   "id": "56862fff",
   "metadata": {},
   "outputs": [],
   "source": []
  },
  {
   "cell_type": "markdown",
   "id": "ffc9a12b",
   "metadata": {},
   "source": [
    "\n",
    "## 4.3 Multivariate Analysis"
   ]
  },
  {
   "cell_type": "code",
   "execution_count": 32,
   "id": "d9a33271",
   "metadata": {
    "ExecuteTime": {
     "end_time": "2023-03-25T23:30:17.712048Z",
     "start_time": "2023-03-25T23:30:17.698027Z"
    }
   },
   "outputs": [],
   "source": [
    "## Gráfico Mapa de calor - mostra a correlação entre as features (qt mais perto de 1, mais relacionado está)\n",
    "\n",
    "#correlation = num_attributes.corr(method='pearson')\n",
    "\n",
    "#sns.heatmap(correlation, annot=True);"
   ]
  },
  {
   "cell_type": "markdown",
   "id": "d9160e37",
   "metadata": {},
   "source": [
    "# 5.0 Data Preparation"
   ]
  },
  {
   "cell_type": "code",
   "execution_count": 33,
   "id": "2797b0b9",
   "metadata": {
    "ExecuteTime": {
     "end_time": "2023-03-25T23:30:17.728112Z",
     "start_time": "2023-03-25T23:30:17.716079Z"
    }
   },
   "outputs": [],
   "source": [
    "# Backup do Dataframe\n",
    "\n",
    "df5 = df4.copy()"
   ]
  },
  {
   "cell_type": "markdown",
   "id": "7f32df08",
   "metadata": {},
   "source": [
    "## 5.1 Standardization"
   ]
  },
  {
   "cell_type": "code",
   "execution_count": null,
   "id": "c042c92d",
   "metadata": {},
   "outputs": [],
   "source": []
  },
  {
   "cell_type": "markdown",
   "id": "1dcbe34a",
   "metadata": {},
   "source": [
    "## 5.2 Rescaling"
   ]
  },
  {
   "cell_type": "code",
   "execution_count": 34,
   "id": "769e39e6",
   "metadata": {
    "ExecuteTime": {
     "end_time": "2023-03-25T23:30:17.743362Z",
     "start_time": "2023-03-25T23:30:17.731116Z"
    }
   },
   "outputs": [],
   "source": [
    "## Métodos para Rescala\n",
    "\n",
    "# rs = RobustScaler()\n",
    "# mms = MinMaxScaler()\n",
    "\n",
    "## Exemplo\n",
    "# df5['feature'] = rs.fit_transform(df5[['feature']].values)\n"
   ]
  },
  {
   "cell_type": "markdown",
   "id": "2dab2528",
   "metadata": {},
   "source": [
    "\n",
    "## 5.3 Encoder"
   ]
  },
  {
   "cell_type": "code",
   "execution_count": 35,
   "id": "1369a36e",
   "metadata": {
    "ExecuteTime": {
     "end_time": "2023-03-25T23:30:17.758512Z",
     "start_time": "2023-03-25T23:30:17.745315Z"
    }
   },
   "outputs": [],
   "source": [
    "le = LabelEncoder()"
   ]
  },
  {
   "cell_type": "markdown",
   "id": "7e951d2a",
   "metadata": {},
   "source": [
    "### 5.3.1 Encoding"
   ]
  },
  {
   "cell_type": "code",
   "execution_count": 36,
   "id": "60897eec",
   "metadata": {
    "ExecuteTime": {
     "end_time": "2023-03-25T23:30:17.851773Z",
     "start_time": "2023-03-25T23:30:17.762478Z"
    }
   },
   "outputs": [],
   "source": [
    "## Label Encoding\n",
    "\n",
    "df5['já_se_hospedou_anterioremente']         = le.fit_transform(df5['já_se_hospedou_anterioremente'])\n",
    "df5['reserva_feita_por_agência_de_turismo']  = le.fit_transform(df5['reserva_feita_por_agência_de_turismo'])\n",
    "df5['reserva_feita_por_empresa']             = le.fit_transform(df5['reserva_feita_por_empresa'])\n",
    "df5['reserva_com_estacionamento']            = le.fit_transform(df5['reserva_com_estacionamento'])\n",
    "df5['forma_de_reserva']                      = le.fit_transform(df5['forma_de_reserva'])\n",
    "df5['classificação_do_hotel']                = le.fit_transform(df5['classificação_do_hotel'])"
   ]
  },
  {
   "cell_type": "code",
   "execution_count": 37,
   "id": "b576d2b4",
   "metadata": {
    "ExecuteTime": {
     "end_time": "2023-03-25T23:30:17.883094Z",
     "start_time": "2023-03-25T23:30:17.853913Z"
    }
   },
   "outputs": [],
   "source": [
    "## Ordinal Encoding (dar peso)\n",
    "\n",
    "## regime_de_alimentação\n",
    "regime_alim_dict = {'Sem refeicao'                   : 0,\n",
    "                    'Café da manha'                  : 1,\n",
    "                    'Café da manha e jantar'         : 2,\n",
    "                    'Café da manha, almoco e jantar' : 3}\n",
    "df5['regime_de_alimentação'] = df5['regime_de_alimentação'].map(regime_alim_dict)\n",
    "\n",
    "## tipo_do_quarto_reservado\n",
    "#tp_quarto_dict = {\n",
    "#'Moonstone'     :1,\n",
    "#'Peridot'       :2,\n",
    "#'Topaz'         :3,\n",
    "#'Garnet'        :4,\n",
    "#'Tanzanite'     :5, \n",
    "#'Amethyst'      :6,\n",
    "#'Green Emerald' :7,\n",
    "#'Pink Sapphire' :8,\n",
    "#'Blue Sapphire' :9,   \n",
    "#'Red Ruby'      :10 \n",
    "#}\n",
    "tp_quarto_dict = {\n",
    "'Red Ruby'      :1,\n",
    "'Blue Sapphire' :2,\n",
    "'Pink Sapphire' :3,\n",
    "'Green Emerald' :4,\n",
    "'Amethyst'      :5,   \n",
    "'Tanzanite'     :6,    \n",
    "'Garnet'        :7,    \n",
    "'Topaz'         :8,    \n",
    "'Peridot'       :9,\n",
    "'Moonstone'     :10\n",
    "}\n",
    "\n",
    "df5['tipo_do_quarto_reservado'] = df5['tipo_do_quarto_reservado'].map(tp_quarto_dict)\n",
    "\n",
    "## reserva_com_observações\n",
    "reserv_obs_dict = {'Nenhuma':0, '1 a 3':1, 'Mais de 3':2}\n",
    "df5['reserva_com_observações'] = df5['reserva_com_observações'].map(reserv_obs_dict)\n"
   ]
  },
  {
   "cell_type": "code",
   "execution_count": 38,
   "id": "2fe90e3f",
   "metadata": {
    "ExecuteTime": {
     "end_time": "2023-03-25T23:30:17.978695Z",
     "start_time": "2023-03-25T23:30:17.885366Z"
    }
   },
   "outputs": [],
   "source": [
    "## Category Encoders\n",
    "\n",
    "count = CountEncoder(cols=['nacionalidade'], return_df=True) \n",
    "df5['nacionalidade'] = count.fit_transform(df5['nacionalidade'])\n"
   ]
  },
  {
   "cell_type": "code",
   "execution_count": 39,
   "id": "0a3f6142",
   "metadata": {
    "ExecuteTime": {
     "end_time": "2023-03-25T23:30:17.994276Z",
     "start_time": "2023-03-25T23:30:17.980696Z"
    }
   },
   "outputs": [],
   "source": [
    "#num_attributes['class_num_noites'] = num_attributes['número_de_pernoites_reservadas'].apply(lambda x:\n",
    "#                        1 if x <= 2     else\n",
    "#                        2 if 2 < x <= 3 else\n",
    "#                        3 if 3 < x <= 4 else\n",
    "#                        4 if 4 < x <= 7 else\n",
    "#                        5)\n",
    "\n",
    "# num_attributes['class_mes'] = num_attributes['meses_da_reserva_até_o_check_in'].apply(lambda x:\n",
    "#                        1 if x < = 1    else\n",
    "#                        2 if 1 < x <= 3 else\n",
    "#                        3 if 3 < x <= 6 else\n",
    "#                        4 if 6 < x <=13 else\n",
    "#                        5)"
   ]
  },
  {
   "cell_type": "code",
   "execution_count": 40,
   "id": "b5fc02cb",
   "metadata": {
    "ExecuteTime": {
     "end_time": "2023-03-25T23:30:18.024899Z",
     "start_time": "2023-03-25T23:30:17.996809Z"
    }
   },
   "outputs": [
    {
     "data": {
      "text/html": [
       "<div>\n",
       "<style scoped>\n",
       "    .dataframe tbody tr th:only-of-type {\n",
       "        vertical-align: middle;\n",
       "    }\n",
       "\n",
       "    .dataframe tbody tr th {\n",
       "        vertical-align: top;\n",
       "    }\n",
       "\n",
       "    .dataframe thead th {\n",
       "        text-align: right;\n",
       "    }\n",
       "</style>\n",
       "<table border=\"1\" class=\"dataframe\">\n",
       "  <thead>\n",
       "    <tr style=\"text-align: right;\">\n",
       "      <th></th>\n",
       "      <th>57110</th>\n",
       "      <th>27943</th>\n",
       "      <th>40573</th>\n",
       "      <th>29370</th>\n",
       "      <th>10878</th>\n",
       "      <th>31967</th>\n",
       "      <th>64645</th>\n",
       "      <th>6562</th>\n",
       "      <th>49137</th>\n",
       "      <th>47900</th>\n",
       "    </tr>\n",
       "  </thead>\n",
       "  <tbody>\n",
       "    <tr>\n",
       "      <th>id</th>\n",
       "      <td>92603.0</td>\n",
       "      <td>4633.0</td>\n",
       "      <td>78073.0</td>\n",
       "      <td>54622.0</td>\n",
       "      <td>103566.0</td>\n",
       "      <td>112764.0</td>\n",
       "      <td>40248.0</td>\n",
       "      <td>107114.0</td>\n",
       "      <td>28246.0</td>\n",
       "      <td>108956.0</td>\n",
       "    </tr>\n",
       "    <tr>\n",
       "      <th>classificação_do_hotel</th>\n",
       "      <td>0.0</td>\n",
       "      <td>1.0</td>\n",
       "      <td>0.0</td>\n",
       "      <td>0.0</td>\n",
       "      <td>0.0</td>\n",
       "      <td>0.0</td>\n",
       "      <td>1.0</td>\n",
       "      <td>0.0</td>\n",
       "      <td>1.0</td>\n",
       "      <td>0.0</td>\n",
       "    </tr>\n",
       "    <tr>\n",
       "      <th>meses_da_reserva_até_o_check_in</th>\n",
       "      <td>1.0</td>\n",
       "      <td>4.0</td>\n",
       "      <td>1.0</td>\n",
       "      <td>2.0</td>\n",
       "      <td>1.0</td>\n",
       "      <td>1.0</td>\n",
       "      <td>5.0</td>\n",
       "      <td>2.0</td>\n",
       "      <td>2.0</td>\n",
       "      <td>1.0</td>\n",
       "    </tr>\n",
       "    <tr>\n",
       "      <th>número_de_pernoites_reservadas</th>\n",
       "      <td>1.0</td>\n",
       "      <td>4.0</td>\n",
       "      <td>3.0</td>\n",
       "      <td>1.0</td>\n",
       "      <td>1.0</td>\n",
       "      <td>1.0</td>\n",
       "      <td>8.0</td>\n",
       "      <td>2.0</td>\n",
       "      <td>4.0</td>\n",
       "      <td>1.0</td>\n",
       "    </tr>\n",
       "    <tr>\n",
       "      <th>número_de_hospedes</th>\n",
       "      <td>2.0</td>\n",
       "      <td>2.0</td>\n",
       "      <td>2.0</td>\n",
       "      <td>2.0</td>\n",
       "      <td>3.0</td>\n",
       "      <td>1.0</td>\n",
       "      <td>2.0</td>\n",
       "      <td>1.0</td>\n",
       "      <td>2.0</td>\n",
       "      <td>2.0</td>\n",
       "    </tr>\n",
       "    <tr>\n",
       "      <th>regime_de_alimentação</th>\n",
       "      <td>1.0</td>\n",
       "      <td>3.0</td>\n",
       "      <td>1.0</td>\n",
       "      <td>0.0</td>\n",
       "      <td>1.0</td>\n",
       "      <td>1.0</td>\n",
       "      <td>2.0</td>\n",
       "      <td>1.0</td>\n",
       "      <td>1.0</td>\n",
       "      <td>0.0</td>\n",
       "    </tr>\n",
       "    <tr>\n",
       "      <th>nacionalidade</th>\n",
       "      <td>1320.0</td>\n",
       "      <td>34212.0</td>\n",
       "      <td>1230.0</td>\n",
       "      <td>610.0</td>\n",
       "      <td>34212.0</td>\n",
       "      <td>1464.0</td>\n",
       "      <td>1464.0</td>\n",
       "      <td>34212.0</td>\n",
       "      <td>34212.0</td>\n",
       "      <td>7267.0</td>\n",
       "    </tr>\n",
       "    <tr>\n",
       "      <th>forma_de_reserva</th>\n",
       "      <td>0.0</td>\n",
       "      <td>2.0</td>\n",
       "      <td>1.0</td>\n",
       "      <td>0.0</td>\n",
       "      <td>0.0</td>\n",
       "      <td>0.0</td>\n",
       "      <td>0.0</td>\n",
       "      <td>0.0</td>\n",
       "      <td>2.0</td>\n",
       "      <td>0.0</td>\n",
       "    </tr>\n",
       "    <tr>\n",
       "      <th>já_se_hospedou_anterioremente</th>\n",
       "      <td>0.0</td>\n",
       "      <td>0.0</td>\n",
       "      <td>0.0</td>\n",
       "      <td>0.0</td>\n",
       "      <td>0.0</td>\n",
       "      <td>0.0</td>\n",
       "      <td>0.0</td>\n",
       "      <td>0.0</td>\n",
       "      <td>0.0</td>\n",
       "      <td>1.0</td>\n",
       "    </tr>\n",
       "    <tr>\n",
       "      <th>tipo_do_quarto_reservado</th>\n",
       "      <td>5.0</td>\n",
       "      <td>5.0</td>\n",
       "      <td>5.0</td>\n",
       "      <td>5.0</td>\n",
       "      <td>5.0</td>\n",
       "      <td>3.0</td>\n",
       "      <td>4.0</td>\n",
       "      <td>5.0</td>\n",
       "      <td>6.0</td>\n",
       "      <td>5.0</td>\n",
       "    </tr>\n",
       "    <tr>\n",
       "      <th>reserva_feita_por_agência_de_turismo</th>\n",
       "      <td>1.0</td>\n",
       "      <td>1.0</td>\n",
       "      <td>1.0</td>\n",
       "      <td>1.0</td>\n",
       "      <td>1.0</td>\n",
       "      <td>1.0</td>\n",
       "      <td>1.0</td>\n",
       "      <td>0.0</td>\n",
       "      <td>1.0</td>\n",
       "      <td>1.0</td>\n",
       "    </tr>\n",
       "    <tr>\n",
       "      <th>reserva_feita_por_empresa</th>\n",
       "      <td>0.0</td>\n",
       "      <td>0.0</td>\n",
       "      <td>0.0</td>\n",
       "      <td>0.0</td>\n",
       "      <td>0.0</td>\n",
       "      <td>0.0</td>\n",
       "      <td>0.0</td>\n",
       "      <td>0.0</td>\n",
       "      <td>0.0</td>\n",
       "      <td>0.0</td>\n",
       "    </tr>\n",
       "    <tr>\n",
       "      <th>reserva_com_estacionamento</th>\n",
       "      <td>0.0</td>\n",
       "      <td>0.0</td>\n",
       "      <td>0.0</td>\n",
       "      <td>0.0</td>\n",
       "      <td>0.0</td>\n",
       "      <td>0.0</td>\n",
       "      <td>0.0</td>\n",
       "      <td>0.0</td>\n",
       "      <td>0.0</td>\n",
       "      <td>0.0</td>\n",
       "    </tr>\n",
       "    <tr>\n",
       "      <th>reserva_com_observações</th>\n",
       "      <td>0.0</td>\n",
       "      <td>0.0</td>\n",
       "      <td>0.0</td>\n",
       "      <td>0.0</td>\n",
       "      <td>1.0</td>\n",
       "      <td>1.0</td>\n",
       "      <td>1.0</td>\n",
       "      <td>1.0</td>\n",
       "      <td>0.0</td>\n",
       "      <td>1.0</td>\n",
       "    </tr>\n",
       "    <tr>\n",
       "      <th>reserva_cancelada</th>\n",
       "      <td>0.0</td>\n",
       "      <td>1.0</td>\n",
       "      <td>0.0</td>\n",
       "      <td>1.0</td>\n",
       "      <td>0.0</td>\n",
       "      <td>0.0</td>\n",
       "      <td>0.0</td>\n",
       "      <td>0.0</td>\n",
       "      <td>0.0</td>\n",
       "      <td>0.0</td>\n",
       "    </tr>\n",
       "  </tbody>\n",
       "</table>\n",
       "</div>"
      ],
      "text/plain": [
       "                                        57110    27943    40573    29370  \\\n",
       "id                                    92603.0   4633.0  78073.0  54622.0   \n",
       "classificação_do_hotel                    0.0      1.0      0.0      0.0   \n",
       "meses_da_reserva_até_o_check_in           1.0      4.0      1.0      2.0   \n",
       "número_de_pernoites_reservadas            1.0      4.0      3.0      1.0   \n",
       "número_de_hospedes                        2.0      2.0      2.0      2.0   \n",
       "regime_de_alimentação                     1.0      3.0      1.0      0.0   \n",
       "nacionalidade                          1320.0  34212.0   1230.0    610.0   \n",
       "forma_de_reserva                          0.0      2.0      1.0      0.0   \n",
       "já_se_hospedou_anterioremente             0.0      0.0      0.0      0.0   \n",
       "tipo_do_quarto_reservado                  5.0      5.0      5.0      5.0   \n",
       "reserva_feita_por_agência_de_turismo      1.0      1.0      1.0      1.0   \n",
       "reserva_feita_por_empresa                 0.0      0.0      0.0      0.0   \n",
       "reserva_com_estacionamento                0.0      0.0      0.0      0.0   \n",
       "reserva_com_observações                   0.0      0.0      0.0      0.0   \n",
       "reserva_cancelada                         0.0      1.0      0.0      1.0   \n",
       "\n",
       "                                         10878     31967    64645     6562   \\\n",
       "id                                    103566.0  112764.0  40248.0  107114.0   \n",
       "classificação_do_hotel                     0.0       0.0      1.0       0.0   \n",
       "meses_da_reserva_até_o_check_in            1.0       1.0      5.0       2.0   \n",
       "número_de_pernoites_reservadas             1.0       1.0      8.0       2.0   \n",
       "número_de_hospedes                         3.0       1.0      2.0       1.0   \n",
       "regime_de_alimentação                      1.0       1.0      2.0       1.0   \n",
       "nacionalidade                          34212.0    1464.0   1464.0   34212.0   \n",
       "forma_de_reserva                           0.0       0.0      0.0       0.0   \n",
       "já_se_hospedou_anterioremente              0.0       0.0      0.0       0.0   \n",
       "tipo_do_quarto_reservado                   5.0       3.0      4.0       5.0   \n",
       "reserva_feita_por_agência_de_turismo       1.0       1.0      1.0       0.0   \n",
       "reserva_feita_por_empresa                  0.0       0.0      0.0       0.0   \n",
       "reserva_com_estacionamento                 0.0       0.0      0.0       0.0   \n",
       "reserva_com_observações                    1.0       1.0      1.0       1.0   \n",
       "reserva_cancelada                          0.0       0.0      0.0       0.0   \n",
       "\n",
       "                                        49137     47900  \n",
       "id                                    28246.0  108956.0  \n",
       "classificação_do_hotel                    1.0       0.0  \n",
       "meses_da_reserva_até_o_check_in           2.0       1.0  \n",
       "número_de_pernoites_reservadas            4.0       1.0  \n",
       "número_de_hospedes                        2.0       2.0  \n",
       "regime_de_alimentação                     1.0       0.0  \n",
       "nacionalidade                         34212.0    7267.0  \n",
       "forma_de_reserva                          2.0       0.0  \n",
       "já_se_hospedou_anterioremente             0.0       1.0  \n",
       "tipo_do_quarto_reservado                  6.0       5.0  \n",
       "reserva_feita_por_agência_de_turismo      1.0       1.0  \n",
       "reserva_feita_por_empresa                 0.0       0.0  \n",
       "reserva_com_estacionamento                0.0       0.0  \n",
       "reserva_com_observações                   0.0       1.0  \n",
       "reserva_cancelada                         0.0       0.0  "
      ]
     },
     "execution_count": 40,
     "metadata": {},
     "output_type": "execute_result"
    }
   ],
   "source": [
    "df5.sample(10).T"
   ]
  },
  {
   "cell_type": "code",
   "execution_count": 41,
   "id": "819ee261",
   "metadata": {
    "ExecuteTime": {
     "end_time": "2023-03-25T23:30:18.040989Z",
     "start_time": "2023-03-25T23:30:18.026872Z"
    }
   },
   "outputs": [
    {
     "data": {
      "text/plain": [
       "id                                        int64\n",
       "classificação_do_hotel                    int32\n",
       "meses_da_reserva_até_o_check_in           int64\n",
       "número_de_pernoites_reservadas            int64\n",
       "número_de_hospedes                      float64\n",
       "regime_de_alimentação                     int64\n",
       "nacionalidade                             int64\n",
       "forma_de_reserva                          int32\n",
       "já_se_hospedou_anterioremente             int32\n",
       "tipo_do_quarto_reservado                  int64\n",
       "reserva_feita_por_agência_de_turismo      int32\n",
       "reserva_feita_por_empresa                 int32\n",
       "reserva_com_estacionamento                int32\n",
       "reserva_com_observações                   int64\n",
       "reserva_cancelada                       float64\n",
       "dtype: object"
      ]
     },
     "execution_count": 41,
     "metadata": {},
     "output_type": "execute_result"
    }
   ],
   "source": [
    "df5.dtypes"
   ]
  },
  {
   "cell_type": "code",
   "execution_count": 42,
   "id": "3da8570c",
   "metadata": {
    "ExecuteTime": {
     "end_time": "2023-03-25T23:30:18.056373Z",
     "start_time": "2023-03-25T23:30:18.041971Z"
    }
   },
   "outputs": [
    {
     "data": {
      "text/plain": [
       "id                                      0\n",
       "classificação_do_hotel                  0\n",
       "meses_da_reserva_até_o_check_in         0\n",
       "número_de_pernoites_reservadas          0\n",
       "número_de_hospedes                      3\n",
       "regime_de_alimentação                   0\n",
       "nacionalidade                           0\n",
       "forma_de_reserva                        0\n",
       "já_se_hospedou_anterioremente           0\n",
       "tipo_do_quarto_reservado                0\n",
       "reserva_feita_por_agência_de_turismo    0\n",
       "reserva_feita_por_empresa               0\n",
       "reserva_com_estacionamento              0\n",
       "reserva_com_observações                 0\n",
       "reserva_cancelada                       0\n",
       "dtype: int64"
      ]
     },
     "execution_count": 42,
     "metadata": {},
     "output_type": "execute_result"
    }
   ],
   "source": [
    "df5.isna().sum()"
   ]
  },
  {
   "cell_type": "code",
   "execution_count": 43,
   "id": "597731a7",
   "metadata": {
    "ExecuteTime": {
     "end_time": "2023-03-25T23:30:18.072420Z",
     "start_time": "2023-03-25T23:30:18.058347Z"
    }
   },
   "outputs": [
    {
     "data": {
      "text/html": [
       "<div>\n",
       "<style scoped>\n",
       "    .dataframe tbody tr th:only-of-type {\n",
       "        vertical-align: middle;\n",
       "    }\n",
       "\n",
       "    .dataframe tbody tr th {\n",
       "        vertical-align: top;\n",
       "    }\n",
       "\n",
       "    .dataframe thead th {\n",
       "        text-align: right;\n",
       "    }\n",
       "</style>\n",
       "<table border=\"1\" class=\"dataframe\">\n",
       "  <thead>\n",
       "    <tr style=\"text-align: right;\">\n",
       "      <th></th>\n",
       "      <th>8358</th>\n",
       "      <th>36627</th>\n",
       "      <th>64865</th>\n",
       "    </tr>\n",
       "  </thead>\n",
       "  <tbody>\n",
       "    <tr>\n",
       "      <th>id</th>\n",
       "      <td>40887.0</td>\n",
       "      <td>40899.0</td>\n",
       "      <td>41412.0</td>\n",
       "    </tr>\n",
       "    <tr>\n",
       "      <th>classificação_do_hotel</th>\n",
       "      <td>0.0</td>\n",
       "      <td>0.0</td>\n",
       "      <td>0.0</td>\n",
       "    </tr>\n",
       "    <tr>\n",
       "      <th>meses_da_reserva_até_o_check_in</th>\n",
       "      <td>1.0</td>\n",
       "      <td>1.0</td>\n",
       "      <td>1.0</td>\n",
       "    </tr>\n",
       "    <tr>\n",
       "      <th>número_de_pernoites_reservadas</th>\n",
       "      <td>2.0</td>\n",
       "      <td>2.0</td>\n",
       "      <td>7.0</td>\n",
       "    </tr>\n",
       "    <tr>\n",
       "      <th>número_de_hospedes</th>\n",
       "      <td>NaN</td>\n",
       "      <td>NaN</td>\n",
       "      <td>NaN</td>\n",
       "    </tr>\n",
       "    <tr>\n",
       "      <th>regime_de_alimentação</th>\n",
       "      <td>1.0</td>\n",
       "      <td>1.0</td>\n",
       "      <td>1.0</td>\n",
       "    </tr>\n",
       "    <tr>\n",
       "      <th>nacionalidade</th>\n",
       "      <td>34212.0</td>\n",
       "      <td>34212.0</td>\n",
       "      <td>34212.0</td>\n",
       "    </tr>\n",
       "    <tr>\n",
       "      <th>forma_de_reserva</th>\n",
       "      <td>1.0</td>\n",
       "      <td>1.0</td>\n",
       "      <td>1.0</td>\n",
       "    </tr>\n",
       "    <tr>\n",
       "      <th>já_se_hospedou_anterioremente</th>\n",
       "      <td>0.0</td>\n",
       "      <td>0.0</td>\n",
       "      <td>0.0</td>\n",
       "    </tr>\n",
       "    <tr>\n",
       "      <th>tipo_do_quarto_reservado</th>\n",
       "      <td>2.0</td>\n",
       "      <td>2.0</td>\n",
       "      <td>2.0</td>\n",
       "    </tr>\n",
       "    <tr>\n",
       "      <th>reserva_feita_por_agência_de_turismo</th>\n",
       "      <td>1.0</td>\n",
       "      <td>0.0</td>\n",
       "      <td>1.0</td>\n",
       "    </tr>\n",
       "    <tr>\n",
       "      <th>reserva_feita_por_empresa</th>\n",
       "      <td>0.0</td>\n",
       "      <td>0.0</td>\n",
       "      <td>0.0</td>\n",
       "    </tr>\n",
       "    <tr>\n",
       "      <th>reserva_com_estacionamento</th>\n",
       "      <td>0.0</td>\n",
       "      <td>0.0</td>\n",
       "      <td>0.0</td>\n",
       "    </tr>\n",
       "    <tr>\n",
       "      <th>reserva_com_observações</th>\n",
       "      <td>1.0</td>\n",
       "      <td>1.0</td>\n",
       "      <td>1.0</td>\n",
       "    </tr>\n",
       "    <tr>\n",
       "      <th>reserva_cancelada</th>\n",
       "      <td>1.0</td>\n",
       "      <td>1.0</td>\n",
       "      <td>1.0</td>\n",
       "    </tr>\n",
       "  </tbody>\n",
       "</table>\n",
       "</div>"
      ],
      "text/plain": [
       "                                        8358     36627    64865\n",
       "id                                    40887.0  40899.0  41412.0\n",
       "classificação_do_hotel                    0.0      0.0      0.0\n",
       "meses_da_reserva_até_o_check_in           1.0      1.0      1.0\n",
       "número_de_pernoites_reservadas            2.0      2.0      7.0\n",
       "número_de_hospedes                        NaN      NaN      NaN\n",
       "regime_de_alimentação                     1.0      1.0      1.0\n",
       "nacionalidade                         34212.0  34212.0  34212.0\n",
       "forma_de_reserva                          1.0      1.0      1.0\n",
       "já_se_hospedou_anterioremente             0.0      0.0      0.0\n",
       "tipo_do_quarto_reservado                  2.0      2.0      2.0\n",
       "reserva_feita_por_agência_de_turismo      1.0      0.0      1.0\n",
       "reserva_feita_por_empresa                 0.0      0.0      0.0\n",
       "reserva_com_estacionamento                0.0      0.0      0.0\n",
       "reserva_com_observações                   1.0      1.0      1.0\n",
       "reserva_cancelada                         1.0      1.0      1.0"
      ]
     },
     "execution_count": 43,
     "metadata": {},
     "output_type": "execute_result"
    }
   ],
   "source": [
    "df5[df5['número_de_hospedes'].isna()].T"
   ]
  },
  {
   "cell_type": "code",
   "execution_count": 44,
   "id": "08dddee5",
   "metadata": {
    "ExecuteTime": {
     "end_time": "2023-03-25T23:30:18.088010Z",
     "start_time": "2023-03-25T23:30:18.073895Z"
    }
   },
   "outputs": [],
   "source": [
    "df5 = df5.fillna(0)"
   ]
  },
  {
   "cell_type": "code",
   "execution_count": 45,
   "id": "6ac1487d",
   "metadata": {
    "ExecuteTime": {
     "end_time": "2023-03-25T23:30:18.103612Z",
     "start_time": "2023-03-25T23:30:18.090975Z"
    }
   },
   "outputs": [],
   "source": [
    "# Aletração da variável para inteiro \n",
    "df5['reserva_cancelada'] = df5['reserva_cancelada'].astype(int)\n",
    "df5['número_de_hospedes'] = df5['número_de_hospedes'].astype(int)"
   ]
  },
  {
   "cell_type": "code",
   "execution_count": 46,
   "id": "843ec40a",
   "metadata": {
    "ExecuteTime": {
     "end_time": "2023-03-25T23:30:18.119210Z",
     "start_time": "2023-03-25T23:30:18.105152Z"
    }
   },
   "outputs": [
    {
     "data": {
      "text/plain": [
       "id                                      int64\n",
       "classificação_do_hotel                  int32\n",
       "meses_da_reserva_até_o_check_in         int64\n",
       "número_de_pernoites_reservadas          int64\n",
       "número_de_hospedes                      int32\n",
       "regime_de_alimentação                   int64\n",
       "nacionalidade                           int64\n",
       "forma_de_reserva                        int32\n",
       "já_se_hospedou_anterioremente           int32\n",
       "tipo_do_quarto_reservado                int64\n",
       "reserva_feita_por_agência_de_turismo    int32\n",
       "reserva_feita_por_empresa               int32\n",
       "reserva_com_estacionamento              int32\n",
       "reserva_com_observações                 int64\n",
       "reserva_cancelada                       int32\n",
       "dtype: object"
      ]
     },
     "execution_count": 46,
     "metadata": {},
     "output_type": "execute_result"
    }
   ],
   "source": [
    "df5.dtypes"
   ]
  },
  {
   "cell_type": "markdown",
   "id": "dd7477fc",
   "metadata": {},
   "source": [
    "### 5.3.2 Response Variable Transformation"
   ]
  },
  {
   "cell_type": "code",
   "execution_count": null,
   "id": "d53b08b1",
   "metadata": {},
   "outputs": [],
   "source": []
  },
  {
   "cell_type": "markdown",
   "id": "1f02db97",
   "metadata": {},
   "source": [
    "### 5.3.3 Nature Transformation"
   ]
  },
  {
   "cell_type": "code",
   "execution_count": null,
   "id": "1ae7bc4a",
   "metadata": {},
   "outputs": [],
   "source": []
  },
  {
   "cell_type": "markdown",
   "id": "6df72047",
   "metadata": {},
   "source": [
    "## 5.4 Validation Preparation"
   ]
  },
  {
   "cell_type": "code",
   "execution_count": null,
   "id": "d2ed6159",
   "metadata": {},
   "outputs": [],
   "source": []
  },
  {
   "cell_type": "markdown",
   "id": "984bbe44",
   "metadata": {},
   "source": [
    "# 6.0 Feature Selection"
   ]
  },
  {
   "cell_type": "code",
   "execution_count": 47,
   "id": "7cf70d0b",
   "metadata": {
    "ExecuteTime": {
     "end_time": "2023-03-25T23:30:18.134648Z",
     "start_time": "2023-03-25T23:30:18.121191Z"
    }
   },
   "outputs": [],
   "source": [
    "# Backup do Dataframe\n",
    "\n",
    "df6 = df5.copy()"
   ]
  },
  {
   "cell_type": "code",
   "execution_count": 48,
   "id": "0c6339b4",
   "metadata": {
    "ExecuteTime": {
     "end_time": "2023-03-25T23:30:18.150182Z",
     "start_time": "2023-03-25T23:30:18.136106Z"
    }
   },
   "outputs": [],
   "source": [
    "## Drop das features que não serão utilizadas\n",
    "\n",
    "# X_train = df6.drop(['col_index','var_resposta'],axis=1)\n",
    "# X_validation = X_validation.drop('var_resposta',axis=1)"
   ]
  },
  {
   "cell_type": "markdown",
   "id": "49c8f5dd",
   "metadata": {},
   "source": [
    "## 6.1 Feature Selector (boruta)"
   ]
  },
  {
   "cell_type": "code",
   "execution_count": 49,
   "id": "ec97976b",
   "metadata": {
    "ExecuteTime": {
     "end_time": "2023-03-25T23:30:18.165518Z",
     "start_time": "2023-03-25T23:30:18.152183Z"
    }
   },
   "outputs": [],
   "source": [
    "# X_train_n = X_train.values\n",
    "# y_train_n = y_train.values.ravel() \n",
    "\n",
    "## Define RandomForest\n",
    "\n",
    "# rf = RandomForestClassifier(n_jobs=-1, n_estimators=500)\n",
    "# boruta = BorutaPy(rf, n_estimators='auto', random_state=42).fit(X_train_n, y_train_n)\n",
    "# cols_selected = boruta.support_.tolist()\n",
    "\n",
    "\n",
    "# X_train_fs = X_train\n",
    "# cols_selected_boruta = X_train_fs.iloc[:, cols_selected].columns.to_list()\n",
    "\n",
    "# cols_not_selected_boruta = list(np.setdiff1d(X_train_fs.columns, cols_selected_boruta) )\n",
    "# cols_selected_boruta"
   ]
  },
  {
   "cell_type": "markdown",
   "id": "0bc8aa41",
   "metadata": {},
   "source": [
    "## 6.2 Feature Importance (RandomForest)"
   ]
  },
  {
   "cell_type": "code",
   "execution_count": 50,
   "id": "8d42b6f4",
   "metadata": {
    "ExecuteTime": {
     "end_time": "2023-03-25T23:30:18.181162Z",
     "start_time": "2023-03-25T23:30:18.168347Z"
    }
   },
   "outputs": [],
   "source": [
    "## Lista de features ordenadas por importância\n",
    "\n",
    "# Define\n",
    "# rf = RandomForestClassifier(random_state=42, n_jobs=-1, n_estimators=500).fit(X_train, y_train)\n",
    "# feature_importance_sorted = rf.feature_importances_.argsort()\n",
    "\n",
    "## Exibição\n",
    "# sns.barplot(y=rf.feature_names_in_[feature_importance_sorted], x=rf.feature_importances_[feature_importance_sorted] );\n",
    "# df_feature_importance_rf = pd.DataFrame( {'feature'    :rf.feature_names_in_[feature_importance_sorted],\n",
    "#                                           'importance' :rf.feature_importances_[feature_importance_sorted] } )\n",
    "# df_feature_importance_rf.sort_values(by='importance', ascending=False)"
   ]
  },
  {
   "cell_type": "markdown",
   "id": "edfa5edf",
   "metadata": {},
   "source": [
    "## 6.3 Feature Importance (XGBoost)"
   ]
  },
  {
   "cell_type": "code",
   "execution_count": 51,
   "id": "742882b8",
   "metadata": {
    "ExecuteTime": {
     "end_time": "2023-03-25T23:30:18.196394Z",
     "start_time": "2023-03-25T23:30:18.183124Z"
    }
   },
   "outputs": [],
   "source": [
    "## Lista de features ordenadas por importância\n",
    "\n",
    "# xgbc = XGBClassifier(random_state=42, n_jobs=-1, n_estimators=500).fit(X_train, y_train)\n",
    "# feature_importance_sorted = xgbc.feature_importances_.argsort()\n",
    "\n",
    "## Exibição\n",
    "# sns.barplot(y=xgbc.feature_names_in_[feature_importance_sorted], x=xgbc.feature_importances_[feature_importance_sorted] );\n",
    "# df_feature_importance_xgbc = pd.DataFrame( {'feature':xgbc.feature_names_in_[feature_importance_sorted],\n",
    "#                                             'importance': xgbc.feature_importances_[feature_importance_sorted] } )\n",
    "# df_feature_importance_xgbc.sort_values(by='importance', ascending=False)"
   ]
  },
  {
   "cell_type": "markdown",
   "id": "e1a73781",
   "metadata": {},
   "source": [
    "# 7.0 Machine Learning Models"
   ]
  },
  {
   "cell_type": "code",
   "execution_count": 52,
   "id": "6a92a6df",
   "metadata": {
    "ExecuteTime": {
     "end_time": "2023-03-25T23:30:18.233186Z",
     "start_time": "2023-03-25T23:30:18.198369Z"
    }
   },
   "outputs": [],
   "source": [
    "train = df6.copy()\n",
    "X_train = train.drop(columns='reserva_cancelada')\n",
    "y_train = train['reserva_cancelada']\n",
    "\n",
    "X_train, X_val, y_train, y_val = ms.train_test_split(X_train, y_train, test_size=0.2, random_state=42)"
   ]
  },
  {
   "cell_type": "code",
   "execution_count": 70,
   "id": "143fda36",
   "metadata": {
    "ExecuteTime": {
     "end_time": "2023-03-25T23:47:04.504086Z",
     "start_time": "2023-03-25T23:46:55.616999Z"
    }
   },
   "outputs": [],
   "source": [
    "# Dados de Treino + Validação\n",
    "\n",
    "values = [i for i in range(1, 60)]\n",
    "test_score = list()\n",
    "\n",
    "for i in values:\n",
    "\n",
    "    ## Define\n",
    "    dt_model = tree.DecisionTreeClassifier(max_depth=i)\n",
    "\n",
    "    ## Training\n",
    "    dt_model.fit(X_train, y_train)\n",
    "\n",
    "    ## Classificação\n",
    "    yhat_val = dt_model.predict(X_val)\n",
    "\n",
    "    ## Métrica sobre os dados de validação\n",
    "    f1score_val = mt.f1_score(y_val, yhat_val)\n",
    "    #print('F1-Score over Validation: {}'.format(f1score_val))\n",
    "    test_score.append(f1score_val)\n"
   ]
  },
  {
   "cell_type": "code",
   "execution_count": 73,
   "id": "39363d8a",
   "metadata": {
    "ExecuteTime": {
     "end_time": "2023-03-25T23:47:23.823942Z",
     "start_time": "2023-03-25T23:47:23.586062Z"
    },
    "scrolled": false
   },
   "outputs": [
    {
     "data": {
      "image/png": "[encoded data removed]",
      "text/plain": [
       "<Figure size 640x480 with 1 Axes>"
      ]
     },
     "metadata": {},
     "output_type": "display_data"
    }
   ],
   "source": [
    "plt.plot(values, test_score, '-o', label='Test');"
   ]
  },
  {
   "cell_type": "code",
   "execution_count": 89,
   "id": "7a35b561",
   "metadata": {
    "ExecuteTime": {
     "end_time": "2023-03-25T23:51:19.638784Z",
     "start_time": "2023-03-25T23:51:19.451915Z"
    }
   },
   "outputs": [
    {
     "name": "stdout",
     "output_type": "stream",
     "text": [
      "F1-Score over Validation: 0.9661291970129762\n"
     ]
    }
   ],
   "source": [
    "## Define\n",
    "dt_model = tree.DecisionTreeClassifier(max_depth=14)\n",
    "\n",
    "## Training\n",
    "dt_model.fit(X_train, y_train)\n",
    "\n",
    "## Classificação\n",
    "yhat_val = dt_model.predict(X_val)\n",
    "\n",
    "## Métrica sobre os dados de validação\n",
    "f1score_val = mt.f1_score(y_val, yhat_val, average='macro')\n",
    "print('F1-Score over Validation: {}'.format(f1score_val))"
   ]
  },
  {
   "cell_type": "code",
   "execution_count": 54,
   "id": "81a6b7d3",
   "metadata": {
    "ExecuteTime": {
     "end_time": "2023-03-25T23:30:18.756908Z",
     "start_time": "2023-03-25T23:30:18.276894Z"
    }
   },
   "outputs": [
    {
     "name": "stdout",
     "output_type": "stream",
     "text": [
      "F1-Score over Validation: 0.6286122740733178\n"
     ]
    }
   ],
   "source": [
    "# Dados de Treino + Validação\n",
    "\n",
    "## Define\n",
    "lr_model = LogisticRegression()\n",
    "\n",
    "## Training\n",
    "lr_model.fit(X_train, y_train)\n",
    "\n",
    "## Classificação\n",
    "yhat_val = lr_model.predict(X_val)\n",
    "\n",
    "## Métrica sobre os dados de validação\n",
    "# f1score_val = mt.f1_score(y_val, yhat_val, average='macro')\n",
    "f1score_val = mt.f1_score(y_val, yhat_val)\n",
    "print('F1-Score over Validation: {}'.format(f1score_val))\n",
    "\n"
   ]
  },
  {
   "cell_type": "code",
   "execution_count": 55,
   "id": "0d2a6371",
   "metadata": {
    "ExecuteTime": {
     "end_time": "2023-03-25T23:33:08.835289Z",
     "start_time": "2023-03-25T23:30:18.758908Z"
    }
   },
   "outputs": [],
   "source": [
    "# Dados de Treino + Validação\n",
    "\n",
    "## Define\n",
    "model_svm = svm.SVC()\n",
    "\n",
    "## Training\n",
    "model_svm.fit(X_train, y_train)\n",
    "\n",
    "## Classificação\n",
    "yhat_val = model_svm.predict(X_val)\n",
    "\n",
    "## Métrica sobre os dados de validação\n",
    "#f1score_val = mt.f1_score(y_val, yhat_val)\n",
    "#print('F1-Score over Validation: {}'.format(f1score_val))\n",
    "\n",
    "# Resultado sem macro\n",
    "#F1-Score over Validation: 0.8504432370603374\n"
   ]
  },
  {
   "cell_type": "code",
   "execution_count": 56,
   "id": "fd449253",
   "metadata": {
    "ExecuteTime": {
     "end_time": "2023-03-25T23:33:08.865757Z",
     "start_time": "2023-03-25T23:33:08.838126Z"
    }
   },
   "outputs": [
    {
     "name": "stdout",
     "output_type": "stream",
     "text": [
      "F1-Score over Validation: 0.8825230935206438\n"
     ]
    }
   ],
   "source": [
    "f1score_val = mt.f1_score(y_val, yhat_val, average='macro')\n",
    "print('F1-Score over Validation: {}'.format(f1score_val))\n",
    "\n",
    "# Resultado com macro\n",
    "#F1-Score over Validation: 0.8825230935206438"
   ]
  },
  {
   "cell_type": "code",
   "execution_count": 57,
   "id": "625e2309",
   "metadata": {
    "ExecuteTime": {
     "end_time": "2023-03-25T23:33:08.913208Z",
     "start_time": "2023-03-25T23:33:08.867882Z"
    }
   },
   "outputs": [],
   "source": [
    "# Dados de Treino + Produção\n",
    "\n",
    "## Define\n",
    "# model = tr.DecisionTreeClassifier(max_depth=)\n",
    "\n",
    "## Training\n",
    "# model.fit(np.concatenate((X_train, X_val), np.concatenate((y_train, y_val)))\n",
    "\n",
    "## Classificação\n",
    "# yhat_pred = model.predict(X_prod)\n",
    "\n",
    "## Métrica sobre os dados de validação\n",
    "# acc_prod = mt.accuracy_score(y_prod, yhat_pred)\n",
    "# print('Accuracy over production: {}'.format(acc_prod))\n",
    "\n"
   ]
  },
  {
   "cell_type": "markdown",
   "id": "8ec5d2d9",
   "metadata": {},
   "source": [
    "## 7.1 Models and Cross-Validation"
   ]
  },
  {
   "cell_type": "code",
   "execution_count": null,
   "id": "11923ba6",
   "metadata": {},
   "outputs": [],
   "source": []
  },
  {
   "cell_type": "markdown",
   "id": "20b912fa",
   "metadata": {},
   "source": [
    "## 7.2 Model to Submission"
   ]
  },
  {
   "cell_type": "code",
   "execution_count": 58,
   "id": "eb44502c",
   "metadata": {
    "ExecuteTime": {
     "end_time": "2023-03-25T23:33:09.114343Z",
     "start_time": "2023-03-25T23:33:08.916835Z"
    }
   },
   "outputs": [],
   "source": [
    "## Label Encoding\n",
    "\n",
    "test['já_se_hospedou_anterioremente']         = le.fit_transform(test['já_se_hospedou_anterioremente'])\n",
    "test['reserva_feita_por_agência_de_turismo']  = le.fit_transform(test['reserva_feita_por_agência_de_turismo'])\n",
    "test['reserva_feita_por_empresa']             = le.fit_transform(test['reserva_feita_por_empresa'])\n",
    "test['reserva_com_estacionamento']            = le.fit_transform(test['reserva_com_estacionamento'])\n",
    "test['forma_de_reserva']                      = le.fit_transform(test['forma_de_reserva'])\n",
    "test['classificação_do_hotel']                = le.fit_transform(test['classificação_do_hotel'])\n",
    "\n",
    "## Ordinal Encoding (dar peso)\n",
    "\n",
    "## regime_de_alimentação\n",
    "regime_alim_dict = {'Sem refeicao'                   : 3,\n",
    "                    'Café da manha'                  : 2,\n",
    "                    'Café da manha e jantar'         : 1,\n",
    "                    'Café da manha, almoco e jantar' : 0}\n",
    "test['regime_de_alimentação'] = test['regime_de_alimentação'].map(regime_alim_dict)\n",
    "\n",
    "## tipo_do_quarto_reservado\n",
    "tp_quarto_dict = {\n",
    "'Moonstone'     :1,\n",
    "'Peridot'       :2,\n",
    "'Topaz'         :3,\n",
    "'Garnet'        :4,\n",
    "'Tanzanite'     :5, \n",
    "'Amethyst'      :6,\n",
    "'Green Emerald' :7,\n",
    "'Pink Sapphire' :8,\n",
    "'Blue Sapphire' :9,   \n",
    "'Red Ruby'      :10 \n",
    "}\n",
    "test['tipo_do_quarto_reservado'] = test['tipo_do_quarto_reservado'].map(tp_quarto_dict)\n",
    "\n",
    "## reserva_com_observações\n",
    "reserv_obs_dict = {'Nenhuma':2, '1 a 3':1, 'Mais de 3':0}\n",
    "test['reserva_com_observações'] = test['reserva_com_observações'].map(reserv_obs_dict)\n",
    "\n",
    "\n",
    "## Category Encoders\n",
    "\n",
    "count = CountEncoder(cols=['nacionalidade'], return_df=True) \n",
    "test['nacionalidade'] = count.fit_transform(test['nacionalidade'])\n",
    "\n",
    "\n",
    "\n",
    "## Limpezas dos NA's\n",
    "test = test.fillna(0)\n",
    "\n",
    "\n",
    "## Alteração da variável alvo\n",
    "test['número_de_hospedes'] = test['número_de_hospedes'].astype(int)\n",
    "test['regime_de_alimentação'] = test['regime_de_alimentação'].astype(int)\n",
    "test['tipo_do_quarto_reservado'] = test['tipo_do_quarto_reservado'].astype(int)\n",
    "test['reserva_com_observações'] = test['reserva_com_observações'].astype(int)"
   ]
  },
  {
   "cell_type": "code",
   "execution_count": 59,
   "id": "559125e0",
   "metadata": {
    "ExecuteTime": {
     "end_time": "2023-03-25T23:33:09.145068Z",
     "start_time": "2023-03-25T23:33:09.117631Z"
    }
   },
   "outputs": [
    {
     "data": {
      "text/plain": [
       "id                                      int64\n",
       "classificação_do_hotel                  int32\n",
       "meses_da_reserva_até_o_check_in         int64\n",
       "número_de_pernoites_reservadas          int64\n",
       "número_de_hospedes                      int32\n",
       "regime_de_alimentação                   int32\n",
       "nacionalidade                           int64\n",
       "forma_de_reserva                        int32\n",
       "já_se_hospedou_anterioremente           int32\n",
       "tipo_do_quarto_reservado                int32\n",
       "reserva_feita_por_agência_de_turismo    int32\n",
       "reserva_feita_por_empresa               int32\n",
       "reserva_com_estacionamento              int32\n",
       "reserva_com_observações                 int32\n",
       "dtype: object"
      ]
     },
     "execution_count": 59,
     "metadata": {},
     "output_type": "execute_result"
    }
   ],
   "source": [
    "test.dtypes"
   ]
  },
  {
   "cell_type": "code",
   "execution_count": 60,
   "id": "ceebf395",
   "metadata": {
    "ExecuteTime": {
     "end_time": "2023-03-25T23:33:09.160399Z",
     "start_time": "2023-03-25T23:33:09.147004Z"
    }
   },
   "outputs": [],
   "source": [
    "#predicao_lr = model.predict(test)\n",
    "\n",
    "#df_final_lr = pd.concat([test.id, pd.Series(predicao_lr, name = 'Reserva Cancelada')], axis=1)\n",
    "\n",
    "#df_final_lr.head()\n"
   ]
  },
  {
   "cell_type": "code",
   "execution_count": 61,
   "id": "7191b9c5",
   "metadata": {
    "ExecuteTime": {
     "end_time": "2023-03-25T23:35:18.021908Z",
     "start_time": "2023-03-25T23:33:09.162412Z"
    }
   },
   "outputs": [
    {
     "data": {
      "text/html": [
       "<div>\n",
       "<style scoped>\n",
       "    .dataframe tbody tr th:only-of-type {\n",
       "        vertical-align: middle;\n",
       "    }\n",
       "\n",
       "    .dataframe tbody tr th {\n",
       "        vertical-align: top;\n",
       "    }\n",
       "\n",
       "    .dataframe thead th {\n",
       "        text-align: right;\n",
       "    }\n",
       "</style>\n",
       "<table border=\"1\" class=\"dataframe\">\n",
       "  <thead>\n",
       "    <tr style=\"text-align: right;\">\n",
       "      <th></th>\n",
       "      <th>id</th>\n",
       "      <th>Reserva Cancelada</th>\n",
       "    </tr>\n",
       "  </thead>\n",
       "  <tbody>\n",
       "    <tr>\n",
       "      <th>0</th>\n",
       "      <td>118345</td>\n",
       "      <td>0</td>\n",
       "    </tr>\n",
       "    <tr>\n",
       "      <th>1</th>\n",
       "      <td>9500</td>\n",
       "      <td>0</td>\n",
       "    </tr>\n",
       "    <tr>\n",
       "      <th>2</th>\n",
       "      <td>34558</td>\n",
       "      <td>0</td>\n",
       "    </tr>\n",
       "    <tr>\n",
       "      <th>3</th>\n",
       "      <td>70816</td>\n",
       "      <td>1</td>\n",
       "    </tr>\n",
       "    <tr>\n",
       "      <th>4</th>\n",
       "      <td>105321</td>\n",
       "      <td>0</td>\n",
       "    </tr>\n",
       "  </tbody>\n",
       "</table>\n",
       "</div>"
      ],
      "text/plain": [
       "       id  Reserva Cancelada\n",
       "0  118345                  0\n",
       "1    9500                  0\n",
       "2   34558                  0\n",
       "3   70816                  1\n",
       "4  105321                  0"
      ]
     },
     "execution_count": 61,
     "metadata": {},
     "output_type": "execute_result"
    }
   ],
   "source": [
    "#predicao_svm = model_svm.predict(test)\n",
    "\n",
    "#df_final_svm = pd.concat([test.id, pd.Series(predicao_svm, name = 'Reserva Cancelada')], axis=1)\n",
    "\n",
    "#df_final_svm.head()\n"
   ]
  },
  {
   "cell_type": "code",
   "execution_count": 61,
   "id": "8a30b81f",
   "metadata": {
    "ExecuteTime": {
     "end_time": "2023-03-25T23:35:18.021908Z",
     "start_time": "2023-03-25T23:33:09.162412Z"
    }
   },
   "outputs": [
    {
     "data": {
      "text/html": [
       "<div>\n",
       "<style scoped>\n",
       "    .dataframe tbody tr th:only-of-type {\n",
       "        vertical-align: middle;\n",
       "    }\n",
       "\n",
       "    .dataframe tbody tr th {\n",
       "        vertical-align: top;\n",
       "    }\n",
       "\n",
       "    .dataframe thead th {\n",
       "        text-align: right;\n",
       "    }\n",
       "</style>\n",
       "<table border=\"1\" class=\"dataframe\">\n",
       "  <thead>\n",
       "    <tr style=\"text-align: right;\">\n",
       "      <th></th>\n",
       "      <th>id</th>\n",
       "      <th>Reserva Cancelada</th>\n",
       "    </tr>\n",
       "  </thead>\n",
       "  <tbody>\n",
       "    <tr>\n",
       "      <th>0</th>\n",
       "      <td>118345</td>\n",
       "      <td>0</td>\n",
       "    </tr>\n",
       "    <tr>\n",
       "      <th>1</th>\n",
       "      <td>9500</td>\n",
       "      <td>0</td>\n",
       "    </tr>\n",
       "    <tr>\n",
       "      <th>2</th>\n",
       "      <td>34558</td>\n",
       "      <td>0</td>\n",
       "    </tr>\n",
       "    <tr>\n",
       "      <th>3</th>\n",
       "      <td>70816</td>\n",
       "      <td>1</td>\n",
       "    </tr>\n",
       "    <tr>\n",
       "      <th>4</th>\n",
       "      <td>105321</td>\n",
       "      <td>0</td>\n",
       "    </tr>\n",
       "  </tbody>\n",
       "</table>\n",
       "</div>"
      ],
      "text/plain": [
       "       id  Reserva Cancelada\n",
       "0  118345                  0\n",
       "1    9500                  0\n",
       "2   34558                  0\n",
       "3   70816                  1\n",
       "4  105321                  0"
      ]
     },
     "execution_count": 61,
     "metadata": {},
     "output_type": "execute_result"
    }
   ],
   "source": [
    "predicao_dt = dt_model.predict(test)\n",
    "\n",
    "df_final_dt = pd.concat([test.id, pd.Series(predicao_dt, name = 'Reserva Cancelada')], axis=1)\n",
    "\n",
    "df_final_dt.head()\n"
   ]
  },
  {
   "cell_type": "code",
   "execution_count": 62,
   "id": "63bddd60",
   "metadata": {
    "ExecuteTime": {
     "end_time": "2023-03-25T23:35:18.037861Z",
     "start_time": "2023-03-25T23:35:18.024885Z"
    }
   },
   "outputs": [
    {
     "data": {
      "text/plain": [
       "id                   int64\n",
       "Reserva Cancelada    int32\n",
       "dtype: object"
      ]
     },
     "execution_count": 62,
     "metadata": {},
     "output_type": "execute_result"
    }
   ],
   "source": [
    "df_final_dt.dtypes"
   ]
  },
  {
   "cell_type": "code",
   "execution_count": 63,
   "id": "66117cdf",
   "metadata": {
    "ExecuteTime": {
     "end_time": "2023-03-25T23:35:18.116596Z",
     "start_time": "2023-03-25T23:35:18.039780Z"
    }
   },
   "outputs": [],
   "source": [
    "df_final_dt.to_csv('../data/result/submission.csv', index=False) #Arquivo de submissão pronto para ser enviado."
   ]
  },
  {
   "cell_type": "markdown",
   "id": "2f63e502",
   "metadata": {},
   "source": [
    "# 8.0 Hyperparameter Fine Tunning"
   ]
  },
  {
   "cell_type": "markdown",
   "id": "ed5b6f39",
   "metadata": {},
   "source": [
    "## 8.1 Model 1 (RandomForest)"
   ]
  },
  {
   "cell_type": "code",
   "execution_count": 64,
   "id": "3097205e",
   "metadata": {
    "ExecuteTime": {
     "end_time": "2023-03-25T23:35:18.133285Z",
     "start_time": "2023-03-25T23:35:18.120484Z"
    }
   },
   "outputs": [],
   "source": [
    "## Definição dos parâmetros utilizados pelo algoritmo\n",
    "\n",
    "# parameters = {\n",
    "#     'n_estimators': [800,1200,2000],\n",
    "#     'max_depth': [5,20,40,80,None],\n",
    "#     'min_samples_split': [2,10,20,40],\n",
    "#     'min_impurity_decrease': [0,.05,0.1]\n",
    "# }\n",
    "\n",
    "\n",
    "## Definição do método\n",
    "\n",
    "# skf = StratifiedKFold(n_splits = 10)\n",
    "# rf_search =  BayesSearchCV(estimator = RandomForestClassifier(max_features = 'sqrt'),\n",
    "#                            search_spaces = parameters,\n",
    "#                            n_jobs = -1,\n",
    "#                            cv = skf,\n",
    "#                            scoring = 'f1_weighted',\n",
    "#                            random_state = 42)\n",
    "\n",
    "# rf_search_result = rf_search.fit(x_train, y_train)"
   ]
  },
  {
   "cell_type": "markdown",
   "id": "be0e44e2",
   "metadata": {},
   "source": [
    "## 8.1 Model 2 (XGBoost)"
   ]
  },
  {
   "cell_type": "code",
   "execution_count": 65,
   "id": "ba046dac",
   "metadata": {
    "ExecuteTime": {
     "end_time": "2023-03-25T23:35:18.149097Z",
     "start_time": "2023-03-25T23:35:18.137060Z"
    }
   },
   "outputs": [],
   "source": [
    "## Definição dos parâmetros utilizados pelo algoritmo\n",
    "\n",
    "# parameters = {\n",
    "#     'n_estimators': [500,800,1200,1600,2200,3000],\n",
    "#     'learning_rate': [0.05,0.1,0.15],\n",
    "#     'max_depth': [10,20,40,80,None],\n",
    "#     'min_samples_split': [2,10,20,40,100],\n",
    "#     'min_impurity_decrease': [0,.05,.1],\n",
    "#     'colsample_bytree': [0.3,0.5,0.8],\n",
    "#     'subsample': [0.1,0.4,0.7]\n",
    "# }\n",
    "\n",
    "\n",
    "# skf = StratifiedKFold(n_splits=10)\n",
    "# xgb_search =  BayesSearchCV(estimator = XGBClassifier(),\n",
    "#                            search_spaces = parameters,\n",
    "#                            n_jobs = -1,\n",
    "#                            cv = skf,\n",
    "#                            scoring = 'f1_weighted',\n",
    "#                            random_state = 42)\n",
    "\n",
    "# xgb_search_result = xgb_search.fit(x_train, y_train)"
   ]
  }
 ],
 "metadata": {
  "kernelspec": {
   "display_name": "Python 3 (ipykernel)",
   "language": "python",
   "name": "python3"
  },
  "language_info": {
   "codemirror_mode": {
    "name": "ipython",
    "version": 3
   },
   "file_extension": ".py",
   "mimetype": "text/x-python",
   "name": "python",
   "nbconvert_exporter": "python",
   "pygments_lexer": "ipython3",
   "version": "3.9.13"
  },
  "toc": {
   "base_numbering": 1,
   "nav_menu": {},
   "number_sections": false,
   "sideBar": true,
   "skip_h1_title": false,
   "title_cell": "Table of Contents",
   "title_sidebar": "Contents",
   "toc_cell": false,
   "toc_position": {
    "height": "calc(100% - 180px)",
    "left": "10px",
    "top": "150px",
    "width": "306px"
   },
   "toc_section_display": true,
   "toc_window_display": true
  },
  "vscode": {
   "interpreter": {
    "hash": "7ea365085f3807110e1cdcb04122fb278047fe100a09bc2730588139759355b3"
   }
  }
 },
 "nbformat": 4,
 "nbformat_minor": 5
}
