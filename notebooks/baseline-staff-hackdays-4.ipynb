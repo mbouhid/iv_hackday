{
 "cells": [
  {
   "cell_type": "code",
   "execution_count": 13,
   "id": "0bc7d472",
   "metadata": {
    "ExecuteTime": {
     "end_time": "2023-03-25T19:29:22.337830Z",
     "start_time": "2023-03-25T19:29:22.303477Z"
    },
    "execution": {
     "iopub.execute_input": "2023-03-18T19:43:05.310733Z",
     "iopub.status.busy": "2023-03-18T19:43:05.310363Z",
     "iopub.status.idle": "2023-03-18T19:43:06.967983Z",
     "shell.execute_reply": "2023-03-18T19:43:06.966204Z"
    },
    "papermill": {
     "duration": 1.668791,
     "end_time": "2023-03-18T19:43:06.970780",
     "exception": false,
     "start_time": "2023-03-18T19:43:05.301989",
     "status": "completed"
    },
    "tags": []
   },
   "outputs": [],
   "source": [
    "import numpy as np\n",
    "import pandas as pd\n",
    "from sklearn.linear_model import LogisticRegression\n",
    "from category_encoders.count import CountEncoder\n",
    "from sklearn import metrics as mt\n"
   ]
  },
  {
   "cell_type": "markdown",
   "id": "ce7aa9ce",
   "metadata": {
    "papermill": {
     "duration": 0.004365,
     "end_time": "2023-03-18T19:43:06.980166",
     "exception": false,
     "start_time": "2023-03-18T19:43:06.975801",
     "status": "completed"
    },
    "tags": []
   },
   "source": [
    "# Load Data"
   ]
  },
  {
   "cell_type": "code",
   "execution_count": 2,
   "id": "61420820",
   "metadata": {
    "ExecuteTime": {
     "end_time": "2023-03-25T14:24:32.898151Z",
     "start_time": "2023-03-25T14:24:32.668764Z"
    },
    "execution": {
     "iopub.execute_input": "2023-03-18T19:43:06.991818Z",
     "iopub.status.busy": "2023-03-18T19:43:06.990824Z",
     "iopub.status.idle": "2023-03-18T19:43:07.332645Z",
     "shell.execute_reply": "2023-03-18T19:43:07.330874Z"
    },
    "papermill": {
     "duration": 0.350457,
     "end_time": "2023-03-18T19:43:07.335396",
     "exception": false,
     "start_time": "2023-03-18T19:43:06.984939",
     "status": "completed"
    },
    "tags": []
   },
   "outputs": [],
   "source": [
    "train = pd.read_csv('../data/train.csv')\n",
    "test = pd.read_csv('../data/test.csv')"
   ]
  },
  {
   "cell_type": "code",
   "execution_count": 3,
   "id": "74a59715",
   "metadata": {
    "ExecuteTime": {
     "end_time": "2023-03-25T14:24:32.916638Z",
     "start_time": "2023-03-25T14:24:32.904076Z"
    },
    "execution": {
     "iopub.execute_input": "2023-03-18T19:43:07.346559Z",
     "iopub.status.busy": "2023-03-18T19:43:07.346160Z",
     "iopub.status.idle": "2023-03-18T19:43:07.354427Z",
     "shell.execute_reply": "2023-03-18T19:43:07.353103Z"
    },
    "papermill": {
     "duration": 0.016181,
     "end_time": "2023-03-18T19:43:07.356309",
     "exception": false,
     "start_time": "2023-03-18T19:43:07.340128",
     "status": "completed"
    },
    "tags": []
   },
   "outputs": [
    {
     "data": {
      "text/plain": [
       "((72159, 15), (48106, 14))"
      ]
     },
     "execution_count": 3,
     "metadata": {},
     "output_type": "execute_result"
    }
   ],
   "source": [
    "train.shape, test.shape"
   ]
  },
  {
   "cell_type": "markdown",
   "id": "09d7fbaf",
   "metadata": {
    "papermill": {
     "duration": 0.004469,
     "end_time": "2023-03-18T19:43:07.365676",
     "exception": false,
     "start_time": "2023-03-18T19:43:07.361207",
     "status": "completed"
    },
    "tags": []
   },
   "source": [
    "## Feature Class Split (Separar dados em classe y e feature X)"
   ]
  },
  {
   "cell_type": "code",
   "execution_count": 4,
   "id": "add0ac80",
   "metadata": {
    "ExecuteTime": {
     "end_time": "2023-03-25T14:24:32.936526Z",
     "start_time": "2023-03-25T14:24:32.918948Z"
    },
    "execution": {
     "iopub.execute_input": "2023-03-18T19:43:07.377222Z",
     "iopub.status.busy": "2023-03-18T19:43:07.375947Z",
     "iopub.status.idle": "2023-03-18T19:43:07.397305Z",
     "shell.execute_reply": "2023-03-18T19:43:07.396442Z"
    },
    "papermill": {
     "duration": 0.029406,
     "end_time": "2023-03-18T19:43:07.399611",
     "exception": false,
     "start_time": "2023-03-18T19:43:07.370205",
     "status": "completed"
    },
    "tags": []
   },
   "outputs": [],
   "source": [
    "X_train = train.drop(columns=['id', 'Reserva Cancelada'])\n",
    "y_train = train['Reserva Cancelada']"
   ]
  },
  {
   "cell_type": "markdown",
   "id": "db3a9090",
   "metadata": {
    "papermill": {
     "duration": 0.00467,
     "end_time": "2023-03-18T19:43:07.409027",
     "exception": false,
     "start_time": "2023-03-18T19:43:07.404357",
     "status": "completed"
    },
    "tags": []
   },
   "source": [
    "## Pre processing (transformar as colunas qualitativas em quantitativas)"
   ]
  },
  {
   "cell_type": "code",
   "execution_count": 5,
   "id": "de659945",
   "metadata": {
    "ExecuteTime": {
     "end_time": "2023-03-25T14:24:32.953840Z",
     "start_time": "2023-03-25T14:24:32.939492Z"
    },
    "execution": {
     "iopub.execute_input": "2023-03-18T19:43:07.421289Z",
     "iopub.status.busy": "2023-03-18T19:43:07.420654Z",
     "iopub.status.idle": "2023-03-18T19:43:07.441630Z",
     "shell.execute_reply": "2023-03-18T19:43:07.440512Z"
    },
    "papermill": {
     "duration": 0.029946,
     "end_time": "2023-03-18T19:43:07.444291",
     "exception": false,
     "start_time": "2023-03-18T19:43:07.414345",
     "status": "completed"
    },
    "tags": []
   },
   "outputs": [],
   "source": [
    "cat_cols = X_train.select_dtypes(include=['object']).columns"
   ]
  },
  {
   "cell_type": "code",
   "execution_count": 6,
   "id": "b8b8d79e",
   "metadata": {
    "ExecuteTime": {
     "end_time": "2023-03-25T14:24:33.733361Z",
     "start_time": "2023-03-25T14:24:32.955836Z"
    },
    "execution": {
     "iopub.execute_input": "2023-03-18T19:43:07.455910Z",
     "iopub.status.busy": "2023-03-18T19:43:07.455466Z",
     "iopub.status.idle": "2023-03-18T19:43:08.438576Z",
     "shell.execute_reply": "2023-03-18T19:43:08.437213Z"
    },
    "papermill": {
     "duration": 0.992626,
     "end_time": "2023-03-18T19:43:08.442020",
     "exception": false,
     "start_time": "2023-03-18T19:43:07.449394",
     "status": "completed"
    },
    "tags": []
   },
   "outputs": [],
   "source": [
    "# Transforma as features categoricas em numéricas através do numero de frequencia\n",
    "count = CountEncoder(cols=cat_cols, return_df=True) \n",
    "\n",
    "X_preproc = count.fit_transform(X_train)"
   ]
  },
  {
   "cell_type": "code",
   "execution_count": 7,
   "id": "54c5fcc8",
   "metadata": {
    "ExecuteTime": {
     "end_time": "2023-03-25T14:24:33.751883Z",
     "start_time": "2023-03-25T14:24:33.734316Z"
    },
    "execution": {
     "iopub.execute_input": "2023-03-18T19:43:08.454799Z",
     "iopub.status.busy": "2023-03-18T19:43:08.454381Z",
     "iopub.status.idle": "2023-03-18T19:43:08.486387Z",
     "shell.execute_reply": "2023-03-18T19:43:08.484997Z"
    },
    "papermill": {
     "duration": 0.041391,
     "end_time": "2023-03-18T19:43:08.489134",
     "exception": false,
     "start_time": "2023-03-18T19:43:08.447743",
     "status": "completed"
    },
    "tags": []
   },
   "outputs": [
    {
     "data": {
      "text/html": [
       "<div>\n",
       "<style scoped>\n",
       "    .dataframe tbody tr th:only-of-type {\n",
       "        vertical-align: middle;\n",
       "    }\n",
       "\n",
       "    .dataframe tbody tr th {\n",
       "        vertical-align: top;\n",
       "    }\n",
       "\n",
       "    .dataframe thead th {\n",
       "        text-align: right;\n",
       "    }\n",
       "</style>\n",
       "<table border=\"1\" class=\"dataframe\">\n",
       "  <thead>\n",
       "    <tr style=\"text-align: right;\">\n",
       "      <th></th>\n",
       "      <th>Classificação do hotel</th>\n",
       "      <th>Meses da reserva até o check-in</th>\n",
       "      <th>Número de pernoites reservadas</th>\n",
       "      <th>Número de hospedes</th>\n",
       "      <th>Regime de alimentação</th>\n",
       "      <th>Nacionalidade</th>\n",
       "      <th>Forma de Reserva</th>\n",
       "      <th>Já se hospedou anterioremente</th>\n",
       "      <th>Tipo do quarto reservado</th>\n",
       "      <th>Reserva feita por agência de turismo</th>\n",
       "      <th>Reserva feita por empresa</th>\n",
       "      <th>Reserva com Estacionamento</th>\n",
       "      <th>Reserva com Observações</th>\n",
       "    </tr>\n",
       "  </thead>\n",
       "  <tbody>\n",
       "    <tr>\n",
       "      <th>0</th>\n",
       "      <td>24255</td>\n",
       "      <td>5</td>\n",
       "      <td>5</td>\n",
       "      <td>2.0</td>\n",
       "      <td>8777</td>\n",
       "      <td>6251</td>\n",
       "      <td>59170</td>\n",
       "      <td>69901</td>\n",
       "      <td>51778</td>\n",
       "      <td>62288</td>\n",
       "      <td>68065</td>\n",
       "      <td>4453</td>\n",
       "      <td>42391</td>\n",
       "    </tr>\n",
       "    <tr>\n",
       "      <th>1</th>\n",
       "      <td>47904</td>\n",
       "      <td>167</td>\n",
       "      <td>3</td>\n",
       "      <td>2.0</td>\n",
       "      <td>55716</td>\n",
       "      <td>34212</td>\n",
       "      <td>59170</td>\n",
       "      <td>69901</td>\n",
       "      <td>51778</td>\n",
       "      <td>62288</td>\n",
       "      <td>68065</td>\n",
       "      <td>67706</td>\n",
       "      <td>42391</td>\n",
       "    </tr>\n",
       "    <tr>\n",
       "      <th>2</th>\n",
       "      <td>47904</td>\n",
       "      <td>4</td>\n",
       "      <td>3</td>\n",
       "      <td>2.0</td>\n",
       "      <td>55716</td>\n",
       "      <td>1464</td>\n",
       "      <td>59170</td>\n",
       "      <td>69901</td>\n",
       "      <td>51778</td>\n",
       "      <td>62288</td>\n",
       "      <td>68065</td>\n",
       "      <td>67706</td>\n",
       "      <td>29542</td>\n",
       "    </tr>\n",
       "    <tr>\n",
       "      <th>3</th>\n",
       "      <td>47904</td>\n",
       "      <td>13</td>\n",
       "      <td>2</td>\n",
       "      <td>2.0</td>\n",
       "      <td>55716</td>\n",
       "      <td>34212</td>\n",
       "      <td>59170</td>\n",
       "      <td>69901</td>\n",
       "      <td>51778</td>\n",
       "      <td>62288</td>\n",
       "      <td>68065</td>\n",
       "      <td>67706</td>\n",
       "      <td>42391</td>\n",
       "    </tr>\n",
       "    <tr>\n",
       "      <th>4</th>\n",
       "      <td>47904</td>\n",
       "      <td>4</td>\n",
       "      <td>2</td>\n",
       "      <td>2.0</td>\n",
       "      <td>55716</td>\n",
       "      <td>34212</td>\n",
       "      <td>59170</td>\n",
       "      <td>69901</td>\n",
       "      <td>51778</td>\n",
       "      <td>62288</td>\n",
       "      <td>68065</td>\n",
       "      <td>67706</td>\n",
       "      <td>42391</td>\n",
       "    </tr>\n",
       "  </tbody>\n",
       "</table>\n",
       "</div>"
      ],
      "text/plain": [
       "   Classificação do hotel  Meses da reserva até o check-in  \\\n",
       "0                   24255                                5   \n",
       "1                   47904                              167   \n",
       "2                   47904                                4   \n",
       "3                   47904                               13   \n",
       "4                   47904                                4   \n",
       "\n",
       "   Número de pernoites reservadas  Número de hospedes  Regime de alimentação  \\\n",
       "0                               5                 2.0                   8777   \n",
       "1                               3                 2.0                  55716   \n",
       "2                               3                 2.0                  55716   \n",
       "3                               2                 2.0                  55716   \n",
       "4                               2                 2.0                  55716   \n",
       "\n",
       "   Nacionalidade  Forma de Reserva  Já se hospedou anterioremente  \\\n",
       "0           6251             59170                          69901   \n",
       "1          34212             59170                          69901   \n",
       "2           1464             59170                          69901   \n",
       "3          34212             59170                          69901   \n",
       "4          34212             59170                          69901   \n",
       "\n",
       "   Tipo do quarto reservado  Reserva feita por agência de turismo  \\\n",
       "0                     51778                                 62288   \n",
       "1                     51778                                 62288   \n",
       "2                     51778                                 62288   \n",
       "3                     51778                                 62288   \n",
       "4                     51778                                 62288   \n",
       "\n",
       "   Reserva feita por empresa  Reserva com Estacionamento  \\\n",
       "0                      68065                        4453   \n",
       "1                      68065                       67706   \n",
       "2                      68065                       67706   \n",
       "3                      68065                       67706   \n",
       "4                      68065                       67706   \n",
       "\n",
       "   Reserva com Observações  \n",
       "0                    42391  \n",
       "1                    42391  \n",
       "2                    29542  \n",
       "3                    42391  \n",
       "4                    42391  "
      ]
     },
     "execution_count": 7,
     "metadata": {},
     "output_type": "execute_result"
    }
   ],
   "source": [
    "X_preproc.head()"
   ]
  },
  {
   "cell_type": "markdown",
   "id": "ff3b1565",
   "metadata": {
    "papermill": {
     "duration": 0.00492,
     "end_time": "2023-03-18T19:43:08.499677",
     "exception": false,
     "start_time": "2023-03-18T19:43:08.494757",
     "status": "completed"
    },
    "tags": []
   },
   "source": [
    "## Fill NA"
   ]
  },
  {
   "cell_type": "code",
   "execution_count": 8,
   "id": "78b092c6",
   "metadata": {
    "ExecuteTime": {
     "end_time": "2023-03-25T14:24:33.763383Z",
     "start_time": "2023-03-25T14:24:33.753836Z"
    },
    "execution": {
     "iopub.execute_input": "2023-03-18T19:43:08.512078Z",
     "iopub.status.busy": "2023-03-18T19:43:08.511662Z",
     "iopub.status.idle": "2023-03-18T19:43:08.523994Z",
     "shell.execute_reply": "2023-03-18T19:43:08.522840Z"
    },
    "papermill": {
     "duration": 0.021561,
     "end_time": "2023-03-18T19:43:08.526450",
     "exception": false,
     "start_time": "2023-03-18T19:43:08.504889",
     "status": "completed"
    },
    "tags": []
   },
   "outputs": [
    {
     "data": {
      "text/plain": [
       "Classificação do hotel                  0\n",
       "Meses da reserva até o check-in         0\n",
       "Número de pernoites reservadas          0\n",
       "Número de hospedes                      3\n",
       "Regime de alimentação                   0\n",
       "Nacionalidade                           0\n",
       "Forma de Reserva                        0\n",
       "Já se hospedou anterioremente           0\n",
       "Tipo do quarto reservado                0\n",
       "Reserva feita por agência de turismo    0\n",
       "Reserva feita por empresa               0\n",
       "Reserva com Estacionamento              0\n",
       "Reserva com Observações                 0\n",
       "dtype: int64"
      ]
     },
     "execution_count": 8,
     "metadata": {},
     "output_type": "execute_result"
    }
   ],
   "source": [
    "X_preproc.isna().sum()"
   ]
  },
  {
   "cell_type": "code",
   "execution_count": 9,
   "id": "b1dcaa72",
   "metadata": {
    "ExecuteTime": {
     "end_time": "2023-03-25T14:24:33.780903Z",
     "start_time": "2023-03-25T14:24:33.765359Z"
    },
    "execution": {
     "iopub.execute_input": "2023-03-18T19:43:08.539948Z",
     "iopub.status.busy": "2023-03-18T19:43:08.539549Z",
     "iopub.status.idle": "2023-03-18T19:43:08.548567Z",
     "shell.execute_reply": "2023-03-18T19:43:08.547249Z"
    },
    "papermill": {
     "duration": 0.018944,
     "end_time": "2023-03-18T19:43:08.551758",
     "exception": false,
     "start_time": "2023-03-18T19:43:08.532814",
     "status": "completed"
    },
    "tags": []
   },
   "outputs": [],
   "source": [
    "X_preproc = X_preproc.fillna(0)"
   ]
  },
  {
   "cell_type": "markdown",
   "id": "e82f936b",
   "metadata": {
    "papermill": {
     "duration": 0.005051,
     "end_time": "2023-03-18T19:43:08.562386",
     "exception": false,
     "start_time": "2023-03-18T19:43:08.557335",
     "status": "completed"
    },
    "tags": []
   },
   "source": [
    "## Treinando Modelo - Logistic Regression"
   ]
  },
  {
   "cell_type": "code",
   "execution_count": 10,
   "id": "a5499708",
   "metadata": {
    "ExecuteTime": {
     "end_time": "2023-03-25T14:24:34.268745Z",
     "start_time": "2023-03-25T14:24:33.783948Z"
    },
    "execution": {
     "iopub.execute_input": "2023-03-18T19:43:08.575163Z",
     "iopub.status.busy": "2023-03-18T19:43:08.574778Z",
     "iopub.status.idle": "2023-03-18T19:43:08.974414Z",
     "shell.execute_reply": "2023-03-18T19:43:08.973505Z"
    },
    "papermill": {
     "duration": 0.40867,
     "end_time": "2023-03-18T19:43:08.976561",
     "exception": false,
     "start_time": "2023-03-18T19:43:08.567891",
     "status": "completed"
    },
    "tags": []
   },
   "outputs": [
    {
     "data": {
      "text/plain": [
       "LogisticRegression()"
      ]
     },
     "execution_count": 10,
     "metadata": {},
     "output_type": "execute_result"
    }
   ],
   "source": [
    "lr = LogisticRegression()\n",
    "\n",
    "lr.fit(X_preproc, y_train)"
   ]
  },
  {
   "cell_type": "markdown",
   "id": "2212bb8c",
   "metadata": {
    "papermill": {
     "duration": 0.00677,
     "end_time": "2023-03-18T19:43:08.990349",
     "exception": false,
     "start_time": "2023-03-18T19:43:08.983579",
     "status": "completed"
    },
    "tags": []
   },
   "source": [
    "## Aplicando transformações no teste"
   ]
  },
  {
   "cell_type": "code",
   "execution_count": 11,
   "id": "9a67be3f",
   "metadata": {
    "ExecuteTime": {
     "end_time": "2023-03-25T14:24:34.465175Z",
     "start_time": "2023-03-25T14:24:34.270745Z"
    },
    "execution": {
     "iopub.execute_input": "2023-03-18T19:43:09.006770Z",
     "iopub.status.busy": "2023-03-18T19:43:09.005497Z",
     "iopub.status.idle": "2023-03-18T19:43:09.221578Z",
     "shell.execute_reply": "2023-03-18T19:43:09.220157Z"
    },
    "papermill": {
     "duration": 0.227219,
     "end_time": "2023-03-18T19:43:09.224519",
     "exception": false,
     "start_time": "2023-03-18T19:43:08.997300",
     "status": "completed"
    },
    "tags": []
   },
   "outputs": [],
   "source": [
    "X_test = test.drop(columns='id')\n",
    "\n",
    "X_test = count.transform(X_test)\n",
    "\n",
    "X_test = X_test.fillna(0)"
   ]
  },
  {
   "cell_type": "markdown",
   "id": "72d6910d",
   "metadata": {
    "papermill": {
     "duration": 0.004816,
     "end_time": "2023-03-18T19:43:09.234929",
     "exception": false,
     "start_time": "2023-03-18T19:43:09.230113",
     "status": "completed"
    },
    "tags": []
   },
   "source": [
    "## Predic test"
   ]
  },
  {
   "cell_type": "code",
   "execution_count": 12,
   "id": "5c3ba800",
   "metadata": {
    "ExecuteTime": {
     "end_time": "2023-03-25T14:24:34.987713Z",
     "start_time": "2023-03-25T14:24:34.466683Z"
    },
    "execution": {
     "iopub.execute_input": "2023-03-18T19:43:09.247740Z",
     "iopub.status.busy": "2023-03-18T19:43:09.246320Z",
     "iopub.status.idle": "2023-03-18T19:43:09.256895Z",
     "shell.execute_reply": "2023-03-18T19:43:09.255821Z"
    },
    "papermill": {
     "duration": 0.01954,
     "end_time": "2023-03-18T19:43:09.259519",
     "exception": false,
     "start_time": "2023-03-18T19:43:09.239979",
     "status": "completed"
    },
    "tags": []
   },
   "outputs": [
    {
     "ename": "ValueError",
     "evalue": "could not convert string to float: '5 estrelas'",
     "output_type": "error",
     "traceback": [
      "\u001b[1;31m---------------------------------------------------------------------------\u001b[0m",
      "\u001b[1;31mValueError\u001b[0m                                Traceback (most recent call last)",
      "\u001b[1;32m~\\AppData\\Local\\Temp\\ipykernel_13320\\2518040860.py\u001b[0m in \u001b[0;36m<module>\u001b[1;34m\u001b[0m\n\u001b[0;32m      1\u001b[0m \u001b[1;31m# predicao_lr = lr.predict(X_test)\u001b[0m\u001b[1;33m\u001b[0m\u001b[1;33m\u001b[0m\u001b[0m\n\u001b[1;32m----> 2\u001b[1;33m \u001b[0mpredicao_lr\u001b[0m \u001b[1;33m=\u001b[0m \u001b[0mlr\u001b[0m\u001b[1;33m.\u001b[0m\u001b[0mpredict\u001b[0m\u001b[1;33m(\u001b[0m\u001b[0mX_train\u001b[0m\u001b[1;33m)\u001b[0m\u001b[1;33m\u001b[0m\u001b[1;33m\u001b[0m\u001b[0m\n\u001b[0m",
      "\u001b[1;32m~\\anaconda3\\lib\\site-packages\\sklearn\\linear_model\\_base.py\u001b[0m in \u001b[0;36mpredict\u001b[1;34m(self, X)\u001b[0m\n\u001b[0;32m    423\u001b[0m             \u001b[0mVector\u001b[0m \u001b[0mcontaining\u001b[0m \u001b[0mthe\u001b[0m \u001b[1;32mclass\u001b[0m \u001b[0mlabels\u001b[0m \u001b[1;32mfor\u001b[0m \u001b[0meach\u001b[0m \u001b[0msample\u001b[0m\u001b[1;33m.\u001b[0m\u001b[1;33m\u001b[0m\u001b[1;33m\u001b[0m\u001b[0m\n\u001b[0;32m    424\u001b[0m         \"\"\"\n\u001b[1;32m--> 425\u001b[1;33m         \u001b[0mscores\u001b[0m \u001b[1;33m=\u001b[0m \u001b[0mself\u001b[0m\u001b[1;33m.\u001b[0m\u001b[0mdecision_function\u001b[0m\u001b[1;33m(\u001b[0m\u001b[0mX\u001b[0m\u001b[1;33m)\u001b[0m\u001b[1;33m\u001b[0m\u001b[1;33m\u001b[0m\u001b[0m\n\u001b[0m\u001b[0;32m    426\u001b[0m         \u001b[1;32mif\u001b[0m \u001b[0mlen\u001b[0m\u001b[1;33m(\u001b[0m\u001b[0mscores\u001b[0m\u001b[1;33m.\u001b[0m\u001b[0mshape\u001b[0m\u001b[1;33m)\u001b[0m \u001b[1;33m==\u001b[0m \u001b[1;36m1\u001b[0m\u001b[1;33m:\u001b[0m\u001b[1;33m\u001b[0m\u001b[1;33m\u001b[0m\u001b[0m\n\u001b[0;32m    427\u001b[0m             \u001b[0mindices\u001b[0m \u001b[1;33m=\u001b[0m \u001b[1;33m(\u001b[0m\u001b[0mscores\u001b[0m \u001b[1;33m>\u001b[0m \u001b[1;36m0\u001b[0m\u001b[1;33m)\u001b[0m\u001b[1;33m.\u001b[0m\u001b[0mastype\u001b[0m\u001b[1;33m(\u001b[0m\u001b[0mint\u001b[0m\u001b[1;33m)\u001b[0m\u001b[1;33m\u001b[0m\u001b[1;33m\u001b[0m\u001b[0m\n",
      "\u001b[1;32m~\\anaconda3\\lib\\site-packages\\sklearn\\linear_model\\_base.py\u001b[0m in \u001b[0;36mdecision_function\u001b[1;34m(self, X)\u001b[0m\n\u001b[0;32m    405\u001b[0m         \u001b[0mcheck_is_fitted\u001b[0m\u001b[1;33m(\u001b[0m\u001b[0mself\u001b[0m\u001b[1;33m)\u001b[0m\u001b[1;33m\u001b[0m\u001b[1;33m\u001b[0m\u001b[0m\n\u001b[0;32m    406\u001b[0m \u001b[1;33m\u001b[0m\u001b[0m\n\u001b[1;32m--> 407\u001b[1;33m         \u001b[0mX\u001b[0m \u001b[1;33m=\u001b[0m \u001b[0mself\u001b[0m\u001b[1;33m.\u001b[0m\u001b[0m_validate_data\u001b[0m\u001b[1;33m(\u001b[0m\u001b[0mX\u001b[0m\u001b[1;33m,\u001b[0m \u001b[0maccept_sparse\u001b[0m\u001b[1;33m=\u001b[0m\u001b[1;34m\"csr\"\u001b[0m\u001b[1;33m,\u001b[0m \u001b[0mreset\u001b[0m\u001b[1;33m=\u001b[0m\u001b[1;32mFalse\u001b[0m\u001b[1;33m)\u001b[0m\u001b[1;33m\u001b[0m\u001b[1;33m\u001b[0m\u001b[0m\n\u001b[0m\u001b[0;32m    408\u001b[0m         \u001b[0mscores\u001b[0m \u001b[1;33m=\u001b[0m \u001b[0msafe_sparse_dot\u001b[0m\u001b[1;33m(\u001b[0m\u001b[0mX\u001b[0m\u001b[1;33m,\u001b[0m \u001b[0mself\u001b[0m\u001b[1;33m.\u001b[0m\u001b[0mcoef_\u001b[0m\u001b[1;33m.\u001b[0m\u001b[0mT\u001b[0m\u001b[1;33m,\u001b[0m \u001b[0mdense_output\u001b[0m\u001b[1;33m=\u001b[0m\u001b[1;32mTrue\u001b[0m\u001b[1;33m)\u001b[0m \u001b[1;33m+\u001b[0m \u001b[0mself\u001b[0m\u001b[1;33m.\u001b[0m\u001b[0mintercept_\u001b[0m\u001b[1;33m\u001b[0m\u001b[1;33m\u001b[0m\u001b[0m\n\u001b[0;32m    409\u001b[0m         \u001b[1;32mreturn\u001b[0m \u001b[0mscores\u001b[0m\u001b[1;33m.\u001b[0m\u001b[0mravel\u001b[0m\u001b[1;33m(\u001b[0m\u001b[1;33m)\u001b[0m \u001b[1;32mif\u001b[0m \u001b[0mscores\u001b[0m\u001b[1;33m.\u001b[0m\u001b[0mshape\u001b[0m\u001b[1;33m[\u001b[0m\u001b[1;36m1\u001b[0m\u001b[1;33m]\u001b[0m \u001b[1;33m==\u001b[0m \u001b[1;36m1\u001b[0m \u001b[1;32melse\u001b[0m \u001b[0mscores\u001b[0m\u001b[1;33m\u001b[0m\u001b[1;33m\u001b[0m\u001b[0m\n",
      "\u001b[1;32m~\\anaconda3\\lib\\site-packages\\sklearn\\base.py\u001b[0m in \u001b[0;36m_validate_data\u001b[1;34m(self, X, y, reset, validate_separately, **check_params)\u001b[0m\n\u001b[0;32m    564\u001b[0m             \u001b[1;32mraise\u001b[0m \u001b[0mValueError\u001b[0m\u001b[1;33m(\u001b[0m\u001b[1;34m\"Validation should be done on X, y or both.\"\u001b[0m\u001b[1;33m)\u001b[0m\u001b[1;33m\u001b[0m\u001b[1;33m\u001b[0m\u001b[0m\n\u001b[0;32m    565\u001b[0m         \u001b[1;32melif\u001b[0m \u001b[1;32mnot\u001b[0m \u001b[0mno_val_X\u001b[0m \u001b[1;32mand\u001b[0m \u001b[0mno_val_y\u001b[0m\u001b[1;33m:\u001b[0m\u001b[1;33m\u001b[0m\u001b[1;33m\u001b[0m\u001b[0m\n\u001b[1;32m--> 566\u001b[1;33m             \u001b[0mX\u001b[0m \u001b[1;33m=\u001b[0m \u001b[0mcheck_array\u001b[0m\u001b[1;33m(\u001b[0m\u001b[0mX\u001b[0m\u001b[1;33m,\u001b[0m \u001b[1;33m**\u001b[0m\u001b[0mcheck_params\u001b[0m\u001b[1;33m)\u001b[0m\u001b[1;33m\u001b[0m\u001b[1;33m\u001b[0m\u001b[0m\n\u001b[0m\u001b[0;32m    567\u001b[0m             \u001b[0mout\u001b[0m \u001b[1;33m=\u001b[0m \u001b[0mX\u001b[0m\u001b[1;33m\u001b[0m\u001b[1;33m\u001b[0m\u001b[0m\n\u001b[0;32m    568\u001b[0m         \u001b[1;32melif\u001b[0m \u001b[0mno_val_X\u001b[0m \u001b[1;32mand\u001b[0m \u001b[1;32mnot\u001b[0m \u001b[0mno_val_y\u001b[0m\u001b[1;33m:\u001b[0m\u001b[1;33m\u001b[0m\u001b[1;33m\u001b[0m\u001b[0m\n",
      "\u001b[1;32m~\\anaconda3\\lib\\site-packages\\sklearn\\utils\\validation.py\u001b[0m in \u001b[0;36mcheck_array\u001b[1;34m(array, accept_sparse, accept_large_sparse, dtype, order, copy, force_all_finite, ensure_2d, allow_nd, ensure_min_samples, ensure_min_features, estimator)\u001b[0m\n\u001b[0;32m    744\u001b[0m                     \u001b[0marray\u001b[0m \u001b[1;33m=\u001b[0m \u001b[0marray\u001b[0m\u001b[1;33m.\u001b[0m\u001b[0mastype\u001b[0m\u001b[1;33m(\u001b[0m\u001b[0mdtype\u001b[0m\u001b[1;33m,\u001b[0m \u001b[0mcasting\u001b[0m\u001b[1;33m=\u001b[0m\u001b[1;34m\"unsafe\"\u001b[0m\u001b[1;33m,\u001b[0m \u001b[0mcopy\u001b[0m\u001b[1;33m=\u001b[0m\u001b[1;32mFalse\u001b[0m\u001b[1;33m)\u001b[0m\u001b[1;33m\u001b[0m\u001b[1;33m\u001b[0m\u001b[0m\n\u001b[0;32m    745\u001b[0m                 \u001b[1;32melse\u001b[0m\u001b[1;33m:\u001b[0m\u001b[1;33m\u001b[0m\u001b[1;33m\u001b[0m\u001b[0m\n\u001b[1;32m--> 746\u001b[1;33m                     \u001b[0marray\u001b[0m \u001b[1;33m=\u001b[0m \u001b[0mnp\u001b[0m\u001b[1;33m.\u001b[0m\u001b[0masarray\u001b[0m\u001b[1;33m(\u001b[0m\u001b[0marray\u001b[0m\u001b[1;33m,\u001b[0m \u001b[0morder\u001b[0m\u001b[1;33m=\u001b[0m\u001b[0morder\u001b[0m\u001b[1;33m,\u001b[0m \u001b[0mdtype\u001b[0m\u001b[1;33m=\u001b[0m\u001b[0mdtype\u001b[0m\u001b[1;33m)\u001b[0m\u001b[1;33m\u001b[0m\u001b[1;33m\u001b[0m\u001b[0m\n\u001b[0m\u001b[0;32m    747\u001b[0m             \u001b[1;32mexcept\u001b[0m \u001b[0mComplexWarning\u001b[0m \u001b[1;32mas\u001b[0m \u001b[0mcomplex_warning\u001b[0m\u001b[1;33m:\u001b[0m\u001b[1;33m\u001b[0m\u001b[1;33m\u001b[0m\u001b[0m\n\u001b[0;32m    748\u001b[0m                 raise ValueError(\n",
      "\u001b[1;32m~\\anaconda3\\lib\\site-packages\\pandas\\core\\generic.py\u001b[0m in \u001b[0;36m__array__\u001b[1;34m(self, dtype)\u001b[0m\n\u001b[0;32m   2062\u001b[0m \u001b[1;33m\u001b[0m\u001b[0m\n\u001b[0;32m   2063\u001b[0m     \u001b[1;32mdef\u001b[0m \u001b[0m__array__\u001b[0m\u001b[1;33m(\u001b[0m\u001b[0mself\u001b[0m\u001b[1;33m,\u001b[0m \u001b[0mdtype\u001b[0m\u001b[1;33m:\u001b[0m \u001b[0mnpt\u001b[0m\u001b[1;33m.\u001b[0m\u001b[0mDTypeLike\u001b[0m \u001b[1;33m|\u001b[0m \u001b[1;32mNone\u001b[0m \u001b[1;33m=\u001b[0m \u001b[1;32mNone\u001b[0m\u001b[1;33m)\u001b[0m \u001b[1;33m->\u001b[0m \u001b[0mnp\u001b[0m\u001b[1;33m.\u001b[0m\u001b[0mndarray\u001b[0m\u001b[1;33m:\u001b[0m\u001b[1;33m\u001b[0m\u001b[1;33m\u001b[0m\u001b[0m\n\u001b[1;32m-> 2064\u001b[1;33m         \u001b[1;32mreturn\u001b[0m \u001b[0mnp\u001b[0m\u001b[1;33m.\u001b[0m\u001b[0masarray\u001b[0m\u001b[1;33m(\u001b[0m\u001b[0mself\u001b[0m\u001b[1;33m.\u001b[0m\u001b[0m_values\u001b[0m\u001b[1;33m,\u001b[0m \u001b[0mdtype\u001b[0m\u001b[1;33m=\u001b[0m\u001b[0mdtype\u001b[0m\u001b[1;33m)\u001b[0m\u001b[1;33m\u001b[0m\u001b[1;33m\u001b[0m\u001b[0m\n\u001b[0m\u001b[0;32m   2065\u001b[0m \u001b[1;33m\u001b[0m\u001b[0m\n\u001b[0;32m   2066\u001b[0m     def __array_wrap__(\n",
      "\u001b[1;31mValueError\u001b[0m: could not convert string to float: '5 estrelas'"
     ]
    }
   ],
   "source": [
    "predicao_lr = lr.predict(X_test)\n"
   ]
  },
  {
   "cell_type": "markdown",
   "id": "0f1f0670",
   "metadata": {
    "papermill": {
     "duration": 0.006533,
     "end_time": "2023-03-18T19:43:09.273552",
     "exception": false,
     "start_time": "2023-03-18T19:43:09.267019",
     "status": "completed"
    },
    "tags": []
   },
   "source": [
    "## Solucao Final"
   ]
  },
  {
   "cell_type": "code",
   "execution_count": null,
   "id": "3093f954",
   "metadata": {
    "ExecuteTime": {
     "end_time": "2023-03-25T14:24:34.991735Z",
     "start_time": "2023-03-25T14:24:34.991735Z"
    },
    "execution": {
     "iopub.execute_input": "2023-03-18T19:43:09.289136Z",
     "iopub.status.busy": "2023-03-18T19:43:09.288473Z",
     "iopub.status.idle": "2023-03-18T19:43:09.304771Z",
     "shell.execute_reply": "2023-03-18T19:43:09.303927Z"
    },
    "papermill": {
     "duration": 0.026883,
     "end_time": "2023-03-18T19:43:09.307240",
     "exception": false,
     "start_time": "2023-03-18T19:43:09.280357",
     "status": "completed"
    },
    "tags": []
   },
   "outputs": [],
   "source": [
    "df_final_lr = pd.concat([test.id, pd.Series(predicao_lr, name = 'Reserva Cancelada')], axis=1)\n",
    "\n",
    "df_final_lr.head()"
   ]
  },
  {
   "cell_type": "code",
   "execution_count": null,
   "id": "958b1957",
   "metadata": {
    "ExecuteTime": {
     "end_time": "2023-03-25T14:24:34.995733Z",
     "start_time": "2023-03-25T14:24:34.995733Z"
    },
    "execution": {
     "iopub.execute_input": "2023-03-18T19:43:09.322526Z",
     "iopub.status.busy": "2023-03-18T19:43:09.322126Z",
     "iopub.status.idle": "2023-03-18T19:43:09.388446Z",
     "shell.execute_reply": "2023-03-18T19:43:09.387382Z"
    },
    "papermill": {
     "duration": 0.077005,
     "end_time": "2023-03-18T19:43:09.391191",
     "exception": false,
     "start_time": "2023-03-18T19:43:09.314186",
     "status": "completed"
    },
    "tags": []
   },
   "outputs": [],
   "source": [
    "df_final_lr.to_csv('../data/result/submission.csv', index=False) #Arquivo de submissão pronto para ser enviado."
   ]
  }
 ],
 "metadata": {
  "kernelspec": {
   "display_name": "Python 3 (ipykernel)",
   "language": "python",
   "name": "python3"
  },
  "language_info": {
   "codemirror_mode": {
    "name": "ipython",
    "version": 3
   },
   "file_extension": ".py",
   "mimetype": "text/x-python",
   "name": "python",
   "nbconvert_exporter": "python",
   "pygments_lexer": "ipython3",
   "version": "3.9.13"
  },
  "papermill": {
   "default_parameters": {},
   "duration": 14.097173,
   "end_time": "2023-03-18T19:43:10.221261",
   "environment_variables": {},
   "exception": null,
   "input_path": "__notebook__.ipynb",
   "output_path": "__notebook__.ipynb",
   "parameters": {},
   "start_time": "2023-03-18T19:42:56.124088",
   "version": "2.4.0"
  },
  "toc": {
   "base_numbering": 1,
   "nav_menu": {},
   "number_sections": true,
   "sideBar": true,
   "skip_h1_title": false,
   "title_cell": "Table of Contents",
   "title_sidebar": "Contents",
   "toc_cell": false,
   "toc_position": {},
   "toc_section_display": true,
   "toc_window_display": false
  }
 },
 "nbformat": 4,
 "nbformat_minor": 5
}
