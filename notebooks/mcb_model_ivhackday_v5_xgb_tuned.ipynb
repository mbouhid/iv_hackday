{
 "cells": [
  {
   "cell_type": "markdown",
   "id": "414269b6",
   "metadata": {},
   "source": [
    "# Projet Name\n",
    "* Description"
   ]
  },
  {
   "cell_type": "markdown",
   "id": "f299e24b",
   "metadata": {},
   "source": [
    "# 0.0 Imports"
   ]
  },
  {
   "cell_type": "markdown",
   "id": "5e3bf30c",
   "metadata": {},
   "source": [
    "## 0.0 Libs"
   ]
  },
  {
   "cell_type": "code",
   "execution_count": 1,
   "id": "163d310e",
   "metadata": {
    "ExecuteTime": {
     "end_time": "2023-03-26T19:29:48.814527Z",
     "start_time": "2023-03-26T19:29:45.165820Z"
    }
   },
   "outputs": [],
   "source": [
    "# Importação das bibliotecas\n",
    "\n",
    "import numpy as np\n",
    "import pandas as pd\n",
    "import inflection\n",
    "import datetime\n",
    "\n",
    "import seaborn as sns\n",
    "from matplotlib import pyplot as plt\n",
    "\n",
    "\n",
    "# import pandas_profiling\n",
    "# Exemplo:\n",
    "# pandas_profiling.ProfileReport(train)\n",
    "\n",
    "# Pré-processamento\n",
    "from sklearn.preprocessing  import RobustScaler, MinMaxScaler, LabelEncoder, OneHotEncoder, OrdinalEncoder\n",
    "from category_encoders.count import CountEncoder\n",
    "\n",
    "from sklearn import metrics           as mt\n",
    "from sklearn import model_selection   as ms\n",
    "\n",
    "####### Algoritmos para Classificação e Regressão\n",
    "# from sklearn.neighbors      import KNeighborsClassifier\n",
    "from sklearn.ensemble       import RandomForestClassifier\n",
    "from xgboost                import XGBClassifier\n",
    "\n",
    "# from sklearn.ensemble       import RandomForestRegressor\n",
    "\n",
    "# from sklearn                import linear_model as lm\n",
    "# from sklearn.linear_model   import LogisticRegression, LinearRegression, Lasso\n",
    "\n",
    "from sklearn.linear_model   import LogisticRegression\n",
    "from sklearn                import svm\n",
    "from sklearn                import tree\n",
    "\n",
    "\n",
    "\n",
    "####### Algoritmos só para Classificação\n",
    "# from sklearn.naive_bayes  import MultinomialNB\n",
    "# from sklearn.naive_bayes  import CategoricalNB\n",
    "# from mixed_naive_bayes    import MixedNB\n",
    "\n",
    "\n",
    "# --\n",
    "# Lib para não mostrar warnings de melhorias futuras (sugestão de novos comandos) das bibliotecas\n",
    "# import warnings\n",
    "# warnings.filterwarnings('ignore')\n",
    "\n",
    "from boruta                 import BorutaPy\n",
    "\n",
    "# from IPython.display        import Image\n",
    "\n",
    "# Fine Tunning\n",
    "from sklearn.model_selection import StratifiedKFold\n",
    "from sklearn.model_selection import GridSearchCV\n",
    "from sklearn.model_selection import KFold\n",
    "from skopt import BayesSearchCV\n"
   ]
  },
  {
   "cell_type": "markdown",
   "id": "78850f81",
   "metadata": {},
   "source": [
    "## 0.1 Help Functions"
   ]
  },
  {
   "cell_type": "code",
   "execution_count": 2,
   "id": "f3ef0afb",
   "metadata": {
    "ExecuteTime": {
     "end_time": "2023-03-26T19:29:48.845821Z",
     "start_time": "2023-03-26T19:29:48.816967Z"
    }
   },
   "outputs": [],
   "source": [
    "# Funções criadas para evitar retrabalho\n",
    "\n",
    "\n",
    "def data_description(df):\n",
    "    print('Variables:\\n\\n{}'.format(df.dtypes), end='\\n\\n')\n",
    "    print('===============================')\n",
    "    print('Number of rows {}'.format(df.shape[0]), end='\\n\\n')\n",
    "    print('Number of columns {}'.format(df.shape[1]), end='\\n\\n')\n",
    "    print('===============================')\n",
    "    print('NA analysis'.format(end='\\n') )\n",
    "    for i in df.columns:\n",
    "        print('column {}: {} {}'.format(i,df[i].isna().any(), df[i].isna().sum() ) )\n",
    "    print('===============================')\n",
    "    print('Unique values for each columns'.format(end='\\n') )\n",
    "    for i in df.columns:\n",
    "        print('column {}: {}'.format(i,df[i].unique() ) )\n",
    "\n",
    "\n",
    "def jupyter_settings():\n",
    "\n",
    "#\n",
    "    plt.style.use( 'bmh' )\n",
    "    plt.rcParams['figure.figsize'] = [25, 12]\n",
    "    plt.rcParams['font.size'] = 24\n",
    "#\n",
    "#    display( HTML( '<style>.container { width:100% !important; }</style>') )\n",
    "#    pd.options.display.max_columns = None\n",
    "#    pd.options.display.max_rows = None\n",
    "#    pd.set_option( 'display.expand_frame_repr', False )\n",
    "#    \n",
    "    sns.set()\n",
    "\n",
    "jupyter_settings()"
   ]
  },
  {
   "cell_type": "markdown",
   "id": "8612300e",
   "metadata": {},
   "source": [
    "## 0.2 Load Data"
   ]
  },
  {
   "cell_type": "code",
   "execution_count": 3,
   "id": "d4e6cb05",
   "metadata": {
    "ExecuteTime": {
     "end_time": "2023-03-26T19:29:49.232652Z",
     "start_time": "2023-03-26T19:29:48.851403Z"
    }
   },
   "outputs": [],
   "source": [
    "# Coleta de dados do diretório /data, do banco de dados, ou outro lugar especificado abaixo\n",
    "\n",
    "train = pd.read_csv('../data/train.csv')\n",
    "\n",
    "test = pd.read_csv('../data/test.csv')\n"
   ]
  },
  {
   "cell_type": "code",
   "execution_count": 4,
   "id": "cb36b61b",
   "metadata": {
    "ExecuteTime": {
     "end_time": "2023-03-26T19:29:49.263965Z",
     "start_time": "2023-03-26T19:29:49.242983Z"
    }
   },
   "outputs": [
    {
     "data": {
      "text/plain": [
       "((72159, 15), (48106, 14))"
      ]
     },
     "execution_count": 4,
     "metadata": {},
     "output_type": "execute_result"
    }
   ],
   "source": [
    "train.shape, test.shape"
   ]
  },
  {
   "cell_type": "code",
   "execution_count": 5,
   "id": "15fd7e53",
   "metadata": {
    "ExecuteTime": {
     "end_time": "2023-03-26T19:29:49.310749Z",
     "start_time": "2023-03-26T19:29:49.270602Z"
    }
   },
   "outputs": [
    {
     "data": {
      "text/html": [
       "<div>\n",
       "<style scoped>\n",
       "    .dataframe tbody tr th:only-of-type {\n",
       "        vertical-align: middle;\n",
       "    }\n",
       "\n",
       "    .dataframe tbody tr th {\n",
       "        vertical-align: top;\n",
       "    }\n",
       "\n",
       "    .dataframe thead th {\n",
       "        text-align: right;\n",
       "    }\n",
       "</style>\n",
       "<table border=\"1\" class=\"dataframe\">\n",
       "  <thead>\n",
       "    <tr style=\"text-align: right;\">\n",
       "      <th></th>\n",
       "      <th>43943</th>\n",
       "      <th>27053</th>\n",
       "      <th>53638</th>\n",
       "      <th>20331</th>\n",
       "      <th>53257</th>\n",
       "      <th>67362</th>\n",
       "      <th>9031</th>\n",
       "      <th>45705</th>\n",
       "    </tr>\n",
       "  </thead>\n",
       "  <tbody>\n",
       "    <tr>\n",
       "      <th>id</th>\n",
       "      <td>72748</td>\n",
       "      <td>21929</td>\n",
       "      <td>12465</td>\n",
       "      <td>9219</td>\n",
       "      <td>23584</td>\n",
       "      <td>84789</td>\n",
       "      <td>81687</td>\n",
       "      <td>72526</td>\n",
       "    </tr>\n",
       "    <tr>\n",
       "      <th>Classificação do hotel</th>\n",
       "      <td>4 estrelas</td>\n",
       "      <td>5 estrelas</td>\n",
       "      <td>5 estrelas</td>\n",
       "      <td>5 estrelas</td>\n",
       "      <td>5 estrelas</td>\n",
       "      <td>4 estrelas</td>\n",
       "      <td>4 estrelas</td>\n",
       "      <td>4 estrelas</td>\n",
       "    </tr>\n",
       "    <tr>\n",
       "      <th>Meses da reserva até o check-in</th>\n",
       "      <td>3</td>\n",
       "      <td>3</td>\n",
       "      <td>11</td>\n",
       "      <td>7</td>\n",
       "      <td>6</td>\n",
       "      <td>1</td>\n",
       "      <td>5</td>\n",
       "      <td>2</td>\n",
       "    </tr>\n",
       "    <tr>\n",
       "      <th>Número de pernoites reservadas</th>\n",
       "      <td>9</td>\n",
       "      <td>3</td>\n",
       "      <td>10</td>\n",
       "      <td>7</td>\n",
       "      <td>8</td>\n",
       "      <td>2</td>\n",
       "      <td>3</td>\n",
       "      <td>3</td>\n",
       "    </tr>\n",
       "    <tr>\n",
       "      <th>Número de hospedes</th>\n",
       "      <td>2.0</td>\n",
       "      <td>3.0</td>\n",
       "      <td>2.0</td>\n",
       "      <td>3.0</td>\n",
       "      <td>1.0</td>\n",
       "      <td>3.0</td>\n",
       "      <td>1.0</td>\n",
       "      <td>2.0</td>\n",
       "    </tr>\n",
       "    <tr>\n",
       "      <th>Regime de alimentação</th>\n",
       "      <td>Café da manha</td>\n",
       "      <td>Café da manha e jantar</td>\n",
       "      <td>Café da manha</td>\n",
       "      <td>Café da manha</td>\n",
       "      <td>Café da manha</td>\n",
       "      <td>Café da manha</td>\n",
       "      <td>Café da manha</td>\n",
       "      <td>Sem refeicao</td>\n",
       "    </tr>\n",
       "    <tr>\n",
       "      <th>Nacionalidade</th>\n",
       "      <td>United Kingdom</td>\n",
       "      <td>United Kingdom</td>\n",
       "      <td>United Kingdom</td>\n",
       "      <td>Spain</td>\n",
       "      <td>United Kingdom</td>\n",
       "      <td>Spain</td>\n",
       "      <td>Spain</td>\n",
       "      <td>Sweden</td>\n",
       "    </tr>\n",
       "    <tr>\n",
       "      <th>Forma de Reserva</th>\n",
       "      <td>Agência</td>\n",
       "      <td>Agência</td>\n",
       "      <td>Agência</td>\n",
       "      <td>Agência</td>\n",
       "      <td>Agência</td>\n",
       "      <td>Agência</td>\n",
       "      <td>Agência</td>\n",
       "      <td>Agência</td>\n",
       "    </tr>\n",
       "    <tr>\n",
       "      <th>Já se hospedou anterioremente</th>\n",
       "      <td>Não</td>\n",
       "      <td>Não</td>\n",
       "      <td>Não</td>\n",
       "      <td>Não</td>\n",
       "      <td>Não</td>\n",
       "      <td>Não</td>\n",
       "      <td>Não</td>\n",
       "      <td>Não</td>\n",
       "    </tr>\n",
       "    <tr>\n",
       "      <th>Tipo do quarto reservado</th>\n",
       "      <td>Amethyst</td>\n",
       "      <td>Amethyst</td>\n",
       "      <td>Amethyst</td>\n",
       "      <td>Amethyst</td>\n",
       "      <td>Amethyst</td>\n",
       "      <td>Green Emerald</td>\n",
       "      <td>Amethyst</td>\n",
       "      <td>Amethyst</td>\n",
       "    </tr>\n",
       "    <tr>\n",
       "      <th>Reserva feita por agência de turismo</th>\n",
       "      <td>Sim</td>\n",
       "      <td>Sim</td>\n",
       "      <td>Sim</td>\n",
       "      <td>Sim</td>\n",
       "      <td>Sim</td>\n",
       "      <td>Sim</td>\n",
       "      <td>Sim</td>\n",
       "      <td>Sim</td>\n",
       "    </tr>\n",
       "    <tr>\n",
       "      <th>Reserva feita por empresa</th>\n",
       "      <td>Não</td>\n",
       "      <td>Não</td>\n",
       "      <td>Não</td>\n",
       "      <td>Não</td>\n",
       "      <td>Não</td>\n",
       "      <td>Não</td>\n",
       "      <td>Não</td>\n",
       "      <td>Não</td>\n",
       "    </tr>\n",
       "    <tr>\n",
       "      <th>Reserva com Estacionamento</th>\n",
       "      <td>Não</td>\n",
       "      <td>Não</td>\n",
       "      <td>Não</td>\n",
       "      <td>Não</td>\n",
       "      <td>Não</td>\n",
       "      <td>Não</td>\n",
       "      <td>Não</td>\n",
       "      <td>Não</td>\n",
       "    </tr>\n",
       "    <tr>\n",
       "      <th>Reserva com Observações</th>\n",
       "      <td>1 a 3</td>\n",
       "      <td>Nenhuma</td>\n",
       "      <td>1 a 3</td>\n",
       "      <td>1 a 3</td>\n",
       "      <td>Nenhuma</td>\n",
       "      <td>1 a 3</td>\n",
       "      <td>Nenhuma</td>\n",
       "      <td>1 a 3</td>\n",
       "    </tr>\n",
       "    <tr>\n",
       "      <th>Reserva Cancelada</th>\n",
       "      <td>1</td>\n",
       "      <td>0</td>\n",
       "      <td>1</td>\n",
       "      <td>1</td>\n",
       "      <td>0</td>\n",
       "      <td>0</td>\n",
       "      <td>1</td>\n",
       "      <td>1</td>\n",
       "    </tr>\n",
       "  </tbody>\n",
       "</table>\n",
       "</div>"
      ],
      "text/plain": [
       "                                               43943                   27053  \\\n",
       "id                                             72748                   21929   \n",
       "Classificação do hotel                    4 estrelas              5 estrelas   \n",
       "Meses da reserva até o check-in                    3                       3   \n",
       "Número de pernoites reservadas                     9                       3   \n",
       "Número de hospedes                               2.0                     3.0   \n",
       "Regime de alimentação                  Café da manha  Café da manha e jantar   \n",
       "Nacionalidade                         United Kingdom          United Kingdom   \n",
       "Forma de Reserva                             Agência                 Agência   \n",
       "Já se hospedou anterioremente                    Não                     Não   \n",
       "Tipo do quarto reservado                    Amethyst                Amethyst   \n",
       "Reserva feita por agência de turismo             Sim                     Sim   \n",
       "Reserva feita por empresa                        Não                     Não   \n",
       "Reserva com Estacionamento                       Não                     Não   \n",
       "Reserva com Observações                        1 a 3                 Nenhuma   \n",
       "Reserva Cancelada                                  1                       0   \n",
       "\n",
       "                                               53638          20331  \\\n",
       "id                                             12465           9219   \n",
       "Classificação do hotel                    5 estrelas     5 estrelas   \n",
       "Meses da reserva até o check-in                   11              7   \n",
       "Número de pernoites reservadas                    10              7   \n",
       "Número de hospedes                               2.0            3.0   \n",
       "Regime de alimentação                  Café da manha  Café da manha   \n",
       "Nacionalidade                         United Kingdom          Spain   \n",
       "Forma de Reserva                             Agência        Agência   \n",
       "Já se hospedou anterioremente                    Não            Não   \n",
       "Tipo do quarto reservado                    Amethyst       Amethyst   \n",
       "Reserva feita por agência de turismo             Sim            Sim   \n",
       "Reserva feita por empresa                        Não            Não   \n",
       "Reserva com Estacionamento                       Não            Não   \n",
       "Reserva com Observações                        1 a 3          1 a 3   \n",
       "Reserva Cancelada                                  1              1   \n",
       "\n",
       "                                               53257          67362  \\\n",
       "id                                             23584          84789   \n",
       "Classificação do hotel                    5 estrelas     4 estrelas   \n",
       "Meses da reserva até o check-in                    6              1   \n",
       "Número de pernoites reservadas                     8              2   \n",
       "Número de hospedes                               1.0            3.0   \n",
       "Regime de alimentação                  Café da manha  Café da manha   \n",
       "Nacionalidade                         United Kingdom          Spain   \n",
       "Forma de Reserva                             Agência        Agência   \n",
       "Já se hospedou anterioremente                    Não            Não   \n",
       "Tipo do quarto reservado                    Amethyst  Green Emerald   \n",
       "Reserva feita por agência de turismo             Sim            Sim   \n",
       "Reserva feita por empresa                        Não            Não   \n",
       "Reserva com Estacionamento                       Não            Não   \n",
       "Reserva com Observações                      Nenhuma          1 a 3   \n",
       "Reserva Cancelada                                  0              0   \n",
       "\n",
       "                                              9031          45705  \n",
       "id                                            81687         72526  \n",
       "Classificação do hotel                   4 estrelas    4 estrelas  \n",
       "Meses da reserva até o check-in                   5             2  \n",
       "Número de pernoites reservadas                    3             3  \n",
       "Número de hospedes                              1.0           2.0  \n",
       "Regime de alimentação                 Café da manha  Sem refeicao  \n",
       "Nacionalidade                                 Spain        Sweden  \n",
       "Forma de Reserva                            Agência       Agência  \n",
       "Já se hospedou anterioremente                   Não           Não  \n",
       "Tipo do quarto reservado                   Amethyst      Amethyst  \n",
       "Reserva feita por agência de turismo            Sim           Sim  \n",
       "Reserva feita por empresa                       Não           Não  \n",
       "Reserva com Estacionamento                      Não           Não  \n",
       "Reserva com Observações                     Nenhuma         1 a 3  \n",
       "Reserva Cancelada                                 1             1  "
      ]
     },
     "execution_count": 5,
     "metadata": {},
     "output_type": "execute_result"
    }
   ],
   "source": [
    "train.sample(8).T"
   ]
  },
  {
   "cell_type": "code",
   "execution_count": 6,
   "id": "3830c78c",
   "metadata": {
    "ExecuteTime": {
     "end_time": "2023-03-26T19:29:49.358974Z",
     "start_time": "2023-03-26T19:29:49.317774Z"
    }
   },
   "outputs": [
    {
     "data": {
      "text/html": [
       "<div>\n",
       "<style scoped>\n",
       "    .dataframe tbody tr th:only-of-type {\n",
       "        vertical-align: middle;\n",
       "    }\n",
       "\n",
       "    .dataframe tbody tr th {\n",
       "        vertical-align: top;\n",
       "    }\n",
       "\n",
       "    .dataframe thead th {\n",
       "        text-align: right;\n",
       "    }\n",
       "</style>\n",
       "<table border=\"1\" class=\"dataframe\">\n",
       "  <thead>\n",
       "    <tr style=\"text-align: right;\">\n",
       "      <th></th>\n",
       "      <th>27590</th>\n",
       "      <th>23948</th>\n",
       "      <th>886</th>\n",
       "      <th>32481</th>\n",
       "      <th>30063</th>\n",
       "    </tr>\n",
       "  </thead>\n",
       "  <tbody>\n",
       "    <tr>\n",
       "      <th>id</th>\n",
       "      <td>68788</td>\n",
       "      <td>29671</td>\n",
       "      <td>85916</td>\n",
       "      <td>33525</td>\n",
       "      <td>74953</td>\n",
       "    </tr>\n",
       "    <tr>\n",
       "      <th>Classificação do hotel</th>\n",
       "      <td>4 estrelas</td>\n",
       "      <td>5 estrelas</td>\n",
       "      <td>4 estrelas</td>\n",
       "      <td>5 estrelas</td>\n",
       "      <td>4 estrelas</td>\n",
       "    </tr>\n",
       "    <tr>\n",
       "      <th>Meses da reserva até o check-in</th>\n",
       "      <td>4</td>\n",
       "      <td>1</td>\n",
       "      <td>1</td>\n",
       "      <td>1</td>\n",
       "      <td>10</td>\n",
       "    </tr>\n",
       "    <tr>\n",
       "      <th>Número de pernoites reservadas</th>\n",
       "      <td>3</td>\n",
       "      <td>1</td>\n",
       "      <td>6</td>\n",
       "      <td>1</td>\n",
       "      <td>2</td>\n",
       "    </tr>\n",
       "    <tr>\n",
       "      <th>Número de hospedes</th>\n",
       "      <td>1.0</td>\n",
       "      <td>2.0</td>\n",
       "      <td>2.0</td>\n",
       "      <td>1.0</td>\n",
       "      <td>2.0</td>\n",
       "    </tr>\n",
       "    <tr>\n",
       "      <th>Regime de alimentação</th>\n",
       "      <td>Café da manha</td>\n",
       "      <td>Café da manha</td>\n",
       "      <td>Café da manha</td>\n",
       "      <td>Café da manha</td>\n",
       "      <td>Café da manha</td>\n",
       "    </tr>\n",
       "    <tr>\n",
       "      <th>Nacionalidade</th>\n",
       "      <td>Spain</td>\n",
       "      <td>NaN</td>\n",
       "      <td>France</td>\n",
       "      <td>Spain</td>\n",
       "      <td>Spain</td>\n",
       "    </tr>\n",
       "    <tr>\n",
       "      <th>Forma de Reserva</th>\n",
       "      <td>Agência</td>\n",
       "      <td>Balcão</td>\n",
       "      <td>Agência</td>\n",
       "      <td>Balcão</td>\n",
       "      <td>Agência</td>\n",
       "    </tr>\n",
       "    <tr>\n",
       "      <th>Já se hospedou anterioremente</th>\n",
       "      <td>Não</td>\n",
       "      <td>Sim</td>\n",
       "      <td>Não</td>\n",
       "      <td>Não</td>\n",
       "      <td>Não</td>\n",
       "    </tr>\n",
       "    <tr>\n",
       "      <th>Tipo do quarto reservado</th>\n",
       "      <td>Amethyst</td>\n",
       "      <td>Amethyst</td>\n",
       "      <td>Amethyst</td>\n",
       "      <td>Amethyst</td>\n",
       "      <td>Amethyst</td>\n",
       "    </tr>\n",
       "    <tr>\n",
       "      <th>Reserva feita por agência de turismo</th>\n",
       "      <td>Não</td>\n",
       "      <td>Não</td>\n",
       "      <td>Sim</td>\n",
       "      <td>Não</td>\n",
       "      <td>Sim</td>\n",
       "    </tr>\n",
       "    <tr>\n",
       "      <th>Reserva feita por empresa</th>\n",
       "      <td>Não</td>\n",
       "      <td>Não</td>\n",
       "      <td>Não</td>\n",
       "      <td>Não</td>\n",
       "      <td>Não</td>\n",
       "    </tr>\n",
       "    <tr>\n",
       "      <th>Reserva com Estacionamento</th>\n",
       "      <td>Não</td>\n",
       "      <td>Sim</td>\n",
       "      <td>Sim</td>\n",
       "      <td>Não</td>\n",
       "      <td>Não</td>\n",
       "    </tr>\n",
       "    <tr>\n",
       "      <th>Reserva com Observações</th>\n",
       "      <td>Nenhuma</td>\n",
       "      <td>Nenhuma</td>\n",
       "      <td>Nenhuma</td>\n",
       "      <td>Nenhuma</td>\n",
       "      <td>Nenhuma</td>\n",
       "    </tr>\n",
       "  </tbody>\n",
       "</table>\n",
       "</div>"
      ],
      "text/plain": [
       "                                              27590          23948  \\\n",
       "id                                            68788          29671   \n",
       "Classificação do hotel                   4 estrelas     5 estrelas   \n",
       "Meses da reserva até o check-in                   4              1   \n",
       "Número de pernoites reservadas                    3              1   \n",
       "Número de hospedes                              1.0            2.0   \n",
       "Regime de alimentação                 Café da manha  Café da manha   \n",
       "Nacionalidade                                 Spain            NaN   \n",
       "Forma de Reserva                            Agência         Balcão   \n",
       "Já se hospedou anterioremente                   Não            Sim   \n",
       "Tipo do quarto reservado                   Amethyst       Amethyst   \n",
       "Reserva feita por agência de turismo            Não            Não   \n",
       "Reserva feita por empresa                       Não            Não   \n",
       "Reserva com Estacionamento                      Não            Sim   \n",
       "Reserva com Observações                     Nenhuma        Nenhuma   \n",
       "\n",
       "                                              886            32481  \\\n",
       "id                                            85916          33525   \n",
       "Classificação do hotel                   4 estrelas     5 estrelas   \n",
       "Meses da reserva até o check-in                   1              1   \n",
       "Número de pernoites reservadas                    6              1   \n",
       "Número de hospedes                              2.0            1.0   \n",
       "Regime de alimentação                 Café da manha  Café da manha   \n",
       "Nacionalidade                                France          Spain   \n",
       "Forma de Reserva                            Agência         Balcão   \n",
       "Já se hospedou anterioremente                   Não            Não   \n",
       "Tipo do quarto reservado                   Amethyst       Amethyst   \n",
       "Reserva feita por agência de turismo            Sim            Não   \n",
       "Reserva feita por empresa                       Não            Não   \n",
       "Reserva com Estacionamento                      Sim            Não   \n",
       "Reserva com Observações                     Nenhuma        Nenhuma   \n",
       "\n",
       "                                              30063  \n",
       "id                                            74953  \n",
       "Classificação do hotel                   4 estrelas  \n",
       "Meses da reserva até o check-in                  10  \n",
       "Número de pernoites reservadas                    2  \n",
       "Número de hospedes                              2.0  \n",
       "Regime de alimentação                 Café da manha  \n",
       "Nacionalidade                                 Spain  \n",
       "Forma de Reserva                            Agência  \n",
       "Já se hospedou anterioremente                   Não  \n",
       "Tipo do quarto reservado                   Amethyst  \n",
       "Reserva feita por agência de turismo            Sim  \n",
       "Reserva feita por empresa                       Não  \n",
       "Reserva com Estacionamento                      Não  \n",
       "Reserva com Observações                     Nenhuma  "
      ]
     },
     "execution_count": 6,
     "metadata": {},
     "output_type": "execute_result"
    }
   ],
   "source": [
    "test.sample(5).T"
   ]
  },
  {
   "cell_type": "markdown",
   "id": "002e666b",
   "metadata": {},
   "source": [
    "## 0.3 Adjust Columns Names"
   ]
  },
  {
   "cell_type": "code",
   "execution_count": 7,
   "id": "e9175419",
   "metadata": {
    "ExecuteTime": {
     "end_time": "2023-03-26T19:29:49.406246Z",
     "start_time": "2023-03-26T19:29:49.368699Z"
    }
   },
   "outputs": [],
   "source": [
    "# Concatenate train and test together\n",
    "all_data = pd.concat([train, test])"
   ]
  },
  {
   "cell_type": "code",
   "execution_count": 8,
   "id": "e290b082",
   "metadata": {
    "ExecuteTime": {
     "end_time": "2023-03-26T19:29:49.529660Z",
     "start_time": "2023-03-26T19:29:49.414323Z"
    }
   },
   "outputs": [],
   "source": [
    "## Alteração nome das variábeis\n",
    "\n",
    "all_data.columns = [c.replace(' ', '_') for c in all_data.columns]\n",
    "\n",
    "cols_old = all_data.columns\n",
    "\n",
    "snakecase = lambda x: inflection.underscore(x)\n",
    "\n",
    "cols_new = list(map(snakecase, cols_old))\n",
    "\n",
    "#rename\n",
    "all_data.columns = cols_new\n",
    "\n",
    "# Split back into train and test\n",
    "train = all_data[all_data['id'].isin(train['id'])]\n",
    "test = all_data[all_data['id'].isin(test['id'])].drop('reserva_cancelada', axis=1)\n"
   ]
  },
  {
   "cell_type": "code",
   "execution_count": null,
   "id": "b0aeff47",
   "metadata": {
    "ExecuteTime": {
     "end_time": "2023-03-26T08:23:07.090516Z",
     "start_time": "2023-03-26T08:23:07.066690Z"
    }
   },
   "outputs": [],
   "source": []
  },
  {
   "cell_type": "code",
   "execution_count": 9,
   "id": "4bcbba8d",
   "metadata": {
    "ExecuteTime": {
     "end_time": "2023-03-26T19:29:49.545310Z",
     "start_time": "2023-03-26T19:29:49.532707Z"
    }
   },
   "outputs": [
    {
     "data": {
      "text/plain": [
       "Index(['id', 'classificação_do_hotel', 'meses_da_reserva_até_o_check_in',\n",
       "       'número_de_pernoites_reservadas', 'número_de_hospedes',\n",
       "       'regime_de_alimentação', 'nacionalidade', 'forma_de_reserva',\n",
       "       'já_se_hospedou_anterioremente', 'tipo_do_quarto_reservado',\n",
       "       'reserva_feita_por_agência_de_turismo', 'reserva_feita_por_empresa',\n",
       "       'reserva_com_estacionamento', 'reserva_com_observações',\n",
       "       'reserva_cancelada'],\n",
       "      dtype='object')"
      ]
     },
     "execution_count": 9,
     "metadata": {},
     "output_type": "execute_result"
    }
   ],
   "source": [
    "train.columns"
   ]
  },
  {
   "cell_type": "markdown",
   "id": "fc5071f8",
   "metadata": {},
   "source": [
    "## 0.4 Split data \"Production\""
   ]
  },
  {
   "cell_type": "code",
   "execution_count": 10,
   "id": "187572db",
   "metadata": {
    "ExecuteTime": {
     "end_time": "2023-03-26T19:29:49.560520Z",
     "start_time": "2023-03-26T19:29:49.548884Z"
    }
   },
   "outputs": [],
   "source": [
    "## Separação de dados que o modelo só utilizará no momento do teste, simulação de dados da produção (que nunca viu)\n",
    "\n",
    "# features = df_test.drop(columns=['id', 'Reserva Cancelada'], axis=1)\n",
    "# label = df_test['Reserva Cancelada']\n",
    "\n",
    "# X, X_prod, y, y_prod = ms.train_test_split(features, label, split_size=0.2, random_state=42)\n"
   ]
  },
  {
   "cell_type": "markdown",
   "id": "7f8afe02",
   "metadata": {},
   "source": [
    "## 0.5 Split data Train & Validation"
   ]
  },
  {
   "cell_type": "code",
   "execution_count": 11,
   "id": "ab6a66a8",
   "metadata": {
    "ExecuteTime": {
     "end_time": "2023-03-26T19:29:49.575906Z",
     "start_time": "2023-03-26T19:29:49.563558Z"
    }
   },
   "outputs": [],
   "source": [
    "# Separação de dados de treino e validação\n",
    "\n",
    "#X_train = train.drop(columns=['id', 'reserva_cancelada'])\n",
    "#y_train = train['reserva_cancelada']\n",
    "\n",
    "#X_train, X_val, y_train, y_val = ms.train_test_split(X_train, y_train, test_size=0.2, random_state=42)\n",
    "\n"
   ]
  },
  {
   "cell_type": "code",
   "execution_count": 12,
   "id": "2ba4379c",
   "metadata": {
    "ExecuteTime": {
     "end_time": "2023-03-26T19:29:49.591070Z",
     "start_time": "2023-03-26T19:29:49.579409Z"
    }
   },
   "outputs": [],
   "source": [
    "# X_train.shape"
   ]
  },
  {
   "cell_type": "markdown",
   "id": "793d2f82",
   "metadata": {},
   "source": [
    "# 1.0 Data Description"
   ]
  },
  {
   "cell_type": "code",
   "execution_count": 13,
   "id": "b81466f6",
   "metadata": {
    "ExecuteTime": {
     "end_time": "2023-03-26T19:29:49.606354Z",
     "start_time": "2023-03-26T19:29:49.593984Z"
    }
   },
   "outputs": [],
   "source": [
    "## Backup do Dataframe\n",
    "\n",
    "df1 = train.copy()"
   ]
  },
  {
   "cell_type": "code",
   "execution_count": 14,
   "id": "53161368",
   "metadata": {
    "ExecuteTime": {
     "end_time": "2023-03-26T19:29:49.653431Z",
     "start_time": "2023-03-26T19:29:49.611019Z"
    }
   },
   "outputs": [
    {
     "data": {
      "text/html": [
       "<div>\n",
       "<style scoped>\n",
       "    .dataframe tbody tr th:only-of-type {\n",
       "        vertical-align: middle;\n",
       "    }\n",
       "\n",
       "    .dataframe tbody tr th {\n",
       "        vertical-align: top;\n",
       "    }\n",
       "\n",
       "    .dataframe thead th {\n",
       "        text-align: right;\n",
       "    }\n",
       "</style>\n",
       "<table border=\"1\" class=\"dataframe\">\n",
       "  <thead>\n",
       "    <tr style=\"text-align: right;\">\n",
       "      <th></th>\n",
       "      <th>31161</th>\n",
       "      <th>35975</th>\n",
       "      <th>45457</th>\n",
       "      <th>57653</th>\n",
       "      <th>58008</th>\n",
       "      <th>11650</th>\n",
       "      <th>43700</th>\n",
       "      <th>29434</th>\n",
       "    </tr>\n",
       "  </thead>\n",
       "  <tbody>\n",
       "    <tr>\n",
       "      <th>id</th>\n",
       "      <td>119190</td>\n",
       "      <td>76828</td>\n",
       "      <td>49716</td>\n",
       "      <td>51171</td>\n",
       "      <td>101792</td>\n",
       "      <td>40559</td>\n",
       "      <td>95871</td>\n",
       "      <td>17366</td>\n",
       "    </tr>\n",
       "    <tr>\n",
       "      <th>classificação_do_hotel</th>\n",
       "      <td>4 estrelas</td>\n",
       "      <td>4 estrelas</td>\n",
       "      <td>4 estrelas</td>\n",
       "      <td>4 estrelas</td>\n",
       "      <td>4 estrelas</td>\n",
       "      <td>4 estrelas</td>\n",
       "      <td>4 estrelas</td>\n",
       "      <td>5 estrelas</td>\n",
       "    </tr>\n",
       "    <tr>\n",
       "      <th>meses_da_reserva_até_o_check_in</th>\n",
       "      <td>2</td>\n",
       "      <td>5</td>\n",
       "      <td>6</td>\n",
       "      <td>2</td>\n",
       "      <td>3</td>\n",
       "      <td>1</td>\n",
       "      <td>7</td>\n",
       "      <td>10</td>\n",
       "    </tr>\n",
       "    <tr>\n",
       "      <th>número_de_pernoites_reservadas</th>\n",
       "      <td>685</td>\n",
       "      <td>2</td>\n",
       "      <td>3</td>\n",
       "      <td>5</td>\n",
       "      <td>2</td>\n",
       "      <td>2</td>\n",
       "      <td>4</td>\n",
       "      <td>14</td>\n",
       "    </tr>\n",
       "    <tr>\n",
       "      <th>número_de_hospedes</th>\n",
       "      <td>2.0</td>\n",
       "      <td>2.0</td>\n",
       "      <td>2.0</td>\n",
       "      <td>2.0</td>\n",
       "      <td>2.0</td>\n",
       "      <td>2.0</td>\n",
       "      <td>3.0</td>\n",
       "      <td>2.0</td>\n",
       "    </tr>\n",
       "    <tr>\n",
       "      <th>regime_de_alimentação</th>\n",
       "      <td>Café da manha</td>\n",
       "      <td>Café da manha</td>\n",
       "      <td>Café da manha</td>\n",
       "      <td>Sem refeicao</td>\n",
       "      <td>Café da manha</td>\n",
       "      <td>Café da manha</td>\n",
       "      <td>Café da manha</td>\n",
       "      <td>Café da manha e jantar</td>\n",
       "    </tr>\n",
       "    <tr>\n",
       "      <th>nacionalidade</th>\n",
       "      <td>Spain</td>\n",
       "      <td>Spain</td>\n",
       "      <td>Spain</td>\n",
       "      <td>France</td>\n",
       "      <td>Brazil</td>\n",
       "      <td>Spain</td>\n",
       "      <td>NaN</td>\n",
       "      <td>United Kingdom</td>\n",
       "    </tr>\n",
       "    <tr>\n",
       "      <th>forma_de_reserva</th>\n",
       "      <td>Balcão</td>\n",
       "      <td>Agência</td>\n",
       "      <td>Agência</td>\n",
       "      <td>Agência</td>\n",
       "      <td>Agência</td>\n",
       "      <td>Agência</td>\n",
       "      <td>Balcão</td>\n",
       "      <td>Balcão</td>\n",
       "    </tr>\n",
       "    <tr>\n",
       "      <th>já_se_hospedou_anterioremente</th>\n",
       "      <td>Não</td>\n",
       "      <td>Não</td>\n",
       "      <td>Não</td>\n",
       "      <td>Não</td>\n",
       "      <td>Não</td>\n",
       "      <td>Não</td>\n",
       "      <td>Não</td>\n",
       "      <td>Não</td>\n",
       "    </tr>\n",
       "    <tr>\n",
       "      <th>tipo_do_quarto_reservado</th>\n",
       "      <td>Blue Sapphire</td>\n",
       "      <td>Amethyst</td>\n",
       "      <td>Amethyst</td>\n",
       "      <td>Amethyst</td>\n",
       "      <td>Amethyst</td>\n",
       "      <td>Amethyst</td>\n",
       "      <td>Amethyst</td>\n",
       "      <td>Green Emerald</td>\n",
       "    </tr>\n",
       "    <tr>\n",
       "      <th>reserva_feita_por_agência_de_turismo</th>\n",
       "      <td>Sim</td>\n",
       "      <td>Sim</td>\n",
       "      <td>Sim</td>\n",
       "      <td>Sim</td>\n",
       "      <td>Sim</td>\n",
       "      <td>Sim</td>\n",
       "      <td>Sim</td>\n",
       "      <td>Sim</td>\n",
       "    </tr>\n",
       "    <tr>\n",
       "      <th>reserva_feita_por_empresa</th>\n",
       "      <td>Não</td>\n",
       "      <td>Não</td>\n",
       "      <td>Não</td>\n",
       "      <td>Não</td>\n",
       "      <td>Não</td>\n",
       "      <td>Não</td>\n",
       "      <td>Não</td>\n",
       "      <td>Não</td>\n",
       "    </tr>\n",
       "    <tr>\n",
       "      <th>reserva_com_estacionamento</th>\n",
       "      <td>Não</td>\n",
       "      <td>Não</td>\n",
       "      <td>Não</td>\n",
       "      <td>Não</td>\n",
       "      <td>Não</td>\n",
       "      <td>Não</td>\n",
       "      <td>Não</td>\n",
       "      <td>Não</td>\n",
       "    </tr>\n",
       "    <tr>\n",
       "      <th>reserva_com_observações</th>\n",
       "      <td>Nenhuma</td>\n",
       "      <td>Nenhuma</td>\n",
       "      <td>Nenhuma</td>\n",
       "      <td>1 a 3</td>\n",
       "      <td>1 a 3</td>\n",
       "      <td>Nenhuma</td>\n",
       "      <td>1 a 3</td>\n",
       "      <td>Nenhuma</td>\n",
       "    </tr>\n",
       "    <tr>\n",
       "      <th>reserva_cancelada</th>\n",
       "      <td>0.0</td>\n",
       "      <td>1.0</td>\n",
       "      <td>1.0</td>\n",
       "      <td>1.0</td>\n",
       "      <td>0.0</td>\n",
       "      <td>0.0</td>\n",
       "      <td>0.0</td>\n",
       "      <td>1.0</td>\n",
       "    </tr>\n",
       "  </tbody>\n",
       "</table>\n",
       "</div>"
      ],
      "text/plain": [
       "                                              31161          35975  \\\n",
       "id                                           119190          76828   \n",
       "classificação_do_hotel                   4 estrelas     4 estrelas   \n",
       "meses_da_reserva_até_o_check_in                   2              5   \n",
       "número_de_pernoites_reservadas                  685              2   \n",
       "número_de_hospedes                              2.0            2.0   \n",
       "regime_de_alimentação                 Café da manha  Café da manha   \n",
       "nacionalidade                                 Spain          Spain   \n",
       "forma_de_reserva                             Balcão        Agência   \n",
       "já_se_hospedou_anterioremente                   Não            Não   \n",
       "tipo_do_quarto_reservado              Blue Sapphire       Amethyst   \n",
       "reserva_feita_por_agência_de_turismo            Sim            Sim   \n",
       "reserva_feita_por_empresa                       Não            Não   \n",
       "reserva_com_estacionamento                      Não            Não   \n",
       "reserva_com_observações                     Nenhuma        Nenhuma   \n",
       "reserva_cancelada                               0.0            1.0   \n",
       "\n",
       "                                              45457         57653  \\\n",
       "id                                            49716         51171   \n",
       "classificação_do_hotel                   4 estrelas    4 estrelas   \n",
       "meses_da_reserva_até_o_check_in                   6             2   \n",
       "número_de_pernoites_reservadas                    3             5   \n",
       "número_de_hospedes                              2.0           2.0   \n",
       "regime_de_alimentação                 Café da manha  Sem refeicao   \n",
       "nacionalidade                                 Spain        France   \n",
       "forma_de_reserva                            Agência       Agência   \n",
       "já_se_hospedou_anterioremente                   Não           Não   \n",
       "tipo_do_quarto_reservado                   Amethyst      Amethyst   \n",
       "reserva_feita_por_agência_de_turismo            Sim           Sim   \n",
       "reserva_feita_por_empresa                       Não           Não   \n",
       "reserva_com_estacionamento                      Não           Não   \n",
       "reserva_com_observações                     Nenhuma         1 a 3   \n",
       "reserva_cancelada                               1.0           1.0   \n",
       "\n",
       "                                              58008          11650  \\\n",
       "id                                           101792          40559   \n",
       "classificação_do_hotel                   4 estrelas     4 estrelas   \n",
       "meses_da_reserva_até_o_check_in                   3              1   \n",
       "número_de_pernoites_reservadas                    2              2   \n",
       "número_de_hospedes                              2.0            2.0   \n",
       "regime_de_alimentação                 Café da manha  Café da manha   \n",
       "nacionalidade                                Brazil          Spain   \n",
       "forma_de_reserva                            Agência        Agência   \n",
       "já_se_hospedou_anterioremente                   Não            Não   \n",
       "tipo_do_quarto_reservado                   Amethyst       Amethyst   \n",
       "reserva_feita_por_agência_de_turismo            Sim            Sim   \n",
       "reserva_feita_por_empresa                       Não            Não   \n",
       "reserva_com_estacionamento                      Não            Não   \n",
       "reserva_com_observações                       1 a 3        Nenhuma   \n",
       "reserva_cancelada                               0.0            0.0   \n",
       "\n",
       "                                              43700                   29434  \n",
       "id                                            95871                   17366  \n",
       "classificação_do_hotel                   4 estrelas              5 estrelas  \n",
       "meses_da_reserva_até_o_check_in                   7                      10  \n",
       "número_de_pernoites_reservadas                    4                      14  \n",
       "número_de_hospedes                              3.0                     2.0  \n",
       "regime_de_alimentação                 Café da manha  Café da manha e jantar  \n",
       "nacionalidade                                   NaN          United Kingdom  \n",
       "forma_de_reserva                             Balcão                  Balcão  \n",
       "já_se_hospedou_anterioremente                   Não                     Não  \n",
       "tipo_do_quarto_reservado                   Amethyst           Green Emerald  \n",
       "reserva_feita_por_agência_de_turismo            Sim                     Sim  \n",
       "reserva_feita_por_empresa                       Não                     Não  \n",
       "reserva_com_estacionamento                      Não                     Não  \n",
       "reserva_com_observações                       1 a 3                 Nenhuma  \n",
       "reserva_cancelada                               0.0                     1.0  "
      ]
     },
     "execution_count": 14,
     "metadata": {},
     "output_type": "execute_result"
    }
   ],
   "source": [
    "df1.sample(8).T"
   ]
  },
  {
   "cell_type": "code",
   "execution_count": 15,
   "id": "3b560929",
   "metadata": {
    "ExecuteTime": {
     "end_time": "2023-03-26T19:29:53.899160Z",
     "start_time": "2023-03-26T19:29:49.657432Z"
    }
   },
   "outputs": [
    {
     "data": {
      "image/png": "[encoded data removed]",
      "text/plain": [
       "<Figure size 2500x1200 with 1 Axes>"
      ]
     },
     "metadata": {},
     "output_type": "display_data"
    }
   ],
   "source": [
    "x = np.arange(1, df1.shape[0]+1, 1)\n",
    "y = df1['id'].sort_values().values\n",
    "sns.lineplot(x=x, y=y);"
   ]
  },
  {
   "cell_type": "code",
   "execution_count": 16,
   "id": "6662a596",
   "metadata": {
    "ExecuteTime": {
     "end_time": "2023-03-26T19:29:53.929874Z",
     "start_time": "2023-03-26T19:29:53.904216Z"
    }
   },
   "outputs": [
    {
     "data": {
      "text/html": [
       "<div>\n",
       "<style scoped>\n",
       "    .dataframe tbody tr th:only-of-type {\n",
       "        vertical-align: middle;\n",
       "    }\n",
       "\n",
       "    .dataframe tbody tr th {\n",
       "        vertical-align: top;\n",
       "    }\n",
       "\n",
       "    .dataframe thead th {\n",
       "        text-align: right;\n",
       "    }\n",
       "</style>\n",
       "<table border=\"1\" class=\"dataframe\">\n",
       "  <thead>\n",
       "    <tr style=\"text-align: right;\">\n",
       "      <th></th>\n",
       "      <th>8358</th>\n",
       "      <th>36627</th>\n",
       "      <th>64865</th>\n",
       "    </tr>\n",
       "  </thead>\n",
       "  <tbody>\n",
       "    <tr>\n",
       "      <th>id</th>\n",
       "      <td>40887</td>\n",
       "      <td>40899</td>\n",
       "      <td>41412</td>\n",
       "    </tr>\n",
       "    <tr>\n",
       "      <th>classificação_do_hotel</th>\n",
       "      <td>4 estrelas</td>\n",
       "      <td>4 estrelas</td>\n",
       "      <td>4 estrelas</td>\n",
       "    </tr>\n",
       "    <tr>\n",
       "      <th>meses_da_reserva_até_o_check_in</th>\n",
       "      <td>1</td>\n",
       "      <td>1</td>\n",
       "      <td>1</td>\n",
       "    </tr>\n",
       "    <tr>\n",
       "      <th>número_de_pernoites_reservadas</th>\n",
       "      <td>2</td>\n",
       "      <td>2</td>\n",
       "      <td>7</td>\n",
       "    </tr>\n",
       "    <tr>\n",
       "      <th>número_de_hospedes</th>\n",
       "      <td>NaN</td>\n",
       "      <td>NaN</td>\n",
       "      <td>NaN</td>\n",
       "    </tr>\n",
       "    <tr>\n",
       "      <th>regime_de_alimentação</th>\n",
       "      <td>Café da manha</td>\n",
       "      <td>Café da manha</td>\n",
       "      <td>Café da manha</td>\n",
       "    </tr>\n",
       "    <tr>\n",
       "      <th>nacionalidade</th>\n",
       "      <td>Spain</td>\n",
       "      <td>Spain</td>\n",
       "      <td>Spain</td>\n",
       "    </tr>\n",
       "    <tr>\n",
       "      <th>forma_de_reserva</th>\n",
       "      <td>B2B</td>\n",
       "      <td>B2B</td>\n",
       "      <td>B2B</td>\n",
       "    </tr>\n",
       "    <tr>\n",
       "      <th>já_se_hospedou_anterioremente</th>\n",
       "      <td>Não</td>\n",
       "      <td>Não</td>\n",
       "      <td>Não</td>\n",
       "    </tr>\n",
       "    <tr>\n",
       "      <th>tipo_do_quarto_reservado</th>\n",
       "      <td>Blue Sapphire</td>\n",
       "      <td>Blue Sapphire</td>\n",
       "      <td>Blue Sapphire</td>\n",
       "    </tr>\n",
       "    <tr>\n",
       "      <th>reserva_feita_por_agência_de_turismo</th>\n",
       "      <td>Sim</td>\n",
       "      <td>Não</td>\n",
       "      <td>Sim</td>\n",
       "    </tr>\n",
       "    <tr>\n",
       "      <th>reserva_feita_por_empresa</th>\n",
       "      <td>Não</td>\n",
       "      <td>Não</td>\n",
       "      <td>Não</td>\n",
       "    </tr>\n",
       "    <tr>\n",
       "      <th>reserva_com_estacionamento</th>\n",
       "      <td>Não</td>\n",
       "      <td>Não</td>\n",
       "      <td>Não</td>\n",
       "    </tr>\n",
       "    <tr>\n",
       "      <th>reserva_com_observações</th>\n",
       "      <td>1 a 3</td>\n",
       "      <td>1 a 3</td>\n",
       "      <td>1 a 3</td>\n",
       "    </tr>\n",
       "    <tr>\n",
       "      <th>reserva_cancelada</th>\n",
       "      <td>1.0</td>\n",
       "      <td>1.0</td>\n",
       "      <td>1.0</td>\n",
       "    </tr>\n",
       "  </tbody>\n",
       "</table>\n",
       "</div>"
      ],
      "text/plain": [
       "                                              8358           36627  \\\n",
       "id                                            40887          40899   \n",
       "classificação_do_hotel                   4 estrelas     4 estrelas   \n",
       "meses_da_reserva_até_o_check_in                   1              1   \n",
       "número_de_pernoites_reservadas                    2              2   \n",
       "número_de_hospedes                              NaN            NaN   \n",
       "regime_de_alimentação                 Café da manha  Café da manha   \n",
       "nacionalidade                                 Spain          Spain   \n",
       "forma_de_reserva                                B2B            B2B   \n",
       "já_se_hospedou_anterioremente                   Não            Não   \n",
       "tipo_do_quarto_reservado              Blue Sapphire  Blue Sapphire   \n",
       "reserva_feita_por_agência_de_turismo            Sim            Não   \n",
       "reserva_feita_por_empresa                       Não            Não   \n",
       "reserva_com_estacionamento                      Não            Não   \n",
       "reserva_com_observações                       1 a 3          1 a 3   \n",
       "reserva_cancelada                               1.0            1.0   \n",
       "\n",
       "                                              64865  \n",
       "id                                            41412  \n",
       "classificação_do_hotel                   4 estrelas  \n",
       "meses_da_reserva_até_o_check_in                   1  \n",
       "número_de_pernoites_reservadas                    7  \n",
       "número_de_hospedes                              NaN  \n",
       "regime_de_alimentação                 Café da manha  \n",
       "nacionalidade                                 Spain  \n",
       "forma_de_reserva                                B2B  \n",
       "já_se_hospedou_anterioremente                   Não  \n",
       "tipo_do_quarto_reservado              Blue Sapphire  \n",
       "reserva_feita_por_agência_de_turismo            Sim  \n",
       "reserva_feita_por_empresa                       Não  \n",
       "reserva_com_estacionamento                      Não  \n",
       "reserva_com_observações                       1 a 3  \n",
       "reserva_cancelada                               1.0  "
      ]
     },
     "execution_count": 16,
     "metadata": {},
     "output_type": "execute_result"
    }
   ],
   "source": [
    "df1[df1['número_de_hospedes'].isna()].T"
   ]
  },
  {
   "cell_type": "code",
   "execution_count": 17,
   "id": "b2b5b9d6",
   "metadata": {
    "ExecuteTime": {
     "end_time": "2023-03-26T19:29:53.961243Z",
     "start_time": "2023-03-26T19:29:53.933842Z"
    }
   },
   "outputs": [
    {
     "data": {
      "text/plain": [
       "Index(['id', 'classificação_do_hotel', 'meses_da_reserva_até_o_check_in',\n",
       "       'número_de_pernoites_reservadas', 'número_de_hospedes',\n",
       "       'regime_de_alimentação', 'nacionalidade', 'forma_de_reserva',\n",
       "       'já_se_hospedou_anterioremente', 'tipo_do_quarto_reservado',\n",
       "       'reserva_feita_por_agência_de_turismo', 'reserva_feita_por_empresa',\n",
       "       'reserva_com_estacionamento', 'reserva_com_observações',\n",
       "       'reserva_cancelada'],\n",
       "      dtype='object')"
      ]
     },
     "execution_count": 17,
     "metadata": {},
     "output_type": "execute_result"
    }
   ],
   "source": [
    "df1.columns"
   ]
  },
  {
   "cell_type": "markdown",
   "id": "a7933bc7",
   "metadata": {},
   "source": [
    "## 1.1 Data Dimension"
   ]
  },
  {
   "cell_type": "code",
   "execution_count": 18,
   "id": "7a9f99e1",
   "metadata": {
    "ExecuteTime": {
     "end_time": "2023-03-26T19:29:53.977072Z",
     "start_time": "2023-03-26T19:29:53.965244Z"
    }
   },
   "outputs": [
    {
     "data": {
      "text/plain": [
       "(72159, 15)"
      ]
     },
     "execution_count": 18,
     "metadata": {},
     "output_type": "execute_result"
    }
   ],
   "source": [
    "df1.shape"
   ]
  },
  {
   "cell_type": "markdown",
   "id": "3fa18969",
   "metadata": {},
   "source": [
    "## 1.2 Data Types and Changes"
   ]
  },
  {
   "cell_type": "code",
   "execution_count": 19,
   "id": "1fe5a1d5",
   "metadata": {
    "ExecuteTime": {
     "end_time": "2023-03-26T19:29:54.007897Z",
     "start_time": "2023-03-26T19:29:53.984618Z"
    }
   },
   "outputs": [
    {
     "data": {
      "text/plain": [
       "id                                        int64\n",
       "classificação_do_hotel                   object\n",
       "meses_da_reserva_até_o_check_in           int64\n",
       "número_de_pernoites_reservadas            int64\n",
       "número_de_hospedes                      float64\n",
       "regime_de_alimentação                    object\n",
       "nacionalidade                            object\n",
       "forma_de_reserva                         object\n",
       "já_se_hospedou_anterioremente            object\n",
       "tipo_do_quarto_reservado                 object\n",
       "reserva_feita_por_agência_de_turismo     object\n",
       "reserva_feita_por_empresa                object\n",
       "reserva_com_estacionamento               object\n",
       "reserva_com_observações                  object\n",
       "reserva_cancelada                       float64\n",
       "dtype: object"
      ]
     },
     "execution_count": 19,
     "metadata": {},
     "output_type": "execute_result"
    }
   ],
   "source": [
    "df1.dtypes"
   ]
  },
  {
   "cell_type": "markdown",
   "id": "d819771e",
   "metadata": {},
   "source": [
    "## 1.3 Check NA's"
   ]
  },
  {
   "cell_type": "code",
   "execution_count": 20,
   "id": "eb528642",
   "metadata": {
    "ExecuteTime": {
     "end_time": "2023-03-26T19:29:54.324368Z",
     "start_time": "2023-03-26T19:29:54.013885Z"
    }
   },
   "outputs": [
    {
     "data": {
      "text/plain": [
       "id                                         0\n",
       "classificação_do_hotel                     0\n",
       "meses_da_reserva_até_o_check_in            0\n",
       "número_de_pernoites_reservadas             0\n",
       "número_de_hospedes                         3\n",
       "regime_de_alimentação                      0\n",
       "nacionalidade                           1093\n",
       "forma_de_reserva                           0\n",
       "já_se_hospedou_anterioremente              0\n",
       "tipo_do_quarto_reservado                   0\n",
       "reserva_feita_por_agência_de_turismo       0\n",
       "reserva_feita_por_empresa                  0\n",
       "reserva_com_estacionamento                 0\n",
       "reserva_com_observações                    0\n",
       "reserva_cancelada                          0\n",
       "dtype: int64"
      ]
     },
     "execution_count": 20,
     "metadata": {},
     "output_type": "execute_result"
    }
   ],
   "source": [
    "df1.isna().sum()"
   ]
  },
  {
   "cell_type": "markdown",
   "id": "c228b585",
   "metadata": {},
   "source": [
    "## 1.4 Data Descriptive"
   ]
  },
  {
   "cell_type": "code",
   "execution_count": 21,
   "id": "2a509690",
   "metadata": {
    "ExecuteTime": {
     "end_time": "2023-03-26T19:29:54.403179Z",
     "start_time": "2023-03-26T19:29:54.330417Z"
    }
   },
   "outputs": [
    {
     "data": {
      "text/html": [
       "<div>\n",
       "<style scoped>\n",
       "    .dataframe tbody tr th:only-of-type {\n",
       "        vertical-align: middle;\n",
       "    }\n",
       "\n",
       "    .dataframe tbody tr th {\n",
       "        vertical-align: top;\n",
       "    }\n",
       "\n",
       "    .dataframe thead th {\n",
       "        text-align: right;\n",
       "    }\n",
       "</style>\n",
       "<table border=\"1\" class=\"dataframe\">\n",
       "  <thead>\n",
       "    <tr style=\"text-align: right;\">\n",
       "      <th></th>\n",
       "      <th>id</th>\n",
       "      <th>meses_da_reserva_até_o_check_in</th>\n",
       "      <th>número_de_pernoites_reservadas</th>\n",
       "      <th>número_de_hospedes</th>\n",
       "      <th>reserva_cancelada</th>\n",
       "    </tr>\n",
       "  </thead>\n",
       "  <tbody>\n",
       "    <tr>\n",
       "      <th>count</th>\n",
       "      <td>72159.000000</td>\n",
       "      <td>72159.000000</td>\n",
       "      <td>72159.000000</td>\n",
       "      <td>72156.000000</td>\n",
       "      <td>72159.000000</td>\n",
       "    </tr>\n",
       "    <tr>\n",
       "      <th>mean</th>\n",
       "      <td>60093.687787</td>\n",
       "      <td>7.145928</td>\n",
       "      <td>15.824152</td>\n",
       "      <td>14.258773</td>\n",
       "      <td>0.370418</td>\n",
       "    </tr>\n",
       "    <tr>\n",
       "      <th>std</th>\n",
       "      <td>34726.028006</td>\n",
       "      <td>25.852330</td>\n",
       "      <td>98.248479</td>\n",
       "      <td>96.446167</td>\n",
       "      <td>0.482920</td>\n",
       "    </tr>\n",
       "    <tr>\n",
       "      <th>min</th>\n",
       "      <td>1.000000</td>\n",
       "      <td>1.000000</td>\n",
       "      <td>0.000000</td>\n",
       "      <td>0.000000</td>\n",
       "      <td>0.000000</td>\n",
       "    </tr>\n",
       "    <tr>\n",
       "      <th>25%</th>\n",
       "      <td>30013.500000</td>\n",
       "      <td>1.000000</td>\n",
       "      <td>2.000000</td>\n",
       "      <td>2.000000</td>\n",
       "      <td>0.000000</td>\n",
       "    </tr>\n",
       "    <tr>\n",
       "      <th>50%</th>\n",
       "      <td>60080.000000</td>\n",
       "      <td>3.000000</td>\n",
       "      <td>3.000000</td>\n",
       "      <td>2.000000</td>\n",
       "      <td>0.000000</td>\n",
       "    </tr>\n",
       "    <tr>\n",
       "      <th>75%</th>\n",
       "      <td>90301.000000</td>\n",
       "      <td>6.000000</td>\n",
       "      <td>4.000000</td>\n",
       "      <td>2.000000</td>\n",
       "      <td>1.000000</td>\n",
       "    </tr>\n",
       "    <tr>\n",
       "      <th>max</th>\n",
       "      <td>120265.000000</td>\n",
       "      <td>311.000000</td>\n",
       "      <td>1172.000000</td>\n",
       "      <td>1153.000000</td>\n",
       "      <td>1.000000</td>\n",
       "    </tr>\n",
       "  </tbody>\n",
       "</table>\n",
       "</div>"
      ],
      "text/plain": [
       "                  id  meses_da_reserva_até_o_check_in  \\\n",
       "count   72159.000000                     72159.000000   \n",
       "mean    60093.687787                         7.145928   \n",
       "std     34726.028006                        25.852330   \n",
       "min         1.000000                         1.000000   \n",
       "25%     30013.500000                         1.000000   \n",
       "50%     60080.000000                         3.000000   \n",
       "75%     90301.000000                         6.000000   \n",
       "max    120265.000000                       311.000000   \n",
       "\n",
       "       número_de_pernoites_reservadas  número_de_hospedes  reserva_cancelada  \n",
       "count                    72159.000000        72156.000000       72159.000000  \n",
       "mean                        15.824152           14.258773           0.370418  \n",
       "std                         98.248479           96.446167           0.482920  \n",
       "min                          0.000000            0.000000           0.000000  \n",
       "25%                          2.000000            2.000000           0.000000  \n",
       "50%                          3.000000            2.000000           0.000000  \n",
       "75%                          4.000000            2.000000           1.000000  \n",
       "max                       1172.000000         1153.000000           1.000000  "
      ]
     },
     "execution_count": 21,
     "metadata": {},
     "output_type": "execute_result"
    }
   ],
   "source": [
    "df1.describe()"
   ]
  },
  {
   "cell_type": "markdown",
   "id": "f4cf944b",
   "metadata": {},
   "source": [
    "### 1.4.1 Numerical Attributes"
   ]
  },
  {
   "cell_type": "code",
   "execution_count": 22,
   "id": "945a8727",
   "metadata": {
    "ExecuteTime": {
     "end_time": "2023-03-26T19:29:54.418994Z",
     "start_time": "2023-03-26T19:29:54.408422Z"
    }
   },
   "outputs": [],
   "source": [
    "## Divisão de features numericas\n",
    "\n",
    "num_attr = df1.select_dtypes(include=['int64', 'float64'])"
   ]
  },
  {
   "cell_type": "code",
   "execution_count": 23,
   "id": "200384cb",
   "metadata": {
    "ExecuteTime": {
     "end_time": "2023-03-26T19:29:54.542403Z",
     "start_time": "2023-03-26T19:29:54.422556Z"
    }
   },
   "outputs": [
    {
     "data": {
      "text/html": [
       "<div>\n",
       "<style scoped>\n",
       "    .dataframe tbody tr th:only-of-type {\n",
       "        vertical-align: middle;\n",
       "    }\n",
       "\n",
       "    .dataframe tbody tr th {\n",
       "        vertical-align: top;\n",
       "    }\n",
       "\n",
       "    .dataframe thead th {\n",
       "        text-align: right;\n",
       "    }\n",
       "</style>\n",
       "<table border=\"1\" class=\"dataframe\">\n",
       "  <thead>\n",
       "    <tr style=\"text-align: right;\">\n",
       "      <th></th>\n",
       "      <th>Atributos</th>\n",
       "      <th>Min</th>\n",
       "      <th>Media</th>\n",
       "      <th>Max</th>\n",
       "      <th>Range</th>\n",
       "      <th>Mediana</th>\n",
       "      <th>Desvio_Padrao</th>\n",
       "      <th>Skew</th>\n",
       "      <th>Kurtosis</th>\n",
       "    </tr>\n",
       "  </thead>\n",
       "  <tbody>\n",
       "    <tr>\n",
       "      <th>0</th>\n",
       "      <td>id</td>\n",
       "      <td>1.0</td>\n",
       "      <td>60093.687787</td>\n",
       "      <td>120265.0</td>\n",
       "      <td>120264.0</td>\n",
       "      <td>60080.0</td>\n",
       "      <td>34725.787383</td>\n",
       "      <td>0.000051</td>\n",
       "      <td>-1.203219</td>\n",
       "    </tr>\n",
       "    <tr>\n",
       "      <th>1</th>\n",
       "      <td>meses_da_reserva_até_o_check_in</td>\n",
       "      <td>1.0</td>\n",
       "      <td>7.145928</td>\n",
       "      <td>311.0</td>\n",
       "      <td>310.0</td>\n",
       "      <td>3.0</td>\n",
       "      <td>25.852151</td>\n",
       "      <td>8.667253</td>\n",
       "      <td>79.725538</td>\n",
       "    </tr>\n",
       "    <tr>\n",
       "      <th>2</th>\n",
       "      <td>número_de_pernoites_reservadas</td>\n",
       "      <td>0.0</td>\n",
       "      <td>15.824152</td>\n",
       "      <td>1172.0</td>\n",
       "      <td>1172.0</td>\n",
       "      <td>3.0</td>\n",
       "      <td>98.247798</td>\n",
       "      <td>8.765012</td>\n",
       "      <td>80.204284</td>\n",
       "    </tr>\n",
       "    <tr>\n",
       "      <th>3</th>\n",
       "      <td>número_de_hospedes</td>\n",
       "      <td>0.0</td>\n",
       "      <td>14.258773</td>\n",
       "      <td>1153.0</td>\n",
       "      <td>1153.0</td>\n",
       "      <td>NaN</td>\n",
       "      <td>96.445499</td>\n",
       "      <td>8.723259</td>\n",
       "      <td>79.664540</td>\n",
       "    </tr>\n",
       "    <tr>\n",
       "      <th>4</th>\n",
       "      <td>reserva_cancelada</td>\n",
       "      <td>0.0</td>\n",
       "      <td>0.370418</td>\n",
       "      <td>1.0</td>\n",
       "      <td>1.0</td>\n",
       "      <td>0.0</td>\n",
       "      <td>0.482917</td>\n",
       "      <td>0.536675</td>\n",
       "      <td>-1.712028</td>\n",
       "    </tr>\n",
       "  </tbody>\n",
       "</table>\n",
       "</div>"
      ],
      "text/plain": [
       "                         Atributos  Min         Media       Max     Range  \\\n",
       "0                               id  1.0  60093.687787  120265.0  120264.0   \n",
       "1  meses_da_reserva_até_o_check_in  1.0      7.145928     311.0     310.0   \n",
       "2   número_de_pernoites_reservadas  0.0     15.824152    1172.0    1172.0   \n",
       "3               número_de_hospedes  0.0     14.258773    1153.0    1153.0   \n",
       "4                reserva_cancelada  0.0      0.370418       1.0       1.0   \n",
       "\n",
       "   Mediana  Desvio_Padrao      Skew   Kurtosis  \n",
       "0  60080.0   34725.787383  0.000051  -1.203219  \n",
       "1      3.0      25.852151  8.667253  79.725538  \n",
       "2      3.0      98.247798  8.765012  80.204284  \n",
       "3      NaN      96.445499  8.723259  79.664540  \n",
       "4      0.0       0.482917  0.536675  -1.712028  "
      ]
     },
     "execution_count": 23,
     "metadata": {},
     "output_type": "execute_result"
    }
   ],
   "source": [
    "## Tendência Central (média e mediana)\n",
    "\n",
    "ct1 = pd.DataFrame(num_attr.apply(np.mean)).T\n",
    "ct2 = pd.DataFrame(num_attr.apply(np.median)).T\n",
    "\n",
    "\n",
    "## Dispersão (std, min, max, range, skew, kurtosis)\n",
    "\n",
    "d1 = pd.DataFrame(num_attr.apply(np.std)).T\n",
    "d2 = pd.DataFrame(num_attr.apply(np.min)).T\n",
    "d3 = pd.DataFrame(num_attr.apply(np.max)).T\n",
    "d4 = pd.DataFrame(num_attr.apply(lambda x: x.max() - x.min())).T\n",
    "d5 = pd.DataFrame(num_attr.apply(lambda x: x.skew())).T\n",
    "d6 = pd.DataFrame(num_attr.apply(lambda x: x.kurtosis())).T\n",
    "\n",
    "## Concatenando os resultados\n",
    "\n",
    "num_attr_result = pd.concat([d2, ct1, d3, d4, ct2, d1, d5, d6]).T.reset_index()\n",
    "num_attr_result.columns = ['Atributos', 'Min', 'Media', 'Max', 'Range', 'Mediana', 'Desvio_Padrao', 'Skew', 'Kurtosis']\n",
    "num_attr_result"
   ]
  },
  {
   "cell_type": "markdown",
   "id": "966ef4a8",
   "metadata": {},
   "source": [
    "### 1.4.2 Categorical Attributes"
   ]
  },
  {
   "cell_type": "code",
   "execution_count": 24,
   "id": "3e6cd811",
   "metadata": {
    "ExecuteTime": {
     "end_time": "2023-03-26T19:29:54.572857Z",
     "start_time": "2023-03-26T19:29:54.547404Z"
    }
   },
   "outputs": [],
   "source": [
    "cat_attr = df1.select_dtypes(exclude=['int64', 'float64', 'datetime64[ns]'])"
   ]
  },
  {
   "cell_type": "code",
   "execution_count": 25,
   "id": "3ad8f3f3",
   "metadata": {
    "ExecuteTime": {
     "end_time": "2023-03-26T19:29:54.681860Z",
     "start_time": "2023-03-26T19:29:54.578848Z"
    }
   },
   "outputs": [
    {
     "data": {
      "text/plain": [
       "classificação_do_hotel                    2\n",
       "regime_de_alimentação                     4\n",
       "nacionalidade                           170\n",
       "forma_de_reserva                          3\n",
       "já_se_hospedou_anterioremente             2\n",
       "tipo_do_quarto_reservado                 10\n",
       "reserva_feita_por_agência_de_turismo      2\n",
       "reserva_feita_por_empresa                 2\n",
       "reserva_com_estacionamento                2\n",
       "reserva_com_observações                   3\n",
       "dtype: int64"
      ]
     },
     "execution_count": 25,
     "metadata": {},
     "output_type": "execute_result"
    }
   ],
   "source": [
    "## Mostra os valores únicos das variáveis categóricas\n",
    "\n",
    "cat_attr.apply(lambda x: x.unique().shape[0])\n",
    "\n"
   ]
  },
  {
   "cell_type": "code",
   "execution_count": null,
   "id": "84e0d476",
   "metadata": {
    "ExecuteTime": {
     "end_time": "2023-03-26T01:26:36.493216Z",
     "start_time": "2023-03-26T01:26:35.992151Z"
    }
   },
   "outputs": [],
   "source": []
  },
  {
   "cell_type": "markdown",
   "id": "70487c29",
   "metadata": {},
   "source": [
    "# 2.0 Feature Engineering "
   ]
  },
  {
   "cell_type": "code",
   "execution_count": 26,
   "id": "502ed7ef",
   "metadata": {
    "ExecuteTime": {
     "end_time": "2023-03-26T19:29:54.728720Z",
     "start_time": "2023-03-26T19:29:54.700572Z"
    }
   },
   "outputs": [],
   "source": [
    "# Backup do Dataframe\n",
    "\n",
    "df2 = df1.copy()"
   ]
  },
  {
   "cell_type": "markdown",
   "id": "27f7fa1d",
   "metadata": {},
   "source": [
    "## 2.1 Mindmap"
   ]
  },
  {
   "cell_type": "code",
   "execution_count": 27,
   "id": "1894dfd9",
   "metadata": {
    "ExecuteTime": {
     "end_time": "2023-03-26T19:29:54.744375Z",
     "start_time": "2023-03-26T19:29:54.734283Z"
    }
   },
   "outputs": [],
   "source": [
    "## Mostra imagem\n",
    "\n",
    "# Image('img/imagem.png')"
   ]
  },
  {
   "cell_type": "markdown",
   "id": "fc54a8d4",
   "metadata": {},
   "source": [
    "## 2.2 Hypothesis"
   ]
  },
  {
   "cell_type": "code",
   "execution_count": 28,
   "id": "c255cb63",
   "metadata": {
    "ExecuteTime": {
     "end_time": "2023-03-26T19:29:54.759935Z",
     "start_time": "2023-03-26T19:29:54.747362Z"
    }
   },
   "outputs": [],
   "source": [
    "# Criação de hipóteses (brainstorm)\n"
   ]
  },
  {
   "cell_type": "markdown",
   "id": "800aa7fc",
   "metadata": {},
   "source": [
    "## 2.3 Feature Engineering "
   ]
  },
  {
   "cell_type": "code",
   "execution_count": 29,
   "id": "daef81a7",
   "metadata": {
    "ExecuteTime": {
     "end_time": "2023-03-26T19:29:54.775556Z",
     "start_time": "2023-03-26T19:29:54.764952Z"
    }
   },
   "outputs": [],
   "source": [
    "## Criação das features para tentar responder as questões levantadas\n"
   ]
  },
  {
   "cell_type": "markdown",
   "id": "9b429cd9",
   "metadata": {},
   "source": [
    "# 3.0 Data Filtering"
   ]
  },
  {
   "cell_type": "code",
   "execution_count": 30,
   "id": "499337a1",
   "metadata": {
    "ExecuteTime": {
     "end_time": "2023-03-26T19:29:54.807350Z",
     "start_time": "2023-03-26T19:29:54.779696Z"
    }
   },
   "outputs": [],
   "source": [
    "# Backup do Dataframe\n",
    "\n",
    "df3 = df2.copy()"
   ]
  },
  {
   "cell_type": "code",
   "execution_count": 31,
   "id": "ffba58a5",
   "metadata": {
    "ExecuteTime": {
     "end_time": "2023-03-26T19:29:54.822569Z",
     "start_time": "2023-03-26T19:29:54.811430Z"
    }
   },
   "outputs": [],
   "source": [
    "## Caso seja necessária a retirada de alguma feature que não tenha relevância"
   ]
  },
  {
   "cell_type": "markdown",
   "id": "3e741fc2",
   "metadata": {},
   "source": [
    "# 4.0 EDA"
   ]
  },
  {
   "cell_type": "code",
   "execution_count": 32,
   "id": "28136ff3",
   "metadata": {
    "ExecuteTime": {
     "end_time": "2023-03-26T19:29:54.853705Z",
     "start_time": "2023-03-26T19:29:54.827578Z"
    }
   },
   "outputs": [],
   "source": [
    "# Backup do Dataframe\n",
    "\n",
    "df4 = df3.copy()"
   ]
  },
  {
   "cell_type": "markdown",
   "id": "904dd61a",
   "metadata": {},
   "source": [
    "## 4.1 Univariate Analysis"
   ]
  },
  {
   "cell_type": "code",
   "execution_count": null,
   "id": "d68d7c06",
   "metadata": {},
   "outputs": [],
   "source": []
  },
  {
   "cell_type": "markdown",
   "id": "42a8fdc5",
   "metadata": {},
   "source": [
    "## 4.2 Bivariate Analysis"
   ]
  },
  {
   "cell_type": "code",
   "execution_count": 33,
   "id": "56862fff",
   "metadata": {
    "ExecuteTime": {
     "end_time": "2023-03-26T19:29:54.869275Z",
     "start_time": "2023-03-26T19:29:54.859231Z"
    }
   },
   "outputs": [],
   "source": [
    "#plt.scatter(x='id', y='', data=df4);"
   ]
  },
  {
   "cell_type": "markdown",
   "id": "ffc9a12b",
   "metadata": {},
   "source": [
    "\n",
    "## 4.3 Multivariate Analysis"
   ]
  },
  {
   "cell_type": "code",
   "execution_count": 34,
   "id": "d9a33271",
   "metadata": {
    "ExecuteTime": {
     "end_time": "2023-03-26T19:29:55.825646Z",
     "start_time": "2023-03-26T19:29:54.874165Z"
    }
   },
   "outputs": [
    {
     "data": {
      "image/png": "[encoded data removed]",
      "text/plain": [
       "<Figure size 2500x1200 with 2 Axes>"
      ]
     },
     "metadata": {},
     "output_type": "display_data"
    }
   ],
   "source": [
    "## Gráfico Mapa de calor - mostra a correlação entre as features (qt mais perto de 1, mais relacionado está)\n",
    "\n",
    "correlation = num_attr.corr(method='pearson')\n",
    "\n",
    "sns.heatmap(correlation, annot=True);"
   ]
  },
  {
   "cell_type": "markdown",
   "id": "d9160e37",
   "metadata": {},
   "source": [
    "# 5.0 Data Preparation"
   ]
  },
  {
   "cell_type": "code",
   "execution_count": 35,
   "id": "2797b0b9",
   "metadata": {
    "ExecuteTime": {
     "end_time": "2023-03-26T19:29:55.856294Z",
     "start_time": "2023-03-26T19:29:55.830887Z"
    }
   },
   "outputs": [],
   "source": [
    "# Backup do Dataframe\n",
    "\n",
    "df5 = df4.copy()"
   ]
  },
  {
   "cell_type": "markdown",
   "id": "7f32df08",
   "metadata": {},
   "source": [
    "## 5.1 Standardization"
   ]
  },
  {
   "cell_type": "code",
   "execution_count": null,
   "id": "c042c92d",
   "metadata": {},
   "outputs": [],
   "source": []
  },
  {
   "cell_type": "markdown",
   "id": "1dcbe34a",
   "metadata": {},
   "source": [
    "## 5.2 Rescaling"
   ]
  },
  {
   "cell_type": "code",
   "execution_count": 36,
   "id": "769e39e6",
   "metadata": {
    "ExecuteTime": {
     "end_time": "2023-03-26T19:29:55.918958Z",
     "start_time": "2023-03-26T19:29:55.863956Z"
    }
   },
   "outputs": [],
   "source": [
    "## Métodos para Rescala\n",
    "\n",
    "# rs = RobustScaler()\n",
    "mms = MinMaxScaler()\n",
    "\n",
    "## Exemplo\n",
    "df5['id'] = mms.fit_transform(df5[['id']].values)\n",
    "df5['meses_da_reserva_até_o_check_in'] = mms.fit_transform(df5[['meses_da_reserva_até_o_check_in']].values)\n",
    "df5['número_de_pernoites_reservadas'] = mms.fit_transform(df5[['número_de_pernoites_reservadas']].values)\n",
    "df5['número_de_hospedes'] = mms.fit_transform(df5[['número_de_hospedes']].values)"
   ]
  },
  {
   "cell_type": "markdown",
   "id": "2dab2528",
   "metadata": {},
   "source": [
    "\n",
    "## 5.3 Encoder"
   ]
  },
  {
   "cell_type": "code",
   "execution_count": 37,
   "id": "1369a36e",
   "metadata": {
    "ExecuteTime": {
     "end_time": "2023-03-26T19:29:55.933734Z",
     "start_time": "2023-03-26T19:29:55.923530Z"
    }
   },
   "outputs": [],
   "source": [
    "le = LabelEncoder()"
   ]
  },
  {
   "cell_type": "markdown",
   "id": "7e951d2a",
   "metadata": {},
   "source": [
    "### 5.3.1 Encoding"
   ]
  },
  {
   "cell_type": "code",
   "execution_count": 38,
   "id": "60897eec",
   "metadata": {
    "ExecuteTime": {
     "end_time": "2023-03-26T19:29:56.181624Z",
     "start_time": "2023-03-26T19:29:55.939245Z"
    }
   },
   "outputs": [],
   "source": [
    "## Label Encoding\n",
    "\n",
    "df5['já_se_hospedou_anterioremente']         = le.fit_transform(df5['já_se_hospedou_anterioremente'])\n",
    "df5['reserva_feita_por_agência_de_turismo']  = le.fit_transform(df5['reserva_feita_por_agência_de_turismo'])\n",
    "df5['reserva_feita_por_empresa']             = le.fit_transform(df5['reserva_feita_por_empresa'])\n",
    "df5['reserva_com_estacionamento']            = le.fit_transform(df5['reserva_com_estacionamento'])\n",
    "df5['forma_de_reserva']                      = le.fit_transform(df5['forma_de_reserva'])\n",
    "df5['classificação_do_hotel']                = le.fit_transform(df5['classificação_do_hotel'])"
   ]
  },
  {
   "cell_type": "code",
   "execution_count": 39,
   "id": "b576d2b4",
   "metadata": {
    "ExecuteTime": {
     "end_time": "2023-03-26T19:29:56.244853Z",
     "start_time": "2023-03-26T19:29:56.185626Z"
    }
   },
   "outputs": [],
   "source": [
    "## Ordinal Encoding (dar peso)\n",
    "\n",
    "## regime_de_alimentação\n",
    "regime_alim_dict = {'Sem refeicao'                   : 0,\n",
    "                    'Café da manha'                  : 1,\n",
    "                    'Café da manha e jantar'         : 2,\n",
    "                    'Café da manha, almoco e jantar' : 3}\n",
    "df5['regime_de_alimentação'] = df5['regime_de_alimentação'].map(regime_alim_dict)\n",
    "\n",
    "## tipo_do_quarto_reservado\n",
    "#tp_quarto_dict = {\n",
    "#'Moonstone'     :1,\n",
    "#'Peridot'       :2,\n",
    "#'Topaz'         :3,\n",
    "#'Garnet'        :4,\n",
    "#'Tanzanite'     :5, \n",
    "#'Amethyst'      :6,\n",
    "#'Green Emerald' :7,\n",
    "#'Pink Sapphire' :8,\n",
    "#'Blue Sapphire' :9,   \n",
    "#'Red Ruby'      :10 \n",
    "#}\n",
    "tp_quarto_dict = {\n",
    "'Red Ruby'      :1,\n",
    "'Blue Sapphire' :2,\n",
    "'Pink Sapphire' :3,\n",
    "'Green Emerald' :4,\n",
    "'Amethyst'      :5,   \n",
    "'Tanzanite'     :6,    \n",
    "'Garnet'        :7,    \n",
    "'Topaz'         :8,    \n",
    "'Peridot'       :9,\n",
    "'Moonstone'     :10\n",
    "}\n",
    "\n",
    "df5['tipo_do_quarto_reservado'] = df5['tipo_do_quarto_reservado'].map(tp_quarto_dict)\n",
    "\n",
    "## reserva_com_observações\n",
    "reserv_obs_dict = {'Nenhuma':0, '1 a 3':1, 'Mais de 3':2}\n",
    "df5['reserva_com_observações'] = df5['reserva_com_observações'].map(reserv_obs_dict)\n"
   ]
  },
  {
   "cell_type": "code",
   "execution_count": 40,
   "id": "ea01b35a",
   "metadata": {
    "ExecuteTime": {
     "end_time": "2023-03-26T19:29:57.087125Z",
     "start_time": "2023-03-26T19:29:56.248855Z"
    },
    "scrolled": false
   },
   "outputs": [
    {
     "data": {
      "image/png": "[encoded data removed]",
      "text/plain": [
       "<Figure size 2500x1200 with 1 Axes>"
      ]
     },
     "metadata": {},
     "output_type": "display_data"
    }
   ],
   "source": [
    "sns.boxplot(x='tipo_do_quarto_reservado', y='id', data=df5);"
   ]
  },
  {
   "cell_type": "code",
   "execution_count": 41,
   "id": "e3cfb597",
   "metadata": {
    "ExecuteTime": {
     "end_time": "2023-03-26T19:30:00.123166Z",
     "start_time": "2023-03-26T19:29:57.090561Z"
    }
   },
   "outputs": [
    {
     "data": {
      "image/png": "[encoded data removed]",
      "text/plain": [
       "<Figure size 2500x1200 with 2 Axes>"
      ]
     },
     "metadata": {},
     "output_type": "display_data"
    }
   ],
   "source": [
    "correlation = df5.corr(method='pearson')\n",
    "\n",
    "sns.heatmap(correlation, annot=True);"
   ]
  },
  {
   "cell_type": "code",
   "execution_count": null,
   "id": "becff015",
   "metadata": {
    "ExecuteTime": {
     "end_time": "2023-03-26T01:37:43.317641Z",
     "start_time": "2023-03-26T01:37:43.305302Z"
    }
   },
   "outputs": [],
   "source": []
  },
  {
   "cell_type": "code",
   "execution_count": 42,
   "id": "2fe90e3f",
   "metadata": {
    "ExecuteTime": {
     "end_time": "2023-03-26T19:30:00.464846Z",
     "start_time": "2023-03-26T19:30:00.127332Z"
    }
   },
   "outputs": [],
   "source": [
    "## Category Encoders\n",
    "\n",
    "count = CountEncoder(cols=['nacionalidade'], return_df=True) \n",
    "df5['nacionalidade'] = count.fit_transform(df5['nacionalidade'])\n"
   ]
  },
  {
   "cell_type": "code",
   "execution_count": 43,
   "id": "0a3f6142",
   "metadata": {
    "ExecuteTime": {
     "end_time": "2023-03-26T19:30:00.480404Z",
     "start_time": "2023-03-26T19:30:00.470447Z"
    }
   },
   "outputs": [],
   "source": [
    "# Comentado pois não houve mudança no F1-Score\n",
    "\n",
    "#df5['class_num_noites'] = df5['número_de_pernoites_reservadas'].apply(lambda x:\n",
    "#                               1 if x <= 2     else\n",
    "#                               2 if 2 < x <= 3 else\n",
    "#                               3 if 3 < x <= 4 else\n",
    "#                               4 if 4 < x <= 7 else\n",
    "#                               5)\n",
    "#\n",
    "#df5['class_mes'] = df5['meses_da_reserva_até_o_check_in'].apply(lambda x:\n",
    "#                               1 if x <= 1     else\n",
    "#                               2 if 1 < x <= 3 else\n",
    "#                               3 if 3 < x <= 6 else\n",
    "#                               4 if 6 < x <=13 else\n",
    "#                               5)"
   ]
  },
  {
   "cell_type": "code",
   "execution_count": 44,
   "id": "aadfa519",
   "metadata": {
    "ExecuteTime": {
     "end_time": "2023-03-26T19:30:00.511081Z",
     "start_time": "2023-03-26T19:30:00.486444Z"
    }
   },
   "outputs": [],
   "source": [
    "## Intervalos de ID (não melhorou)\n",
    "\n",
    "#df5['class_id'] = df5['id'].apply(lambda x:\n",
    "#                                  1 if x           <=       6000       else\n",
    "#                                  2 if 6000        < x <=  (6000*2)    else\n",
    "#                                  3 if (6000*2)    < x <=  (6000*3)    else\n",
    "#                                  4 if (6000*3)    < x <=  (6000*4)    else\n",
    "#                                  5 if (6000*4)    < x <=  (6000*5)    else\n",
    "#                                  6 if (6000*5)    < x <=  (6000*6)    else\n",
    "#                                  7 if (6000*6)    < x <=  (6000*7)    else\n",
    "#                                  8 if (6000*7)    < x <=  (6000*8)    else\n",
    "#                                  9 if (6000*8)    < x <=  (6000*9)    else\n",
    "#                                 10 if (6000*9)    < x <=  (6000*10)   else\n",
    "#                                 11 if (6000*10)   < x <=  (6000*11)   else\n",
    "#                                 12 if (6000*11)   < x <=  (6000*12)   else\n",
    "#                                 13 if (6000*12)   < x <=  (6000*13)   else\n",
    "#                                 14 if (6000*13)   < x <=  (6000*14)   else\n",
    "#                                 15 if (6000*14)   < x <=  (6000*15)   else\n",
    "#                                 16 if (6000*15)   < x <=  (6000*16)   else\n",
    "#                                 17 if (6000*16)   < x <=  (6000*17)   else\n",
    "#                                 18 if (6000*17)   < x <=  (6000*18)   else\n",
    "#                                 19 if (6000*18)   < x <=  (6000*19)   else\n",
    "#                                 20)\n"
   ]
  },
  {
   "cell_type": "code",
   "execution_count": 45,
   "id": "f97911f1",
   "metadata": {
    "ExecuteTime": {
     "end_time": "2023-03-26T19:30:00.526370Z",
     "start_time": "2023-03-26T19:30:00.515508Z"
    }
   },
   "outputs": [],
   "source": [
    "## Crie 20 classes numéricas igualmente espaçadas entre 1 e 120000\n",
    "#classes = np.linspace(start=1, stop=120000, num=20+1)\n",
    "\n",
    "## Arredonde os limites das classes para números inteiros\n",
    "#classes = np.round(classes).astype(int)\n",
    "\n",
    "## Exiba os limites das classes\n",
    "#print(classes)"
   ]
  },
  {
   "cell_type": "code",
   "execution_count": 46,
   "id": "b5fc02cb",
   "metadata": {
    "ExecuteTime": {
     "end_time": "2023-03-26T19:30:00.621349Z",
     "start_time": "2023-03-26T19:30:00.531446Z"
    }
   },
   "outputs": [
    {
     "data": {
      "text/html": [
       "<div>\n",
       "<style scoped>\n",
       "    .dataframe tbody tr th:only-of-type {\n",
       "        vertical-align: middle;\n",
       "    }\n",
       "\n",
       "    .dataframe tbody tr th {\n",
       "        vertical-align: top;\n",
       "    }\n",
       "\n",
       "    .dataframe thead th {\n",
       "        text-align: right;\n",
       "    }\n",
       "</style>\n",
       "<table border=\"1\" class=\"dataframe\">\n",
       "  <thead>\n",
       "    <tr style=\"text-align: right;\">\n",
       "      <th></th>\n",
       "      <th>5957</th>\n",
       "      <th>19287</th>\n",
       "      <th>63577</th>\n",
       "      <th>47303</th>\n",
       "      <th>71969</th>\n",
       "      <th>30468</th>\n",
       "      <th>30578</th>\n",
       "      <th>10734</th>\n",
       "      <th>15231</th>\n",
       "      <th>33941</th>\n",
       "    </tr>\n",
       "  </thead>\n",
       "  <tbody>\n",
       "    <tr>\n",
       "      <th>id</th>\n",
       "      <td>0.175165</td>\n",
       "      <td>0.260577</td>\n",
       "      <td>0.005937</td>\n",
       "      <td>0.142520</td>\n",
       "      <td>0.323854</td>\n",
       "      <td>0.459298</td>\n",
       "      <td>0.017054</td>\n",
       "      <td>0.340351</td>\n",
       "      <td>0.476427</td>\n",
       "      <td>0.814259</td>\n",
       "    </tr>\n",
       "    <tr>\n",
       "      <th>classificação_do_hotel</th>\n",
       "      <td>1.000000</td>\n",
       "      <td>1.000000</td>\n",
       "      <td>1.000000</td>\n",
       "      <td>1.000000</td>\n",
       "      <td>1.000000</td>\n",
       "      <td>0.000000</td>\n",
       "      <td>1.000000</td>\n",
       "      <td>0.000000</td>\n",
       "      <td>0.000000</td>\n",
       "      <td>0.000000</td>\n",
       "    </tr>\n",
       "    <tr>\n",
       "      <th>meses_da_reserva_até_o_check_in</th>\n",
       "      <td>0.003226</td>\n",
       "      <td>0.000000</td>\n",
       "      <td>0.003226</td>\n",
       "      <td>0.006452</td>\n",
       "      <td>0.012903</td>\n",
       "      <td>0.003226</td>\n",
       "      <td>0.006452</td>\n",
       "      <td>0.000000</td>\n",
       "      <td>0.032258</td>\n",
       "      <td>0.006452</td>\n",
       "    </tr>\n",
       "    <tr>\n",
       "      <th>número_de_pernoites_reservadas</th>\n",
       "      <td>0.001706</td>\n",
       "      <td>0.000853</td>\n",
       "      <td>0.002560</td>\n",
       "      <td>0.005973</td>\n",
       "      <td>0.001706</td>\n",
       "      <td>0.001706</td>\n",
       "      <td>0.003413</td>\n",
       "      <td>0.002560</td>\n",
       "      <td>0.001706</td>\n",
       "      <td>0.005119</td>\n",
       "    </tr>\n",
       "    <tr>\n",
       "      <th>número_de_hospedes</th>\n",
       "      <td>0.001735</td>\n",
       "      <td>0.000867</td>\n",
       "      <td>0.001735</td>\n",
       "      <td>0.001735</td>\n",
       "      <td>0.001735</td>\n",
       "      <td>0.002602</td>\n",
       "      <td>0.000867</td>\n",
       "      <td>0.001735</td>\n",
       "      <td>0.001735</td>\n",
       "      <td>0.001735</td>\n",
       "    </tr>\n",
       "    <tr>\n",
       "      <th>regime_de_alimentação</th>\n",
       "      <td>1.000000</td>\n",
       "      <td>1.000000</td>\n",
       "      <td>1.000000</td>\n",
       "      <td>2.000000</td>\n",
       "      <td>1.000000</td>\n",
       "      <td>1.000000</td>\n",
       "      <td>1.000000</td>\n",
       "      <td>1.000000</td>\n",
       "      <td>1.000000</td>\n",
       "      <td>2.000000</td>\n",
       "    </tr>\n",
       "    <tr>\n",
       "      <th>nacionalidade</th>\n",
       "      <td>34212.000000</td>\n",
       "      <td>34212.000000</td>\n",
       "      <td>1093.000000</td>\n",
       "      <td>34212.000000</td>\n",
       "      <td>397.000000</td>\n",
       "      <td>110.000000</td>\n",
       "      <td>34212.000000</td>\n",
       "      <td>380.000000</td>\n",
       "      <td>34212.000000</td>\n",
       "      <td>6251.000000</td>\n",
       "    </tr>\n",
       "    <tr>\n",
       "      <th>forma_de_reserva</th>\n",
       "      <td>2.000000</td>\n",
       "      <td>2.000000</td>\n",
       "      <td>0.000000</td>\n",
       "      <td>0.000000</td>\n",
       "      <td>0.000000</td>\n",
       "      <td>0.000000</td>\n",
       "      <td>0.000000</td>\n",
       "      <td>1.000000</td>\n",
       "      <td>0.000000</td>\n",
       "      <td>0.000000</td>\n",
       "    </tr>\n",
       "    <tr>\n",
       "      <th>já_se_hospedou_anterioremente</th>\n",
       "      <td>0.000000</td>\n",
       "      <td>0.000000</td>\n",
       "      <td>0.000000</td>\n",
       "      <td>0.000000</td>\n",
       "      <td>0.000000</td>\n",
       "      <td>0.000000</td>\n",
       "      <td>0.000000</td>\n",
       "      <td>0.000000</td>\n",
       "      <td>0.000000</td>\n",
       "      <td>0.000000</td>\n",
       "    </tr>\n",
       "    <tr>\n",
       "      <th>tipo_do_quarto_reservado</th>\n",
       "      <td>5.000000</td>\n",
       "      <td>5.000000</td>\n",
       "      <td>5.000000</td>\n",
       "      <td>3.000000</td>\n",
       "      <td>4.000000</td>\n",
       "      <td>5.000000</td>\n",
       "      <td>4.000000</td>\n",
       "      <td>5.000000</td>\n",
       "      <td>5.000000</td>\n",
       "      <td>4.000000</td>\n",
       "    </tr>\n",
       "    <tr>\n",
       "      <th>reserva_feita_por_agência_de_turismo</th>\n",
       "      <td>0.000000</td>\n",
       "      <td>0.000000</td>\n",
       "      <td>1.000000</td>\n",
       "      <td>1.000000</td>\n",
       "      <td>1.000000</td>\n",
       "      <td>1.000000</td>\n",
       "      <td>1.000000</td>\n",
       "      <td>0.000000</td>\n",
       "      <td>1.000000</td>\n",
       "      <td>1.000000</td>\n",
       "    </tr>\n",
       "    <tr>\n",
       "      <th>reserva_feita_por_empresa</th>\n",
       "      <td>0.000000</td>\n",
       "      <td>0.000000</td>\n",
       "      <td>0.000000</td>\n",
       "      <td>0.000000</td>\n",
       "      <td>0.000000</td>\n",
       "      <td>0.000000</td>\n",
       "      <td>0.000000</td>\n",
       "      <td>1.000000</td>\n",
       "      <td>0.000000</td>\n",
       "      <td>0.000000</td>\n",
       "    </tr>\n",
       "    <tr>\n",
       "      <th>reserva_com_estacionamento</th>\n",
       "      <td>0.000000</td>\n",
       "      <td>0.000000</td>\n",
       "      <td>0.000000</td>\n",
       "      <td>1.000000</td>\n",
       "      <td>0.000000</td>\n",
       "      <td>0.000000</td>\n",
       "      <td>0.000000</td>\n",
       "      <td>0.000000</td>\n",
       "      <td>0.000000</td>\n",
       "      <td>0.000000</td>\n",
       "    </tr>\n",
       "    <tr>\n",
       "      <th>reserva_com_observações</th>\n",
       "      <td>1.000000</td>\n",
       "      <td>0.000000</td>\n",
       "      <td>1.000000</td>\n",
       "      <td>0.000000</td>\n",
       "      <td>1.000000</td>\n",
       "      <td>0.000000</td>\n",
       "      <td>1.000000</td>\n",
       "      <td>0.000000</td>\n",
       "      <td>0.000000</td>\n",
       "      <td>1.000000</td>\n",
       "    </tr>\n",
       "    <tr>\n",
       "      <th>reserva_cancelada</th>\n",
       "      <td>0.000000</td>\n",
       "      <td>0.000000</td>\n",
       "      <td>0.000000</td>\n",
       "      <td>0.000000</td>\n",
       "      <td>0.000000</td>\n",
       "      <td>1.000000</td>\n",
       "      <td>1.000000</td>\n",
       "      <td>0.000000</td>\n",
       "      <td>1.000000</td>\n",
       "      <td>0.000000</td>\n",
       "    </tr>\n",
       "  </tbody>\n",
       "</table>\n",
       "</div>"
      ],
      "text/plain": [
       "                                             5957          19287        63577  \\\n",
       "id                                        0.175165      0.260577     0.005937   \n",
       "classificação_do_hotel                    1.000000      1.000000     1.000000   \n",
       "meses_da_reserva_até_o_check_in           0.003226      0.000000     0.003226   \n",
       "número_de_pernoites_reservadas            0.001706      0.000853     0.002560   \n",
       "número_de_hospedes                        0.001735      0.000867     0.001735   \n",
       "regime_de_alimentação                     1.000000      1.000000     1.000000   \n",
       "nacionalidade                         34212.000000  34212.000000  1093.000000   \n",
       "forma_de_reserva                          2.000000      2.000000     0.000000   \n",
       "já_se_hospedou_anterioremente             0.000000      0.000000     0.000000   \n",
       "tipo_do_quarto_reservado                  5.000000      5.000000     5.000000   \n",
       "reserva_feita_por_agência_de_turismo      0.000000      0.000000     1.000000   \n",
       "reserva_feita_por_empresa                 0.000000      0.000000     0.000000   \n",
       "reserva_com_estacionamento                0.000000      0.000000     0.000000   \n",
       "reserva_com_observações                   1.000000      0.000000     1.000000   \n",
       "reserva_cancelada                         0.000000      0.000000     0.000000   \n",
       "\n",
       "                                             47303       71969       30468  \\\n",
       "id                                        0.142520    0.323854    0.459298   \n",
       "classificação_do_hotel                    1.000000    1.000000    0.000000   \n",
       "meses_da_reserva_até_o_check_in           0.006452    0.012903    0.003226   \n",
       "número_de_pernoites_reservadas            0.005973    0.001706    0.001706   \n",
       "número_de_hospedes                        0.001735    0.001735    0.002602   \n",
       "regime_de_alimentação                     2.000000    1.000000    1.000000   \n",
       "nacionalidade                         34212.000000  397.000000  110.000000   \n",
       "forma_de_reserva                          0.000000    0.000000    0.000000   \n",
       "já_se_hospedou_anterioremente             0.000000    0.000000    0.000000   \n",
       "tipo_do_quarto_reservado                  3.000000    4.000000    5.000000   \n",
       "reserva_feita_por_agência_de_turismo      1.000000    1.000000    1.000000   \n",
       "reserva_feita_por_empresa                 0.000000    0.000000    0.000000   \n",
       "reserva_com_estacionamento                1.000000    0.000000    0.000000   \n",
       "reserva_com_observações                   0.000000    1.000000    0.000000   \n",
       "reserva_cancelada                         0.000000    0.000000    1.000000   \n",
       "\n",
       "                                             30578       10734         15231  \\\n",
       "id                                        0.017054    0.340351      0.476427   \n",
       "classificação_do_hotel                    1.000000    0.000000      0.000000   \n",
       "meses_da_reserva_até_o_check_in           0.006452    0.000000      0.032258   \n",
       "número_de_pernoites_reservadas            0.003413    0.002560      0.001706   \n",
       "número_de_hospedes                        0.000867    0.001735      0.001735   \n",
       "regime_de_alimentação                     1.000000    1.000000      1.000000   \n",
       "nacionalidade                         34212.000000  380.000000  34212.000000   \n",
       "forma_de_reserva                          0.000000    1.000000      0.000000   \n",
       "já_se_hospedou_anterioremente             0.000000    0.000000      0.000000   \n",
       "tipo_do_quarto_reservado                  4.000000    5.000000      5.000000   \n",
       "reserva_feita_por_agência_de_turismo      1.000000    0.000000      1.000000   \n",
       "reserva_feita_por_empresa                 0.000000    1.000000      0.000000   \n",
       "reserva_com_estacionamento                0.000000    0.000000      0.000000   \n",
       "reserva_com_observações                   1.000000    0.000000      0.000000   \n",
       "reserva_cancelada                         1.000000    0.000000      1.000000   \n",
       "\n",
       "                                            33941  \n",
       "id                                       0.814259  \n",
       "classificação_do_hotel                   0.000000  \n",
       "meses_da_reserva_até_o_check_in          0.006452  \n",
       "número_de_pernoites_reservadas           0.005119  \n",
       "número_de_hospedes                       0.001735  \n",
       "regime_de_alimentação                    2.000000  \n",
       "nacionalidade                         6251.000000  \n",
       "forma_de_reserva                         0.000000  \n",
       "já_se_hospedou_anterioremente            0.000000  \n",
       "tipo_do_quarto_reservado                 4.000000  \n",
       "reserva_feita_por_agência_de_turismo     1.000000  \n",
       "reserva_feita_por_empresa                0.000000  \n",
       "reserva_com_estacionamento               0.000000  \n",
       "reserva_com_observações                  1.000000  \n",
       "reserva_cancelada                        0.000000  "
      ]
     },
     "execution_count": 46,
     "metadata": {},
     "output_type": "execute_result"
    }
   ],
   "source": [
    "df5.sample(10).T"
   ]
  },
  {
   "cell_type": "code",
   "execution_count": 47,
   "id": "819ee261",
   "metadata": {
    "ExecuteTime": {
     "end_time": "2023-03-26T19:30:00.652651Z",
     "start_time": "2023-03-26T19:30:00.628866Z"
    }
   },
   "outputs": [
    {
     "data": {
      "text/plain": [
       "id                                      float64\n",
       "classificação_do_hotel                    int32\n",
       "meses_da_reserva_até_o_check_in         float64\n",
       "número_de_pernoites_reservadas          float64\n",
       "número_de_hospedes                      float64\n",
       "regime_de_alimentação                     int64\n",
       "nacionalidade                             int64\n",
       "forma_de_reserva                          int32\n",
       "já_se_hospedou_anterioremente             int32\n",
       "tipo_do_quarto_reservado                  int64\n",
       "reserva_feita_por_agência_de_turismo      int32\n",
       "reserva_feita_por_empresa                 int32\n",
       "reserva_com_estacionamento                int32\n",
       "reserva_com_observações                   int64\n",
       "reserva_cancelada                       float64\n",
       "dtype: object"
      ]
     },
     "execution_count": 47,
     "metadata": {},
     "output_type": "execute_result"
    }
   ],
   "source": [
    "df5.dtypes"
   ]
  },
  {
   "cell_type": "code",
   "execution_count": 48,
   "id": "3da8570c",
   "metadata": {
    "ExecuteTime": {
     "end_time": "2023-03-26T19:30:00.682608Z",
     "start_time": "2023-03-26T19:30:00.659249Z"
    }
   },
   "outputs": [
    {
     "data": {
      "text/plain": [
       "id                                      0\n",
       "classificação_do_hotel                  0\n",
       "meses_da_reserva_até_o_check_in         0\n",
       "número_de_pernoites_reservadas          0\n",
       "número_de_hospedes                      3\n",
       "regime_de_alimentação                   0\n",
       "nacionalidade                           0\n",
       "forma_de_reserva                        0\n",
       "já_se_hospedou_anterioremente           0\n",
       "tipo_do_quarto_reservado                0\n",
       "reserva_feita_por_agência_de_turismo    0\n",
       "reserva_feita_por_empresa               0\n",
       "reserva_com_estacionamento              0\n",
       "reserva_com_observações                 0\n",
       "reserva_cancelada                       0\n",
       "dtype: int64"
      ]
     },
     "execution_count": 48,
     "metadata": {},
     "output_type": "execute_result"
    }
   ],
   "source": [
    "df5.isna().sum()"
   ]
  },
  {
   "cell_type": "code",
   "execution_count": 49,
   "id": "597731a7",
   "metadata": {
    "ExecuteTime": {
     "end_time": "2023-03-26T19:30:00.729022Z",
     "start_time": "2023-03-26T19:30:00.686720Z"
    }
   },
   "outputs": [
    {
     "data": {
      "text/html": [
       "<div>\n",
       "<style scoped>\n",
       "    .dataframe tbody tr th:only-of-type {\n",
       "        vertical-align: middle;\n",
       "    }\n",
       "\n",
       "    .dataframe tbody tr th {\n",
       "        vertical-align: top;\n",
       "    }\n",
       "\n",
       "    .dataframe thead th {\n",
       "        text-align: right;\n",
       "    }\n",
       "</style>\n",
       "<table border=\"1\" class=\"dataframe\">\n",
       "  <thead>\n",
       "    <tr style=\"text-align: right;\">\n",
       "      <th></th>\n",
       "      <th>8358</th>\n",
       "      <th>36627</th>\n",
       "      <th>64865</th>\n",
       "    </tr>\n",
       "  </thead>\n",
       "  <tbody>\n",
       "    <tr>\n",
       "      <th>id</th>\n",
       "      <td>0.339969</td>\n",
       "      <td>0.340069</td>\n",
       "      <td>0.344334</td>\n",
       "    </tr>\n",
       "    <tr>\n",
       "      <th>classificação_do_hotel</th>\n",
       "      <td>0.000000</td>\n",
       "      <td>0.000000</td>\n",
       "      <td>0.000000</td>\n",
       "    </tr>\n",
       "    <tr>\n",
       "      <th>meses_da_reserva_até_o_check_in</th>\n",
       "      <td>0.000000</td>\n",
       "      <td>0.000000</td>\n",
       "      <td>0.000000</td>\n",
       "    </tr>\n",
       "    <tr>\n",
       "      <th>número_de_pernoites_reservadas</th>\n",
       "      <td>0.001706</td>\n",
       "      <td>0.001706</td>\n",
       "      <td>0.005973</td>\n",
       "    </tr>\n",
       "    <tr>\n",
       "      <th>número_de_hospedes</th>\n",
       "      <td>NaN</td>\n",
       "      <td>NaN</td>\n",
       "      <td>NaN</td>\n",
       "    </tr>\n",
       "    <tr>\n",
       "      <th>regime_de_alimentação</th>\n",
       "      <td>1.000000</td>\n",
       "      <td>1.000000</td>\n",
       "      <td>1.000000</td>\n",
       "    </tr>\n",
       "    <tr>\n",
       "      <th>nacionalidade</th>\n",
       "      <td>34212.000000</td>\n",
       "      <td>34212.000000</td>\n",
       "      <td>34212.000000</td>\n",
       "    </tr>\n",
       "    <tr>\n",
       "      <th>forma_de_reserva</th>\n",
       "      <td>1.000000</td>\n",
       "      <td>1.000000</td>\n",
       "      <td>1.000000</td>\n",
       "    </tr>\n",
       "    <tr>\n",
       "      <th>já_se_hospedou_anterioremente</th>\n",
       "      <td>0.000000</td>\n",
       "      <td>0.000000</td>\n",
       "      <td>0.000000</td>\n",
       "    </tr>\n",
       "    <tr>\n",
       "      <th>tipo_do_quarto_reservado</th>\n",
       "      <td>2.000000</td>\n",
       "      <td>2.000000</td>\n",
       "      <td>2.000000</td>\n",
       "    </tr>\n",
       "    <tr>\n",
       "      <th>reserva_feita_por_agência_de_turismo</th>\n",
       "      <td>1.000000</td>\n",
       "      <td>0.000000</td>\n",
       "      <td>1.000000</td>\n",
       "    </tr>\n",
       "    <tr>\n",
       "      <th>reserva_feita_por_empresa</th>\n",
       "      <td>0.000000</td>\n",
       "      <td>0.000000</td>\n",
       "      <td>0.000000</td>\n",
       "    </tr>\n",
       "    <tr>\n",
       "      <th>reserva_com_estacionamento</th>\n",
       "      <td>0.000000</td>\n",
       "      <td>0.000000</td>\n",
       "      <td>0.000000</td>\n",
       "    </tr>\n",
       "    <tr>\n",
       "      <th>reserva_com_observações</th>\n",
       "      <td>1.000000</td>\n",
       "      <td>1.000000</td>\n",
       "      <td>1.000000</td>\n",
       "    </tr>\n",
       "    <tr>\n",
       "      <th>reserva_cancelada</th>\n",
       "      <td>1.000000</td>\n",
       "      <td>1.000000</td>\n",
       "      <td>1.000000</td>\n",
       "    </tr>\n",
       "  </tbody>\n",
       "</table>\n",
       "</div>"
      ],
      "text/plain": [
       "                                             8358          36627         64865\n",
       "id                                        0.339969      0.340069      0.344334\n",
       "classificação_do_hotel                    0.000000      0.000000      0.000000\n",
       "meses_da_reserva_até_o_check_in           0.000000      0.000000      0.000000\n",
       "número_de_pernoites_reservadas            0.001706      0.001706      0.005973\n",
       "número_de_hospedes                             NaN           NaN           NaN\n",
       "regime_de_alimentação                     1.000000      1.000000      1.000000\n",
       "nacionalidade                         34212.000000  34212.000000  34212.000000\n",
       "forma_de_reserva                          1.000000      1.000000      1.000000\n",
       "já_se_hospedou_anterioremente             0.000000      0.000000      0.000000\n",
       "tipo_do_quarto_reservado                  2.000000      2.000000      2.000000\n",
       "reserva_feita_por_agência_de_turismo      1.000000      0.000000      1.000000\n",
       "reserva_feita_por_empresa                 0.000000      0.000000      0.000000\n",
       "reserva_com_estacionamento                0.000000      0.000000      0.000000\n",
       "reserva_com_observações                   1.000000      1.000000      1.000000\n",
       "reserva_cancelada                         1.000000      1.000000      1.000000"
      ]
     },
     "execution_count": 49,
     "metadata": {},
     "output_type": "execute_result"
    }
   ],
   "source": [
    "df5[df5['número_de_hospedes'].isna()].T"
   ]
  },
  {
   "cell_type": "code",
   "execution_count": 50,
   "id": "08dddee5",
   "metadata": {
    "ExecuteTime": {
     "end_time": "2023-03-26T19:30:00.760595Z",
     "start_time": "2023-03-26T19:30:00.733688Z"
    }
   },
   "outputs": [],
   "source": [
    "df5 = df5.fillna(0)"
   ]
  },
  {
   "cell_type": "code",
   "execution_count": 51,
   "id": "6ac1487d",
   "metadata": {
    "ExecuteTime": {
     "end_time": "2023-03-26T19:30:00.792739Z",
     "start_time": "2023-03-26T19:30:00.765548Z"
    }
   },
   "outputs": [],
   "source": [
    "# Aletração da variável para inteiro \n",
    "df5['reserva_cancelada'] = df5['reserva_cancelada'].astype(int)\n",
    "df5['número_de_hospedes'] = df5['número_de_hospedes'].astype(int)"
   ]
  },
  {
   "cell_type": "code",
   "execution_count": 52,
   "id": "843ec40a",
   "metadata": {
    "ExecuteTime": {
     "end_time": "2023-03-26T19:30:00.824404Z",
     "start_time": "2023-03-26T19:30:00.798692Z"
    }
   },
   "outputs": [
    {
     "data": {
      "text/plain": [
       "id                                      float64\n",
       "classificação_do_hotel                    int32\n",
       "meses_da_reserva_até_o_check_in         float64\n",
       "número_de_pernoites_reservadas          float64\n",
       "número_de_hospedes                        int32\n",
       "regime_de_alimentação                     int64\n",
       "nacionalidade                             int64\n",
       "forma_de_reserva                          int32\n",
       "já_se_hospedou_anterioremente             int32\n",
       "tipo_do_quarto_reservado                  int64\n",
       "reserva_feita_por_agência_de_turismo      int32\n",
       "reserva_feita_por_empresa                 int32\n",
       "reserva_com_estacionamento                int32\n",
       "reserva_com_observações                   int64\n",
       "reserva_cancelada                         int32\n",
       "dtype: object"
      ]
     },
     "execution_count": 52,
     "metadata": {},
     "output_type": "execute_result"
    }
   ],
   "source": [
    "df5.dtypes"
   ]
  },
  {
   "cell_type": "markdown",
   "id": "dd7477fc",
   "metadata": {},
   "source": [
    "### 5.3.2 Response Variable Transformation"
   ]
  },
  {
   "cell_type": "code",
   "execution_count": null,
   "id": "d53b08b1",
   "metadata": {},
   "outputs": [],
   "source": []
  },
  {
   "cell_type": "markdown",
   "id": "1f02db97",
   "metadata": {},
   "source": [
    "### 5.3.3 Nature Transformation"
   ]
  },
  {
   "cell_type": "code",
   "execution_count": null,
   "id": "1ae7bc4a",
   "metadata": {},
   "outputs": [],
   "source": []
  },
  {
   "cell_type": "markdown",
   "id": "6df72047",
   "metadata": {},
   "source": [
    "## 5.4 Validation Preparation"
   ]
  },
  {
   "cell_type": "code",
   "execution_count": null,
   "id": "d2ed6159",
   "metadata": {},
   "outputs": [],
   "source": []
  },
  {
   "cell_type": "markdown",
   "id": "984bbe44",
   "metadata": {},
   "source": [
    "# 6.0 Feature Selection"
   ]
  },
  {
   "cell_type": "code",
   "execution_count": 53,
   "id": "7cf70d0b",
   "metadata": {
    "ExecuteTime": {
     "end_time": "2023-03-26T19:30:00.855246Z",
     "start_time": "2023-03-26T19:30:00.829915Z"
    }
   },
   "outputs": [],
   "source": [
    "# Backup do Dataframe\n",
    "\n",
    "df6 = df5.copy()"
   ]
  },
  {
   "cell_type": "code",
   "execution_count": 54,
   "id": "0c6339b4",
   "metadata": {
    "ExecuteTime": {
     "end_time": "2023-03-26T19:30:00.871039Z",
     "start_time": "2023-03-26T19:30:00.861313Z"
    }
   },
   "outputs": [],
   "source": [
    "## Drop das features que não serão utilizadas\n",
    "\n",
    "# X_train = df6.drop(['col_index','var_resposta'],axis=1)\n",
    "# X_validation = X_validation.drop('var_resposta',axis=1)"
   ]
  },
  {
   "cell_type": "markdown",
   "id": "49c8f5dd",
   "metadata": {},
   "source": [
    "## 6.1 Feature Selector (boruta)"
   ]
  },
  {
   "cell_type": "code",
   "execution_count": 55,
   "id": "ec97976b",
   "metadata": {
    "ExecuteTime": {
     "end_time": "2023-03-26T19:30:00.886626Z",
     "start_time": "2023-03-26T19:30:00.875285Z"
    }
   },
   "outputs": [],
   "source": [
    "#X_train_n = df6.drop('reserva_cancelada', axis=1).values\n",
    "#y_train_n = df6['reserva_cancelada'].values.ravel() \n",
    "\n",
    "## Define RandomForest\n",
    "\n",
    "#rf = RandomForestClassifier(n_jobs=-1, n_estimators=500)\n",
    "#boruta = BorutaPy(rf, n_estimators='auto', random_state=42).fit(X_train_n, y_train_n)\n",
    "#cols_selected = boruta.support_.tolist()\n",
    "\n",
    "\n",
    "#X_train_fs = df6\n",
    "#cols_selected_boruta = X_train_fs.iloc[:, cols_selected].columns.to_list()\n",
    "\n",
    "#cols_not_selected_boruta = list(np.setdiff1d(X_train_fs.columns, cols_selected_boruta) )\n",
    "#cols_selected_boruta"
   ]
  },
  {
   "cell_type": "markdown",
   "id": "0bc8aa41",
   "metadata": {},
   "source": [
    "## 6.2 Feature Importance (RandomForest)"
   ]
  },
  {
   "cell_type": "code",
   "execution_count": 56,
   "id": "8d42b6f4",
   "metadata": {
    "ExecuteTime": {
     "end_time": "2023-03-26T19:30:00.901982Z",
     "start_time": "2023-03-26T19:30:00.891586Z"
    }
   },
   "outputs": [],
   "source": [
    "## Lista de features ordenadas por importância\n",
    "\n",
    "# Define\n",
    "# rf = RandomForestClassifier(random_state=42, n_jobs=-1, n_estimators=500).fit(X_train, y_train)\n",
    "# feature_importance_sorted = rf.feature_importances_.argsort()\n",
    "\n",
    "## Exibição\n",
    "# sns.barplot(y=rf.feature_names_in_[feature_importance_sorted], x=rf.feature_importances_[feature_importance_sorted] );\n",
    "# df_feature_importance_rf = pd.DataFrame( {'feature'    :rf.feature_names_in_[feature_importance_sorted],\n",
    "#                                           'importance' :rf.feature_importances_[feature_importance_sorted] } )\n",
    "# df_feature_importance_rf.sort_values(by='importance', ascending=False)"
   ]
  },
  {
   "cell_type": "markdown",
   "id": "edfa5edf",
   "metadata": {},
   "source": [
    "## 6.3 Feature Importance (XGBoost)"
   ]
  },
  {
   "cell_type": "code",
   "execution_count": 57,
   "id": "742882b8",
   "metadata": {
    "ExecuteTime": {
     "end_time": "2023-03-26T19:30:00.917882Z",
     "start_time": "2023-03-26T19:30:00.906002Z"
    }
   },
   "outputs": [],
   "source": [
    "## Lista de features ordenadas por importância\n",
    "\n",
    "#xgbc = XGBClassifier(random_state=42, n_jobs=-1, n_estimators=500).fit(X_train, y_train)\n",
    "#feature_importance_sorted = xgbc.feature_importances_.argsort()\n",
    "\n",
    "## Exibição\n",
    "#sns.barplot(y=xgbc.feature_names_in_[feature_importance_sorted], x=xgbc.feature_importances_[feature_importance_sorted] );\n",
    "#df_feature_importance_xgbc = pd.DataFrame( {'feature':xgbc.feature_names_in_[feature_importance_sorted],\n",
    "#                                            'importance': xgbc.feature_importances_[feature_importance_sorted] } )\n",
    "#df_feature_importance_xgbc.sort_values(by='importance', ascending=False)"
   ]
  },
  {
   "cell_type": "markdown",
   "id": "e1a73781",
   "metadata": {},
   "source": [
    "# 7.0 Machine Learning Models"
   ]
  },
  {
   "cell_type": "code",
   "execution_count": 58,
   "id": "6a92a6df",
   "metadata": {
    "ExecuteTime": {
     "end_time": "2023-03-26T19:30:00.996771Z",
     "start_time": "2023-03-26T19:30:00.921509Z"
    }
   },
   "outputs": [],
   "source": [
    "#cols_importants = ['reserva_com_estacionamento', 'id', 'nacionalidade',\n",
    "#                   'meses_da_reserva_até_o_check_in', 'reserva_cancelada']\n",
    "#train = df6[cols_importants]\n",
    "#X_train = train.drop(columns='reserva_cancelada')\n",
    "#y_train = train['reserva_cancelada']\n",
    "\n",
    "train = df6.copy()\n",
    "X_train = train.drop(columns='reserva_cancelada')\n",
    "y_train = train['reserva_cancelada']\n",
    "\n",
    "\n",
    "X_train, X_val, y_train, y_val = ms.train_test_split(X_train, y_train, test_size=0.1, random_state=42)"
   ]
  },
  {
   "cell_type": "code",
   "execution_count": 59,
   "id": "143fda36",
   "metadata": {
    "ExecuteTime": {
     "end_time": "2023-03-26T19:30:01.012458Z",
     "start_time": "2023-03-26T19:30:01.001846Z"
    }
   },
   "outputs": [],
   "source": [
    "# Dados de Treino + Validação\n",
    "\n",
    "#values = [i for i in range(1, 60)]\n",
    "#test_score = list()\n",
    "\n",
    "#for i in values:\n",
    "\n",
    "    ## Define\n",
    "#    dt_model = tree.DecisionTreeClassifier(max_depth=i)\n",
    "\n",
    "    ## Training\n",
    "#    dt_model.fit(X_train, y_train)\n",
    "\n",
    "    ## Classificação\n",
    "#    yhat_val = dt_model.predict(X_val)\n",
    "\n",
    "    ## Métrica sobre os dados de validação\n",
    "#    f1score_val = mt.f1_score(y_val, yhat_val)\n",
    "    #print('F1-Score over Validation: {}'.format(f1score_val))\n",
    "#    test_score.append(f1score_val)\n"
   ]
  },
  {
   "cell_type": "code",
   "execution_count": 60,
   "id": "c7707ecd",
   "metadata": {
    "ExecuteTime": {
     "end_time": "2023-03-26T19:30:01.028092Z",
     "start_time": "2023-03-26T19:30:01.016466Z"
    },
    "scrolled": false
   },
   "outputs": [],
   "source": [
    "#plt.plot(values, test_score, '-o', label='Test');"
   ]
  },
  {
   "cell_type": "code",
   "execution_count": 61,
   "id": "e1d0b6e4",
   "metadata": {
    "ExecuteTime": {
     "end_time": "2023-03-26T19:30:01.042736Z",
     "start_time": "2023-03-26T19:30:01.033174Z"
    }
   },
   "outputs": [],
   "source": [
    "## Define\n",
    "#dt_model = tree.DecisionTreeClassifier(max_depth=14)\n",
    "\n",
    "## Training\n",
    "#dt_model.fit(X_train, y_train)\n",
    "\n",
    "## Classificação\n",
    "#yhat_val = dt_model.predict(X_val)\n",
    "\n",
    "## Métrica sobre os dados de validação\n",
    "#f1score_val = mt.f1_score(y_val, yhat_val, average='macro')\n",
    "#print('F1-Score over Validation: {}'.format(f1score_val))"
   ]
  },
  {
   "cell_type": "code",
   "execution_count": 62,
   "id": "81a6b7d3",
   "metadata": {
    "ExecuteTime": {
     "end_time": "2023-03-26T19:30:01.058810Z",
     "start_time": "2023-03-26T19:30:01.047536Z"
    }
   },
   "outputs": [],
   "source": [
    "# Dados de Treino + Validação\n",
    "\n",
    "## Define\n",
    "#lr_model = LogisticRegression()\n",
    "\n",
    "## Training\n",
    "#lr_model.fit(X_train, y_train)\n",
    "\n",
    "## Classificação\n",
    "#yhat_val = lr_model.predict(X_val)\n",
    "\n",
    "## Métrica sobre os dados de validação\n",
    "# f1score_val = mt.f1_score(y_val, yhat_val, average='macro')\n",
    "#f1score_val = mt.f1_score(y_val, yhat_val)\n",
    "#print('F1-Score over Validation: {}'.format(f1score_val))\n",
    "\n"
   ]
  },
  {
   "cell_type": "code",
   "execution_count": 63,
   "id": "79442ae4",
   "metadata": {
    "ExecuteTime": {
     "end_time": "2023-03-26T19:30:01.074926Z",
     "start_time": "2023-03-26T19:30:01.062877Z"
    }
   },
   "outputs": [],
   "source": [
    "# Dados de Treino + Validação\n",
    "\n",
    "## Define\n",
    "#model_svm = svm.SVC()\n",
    "\n",
    "## Training\n",
    "#model_svm.fit(X_train, y_train)\n",
    "\n",
    "## Classificação\n",
    "#yhat_val = model_svm.predict(X_val)\n",
    "\n",
    "## Métrica sobre os dados de validação\n",
    "#f1score_val = mt.f1_score(y_val, yhat_val)\n",
    "#print('F1-Score over Validation: {}'.format(f1score_val))\n",
    "\n",
    "# Resultado sem macro\n",
    "#F1-Score over Validation: 0.8504432370603374\n"
   ]
  },
  {
   "cell_type": "code",
   "execution_count": 64,
   "id": "7eb8031c",
   "metadata": {
    "ExecuteTime": {
     "end_time": "2023-03-26T19:30:01.090475Z",
     "start_time": "2023-03-26T19:30:01.080417Z"
    }
   },
   "outputs": [],
   "source": [
    "#f1score_val = mt.f1_score(y_val, yhat_val, average='macro')\n",
    "#print('F1-Score over Validation: {}'.format(f1score_val))\n",
    "\n",
    "# Resultado com macro\n",
    "#F1-Score over Validation: 0.8825230935206438"
   ]
  },
  {
   "cell_type": "code",
   "execution_count": 65,
   "id": "736936b0",
   "metadata": {
    "ExecuteTime": {
     "end_time": "2023-03-26T19:30:01.106021Z",
     "start_time": "2023-03-26T19:30:01.096730Z"
    }
   },
   "outputs": [],
   "source": [
    "#X_train.dtypes"
   ]
  },
  {
   "cell_type": "code",
   "execution_count": 66,
   "id": "e5476b6c",
   "metadata": {
    "ExecuteTime": {
     "end_time": "2023-03-26T19:30:01.122260Z",
     "start_time": "2023-03-26T19:30:01.112764Z"
    }
   },
   "outputs": [],
   "source": [
    "#X_train['id'] = X_train['id'].astype(int)\n",
    "#X_train['classificação_do_hotel'] = X_train['classificação_do_hotel'].astype(int)\n",
    "#X_train['meses_da_reserva_até_o_check_in'] = X_train['meses_da_reserva_até_o_check_in'].astype(int)\n",
    "#X_train['número_de_pernoites_reservadas'] = X_train['número_de_pernoites_reservadas'].astype(int)"
   ]
  },
  {
   "cell_type": "code",
   "execution_count": 67,
   "id": "625e2309",
   "metadata": {
    "ExecuteTime": {
     "end_time": "2023-03-26T19:31:34.083578Z",
     "start_time": "2023-03-26T19:30:01.128871Z"
    }
   },
   "outputs": [],
   "source": [
    "# Dados de Treino + Validação\n",
    "\n",
    "## Define\n",
    "#model_xgb = XGBClassifier(random_state=42, n_jobs=-1, n_estimators=100) #0.9731097027505708 (sub: 0.94974)\n",
    "#model_xgb = XGBClassifier(random_state=42, n_jobs=-1, n_estimators=850) #0.9731097027505708 (sub: 0.94974)\n",
    "model_xgb = XGBClassifier(random_state=42, n_jobs=-1, n_estimators=600) #0.9731097027505708 (sub: 0.94974)\n",
    "\n",
    "## Training\n",
    "model_xgb.fit(X_train, y_train)\n",
    "\n",
    "## Classificação\n",
    "yhat_val = model_xgb.predict(X_val)\n"
   ]
  },
  {
   "cell_type": "code",
   "execution_count": 68,
   "id": "b52e2dbe",
   "metadata": {
    "ExecuteTime": {
     "end_time": "2023-03-26T19:31:34.114954Z",
     "start_time": "2023-03-26T19:31:34.087657Z"
    }
   },
   "outputs": [
    {
     "name": "stdout",
     "output_type": "stream",
     "text": [
      "F1-Score over validation: 0.9724995916676842\n"
     ]
    }
   ],
   "source": [
    "## Métrica sobre os dados de validação\n",
    "f1score_val = mt.f1_score(y_val, yhat_val, average='macro')\n",
    "print('F1-Score over validation: {}'.format(f1score_val))\n"
   ]
  },
  {
   "cell_type": "code",
   "execution_count": 69,
   "id": "c2f1aaa3",
   "metadata": {
    "ExecuteTime": {
     "end_time": "2023-03-26T19:31:34.160559Z",
     "start_time": "2023-03-26T19:31:34.119880Z"
    }
   },
   "outputs": [],
   "source": [
    "#values = [i for i in range(100, 1000, 50)]\n",
    "#test_score = list()\n",
    "\n",
    "#for i in values:\n",
    "\n",
    "    ## Define\n",
    "#    model_xgb = XGBClassifier(n_estimators=i)\n",
    "\n",
    "    ## Training\n",
    "#    model_xgb.fit(X_train, y_train)\n",
    "\n",
    "    ## Classificação\n",
    "#    yhat_val = model_xgb.predict(X_val)\n",
    "\n",
    "    ## Métrica sobre os dados de validação\n",
    "#    f1score_val = mt.f1_score(y_val, yhat_val, average='macro')\n",
    "    #print('F1-Score over Validation: {}'.format(f1score_val))\n",
    "#    test_score.append(f1score_val)"
   ]
  },
  {
   "cell_type": "code",
   "execution_count": 70,
   "id": "52f4bd10",
   "metadata": {
    "ExecuteTime": {
     "end_time": "2023-03-26T19:31:34.176440Z",
     "start_time": "2023-03-26T19:31:34.163569Z"
    }
   },
   "outputs": [],
   "source": [
    "#plt.plot(values, test_score, '-o', label='Test');"
   ]
  },
  {
   "cell_type": "markdown",
   "id": "8ec5d2d9",
   "metadata": {},
   "source": [
    "## 7.1 Models and Cross-Validation"
   ]
  },
  {
   "cell_type": "code",
   "execution_count": null,
   "id": "11923ba6",
   "metadata": {},
   "outputs": [],
   "source": []
  },
  {
   "cell_type": "markdown",
   "id": "20b912fa",
   "metadata": {},
   "source": [
    "## 7.2 Model to Submission"
   ]
  },
  {
   "cell_type": "code",
   "execution_count": 71,
   "id": "eb44502c",
   "metadata": {
    "ExecuteTime": {
     "end_time": "2023-03-26T19:31:34.539903Z",
     "start_time": "2023-03-26T19:31:34.182554Z"
    }
   },
   "outputs": [],
   "source": [
    "## Label Encoding\n",
    "\n",
    "test['já_se_hospedou_anterioremente']         = le.fit_transform(test['já_se_hospedou_anterioremente'])\n",
    "test['reserva_feita_por_agência_de_turismo']  = le.fit_transform(test['reserva_feita_por_agência_de_turismo'])\n",
    "test['reserva_feita_por_empresa']             = le.fit_transform(test['reserva_feita_por_empresa'])\n",
    "test['reserva_com_estacionamento']            = le.fit_transform(test['reserva_com_estacionamento'])\n",
    "test['forma_de_reserva']                      = le.fit_transform(test['forma_de_reserva'])\n",
    "test['classificação_do_hotel']                = le.fit_transform(test['classificação_do_hotel'])\n",
    "\n",
    "## Ordinal Encoding (dar peso)\n",
    "\n",
    "## regime_de_alimentação\n",
    "regime_alim_dict = {'Sem refeicao'                   : 3,\n",
    "                    'Café da manha'                  : 2,\n",
    "                    'Café da manha e jantar'         : 1,\n",
    "                    'Café da manha, almoco e jantar' : 0}\n",
    "test['regime_de_alimentação'] = test['regime_de_alimentação'].map(regime_alim_dict)\n",
    "\n",
    "## tipo_do_quarto_reservado\n",
    "tp_quarto_dict = {\n",
    "'Moonstone'     :1,\n",
    "'Peridot'       :2,\n",
    "'Topaz'         :3,\n",
    "'Garnet'        :4,\n",
    "'Tanzanite'     :5, \n",
    "'Amethyst'      :6,\n",
    "'Green Emerald' :7,\n",
    "'Pink Sapphire' :8,\n",
    "'Blue Sapphire' :9,   \n",
    "'Red Ruby'      :10 \n",
    "}\n",
    "test['tipo_do_quarto_reservado'] = test['tipo_do_quarto_reservado'].map(tp_quarto_dict)\n",
    "\n",
    "## reserva_com_observações\n",
    "reserv_obs_dict = {'Nenhuma':2, '1 a 3':1, 'Mais de 3':0}\n",
    "test['reserva_com_observações'] = test['reserva_com_observações'].map(reserv_obs_dict)\n",
    "\n",
    "\n",
    "## Category Encoders\n",
    "\n",
    "count = CountEncoder(cols=['nacionalidade'], return_df=True) \n",
    "test['nacionalidade'] = count.fit_transform(test['nacionalidade'])\n",
    "\n",
    "\n",
    "\n",
    "## Limpezas dos NA's\n",
    "test = test.fillna(0)\n",
    "\n",
    "\n",
    "## Alteração da variável alvo\n",
    "test['número_de_hospedes'] = test['número_de_hospedes'].astype(int)\n",
    "test['regime_de_alimentação'] = test['regime_de_alimentação'].astype(int)\n",
    "test['tipo_do_quarto_reservado'] = test['tipo_do_quarto_reservado'].astype(int)\n",
    "test['reserva_com_observações'] = test['reserva_com_observações'].astype(int)"
   ]
  },
  {
   "cell_type": "code",
   "execution_count": 72,
   "id": "559125e0",
   "metadata": {
    "ExecuteTime": {
     "end_time": "2023-03-26T19:31:34.571014Z",
     "start_time": "2023-03-26T19:31:34.544334Z"
    }
   },
   "outputs": [
    {
     "data": {
      "text/plain": [
       "id                                      int64\n",
       "classificação_do_hotel                  int32\n",
       "meses_da_reserva_até_o_check_in         int64\n",
       "número_de_pernoites_reservadas          int64\n",
       "número_de_hospedes                      int32\n",
       "regime_de_alimentação                   int32\n",
       "nacionalidade                           int64\n",
       "forma_de_reserva                        int32\n",
       "já_se_hospedou_anterioremente           int32\n",
       "tipo_do_quarto_reservado                int32\n",
       "reserva_feita_por_agência_de_turismo    int32\n",
       "reserva_feita_por_empresa               int32\n",
       "reserva_com_estacionamento              int32\n",
       "reserva_com_observações                 int32\n",
       "dtype: object"
      ]
     },
     "execution_count": 72,
     "metadata": {},
     "output_type": "execute_result"
    }
   ],
   "source": [
    "test.dtypes"
   ]
  },
  {
   "cell_type": "code",
   "execution_count": 73,
   "id": "ceebf395",
   "metadata": {
    "ExecuteTime": {
     "end_time": "2023-03-26T19:31:34.586482Z",
     "start_time": "2023-03-26T19:31:34.576565Z"
    }
   },
   "outputs": [],
   "source": [
    "#predicao_lr = model.predict(test)\n",
    "\n",
    "#df_final_lr = pd.concat([test.id, pd.Series(predicao_lr, name = 'Reserva Cancelada')], axis=1)\n",
    "\n",
    "#df_final_lr.head()\n"
   ]
  },
  {
   "cell_type": "code",
   "execution_count": 74,
   "id": "d91a244e",
   "metadata": {
    "ExecuteTime": {
     "end_time": "2023-03-26T19:31:34.602608Z",
     "start_time": "2023-03-26T19:31:34.591558Z"
    }
   },
   "outputs": [],
   "source": [
    "#predicao_svm = model_svm.predict(test)\n",
    "\n",
    "#df_final_svm = pd.concat([test.id, pd.Series(predicao_svm, name = 'Reserva Cancelada')], axis=1)\n",
    "\n",
    "#df_final_svm.head()\n"
   ]
  },
  {
   "cell_type": "code",
   "execution_count": 75,
   "id": "510db36e",
   "metadata": {
    "ExecuteTime": {
     "end_time": "2023-03-26T19:31:34.617936Z",
     "start_time": "2023-03-26T19:31:34.606754Z"
    }
   },
   "outputs": [],
   "source": [
    "#predicao_dt = dt_model.predict(test)\n",
    "\n",
    "#df_final_dt = pd.concat([test.id, pd.Series(predicao_dt, name = 'Reserva Cancelada')], axis=1)\n",
    "\n",
    "#df_final_dt.head()\n"
   ]
  },
  {
   "cell_type": "code",
   "execution_count": 76,
   "id": "9331535c",
   "metadata": {
    "ExecuteTime": {
     "end_time": "2023-03-26T19:31:34.927813Z",
     "start_time": "2023-03-26T19:31:34.623583Z"
    }
   },
   "outputs": [
    {
     "data": {
      "text/html": [
       "<div>\n",
       "<style scoped>\n",
       "    .dataframe tbody tr th:only-of-type {\n",
       "        vertical-align: middle;\n",
       "    }\n",
       "\n",
       "    .dataframe tbody tr th {\n",
       "        vertical-align: top;\n",
       "    }\n",
       "\n",
       "    .dataframe thead th {\n",
       "        text-align: right;\n",
       "    }\n",
       "</style>\n",
       "<table border=\"1\" class=\"dataframe\">\n",
       "  <thead>\n",
       "    <tr style=\"text-align: right;\">\n",
       "      <th></th>\n",
       "      <th>id</th>\n",
       "      <th>Reserva Cancelada</th>\n",
       "    </tr>\n",
       "  </thead>\n",
       "  <tbody>\n",
       "    <tr>\n",
       "      <th>0</th>\n",
       "      <td>118345</td>\n",
       "      <td>0</td>\n",
       "    </tr>\n",
       "    <tr>\n",
       "      <th>1</th>\n",
       "      <td>9500</td>\n",
       "      <td>0</td>\n",
       "    </tr>\n",
       "    <tr>\n",
       "      <th>2</th>\n",
       "      <td>34558</td>\n",
       "      <td>0</td>\n",
       "    </tr>\n",
       "    <tr>\n",
       "      <th>3</th>\n",
       "      <td>70816</td>\n",
       "      <td>0</td>\n",
       "    </tr>\n",
       "    <tr>\n",
       "      <th>4</th>\n",
       "      <td>105321</td>\n",
       "      <td>0</td>\n",
       "    </tr>\n",
       "  </tbody>\n",
       "</table>\n",
       "</div>"
      ],
      "text/plain": [
       "       id  Reserva Cancelada\n",
       "0  118345                  0\n",
       "1    9500                  0\n",
       "2   34558                  0\n",
       "3   70816                  0\n",
       "4  105321                  0"
      ]
     },
     "execution_count": 76,
     "metadata": {},
     "output_type": "execute_result"
    }
   ],
   "source": [
    "predicao_xgb = model_xgb.predict(test)\n",
    "\n",
    "df_final_xgb = pd.concat([test.id, pd.Series(predicao_xgb, name = 'Reserva Cancelada')], axis=1)\n",
    "\n",
    "df_final_xgb.head()\n"
   ]
  },
  {
   "cell_type": "code",
   "execution_count": 77,
   "id": "66117cdf",
   "metadata": {
    "ExecuteTime": {
     "end_time": "2023-03-26T19:31:35.097823Z",
     "start_time": "2023-03-26T19:31:34.932876Z"
    }
   },
   "outputs": [],
   "source": [
    "df_final_xgb.to_csv('../data/result/submission.csv', index=False) #Arquivo de submissão pronto para ser enviado."
   ]
  },
  {
   "cell_type": "markdown",
   "id": "2f63e502",
   "metadata": {},
   "source": [
    "# 8.0 Hyperparameter Fine Tunning"
   ]
  },
  {
   "cell_type": "markdown",
   "id": "ed5b6f39",
   "metadata": {},
   "source": [
    "## 8.1 Model 1 (RandomForest)"
   ]
  },
  {
   "cell_type": "code",
   "execution_count": 78,
   "id": "3097205e",
   "metadata": {
    "ExecuteTime": {
     "end_time": "2023-03-26T19:31:35.113583Z",
     "start_time": "2023-03-26T19:31:35.102901Z"
    }
   },
   "outputs": [],
   "source": [
    "## Definição dos parâmetros utilizados pelo algoritmo\n",
    "\n",
    "# parameters = {\n",
    "#     'n_estimators': [800,1200,2000],\n",
    "#     'max_depth': [5,20,40,80,None],\n",
    "#     'min_samples_split': [2,10,20,40],\n",
    "#     'min_impurity_decrease': [0,.05,0.1]\n",
    "# }\n",
    "\n",
    "\n",
    "## Definição do método\n",
    "\n",
    "# skf = StratifiedKFold(n_splits = 10)\n",
    "# rf_search =  BayesSearchCV(estimator = RandomForestClassifier(max_features = 'sqrt'),\n",
    "#                            search_spaces = parameters,\n",
    "#                            n_jobs = -1,\n",
    "#                            cv = skf,\n",
    "#                            scoring = 'f1_weighted',\n",
    "#                            random_state = 42)\n",
    "\n",
    "# rf_search_result = rf_search.fit(x_train, y_train)"
   ]
  },
  {
   "cell_type": "markdown",
   "id": "be0e44e2",
   "metadata": {},
   "source": [
    "## 8.1 Model 2 (XGBoost)"
   ]
  },
  {
   "cell_type": "code",
   "execution_count": 79,
   "id": "ba046dac",
   "metadata": {
    "ExecuteTime": {
     "end_time": "2023-03-26T19:31:35.129164Z",
     "start_time": "2023-03-26T19:31:35.119095Z"
    }
   },
   "outputs": [],
   "source": [
    "## Definição dos parâmetros utilizados pelo algoritmo\n",
    "\n",
    "#parameters = {\n",
    "#     'n_estimators': [500,800,1200,1600,2200,3000],\n",
    "#     'learning_rate': [0.05,0.1,0.15],\n",
    "#     'max_depth': [10,20,40,80,None],\n",
    "#     'min_samples_split': [2,10,20,40,100],\n",
    "#     'min_impurity_decrease': [0,.05,.1],\n",
    "#     'colsample_bytree': [0.3,0.5,0.8],\n",
    "#     'subsample': [0.1,0.4,0.7]\n",
    "#}\n",
    "\n",
    "\n",
    "#skf = StratifiedKFold(n_splits=10)\n",
    "#xgb_search =  BayesSearchCV(estimator = XGBClassifier(),\n",
    "#                            search_spaces = parameters,\n",
    "#                            n_jobs = -1,\n",
    "#                            cv = skf,\n",
    "#                            scoring = 'f1_weighted',\n",
    "#                            random_state = 42)\n",
    "\n",
    "#xgb_search_result = xgb_search.fit(X_train, y_train)"
   ]
  },
  {
   "cell_type": "code",
   "execution_count": 80,
   "id": "a40b684c",
   "metadata": {
    "ExecuteTime": {
     "end_time": "2023-03-26T19:31:35.175063Z",
     "start_time": "2023-03-26T19:31:35.162893Z"
    }
   },
   "outputs": [],
   "source": [
    "#model = XGBClassifier()\n",
    "#n_estimators = range(50, 400, 50)\n",
    "#param_grid = dict(n_estimators=n_estimators)\n",
    "#kfold = StratifiedKFold(n_splits=10, shuffle=True, random_state=7)\n",
    "#grid_search = GridSearchCV(model, param_grid, scoring=\"neg_log_loss\", n_jobs=-1, cv=kfold)\n",
    "#grid_result = grid_search.fit(X_train, y_train)"
   ]
  },
  {
   "cell_type": "code",
   "execution_count": 81,
   "id": "ab574e95",
   "metadata": {
    "ExecuteTime": {
     "end_time": "2023-03-26T19:31:35.190777Z",
     "start_time": "2023-03-26T19:31:35.180659Z"
    }
   },
   "outputs": [],
   "source": [
    "#grid_result.best_params_"
   ]
  }
 ],
 "metadata": {
  "kernelspec": {
   "display_name": "Python 3 (ipykernel)",
   "language": "python",
   "name": "python3"
  },
  "language_info": {
   "codemirror_mode": {
    "name": "ipython",
    "version": 3
   },
   "file_extension": ".py",
   "mimetype": "text/x-python",
   "name": "python",
   "nbconvert_exporter": "python",
   "pygments_lexer": "ipython3",
   "version": "3.9.13"
  },
  "toc": {
   "base_numbering": 1,
   "nav_menu": {},
   "number_sections": false,
   "sideBar": true,
   "skip_h1_title": false,
   "title_cell": "Table of Contents",
   "title_sidebar": "Contents",
   "toc_cell": false,
   "toc_position": {
    "height": "calc(100% - 180px)",
    "left": "10px",
    "top": "150px",
    "width": "306px"
   },
   "toc_section_display": true,
   "toc_window_display": false
  },
  "vscode": {
   "interpreter": {
    "hash": "7ea365085f3807110e1cdcb04122fb278047fe100a09bc2730588139759355b3"
   }
  }
 },
 "nbformat": 4,
 "nbformat_minor": 5
}
