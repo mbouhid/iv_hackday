{
 "cells": [
  {
   "cell_type": "markdown",
   "id": "a2129a5f",
   "metadata": {},
   "source": [
    "# IMPORTS"
   ]
  },
  {
   "cell_type": "markdown",
   "id": "707de33d",
   "metadata": {},
   "source": [
    "## Libs"
   ]
  },
  {
   "cell_type": "code",
   "execution_count": 1,
   "id": "0bc7d472",
   "metadata": {
    "ExecuteTime": {
     "end_time": "2023-03-26T17:07:59.951462Z",
     "start_time": "2023-03-26T17:07:57.780689Z"
    },
    "execution": {
     "iopub.execute_input": "2023-03-18T19:43:05.310733Z",
     "iopub.status.busy": "2023-03-18T19:43:05.310363Z",
     "iopub.status.idle": "2023-03-18T19:43:06.967983Z",
     "shell.execute_reply": "2023-03-18T19:43:06.966204Z"
    },
    "papermill": {
     "duration": 1.668791,
     "end_time": "2023-03-18T19:43:06.970780",
     "exception": false,
     "start_time": "2023-03-18T19:43:05.301989",
     "status": "completed"
    },
    "tags": []
   },
   "outputs": [],
   "source": [
    "import numpy as np\n",
    "import pandas as pd\n",
    "from sklearn.linear_model import LogisticRegression\n",
    "from category_encoders.count import CountEncoder\n",
    "from sklearn.ensemble        import ExtraTreesClassifier, RandomForestClassifier\n",
    "from sklearn.preprocessing   import MinMaxScaler, StandardScaler\n",
    "import xgboost as xgb\n",
    "import unicodedata\n",
    "import inflection\n",
    "\n",
    "import json\n",
    "import pickle\n",
    "import requests\n",
    "import numpy as np\n",
    "import pandas as pd\n",
    "# import xgboost as xgb\n",
    "import seaborn as sns\n",
    "# import psycopg2 as pg\n",
    "# import scikitplot as skplt\n",
    "import pandas.io.sql as psql\n",
    "import matplotlib.pyplot as plt\n",
    "\n",
    "from IPython.display      import Image\n",
    "from IPython.core.display import HTML\n",
    "\n",
    "from sklearn.model_selection import train_test_split\n",
    "from sklearn.preprocessing   import MinMaxScaler, StandardScaler\n",
    "from sklearn.neighbors       import KNeighborsClassifier\n",
    "from sklearn.linear_model    import LogisticRegression\n",
    "from sklearn.ensemble        import ExtraTreesClassifier, RandomForestClassifier\n",
    "from sklearn.preprocessing import PowerTransformer\n",
    "\n",
    "from sklearn.model_selection import cross_val_score\n",
    "from sklearn.naive_bayes import GaussianNB\n",
    "from sklearn.linear_model import LogisticRegression\n",
    "from sklearn import tree\n",
    "from sklearn.neighbors import KNeighborsClassifier\n",
    "from sklearn.ensemble import RandomForestClassifier\n",
    "from sklearn.svm import SVC\n",
    "\n",
    "import warnings\n",
    "\n",
    "warnings.filterwarnings( 'ignore' )"
   ]
  },
  {
   "cell_type": "markdown",
   "id": "17a3574e",
   "metadata": {},
   "source": [
    "## Helper Function"
   ]
  },
  {
   "cell_type": "code",
   "execution_count": 2,
   "id": "117c8437",
   "metadata": {
    "ExecuteTime": {
     "end_time": "2023-03-26T17:07:59.966935Z",
     "start_time": "2023-03-26T17:07:59.953472Z"
    }
   },
   "outputs": [],
   "source": [
    "def jupyter_settings():\n",
    "    %matplotlib inline\n",
    "    \n",
    "    plt.style.use( 'bmh' )\n",
    "    plt.rcParams['figure.figsize'] = [12, 8]\n",
    "    plt.rcParams['font.size'] = 24\n",
    "    sns.set_palette(\"Reds\") \n",
    "    \n",
    "    display(HTML( '<style>.container { width:100% !important; }</style>'))\n",
    "    pd.options.display.max_columns = None\n",
    "    pd.options.display.max_rows = None\n",
    "    pd.set_option( 'display.expand_frame_repr', False )\n",
    "    \n",
    "    sns.set()"
   ]
  },
  {
   "cell_type": "code",
   "execution_count": 3,
   "id": "0b4d82e5",
   "metadata": {
    "ExecuteTime": {
     "end_time": "2023-03-26T17:07:59.998702Z",
     "start_time": "2023-03-26T17:07:59.970803Z"
    }
   },
   "outputs": [
    {
     "data": {
      "text/html": [
       "<style>.container { width:100% !important; }</style>"
      ],
      "text/plain": [
       "<IPython.core.display.HTML object>"
      ]
     },
     "metadata": {},
     "output_type": "display_data"
    }
   ],
   "source": [
    "jupyter_settings()"
   ]
  },
  {
   "cell_type": "markdown",
   "id": "ce7aa9ce",
   "metadata": {
    "papermill": {
     "duration": 0.004365,
     "end_time": "2023-03-18T19:43:06.980166",
     "exception": false,
     "start_time": "2023-03-18T19:43:06.975801",
     "status": "completed"
    },
    "tags": []
   },
   "source": [
    "## Carregamento dos Dados"
   ]
  },
  {
   "cell_type": "code",
   "execution_count": 4,
   "id": "61420820",
   "metadata": {
    "ExecuteTime": {
     "end_time": "2023-03-26T17:08:00.280763Z",
     "start_time": "2023-03-26T17:08:00.000676Z"
    },
    "execution": {
     "iopub.execute_input": "2023-03-18T19:43:06.991818Z",
     "iopub.status.busy": "2023-03-18T19:43:06.990824Z",
     "iopub.status.idle": "2023-03-18T19:43:07.332645Z",
     "shell.execute_reply": "2023-03-18T19:43:07.330874Z"
    },
    "papermill": {
     "duration": 0.350457,
     "end_time": "2023-03-18T19:43:07.335396",
     "exception": false,
     "start_time": "2023-03-18T19:43:06.984939",
     "status": "completed"
    },
    "tags": []
   },
   "outputs": [],
   "source": [
    "train = pd.read_csv('../data/train.csv', encoding='utf-8')\n",
    "test = pd.read_csv('../data/test.csv',  encoding='utf-8')"
   ]
  },
  {
   "cell_type": "code",
   "execution_count": 5,
   "id": "00f3b556",
   "metadata": {
    "ExecuteTime": {
     "end_time": "2023-03-26T17:08:00.311707Z",
     "start_time": "2023-03-26T17:08:00.284773Z"
    }
   },
   "outputs": [
    {
     "data": {
      "text/html": [
       "<div>\n",
       "<style scoped>\n",
       "    .dataframe tbody tr th:only-of-type {\n",
       "        vertical-align: middle;\n",
       "    }\n",
       "\n",
       "    .dataframe tbody tr th {\n",
       "        vertical-align: top;\n",
       "    }\n",
       "\n",
       "    .dataframe thead th {\n",
       "        text-align: right;\n",
       "    }\n",
       "</style>\n",
       "<table border=\"1\" class=\"dataframe\">\n",
       "  <thead>\n",
       "    <tr style=\"text-align: right;\">\n",
       "      <th></th>\n",
       "      <th>id</th>\n",
       "      <th>Classificação do hotel</th>\n",
       "      <th>Meses da reserva até o check-in</th>\n",
       "      <th>Número de pernoites reservadas</th>\n",
       "      <th>Número de hospedes</th>\n",
       "      <th>Regime de alimentação</th>\n",
       "      <th>Nacionalidade</th>\n",
       "      <th>Forma de Reserva</th>\n",
       "      <th>Já se hospedou anterioremente</th>\n",
       "      <th>Tipo do quarto reservado</th>\n",
       "      <th>Reserva feita por agência de turismo</th>\n",
       "      <th>Reserva feita por empresa</th>\n",
       "      <th>Reserva com Estacionamento</th>\n",
       "      <th>Reserva com Observações</th>\n",
       "      <th>Reserva Cancelada</th>\n",
       "    </tr>\n",
       "  </thead>\n",
       "  <tbody>\n",
       "    <tr>\n",
       "      <th>0</th>\n",
       "      <td>33571</td>\n",
       "      <td>5 estrelas</td>\n",
       "      <td>5</td>\n",
       "      <td>5</td>\n",
       "      <td>2.0</td>\n",
       "      <td>Café da manha e jantar</td>\n",
       "      <td>France</td>\n",
       "      <td>Agência</td>\n",
       "      <td>Não</td>\n",
       "      <td>Amethyst</td>\n",
       "      <td>Sim</td>\n",
       "      <td>Não</td>\n",
       "      <td>Sim</td>\n",
       "      <td>Nenhuma</td>\n",
       "      <td>0</td>\n",
       "    </tr>\n",
       "    <tr>\n",
       "      <th>1</th>\n",
       "      <td>82458</td>\n",
       "      <td>4 estrelas</td>\n",
       "      <td>167</td>\n",
       "      <td>3</td>\n",
       "      <td>2.0</td>\n",
       "      <td>Café da manha</td>\n",
       "      <td>Spain</td>\n",
       "      <td>Agência</td>\n",
       "      <td>Não</td>\n",
       "      <td>Amethyst</td>\n",
       "      <td>Sim</td>\n",
       "      <td>Não</td>\n",
       "      <td>Não</td>\n",
       "      <td>Nenhuma</td>\n",
       "      <td>1</td>\n",
       "    </tr>\n",
       "    <tr>\n",
       "      <th>2</th>\n",
       "      <td>94061</td>\n",
       "      <td>4 estrelas</td>\n",
       "      <td>4</td>\n",
       "      <td>3</td>\n",
       "      <td>2.0</td>\n",
       "      <td>Café da manha</td>\n",
       "      <td>Belgium</td>\n",
       "      <td>Agência</td>\n",
       "      <td>Não</td>\n",
       "      <td>Amethyst</td>\n",
       "      <td>Sim</td>\n",
       "      <td>Não</td>\n",
       "      <td>Não</td>\n",
       "      <td>1 a 3</td>\n",
       "      <td>0</td>\n",
       "    </tr>\n",
       "    <tr>\n",
       "      <th>3</th>\n",
       "      <td>75196</td>\n",
       "      <td>4 estrelas</td>\n",
       "      <td>13</td>\n",
       "      <td>2</td>\n",
       "      <td>2.0</td>\n",
       "      <td>Café da manha</td>\n",
       "      <td>Spain</td>\n",
       "      <td>Agência</td>\n",
       "      <td>Não</td>\n",
       "      <td>Amethyst</td>\n",
       "      <td>Sim</td>\n",
       "      <td>Não</td>\n",
       "      <td>Não</td>\n",
       "      <td>Nenhuma</td>\n",
       "      <td>1</td>\n",
       "    </tr>\n",
       "    <tr>\n",
       "      <th>4</th>\n",
       "      <td>82940</td>\n",
       "      <td>4 estrelas</td>\n",
       "      <td>4</td>\n",
       "      <td>2</td>\n",
       "      <td>2.0</td>\n",
       "      <td>Café da manha</td>\n",
       "      <td>Spain</td>\n",
       "      <td>Agência</td>\n",
       "      <td>Não</td>\n",
       "      <td>Amethyst</td>\n",
       "      <td>Sim</td>\n",
       "      <td>Não</td>\n",
       "      <td>Não</td>\n",
       "      <td>Nenhuma</td>\n",
       "      <td>1</td>\n",
       "    </tr>\n",
       "  </tbody>\n",
       "</table>\n",
       "</div>"
      ],
      "text/plain": [
       "      id Classificação do hotel  Meses da reserva até o check-in  Número de pernoites reservadas  Número de hospedes   Regime de alimentação Nacionalidade Forma de Reserva Já se hospedou anterioremente Tipo do quarto reservado Reserva feita por agência de turismo Reserva feita por empresa Reserva com Estacionamento Reserva com Observações  Reserva Cancelada\n",
       "0  33571             5 estrelas                                5                               5                 2.0  Café da manha e jantar        France          Agência                           Não                 Amethyst                                  Sim                       Não                        Sim                 Nenhuma                  0\n",
       "1  82458             4 estrelas                              167                               3                 2.0           Café da manha         Spain          Agência                           Não                 Amethyst                                  Sim                       Não                        Não                 Nenhuma                  1\n",
       "2  94061             4 estrelas                                4                               3                 2.0           Café da manha       Belgium          Agência                           Não                 Amethyst                                  Sim                       Não                        Não                   1 a 3                  0\n",
       "3  75196             4 estrelas                               13                               2                 2.0           Café da manha         Spain          Agência                           Não                 Amethyst                                  Sim                       Não                        Não                 Nenhuma                  1\n",
       "4  82940             4 estrelas                                4                               2                 2.0           Café da manha         Spain          Agência                           Não                 Amethyst                                  Sim                       Não                        Não                 Nenhuma                  1"
      ]
     },
     "execution_count": 5,
     "metadata": {},
     "output_type": "execute_result"
    }
   ],
   "source": [
    "train.head()"
   ]
  },
  {
   "cell_type": "markdown",
   "id": "01d40dfc",
   "metadata": {},
   "source": [
    "# DESCRIÇÃO DOS DADOS"
   ]
  },
  {
   "cell_type": "code",
   "execution_count": 6,
   "id": "a7226e0b",
   "metadata": {
    "ExecuteTime": {
     "end_time": "2023-03-26T17:08:00.357818Z",
     "start_time": "2023-03-26T17:08:00.314968Z"
    }
   },
   "outputs": [],
   "source": [
    "# Concatenate train and test together\n",
    "all_data = pd.concat([train, test])"
   ]
  },
  {
   "cell_type": "markdown",
   "id": "74d7bd94",
   "metadata": {},
   "source": [
    "## Renomeando Colunas"
   ]
  },
  {
   "cell_type": "code",
   "execution_count": 7,
   "id": "e249c119",
   "metadata": {
    "ExecuteTime": {
     "end_time": "2023-03-26T17:08:00.421573Z",
     "start_time": "2023-03-26T17:08:00.359813Z"
    }
   },
   "outputs": [],
   "source": [
    "all_data.columns = [c.replace(' ', '_') for c in all_data.columns]\n",
    "\n",
    "cols_old = all_data.columns\n",
    "\n",
    "snakecase = lambda x: inflection.underscore(x)\n",
    "\n",
    "cols_new = list(map(snakecase, cols_old))\n",
    "\n",
    "#rename\n",
    "all_data.columns = cols_new\n",
    "\n",
    "# Split back into train and test\n",
    "train = all_data[all_data['id'].isin(train['id'])]\n",
    "test = all_data[all_data['id'].isin(test['id'])].drop('reserva_cancelada', axis=1)"
   ]
  },
  {
   "cell_type": "markdown",
   "id": "1786c794",
   "metadata": {},
   "source": [
    "## Dimensão dos dados"
   ]
  },
  {
   "cell_type": "code",
   "execution_count": 8,
   "id": "74a59715",
   "metadata": {
    "ExecuteTime": {
     "end_time": "2023-03-26T17:08:00.437008Z",
     "start_time": "2023-03-26T17:08:00.423683Z"
    },
    "execution": {
     "iopub.execute_input": "2023-03-18T19:43:07.346559Z",
     "iopub.status.busy": "2023-03-18T19:43:07.346160Z",
     "iopub.status.idle": "2023-03-18T19:43:07.354427Z",
     "shell.execute_reply": "2023-03-18T19:43:07.353103Z"
    },
    "papermill": {
     "duration": 0.016181,
     "end_time": "2023-03-18T19:43:07.356309",
     "exception": false,
     "start_time": "2023-03-18T19:43:07.340128",
     "status": "completed"
    },
    "tags": []
   },
   "outputs": [
    {
     "name": "stdout",
     "output_type": "stream",
     "text": [
      "Train shape: (72159, 15)\n",
      "Test shape: (48106, 14)\n"
     ]
    }
   ],
   "source": [
    "print('Train shape:', train.shape)\n",
    "print('Test shape:', test.shape)"
   ]
  },
  {
   "cell_type": "markdown",
   "id": "7cd3fec7",
   "metadata": {
    "ExecuteTime": {
     "end_time": "2023-03-25T16:23:17.004658Z",
     "start_time": "2023-03-25T16:23:16.999170Z"
    }
   },
   "source": [
    "## Tipo dos dados"
   ]
  },
  {
   "cell_type": "code",
   "execution_count": 9,
   "id": "1d22cce3",
   "metadata": {
    "ExecuteTime": {
     "end_time": "2023-03-26T17:08:00.452807Z",
     "start_time": "2023-03-26T17:08:00.441292Z"
    }
   },
   "outputs": [
    {
     "data": {
      "text/plain": [
       "id                                        int64\n",
       "classificação_do_hotel                   object\n",
       "meses_da_reserva_até_o_check_in           int64\n",
       "número_de_pernoites_reservadas            int64\n",
       "número_de_hospedes                      float64\n",
       "regime_de_alimentação                    object\n",
       "nacionalidade                            object\n",
       "forma_de_reserva                         object\n",
       "já_se_hospedou_anterioremente            object\n",
       "tipo_do_quarto_reservado                 object\n",
       "reserva_feita_por_agência_de_turismo     object\n",
       "reserva_feita_por_empresa                object\n",
       "reserva_com_estacionamento               object\n",
       "reserva_com_observações                  object\n",
       "reserva_cancelada                       float64\n",
       "dtype: object"
      ]
     },
     "execution_count": 9,
     "metadata": {},
     "output_type": "execute_result"
    }
   ],
   "source": [
    "train.dtypes"
   ]
  },
  {
   "cell_type": "markdown",
   "id": "b4396b37",
   "metadata": {},
   "source": [
    "## Checagem de valores nulos"
   ]
  },
  {
   "cell_type": "code",
   "execution_count": 10,
   "id": "3e4f39ec",
   "metadata": {
    "ExecuteTime": {
     "end_time": "2023-03-26T17:08:00.562067Z",
     "start_time": "2023-03-26T17:08:00.456872Z"
    }
   },
   "outputs": [
    {
     "data": {
      "text/plain": [
       "id                                         0\n",
       "classificação_do_hotel                     0\n",
       "meses_da_reserva_até_o_check_in            0\n",
       "número_de_pernoites_reservadas             0\n",
       "número_de_hospedes                         3\n",
       "regime_de_alimentação                      0\n",
       "nacionalidade                           1093\n",
       "forma_de_reserva                           0\n",
       "já_se_hospedou_anterioremente              0\n",
       "tipo_do_quarto_reservado                   0\n",
       "reserva_feita_por_agência_de_turismo       0\n",
       "reserva_feita_por_empresa                  0\n",
       "reserva_com_estacionamento                 0\n",
       "reserva_com_observações                    0\n",
       "reserva_cancelada                          0\n",
       "dtype: int64"
      ]
     },
     "execution_count": 10,
     "metadata": {},
     "output_type": "execute_result"
    }
   ],
   "source": [
    "train.isna().sum()"
   ]
  },
  {
   "cell_type": "code",
   "execution_count": 11,
   "id": "f80c8e13",
   "metadata": {
    "ExecuteTime": {
     "end_time": "2023-03-26T17:08:00.578069Z",
     "start_time": "2023-03-26T17:08:00.564044Z"
    }
   },
   "outputs": [],
   "source": [
    "train['número_de_hospedes'].fillna(train['número_de_hospedes'].median(), inplace=True)\n",
    "train['nacionalidade'].fillna('Outros', inplace=True)"
   ]
  },
  {
   "cell_type": "markdown",
   "id": "aa5873b0",
   "metadata": {},
   "source": [
    "## Análise descritiva"
   ]
  },
  {
   "cell_type": "code",
   "execution_count": 12,
   "id": "cffce238",
   "metadata": {
    "ExecuteTime": {
     "end_time": "2023-03-26T17:08:00.593252Z",
     "start_time": "2023-03-26T17:08:00.580035Z"
    }
   },
   "outputs": [],
   "source": [
    "num_attributes = train.select_dtypes(include=['int64', 'float64'])\n",
    "cat_attributes = train.select_dtypes(exclude=['int64', 'float64', 'datetime64[ns]'])"
   ]
  },
  {
   "cell_type": "markdown",
   "id": "a0919d8c",
   "metadata": {},
   "source": [
    "### Atributos numéricos"
   ]
  },
  {
   "cell_type": "code",
   "execution_count": 13,
   "id": "a4e689b0",
   "metadata": {
    "ExecuteTime": {
     "end_time": "2023-03-26T17:08:00.655891Z",
     "start_time": "2023-03-26T17:08:00.595258Z"
    }
   },
   "outputs": [
    {
     "data": {
      "text/html": [
       "<div>\n",
       "<style scoped>\n",
       "    .dataframe tbody tr th:only-of-type {\n",
       "        vertical-align: middle;\n",
       "    }\n",
       "\n",
       "    .dataframe tbody tr th {\n",
       "        vertical-align: top;\n",
       "    }\n",
       "\n",
       "    .dataframe thead th {\n",
       "        text-align: right;\n",
       "    }\n",
       "</style>\n",
       "<table border=\"1\" class=\"dataframe\">\n",
       "  <thead>\n",
       "    <tr style=\"text-align: right;\">\n",
       "      <th></th>\n",
       "      <th>attributes</th>\n",
       "      <th>count</th>\n",
       "      <th>mean</th>\n",
       "      <th>std</th>\n",
       "      <th>min</th>\n",
       "      <th>25%</th>\n",
       "      <th>median</th>\n",
       "      <th>75%</th>\n",
       "      <th>max</th>\n",
       "      <th>range</th>\n",
       "      <th>skew</th>\n",
       "      <th>kurtosis</th>\n",
       "    </tr>\n",
       "  </thead>\n",
       "  <tbody>\n",
       "    <tr>\n",
       "      <th>0</th>\n",
       "      <td>id</td>\n",
       "      <td>72159.0</td>\n",
       "      <td>60093.687787</td>\n",
       "      <td>34726.028006</td>\n",
       "      <td>1.0</td>\n",
       "      <td>30013.5</td>\n",
       "      <td>60080.0</td>\n",
       "      <td>90301.0</td>\n",
       "      <td>120265.0</td>\n",
       "      <td>120264.0</td>\n",
       "      <td>0.000051</td>\n",
       "      <td>-1.203219</td>\n",
       "    </tr>\n",
       "    <tr>\n",
       "      <th>1</th>\n",
       "      <td>meses_da_reserva_até_o_check_in</td>\n",
       "      <td>72159.0</td>\n",
       "      <td>7.145928</td>\n",
       "      <td>25.852330</td>\n",
       "      <td>1.0</td>\n",
       "      <td>1.0</td>\n",
       "      <td>3.0</td>\n",
       "      <td>6.0</td>\n",
       "      <td>311.0</td>\n",
       "      <td>310.0</td>\n",
       "      <td>8.667253</td>\n",
       "      <td>79.725538</td>\n",
       "    </tr>\n",
       "    <tr>\n",
       "      <th>2</th>\n",
       "      <td>número_de_pernoites_reservadas</td>\n",
       "      <td>72159.0</td>\n",
       "      <td>15.824152</td>\n",
       "      <td>98.248479</td>\n",
       "      <td>0.0</td>\n",
       "      <td>2.0</td>\n",
       "      <td>3.0</td>\n",
       "      <td>4.0</td>\n",
       "      <td>1172.0</td>\n",
       "      <td>1172.0</td>\n",
       "      <td>8.765012</td>\n",
       "      <td>80.204284</td>\n",
       "    </tr>\n",
       "    <tr>\n",
       "      <th>3</th>\n",
       "      <td>número_de_hospedes</td>\n",
       "      <td>72159.0</td>\n",
       "      <td>14.258263</td>\n",
       "      <td>96.444195</td>\n",
       "      <td>0.0</td>\n",
       "      <td>2.0</td>\n",
       "      <td>2.0</td>\n",
       "      <td>2.0</td>\n",
       "      <td>1153.0</td>\n",
       "      <td>1153.0</td>\n",
       "      <td>8.723448</td>\n",
       "      <td>79.668050</td>\n",
       "    </tr>\n",
       "    <tr>\n",
       "      <th>4</th>\n",
       "      <td>reserva_cancelada</td>\n",
       "      <td>72159.0</td>\n",
       "      <td>0.370418</td>\n",
       "      <td>0.482920</td>\n",
       "      <td>0.0</td>\n",
       "      <td>0.0</td>\n",
       "      <td>0.0</td>\n",
       "      <td>1.0</td>\n",
       "      <td>1.0</td>\n",
       "      <td>1.0</td>\n",
       "      <td>0.536675</td>\n",
       "      <td>-1.712028</td>\n",
       "    </tr>\n",
       "  </tbody>\n",
       "</table>\n",
       "</div>"
      ],
      "text/plain": [
       "                        attributes    count          mean           std  min      25%   median      75%       max     range      skew   kurtosis\n",
       "0                               id  72159.0  60093.687787  34726.028006  1.0  30013.5  60080.0  90301.0  120265.0  120264.0  0.000051  -1.203219\n",
       "1  meses_da_reserva_até_o_check_in  72159.0      7.145928     25.852330  1.0      1.0      3.0      6.0     311.0     310.0  8.667253  79.725538\n",
       "2   número_de_pernoites_reservadas  72159.0     15.824152     98.248479  0.0      2.0      3.0      4.0    1172.0    1172.0  8.765012  80.204284\n",
       "3               número_de_hospedes  72159.0     14.258263     96.444195  0.0      2.0      2.0      2.0    1153.0    1153.0  8.723448  79.668050\n",
       "4                reserva_cancelada  72159.0      0.370418      0.482920  0.0      0.0      0.0      1.0       1.0       1.0  0.536675  -1.712028"
      ]
     },
     "execution_count": 13,
     "metadata": {},
     "output_type": "execute_result"
    }
   ],
   "source": [
    "# Central Tendency - mean, mediana, 25%, 75% // dispersion - std, min, max, \n",
    "ctd1 = num_attributes.describe()\n",
    "\n",
    "#dispersion - range, skew, kurtosis\n",
    "d1 = pd.DataFrame(num_attributes.apply(lambda x: x.max() - x.min())).T\n",
    "d2 = pd.DataFrame(num_attributes.apply(lambda x: x.skew())).T\n",
    "d3 = pd.DataFrame(num_attributes.apply(lambda x: x.kurtosis())).T\n",
    "\n",
    "#join\n",
    "medidas = pd.concat([ctd1, d1, d2, d3]).T.reset_index()\n",
    "medidas.columns = ['attributes', 'count','mean', 'std', 'min', '25%', 'median', '75%', 'max', 'range', 'skew', 'kurtosis']\n",
    "\n",
    "\n",
    "medidas"
   ]
  },
  {
   "cell_type": "code",
   "execution_count": 14,
   "id": "0727aebc",
   "metadata": {
    "ExecuteTime": {
     "end_time": "2023-03-26T17:08:01.539901Z",
     "start_time": "2023-03-26T17:08:00.658424Z"
    }
   },
   "outputs": [
    {
     "data": {
      "text/plain": [
       "<Figure size 3000x6000 with 0 Axes>"
      ]
     },
     "metadata": {},
     "output_type": "display_data"
    },
    {
     "data": {
      "image/png": "[encoded data removed]",
      "text/plain": [
       "<Figure size 1200x800 with 6 Axes>"
      ]
     },
     "metadata": {},
     "output_type": "display_data"
    }
   ],
   "source": [
    "plt.figure(figsize = (30,60))\n",
    "num_attributes.hist(bins= 25, color= 'indianred');"
   ]
  },
  {
   "cell_type": "markdown",
   "id": "9e38e0d3",
   "metadata": {},
   "source": [
    "### Atributos categóricos"
   ]
  },
  {
   "cell_type": "code",
   "execution_count": 15,
   "id": "3037ef8a",
   "metadata": {
    "ExecuteTime": {
     "end_time": "2023-03-26T17:08:01.587111Z",
     "start_time": "2023-03-26T17:08:01.542830Z"
    }
   },
   "outputs": [
    {
     "data": {
      "text/plain": [
       "classificação_do_hotel                    2\n",
       "regime_de_alimentação                     4\n",
       "nacionalidade                           170\n",
       "forma_de_reserva                          3\n",
       "já_se_hospedou_anterioremente             2\n",
       "tipo_do_quarto_reservado                 10\n",
       "reserva_feita_por_agência_de_turismo      2\n",
       "reserva_feita_por_empresa                 2\n",
       "reserva_com_estacionamento                2\n",
       "reserva_com_observações                   3\n",
       "dtype: int64"
      ]
     },
     "execution_count": 15,
     "metadata": {},
     "output_type": "execute_result"
    }
   ],
   "source": [
    "cat_attributes.apply(lambda x: x.unique().shape[0])"
   ]
  },
  {
   "cell_type": "code",
   "execution_count": 16,
   "id": "3bacc70c",
   "metadata": {
    "ExecuteTime": {
     "end_time": "2023-03-26T17:08:13.453942Z",
     "start_time": "2023-03-26T17:08:01.590134Z"
    }
   },
   "outputs": [
    {
     "data": {
      "image/png": "[encoded data removed]",
      "text/plain": [
       "<Figure size 3000x6000 with 10 Axes>"
      ]
     },
     "metadata": {},
     "output_type": "display_data"
    }
   ],
   "source": [
    "plt.figure(figsize = (30,60))\n",
    "\n",
    "x = 1\n",
    "for d in cat_attributes:\n",
    "    plt.subplot(9, 3, x)\n",
    "    sns.countplot( x=d, data=train, palette = 'Reds')\n",
    "    x += 1"
   ]
  },
  {
   "cell_type": "markdown",
   "id": "f18b9f73",
   "metadata": {},
   "source": [
    "# FEATURE ENGINEERING"
   ]
  },
  {
   "cell_type": "code",
   "execution_count": 17,
   "id": "c614c802",
   "metadata": {
    "ExecuteTime": {
     "end_time": "2023-03-26T17:08:13.779413Z",
     "start_time": "2023-03-26T17:08:13.457015Z"
    }
   },
   "outputs": [],
   "source": [
    "tx_cancel_nacionalidade = train.groupby('nacionalidade')['reserva_cancelada'].mean().reset_index().rename(columns={'reserva_cancelada': 'tx_cancel_nacionalidade'})\n",
    "tx_cancel_regime_de_alimentação = train.groupby('regime_de_alimentação')['reserva_cancelada'].mean().reset_index().rename(columns={'reserva_cancelada': 'tx_cancel_regime_de_alimentação'})\n",
    "tx_cancel_forma_da_reserva = train.groupby('forma_de_reserva')['reserva_cancelada'].mean().reset_index().rename(columns={'reserva_cancelada': 'tx_cancel_forma_de_reserva'})\n",
    "tx_cancel_tipo_do_quarto_reservado = train.groupby('tipo_do_quarto_reservado')['reserva_cancelada'].mean().reset_index().rename(columns={'reserva_cancelada': 'tx_cancel_tipo_do_quarto_reservado'})\n",
    "tx_cancel_reserva_com_observações = train.groupby('reserva_com_observações')['reserva_cancelada'].mean().reset_index().rename(columns={'reserva_cancelada': 'tx_cancel_reserva_com_observações'})\n",
    "\n",
    "train = pd.merge(train, tx_cancel_nacionalidade, how=\"left\", on=[\"nacionalidade\", \"nacionalidade\"])\n",
    "train = pd.merge(train, tx_cancel_regime_de_alimentação, how=\"left\", on=[\"regime_de_alimentação\", \"regime_de_alimentação\"])\n",
    "train = pd.merge(train, tx_cancel_forma_da_reserva, how=\"left\", on=[\"forma_de_reserva\", \"forma_de_reserva\"])\n",
    "train = pd.merge(train, tx_cancel_tipo_do_quarto_reservado, how=\"left\", on=[\"tipo_do_quarto_reservado\", \"tipo_do_quarto_reservado\"])\n",
    "train = pd.merge(train, tx_cancel_reserva_com_observações, how=\"left\", on=[\"reserva_com_observações\", \"reserva_com_observações\"])"
   ]
  },
  {
   "cell_type": "code",
   "execution_count": 18,
   "id": "fba046a9",
   "metadata": {
    "ExecuteTime": {
     "end_time": "2023-03-26T17:08:13.918950Z",
     "start_time": "2023-03-26T17:08:13.781474Z"
    }
   },
   "outputs": [],
   "source": [
    "train['reserva_feita_por_agência_de_turismo_bin'] = train['reserva_feita_por_agência_de_turismo'].apply(lambda x: 1 if x == 'Sim' else 0)\n",
    "train['reserva_feita_por_empresa_bin'] = train['reserva_feita_por_empresa'].apply(lambda x: 1 if x == 'Sim' else 0)\n",
    "train['reserva_com_estacionamento_bin'] = train['reserva_com_estacionamento'].apply(lambda x: 1 if x == 'Sim' else 0)\n",
    "train['classificação_do_hotel_bin'] = train['classificação_do_hotel'].apply(lambda x: 1 if x == '5 estrelas' else 0)   "
   ]
  },
  {
   "cell_type": "markdown",
   "id": "0382bc87",
   "metadata": {},
   "source": [
    "# 4 EDA"
   ]
  },
  {
   "cell_type": "markdown",
   "id": "ed4c941f",
   "metadata": {},
   "source": [
    "## Análise univariada var resposta"
   ]
  },
  {
   "cell_type": "code",
   "execution_count": 19,
   "id": "1dfd00bb",
   "metadata": {
    "ExecuteTime": {
     "end_time": "2023-03-26T17:08:13.950973Z",
     "start_time": "2023-03-26T17:08:13.919985Z"
    }
   },
   "outputs": [
    {
     "data": {
      "text/html": [
       "<div>\n",
       "<style scoped>\n",
       "    .dataframe tbody tr th:only-of-type {\n",
       "        vertical-align: middle;\n",
       "    }\n",
       "\n",
       "    .dataframe tbody tr th {\n",
       "        vertical-align: top;\n",
       "    }\n",
       "\n",
       "    .dataframe thead th {\n",
       "        text-align: right;\n",
       "    }\n",
       "</style>\n",
       "<table border=\"1\" class=\"dataframe\">\n",
       "  <thead>\n",
       "    <tr style=\"text-align: right;\">\n",
       "      <th></th>\n",
       "      <th>reserva_cancelada</th>\n",
       "      <th>pctg</th>\n",
       "    </tr>\n",
       "  </thead>\n",
       "  <tbody>\n",
       "    <tr>\n",
       "      <th>0</th>\n",
       "      <td>0.0</td>\n",
       "      <td>0.629582</td>\n",
       "    </tr>\n",
       "    <tr>\n",
       "      <th>1</th>\n",
       "      <td>1.0</td>\n",
       "      <td>0.370418</td>\n",
       "    </tr>\n",
       "  </tbody>\n",
       "</table>\n",
       "</div>"
      ],
      "text/plain": [
       "   reserva_cancelada      pctg\n",
       "0                0.0  0.629582\n",
       "1                1.0  0.370418"
      ]
     },
     "execution_count": 19,
     "metadata": {},
     "output_type": "execute_result"
    }
   ],
   "source": [
    "train['reserva_cancelada'].value_counts(normalize=True).reset_index().rename(columns={'index': 'reserva_cancelada', 'reserva_cancelada': 'pctg'})"
   ]
  },
  {
   "cell_type": "markdown",
   "id": "bd8bfe48",
   "metadata": {
    "ExecuteTime": {
     "end_time": "2023-03-25T16:37:34.721937Z",
     "start_time": "2023-03-25T16:37:34.714499Z"
    }
   },
   "source": [
    "## Análise bivariada"
   ]
  },
  {
   "cell_type": "code",
   "execution_count": 20,
   "id": "20f51bfe",
   "metadata": {
    "ExecuteTime": {
     "end_time": "2023-03-26T17:08:13.966522Z",
     "start_time": "2023-03-26T17:08:13.952910Z"
    }
   },
   "outputs": [
    {
     "data": {
      "text/plain": [
       "Index(['id', 'meses_da_reserva_até_o_check_in',\n",
       "       'número_de_pernoites_reservadas', 'número_de_hospedes',\n",
       "       'reserva_cancelada'],\n",
       "      dtype='object')"
      ]
     },
     "execution_count": 20,
     "metadata": {},
     "output_type": "execute_result"
    }
   ],
   "source": [
    "num_attributes.columns"
   ]
  },
  {
   "cell_type": "markdown",
   "id": "5df1f034",
   "metadata": {},
   "source": [
    "### Numéricas"
   ]
  },
  {
   "cell_type": "code",
   "execution_count": 21,
   "id": "e61e9e79",
   "metadata": {
    "ExecuteTime": {
     "end_time": "2023-03-26T17:08:13.982117Z",
     "start_time": "2023-03-26T17:08:13.970042Z"
    }
   },
   "outputs": [
    {
     "name": "stdout",
     "output_type": "stream",
     "text": [
      "1\n"
     ]
    },
    {
     "data": {
      "text/plain": [
       "120265"
      ]
     },
     "execution_count": 21,
     "metadata": {},
     "output_type": "execute_result"
    }
   ],
   "source": [
    "print(train['id'].min())\n",
    "train['id'].max()"
   ]
  },
  {
   "cell_type": "code",
   "execution_count": 22,
   "id": "081e969d",
   "metadata": {
    "ExecuteTime": {
     "end_time": "2023-03-26T17:08:14.494731Z",
     "start_time": "2023-03-26T17:08:13.984114Z"
    }
   },
   "outputs": [
    {
     "data": {
      "text/plain": [
       "<AxesSubplot:>"
      ]
     },
     "execution_count": 22,
     "metadata": {},
     "output_type": "execute_result"
    },
    {
     "data": {
      "image/png": "[encoded data removed]",
      "text/plain": [
       "<Figure size 1200x800 with 2 Axes>"
      ]
     },
     "metadata": {},
     "output_type": "display_data"
    }
   ],
   "source": [
    "plt.subplot(1, 2, 1)\n",
    "a1 = train['id'][train['reserva_cancelada']==0]\n",
    "sns.distplot( x=a1, kde=False, color='indianred', bins=25)\n",
    "\n",
    "plt.subplot(1, 2, 2)\n",
    "a2 = train['id'][train['reserva_cancelada']==1]\n",
    "sns.distplot( x=a2, kde=False, color='indianred', bins=25)"
   ]
  },
  {
   "cell_type": "code",
   "execution_count": 23,
   "id": "b0626b47",
   "metadata": {
    "ExecuteTime": {
     "end_time": "2023-03-26T17:08:14.899563Z",
     "start_time": "2023-03-26T17:08:14.497780Z"
    }
   },
   "outputs": [
    {
     "data": {
      "text/plain": [
       "<AxesSubplot:>"
      ]
     },
     "execution_count": 23,
     "metadata": {},
     "output_type": "execute_result"
    },
    {
     "data": {
      "image/png": "[encoded data removed]",
      "text/plain": [
       "<Figure size 1200x800 with 2 Axes>"
      ]
     },
     "metadata": {},
     "output_type": "display_data"
    }
   ],
   "source": [
    "plt.subplot(1, 2, 1)\n",
    "a1 = train['meses_da_reserva_até_o_check_in'][train['reserva_cancelada']==0]\n",
    "sns.distplot( x=a1, kde=False, color='indianred', bins=25)\n",
    "\n",
    "plt.subplot(1, 2, 2)\n",
    "a2 = train['meses_da_reserva_até_o_check_in'][train['reserva_cancelada']==1]\n",
    "sns.distplot( x=a2, kde=False, color='indianred', bins=25)"
   ]
  },
  {
   "cell_type": "code",
   "execution_count": 24,
   "id": "ceae09d2",
   "metadata": {
    "ExecuteTime": {
     "end_time": "2023-03-26T17:08:15.256615Z",
     "start_time": "2023-03-26T17:08:14.903580Z"
    }
   },
   "outputs": [
    {
     "data": {
      "text/plain": [
       "<AxesSubplot:>"
      ]
     },
     "execution_count": 24,
     "metadata": {},
     "output_type": "execute_result"
    },
    {
     "data": {
      "image/png": "[encoded data removed]",
      "text/plain": [
       "<Figure size 1200x800 with 2 Axes>"
      ]
     },
     "metadata": {},
     "output_type": "display_data"
    }
   ],
   "source": [
    "plt.subplot(1, 2, 1)\n",
    "a1 = train['número_de_pernoites_reservadas'][train['reserva_cancelada']==0]\n",
    "sns.distplot( x=a1, kde=False, color='indianred', bins=25)\n",
    "\n",
    "plt.subplot(1, 2, 2)\n",
    "a2 = train['número_de_pernoites_reservadas'][train['reserva_cancelada']==1]\n",
    "sns.distplot( x=a2, kde=False, color='indianred', bins=25)"
   ]
  },
  {
   "cell_type": "code",
   "execution_count": 25,
   "id": "4958bd83",
   "metadata": {
    "ExecuteTime": {
     "end_time": "2023-03-26T17:08:15.741509Z",
     "start_time": "2023-03-26T17:08:15.259131Z"
    }
   },
   "outputs": [
    {
     "data": {
      "text/plain": [
       "<AxesSubplot:>"
      ]
     },
     "execution_count": 25,
     "metadata": {},
     "output_type": "execute_result"
    },
    {
     "data": {
      "image/png": "[encoded data removed]",
      "text/plain": [
       "<Figure size 1200x800 with 2 Axes>"
      ]
     },
     "metadata": {},
     "output_type": "display_data"
    }
   ],
   "source": [
    "plt.subplot(1, 2, 1)\n",
    "a1 = train['número_de_hospedes'][train['reserva_cancelada']==0]\n",
    "sns.distplot( x=a1, kde=False, color='indianred', bins=25)\n",
    "\n",
    "plt.subplot(1, 2, 2)\n",
    "a2 = train['número_de_hospedes'][train['reserva_cancelada']==1]\n",
    "sns.distplot( x=a2, kde=False, color='indianred', bins=25)"
   ]
  },
  {
   "cell_type": "markdown",
   "id": "dc7005c2",
   "metadata": {},
   "source": [
    "### Categóricas"
   ]
  },
  {
   "cell_type": "code",
   "execution_count": 26,
   "id": "986e5868",
   "metadata": {
    "ExecuteTime": {
     "end_time": "2023-03-26T17:08:16.163535Z",
     "start_time": "2023-03-26T17:08:15.744547Z"
    },
    "scrolled": false
   },
   "outputs": [
    {
     "data": {
      "text/html": [
       "<div>\n",
       "<style scoped>\n",
       "    .dataframe tbody tr th:only-of-type {\n",
       "        vertical-align: middle;\n",
       "    }\n",
       "\n",
       "    .dataframe tbody tr th {\n",
       "        vertical-align: top;\n",
       "    }\n",
       "\n",
       "    .dataframe thead th {\n",
       "        text-align: right;\n",
       "    }\n",
       "</style>\n",
       "<table border=\"1\" class=\"dataframe\">\n",
       "  <thead>\n",
       "    <tr style=\"text-align: right;\">\n",
       "      <th>reserva_cancelada</th>\n",
       "      <th>0.0</th>\n",
       "      <th>1.0</th>\n",
       "    </tr>\n",
       "    <tr>\n",
       "      <th>classificação_do_hotel</th>\n",
       "      <th></th>\n",
       "      <th></th>\n",
       "    </tr>\n",
       "  </thead>\n",
       "  <tbody>\n",
       "    <tr>\n",
       "      <th>4 estrelas</th>\n",
       "      <td>0.58373</td>\n",
       "      <td>0.41627</td>\n",
       "    </tr>\n",
       "    <tr>\n",
       "      <th>5 estrelas</th>\n",
       "      <td>0.72014</td>\n",
       "      <td>0.27986</td>\n",
       "    </tr>\n",
       "  </tbody>\n",
       "</table>\n",
       "</div>"
      ],
      "text/plain": [
       "reserva_cancelada           0.0      1.0\n",
       "classificação_do_hotel                  \n",
       "4 estrelas              0.58373  0.41627\n",
       "5 estrelas              0.72014  0.27986"
      ]
     },
     "metadata": {},
     "output_type": "display_data"
    },
    {
     "data": {
      "text/html": [
       "<div>\n",
       "<style scoped>\n",
       "    .dataframe tbody tr th:only-of-type {\n",
       "        vertical-align: middle;\n",
       "    }\n",
       "\n",
       "    .dataframe tbody tr th {\n",
       "        vertical-align: top;\n",
       "    }\n",
       "\n",
       "    .dataframe thead th {\n",
       "        text-align: right;\n",
       "    }\n",
       "</style>\n",
       "<table border=\"1\" class=\"dataframe\">\n",
       "  <thead>\n",
       "    <tr style=\"text-align: right;\">\n",
       "      <th>reserva_cancelada</th>\n",
       "      <th>0.0</th>\n",
       "      <th>1.0</th>\n",
       "    </tr>\n",
       "    <tr>\n",
       "      <th>regime_de_alimentação</th>\n",
       "      <th></th>\n",
       "      <th></th>\n",
       "    </tr>\n",
       "  </thead>\n",
       "  <tbody>\n",
       "    <tr>\n",
       "      <th>Café da manha</th>\n",
       "      <td>0.627073</td>\n",
       "      <td>0.372927</td>\n",
       "    </tr>\n",
       "    <tr>\n",
       "      <th>Café da manha e jantar</th>\n",
       "      <td>0.655919</td>\n",
       "      <td>0.344081</td>\n",
       "    </tr>\n",
       "    <tr>\n",
       "      <th>Café da manha, almoco e jantar</th>\n",
       "      <td>0.398323</td>\n",
       "      <td>0.601677</td>\n",
       "    </tr>\n",
       "    <tr>\n",
       "      <th>Sem refeicao</th>\n",
       "      <td>0.632216</td>\n",
       "      <td>0.367784</td>\n",
       "    </tr>\n",
       "  </tbody>\n",
       "</table>\n",
       "</div>"
      ],
      "text/plain": [
       "reserva_cancelada                    0.0       1.0\n",
       "regime_de_alimentação                             \n",
       "Café da manha                   0.627073  0.372927\n",
       "Café da manha e jantar          0.655919  0.344081\n",
       "Café da manha, almoco e jantar  0.398323  0.601677\n",
       "Sem refeicao                    0.632216  0.367784"
      ]
     },
     "metadata": {},
     "output_type": "display_data"
    },
    {
     "data": {
      "text/html": [
       "<div>\n",
       "<style scoped>\n",
       "    .dataframe tbody tr th:only-of-type {\n",
       "        vertical-align: middle;\n",
       "    }\n",
       "\n",
       "    .dataframe tbody tr th {\n",
       "        vertical-align: top;\n",
       "    }\n",
       "\n",
       "    .dataframe thead th {\n",
       "        text-align: right;\n",
       "    }\n",
       "</style>\n",
       "<table border=\"1\" class=\"dataframe\">\n",
       "  <thead>\n",
       "    <tr style=\"text-align: right;\">\n",
       "      <th>reserva_cancelada</th>\n",
       "      <th>0.0</th>\n",
       "      <th>1.0</th>\n",
       "    </tr>\n",
       "    <tr>\n",
       "      <th>nacionalidade</th>\n",
       "      <th></th>\n",
       "      <th></th>\n",
       "    </tr>\n",
       "  </thead>\n",
       "  <tbody>\n",
       "    <tr>\n",
       "      <th>Albania</th>\n",
       "      <td>1.000000</td>\n",
       "      <td>0.000000</td>\n",
       "    </tr>\n",
       "    <tr>\n",
       "      <th>Algeria</th>\n",
       "      <td>0.740741</td>\n",
       "      <td>0.259259</td>\n",
       "    </tr>\n",
       "    <tr>\n",
       "      <th>American Samoa</th>\n",
       "      <td>1.000000</td>\n",
       "      <td>0.000000</td>\n",
       "    </tr>\n",
       "    <tr>\n",
       "      <th>Andorra</th>\n",
       "      <td>0.000000</td>\n",
       "      <td>1.000000</td>\n",
       "    </tr>\n",
       "    <tr>\n",
       "      <th>Angola</th>\n",
       "      <td>0.392694</td>\n",
       "      <td>0.607306</td>\n",
       "    </tr>\n",
       "    <tr>\n",
       "      <th>Anguilla</th>\n",
       "      <td>1.000000</td>\n",
       "      <td>0.000000</td>\n",
       "    </tr>\n",
       "    <tr>\n",
       "      <th>Antarctica</th>\n",
       "      <td>1.000000</td>\n",
       "      <td>0.000000</td>\n",
       "    </tr>\n",
       "    <tr>\n",
       "      <th>Argentina</th>\n",
       "      <td>0.736434</td>\n",
       "      <td>0.263566</td>\n",
       "    </tr>\n",
       "    <tr>\n",
       "      <th>Armenia</th>\n",
       "      <td>1.000000</td>\n",
       "      <td>0.000000</td>\n",
       "    </tr>\n",
       "    <tr>\n",
       "      <th>Aruba</th>\n",
       "      <td>1.000000</td>\n",
       "      <td>0.000000</td>\n",
       "    </tr>\n",
       "    <tr>\n",
       "      <th>Australia</th>\n",
       "      <td>0.766129</td>\n",
       "      <td>0.233871</td>\n",
       "    </tr>\n",
       "    <tr>\n",
       "      <th>Austria</th>\n",
       "      <td>0.823907</td>\n",
       "      <td>0.176093</td>\n",
       "    </tr>\n",
       "    <tr>\n",
       "      <th>Azerbaijan</th>\n",
       "      <td>0.636364</td>\n",
       "      <td>0.363636</td>\n",
       "    </tr>\n",
       "    <tr>\n",
       "      <th>Bahamas</th>\n",
       "      <td>1.000000</td>\n",
       "      <td>0.000000</td>\n",
       "    </tr>\n",
       "    <tr>\n",
       "      <th>Bahrain</th>\n",
       "      <td>0.333333</td>\n",
       "      <td>0.666667</td>\n",
       "    </tr>\n",
       "    <tr>\n",
       "      <th>Bangladesh</th>\n",
       "      <td>0.285714</td>\n",
       "      <td>0.714286</td>\n",
       "    </tr>\n",
       "    <tr>\n",
       "      <th>Barbados</th>\n",
       "      <td>1.000000</td>\n",
       "      <td>0.000000</td>\n",
       "    </tr>\n",
       "    <tr>\n",
       "      <th>Belarus</th>\n",
       "      <td>0.647059</td>\n",
       "      <td>0.352941</td>\n",
       "    </tr>\n",
       "    <tr>\n",
       "      <th>Belgium</th>\n",
       "      <td>0.801230</td>\n",
       "      <td>0.198770</td>\n",
       "    </tr>\n",
       "    <tr>\n",
       "      <th>Bolivia</th>\n",
       "      <td>1.000000</td>\n",
       "      <td>0.000000</td>\n",
       "    </tr>\n",
       "    <tr>\n",
       "      <th>Bolivia, Plurinational State of</th>\n",
       "      <td>1.000000</td>\n",
       "      <td>0.000000</td>\n",
       "    </tr>\n",
       "    <tr>\n",
       "      <th>Bosnia and Herzegovina</th>\n",
       "      <td>0.666667</td>\n",
       "      <td>0.333333</td>\n",
       "    </tr>\n",
       "    <tr>\n",
       "      <th>Brazil</th>\n",
       "      <td>0.626515</td>\n",
       "      <td>0.373485</td>\n",
       "    </tr>\n",
       "    <tr>\n",
       "      <th>Bulgaria</th>\n",
       "      <td>0.791667</td>\n",
       "      <td>0.208333</td>\n",
       "    </tr>\n",
       "    <tr>\n",
       "      <th>Burma</th>\n",
       "      <td>1.000000</td>\n",
       "      <td>0.000000</td>\n",
       "    </tr>\n",
       "    <tr>\n",
       "      <th>Burundi</th>\n",
       "      <td>1.000000</td>\n",
       "      <td>0.000000</td>\n",
       "    </tr>\n",
       "    <tr>\n",
       "      <th>Cambodia</th>\n",
       "      <td>0.000000</td>\n",
       "      <td>1.000000</td>\n",
       "    </tr>\n",
       "    <tr>\n",
       "      <th>Cameroon</th>\n",
       "      <td>1.000000</td>\n",
       "      <td>0.000000</td>\n",
       "    </tr>\n",
       "    <tr>\n",
       "      <th>Cape Verde</th>\n",
       "      <td>0.533333</td>\n",
       "      <td>0.466667</td>\n",
       "    </tr>\n",
       "    <tr>\n",
       "      <th>Cayman Islands</th>\n",
       "      <td>1.000000</td>\n",
       "      <td>0.000000</td>\n",
       "    </tr>\n",
       "    <tr>\n",
       "      <th>Central African Republic</th>\n",
       "      <td>1.000000</td>\n",
       "      <td>0.000000</td>\n",
       "    </tr>\n",
       "    <tr>\n",
       "      <th>Chile</th>\n",
       "      <td>0.690476</td>\n",
       "      <td>0.309524</td>\n",
       "    </tr>\n",
       "    <tr>\n",
       "      <th>China</th>\n",
       "      <td>0.540984</td>\n",
       "      <td>0.459016</td>\n",
       "    </tr>\n",
       "    <tr>\n",
       "      <th>Colombia</th>\n",
       "      <td>0.609756</td>\n",
       "      <td>0.390244</td>\n",
       "    </tr>\n",
       "    <tr>\n",
       "      <th>Comoros</th>\n",
       "      <td>1.000000</td>\n",
       "      <td>0.000000</td>\n",
       "    </tr>\n",
       "    <tr>\n",
       "      <th>Costa Rica</th>\n",
       "      <td>1.000000</td>\n",
       "      <td>0.000000</td>\n",
       "    </tr>\n",
       "    <tr>\n",
       "      <th>Croatia</th>\n",
       "      <td>0.745763</td>\n",
       "      <td>0.254237</td>\n",
       "    </tr>\n",
       "    <tr>\n",
       "      <th>Cuba</th>\n",
       "      <td>1.000000</td>\n",
       "      <td>0.000000</td>\n",
       "    </tr>\n",
       "    <tr>\n",
       "      <th>Cyprus</th>\n",
       "      <td>0.774194</td>\n",
       "      <td>0.225806</td>\n",
       "    </tr>\n",
       "    <tr>\n",
       "      <th>Czech Republic</th>\n",
       "      <td>0.757282</td>\n",
       "      <td>0.242718</td>\n",
       "    </tr>\n",
       "    <tr>\n",
       "      <th>Côte d'Ivoire</th>\n",
       "      <td>0.666667</td>\n",
       "      <td>0.333333</td>\n",
       "    </tr>\n",
       "    <tr>\n",
       "      <th>Denmark</th>\n",
       "      <td>0.724409</td>\n",
       "      <td>0.275591</td>\n",
       "    </tr>\n",
       "    <tr>\n",
       "      <th>Djibouti</th>\n",
       "      <td>1.000000</td>\n",
       "      <td>0.000000</td>\n",
       "    </tr>\n",
       "    <tr>\n",
       "      <th>Dominica</th>\n",
       "      <td>1.000000</td>\n",
       "      <td>0.000000</td>\n",
       "    </tr>\n",
       "    <tr>\n",
       "      <th>Dominican Republic</th>\n",
       "      <td>0.555556</td>\n",
       "      <td>0.444444</td>\n",
       "    </tr>\n",
       "    <tr>\n",
       "      <th>Ecuador</th>\n",
       "      <td>0.533333</td>\n",
       "      <td>0.466667</td>\n",
       "    </tr>\n",
       "    <tr>\n",
       "      <th>Egypt</th>\n",
       "      <td>0.642857</td>\n",
       "      <td>0.357143</td>\n",
       "    </tr>\n",
       "    <tr>\n",
       "      <th>El Salvador</th>\n",
       "      <td>1.000000</td>\n",
       "      <td>0.000000</td>\n",
       "    </tr>\n",
       "    <tr>\n",
       "      <th>Estonia</th>\n",
       "      <td>0.773585</td>\n",
       "      <td>0.226415</td>\n",
       "    </tr>\n",
       "    <tr>\n",
       "      <th>Ethiopia</th>\n",
       "      <td>0.500000</td>\n",
       "      <td>0.500000</td>\n",
       "    </tr>\n",
       "    <tr>\n",
       "      <th>Faroe Islands</th>\n",
       "      <td>0.333333</td>\n",
       "      <td>0.666667</td>\n",
       "    </tr>\n",
       "    <tr>\n",
       "      <th>Fiji</th>\n",
       "      <td>0.000000</td>\n",
       "      <td>1.000000</td>\n",
       "    </tr>\n",
       "    <tr>\n",
       "      <th>Finland</th>\n",
       "      <td>0.837209</td>\n",
       "      <td>0.162791</td>\n",
       "    </tr>\n",
       "    <tr>\n",
       "      <th>France</th>\n",
       "      <td>0.815070</td>\n",
       "      <td>0.184930</td>\n",
       "    </tr>\n",
       "    <tr>\n",
       "      <th>Gabon</th>\n",
       "      <td>0.000000</td>\n",
       "      <td>1.000000</td>\n",
       "    </tr>\n",
       "    <tr>\n",
       "      <th>Georgia</th>\n",
       "      <td>0.166667</td>\n",
       "      <td>0.833333</td>\n",
       "    </tr>\n",
       "    <tr>\n",
       "      <th>Germany</th>\n",
       "      <td>0.830867</td>\n",
       "      <td>0.169133</td>\n",
       "    </tr>\n",
       "    <tr>\n",
       "      <th>Ghana</th>\n",
       "      <td>0.666667</td>\n",
       "      <td>0.333333</td>\n",
       "    </tr>\n",
       "    <tr>\n",
       "      <th>Gibraltar</th>\n",
       "      <td>0.333333</td>\n",
       "      <td>0.666667</td>\n",
       "    </tr>\n",
       "    <tr>\n",
       "      <th>Greece</th>\n",
       "      <td>0.730337</td>\n",
       "      <td>0.269663</td>\n",
       "    </tr>\n",
       "    <tr>\n",
       "      <th>Guatemala</th>\n",
       "      <td>1.000000</td>\n",
       "      <td>0.000000</td>\n",
       "    </tr>\n",
       "    <tr>\n",
       "      <th>Guernsey</th>\n",
       "      <td>0.000000</td>\n",
       "      <td>1.000000</td>\n",
       "    </tr>\n",
       "    <tr>\n",
       "      <th>Guinea-Bissau</th>\n",
       "      <td>1.000000</td>\n",
       "      <td>0.000000</td>\n",
       "    </tr>\n",
       "    <tr>\n",
       "      <th>Guyana</th>\n",
       "      <td>1.000000</td>\n",
       "      <td>0.000000</td>\n",
       "    </tr>\n",
       "    <tr>\n",
       "      <th>Hong Kong</th>\n",
       "      <td>0.062500</td>\n",
       "      <td>0.937500</td>\n",
       "    </tr>\n",
       "    <tr>\n",
       "      <th>Hungary</th>\n",
       "      <td>0.637681</td>\n",
       "      <td>0.362319</td>\n",
       "    </tr>\n",
       "    <tr>\n",
       "      <th>Iceland</th>\n",
       "      <td>0.918919</td>\n",
       "      <td>0.081081</td>\n",
       "    </tr>\n",
       "    <tr>\n",
       "      <th>India</th>\n",
       "      <td>0.750000</td>\n",
       "      <td>0.250000</td>\n",
       "    </tr>\n",
       "    <tr>\n",
       "      <th>Indonesia</th>\n",
       "      <td>0.250000</td>\n",
       "      <td>0.750000</td>\n",
       "    </tr>\n",
       "    <tr>\n",
       "      <th>Iran, Islamic Republic of</th>\n",
       "      <td>0.740000</td>\n",
       "      <td>0.260000</td>\n",
       "    </tr>\n",
       "    <tr>\n",
       "      <th>Iraq</th>\n",
       "      <td>1.000000</td>\n",
       "      <td>0.000000</td>\n",
       "    </tr>\n",
       "    <tr>\n",
       "      <th>Ireland</th>\n",
       "      <td>0.757399</td>\n",
       "      <td>0.242601</td>\n",
       "    </tr>\n",
       "    <tr>\n",
       "      <th>Isle of Man</th>\n",
       "      <td>0.000000</td>\n",
       "      <td>1.000000</td>\n",
       "    </tr>\n",
       "    <tr>\n",
       "      <th>Israel</th>\n",
       "      <td>0.736342</td>\n",
       "      <td>0.263658</td>\n",
       "    </tr>\n",
       "    <tr>\n",
       "      <th>Italy</th>\n",
       "      <td>0.656054</td>\n",
       "      <td>0.343946</td>\n",
       "    </tr>\n",
       "    <tr>\n",
       "      <th>Ivory Coast</th>\n",
       "      <td>0.666667</td>\n",
       "      <td>0.333333</td>\n",
       "    </tr>\n",
       "    <tr>\n",
       "      <th>Jamaica</th>\n",
       "      <td>1.000000</td>\n",
       "      <td>0.000000</td>\n",
       "    </tr>\n",
       "    <tr>\n",
       "      <th>Japan</th>\n",
       "      <td>0.854545</td>\n",
       "      <td>0.145455</td>\n",
       "    </tr>\n",
       "    <tr>\n",
       "      <th>Jersey</th>\n",
       "      <td>0.000000</td>\n",
       "      <td>1.000000</td>\n",
       "    </tr>\n",
       "    <tr>\n",
       "      <th>Jordan</th>\n",
       "      <td>0.833333</td>\n",
       "      <td>0.166667</td>\n",
       "    </tr>\n",
       "    <tr>\n",
       "      <th>Kazakhstan</th>\n",
       "      <td>0.625000</td>\n",
       "      <td>0.375000</td>\n",
       "    </tr>\n",
       "    <tr>\n",
       "      <th>Kenya</th>\n",
       "      <td>0.666667</td>\n",
       "      <td>0.333333</td>\n",
       "    </tr>\n",
       "    <tr>\n",
       "      <th>Korea, Republic of</th>\n",
       "      <td>0.593023</td>\n",
       "      <td>0.406977</td>\n",
       "    </tr>\n",
       "    <tr>\n",
       "      <th>Kuwait</th>\n",
       "      <td>0.666667</td>\n",
       "      <td>0.333333</td>\n",
       "    </tr>\n",
       "    <tr>\n",
       "      <th>Lao People's Democratic Republic</th>\n",
       "      <td>1.000000</td>\n",
       "      <td>0.000000</td>\n",
       "    </tr>\n",
       "    <tr>\n",
       "      <th>Latvia</th>\n",
       "      <td>0.818182</td>\n",
       "      <td>0.181818</td>\n",
       "    </tr>\n",
       "    <tr>\n",
       "      <th>Lebanon</th>\n",
       "      <td>0.611111</td>\n",
       "      <td>0.388889</td>\n",
       "    </tr>\n",
       "    <tr>\n",
       "      <th>Libya</th>\n",
       "      <td>1.000000</td>\n",
       "      <td>0.000000</td>\n",
       "    </tr>\n",
       "    <tr>\n",
       "      <th>Libyan Arab Jamahiriya</th>\n",
       "      <td>1.000000</td>\n",
       "      <td>0.000000</td>\n",
       "    </tr>\n",
       "    <tr>\n",
       "      <th>Liechtenstein</th>\n",
       "      <td>0.500000</td>\n",
       "      <td>0.500000</td>\n",
       "    </tr>\n",
       "    <tr>\n",
       "      <th>Lithuania</th>\n",
       "      <td>0.895833</td>\n",
       "      <td>0.104167</td>\n",
       "    </tr>\n",
       "    <tr>\n",
       "      <th>Luxembourg</th>\n",
       "      <td>0.568966</td>\n",
       "      <td>0.431034</td>\n",
       "    </tr>\n",
       "    <tr>\n",
       "      <th>Macao</th>\n",
       "      <td>0.166667</td>\n",
       "      <td>0.833333</td>\n",
       "    </tr>\n",
       "    <tr>\n",
       "      <th>Macedonia, the former Yugoslav Republic of</th>\n",
       "      <td>0.600000</td>\n",
       "      <td>0.400000</td>\n",
       "    </tr>\n",
       "    <tr>\n",
       "      <th>Malawi</th>\n",
       "      <td>1.000000</td>\n",
       "      <td>0.000000</td>\n",
       "    </tr>\n",
       "    <tr>\n",
       "      <th>Malaysia</th>\n",
       "      <td>0.928571</td>\n",
       "      <td>0.071429</td>\n",
       "    </tr>\n",
       "    <tr>\n",
       "      <th>Maldives</th>\n",
       "      <td>0.250000</td>\n",
       "      <td>0.750000</td>\n",
       "    </tr>\n",
       "    <tr>\n",
       "      <th>Mali</th>\n",
       "      <td>1.000000</td>\n",
       "      <td>0.000000</td>\n",
       "    </tr>\n",
       "    <tr>\n",
       "      <th>Malta</th>\n",
       "      <td>0.769231</td>\n",
       "      <td>0.230769</td>\n",
       "    </tr>\n",
       "    <tr>\n",
       "      <th>Mauritius</th>\n",
       "      <td>1.000000</td>\n",
       "      <td>0.000000</td>\n",
       "    </tr>\n",
       "    <tr>\n",
       "      <th>Mayotte</th>\n",
       "      <td>0.000000</td>\n",
       "      <td>1.000000</td>\n",
       "    </tr>\n",
       "    <tr>\n",
       "      <th>Mexico</th>\n",
       "      <td>0.933333</td>\n",
       "      <td>0.066667</td>\n",
       "    </tr>\n",
       "    <tr>\n",
       "      <th>Monaco</th>\n",
       "      <td>0.666667</td>\n",
       "      <td>0.333333</td>\n",
       "    </tr>\n",
       "    <tr>\n",
       "      <th>Montenegro</th>\n",
       "      <td>0.333333</td>\n",
       "      <td>0.666667</td>\n",
       "    </tr>\n",
       "    <tr>\n",
       "      <th>Morocco</th>\n",
       "      <td>0.590278</td>\n",
       "      <td>0.409722</td>\n",
       "    </tr>\n",
       "    <tr>\n",
       "      <th>Mozambique</th>\n",
       "      <td>0.756098</td>\n",
       "      <td>0.243902</td>\n",
       "    </tr>\n",
       "    <tr>\n",
       "      <th>Myanmar</th>\n",
       "      <td>1.000000</td>\n",
       "      <td>0.000000</td>\n",
       "    </tr>\n",
       "    <tr>\n",
       "      <th>Namibia</th>\n",
       "      <td>1.000000</td>\n",
       "      <td>0.000000</td>\n",
       "    </tr>\n",
       "    <tr>\n",
       "      <th>Nepal</th>\n",
       "      <td>1.000000</td>\n",
       "      <td>0.000000</td>\n",
       "    </tr>\n",
       "    <tr>\n",
       "      <th>Netherlands</th>\n",
       "      <td>0.814902</td>\n",
       "      <td>0.185098</td>\n",
       "    </tr>\n",
       "    <tr>\n",
       "      <th>New Zealand</th>\n",
       "      <td>0.891304</td>\n",
       "      <td>0.108696</td>\n",
       "    </tr>\n",
       "    <tr>\n",
       "      <th>Nicaragua</th>\n",
       "      <td>0.000000</td>\n",
       "      <td>1.000000</td>\n",
       "    </tr>\n",
       "    <tr>\n",
       "      <th>Nigeria</th>\n",
       "      <td>0.347826</td>\n",
       "      <td>0.652174</td>\n",
       "    </tr>\n",
       "    <tr>\n",
       "      <th>Norway</th>\n",
       "      <td>0.696721</td>\n",
       "      <td>0.303279</td>\n",
       "    </tr>\n",
       "    <tr>\n",
       "      <th>Oman</th>\n",
       "      <td>0.666667</td>\n",
       "      <td>0.333333</td>\n",
       "    </tr>\n",
       "    <tr>\n",
       "      <th>Outros</th>\n",
       "      <td>0.816102</td>\n",
       "      <td>0.183898</td>\n",
       "    </tr>\n",
       "    <tr>\n",
       "      <th>Pakistan</th>\n",
       "      <td>0.333333</td>\n",
       "      <td>0.666667</td>\n",
       "    </tr>\n",
       "    <tr>\n",
       "      <th>Palau</th>\n",
       "      <td>1.000000</td>\n",
       "      <td>0.000000</td>\n",
       "    </tr>\n",
       "    <tr>\n",
       "      <th>Panama</th>\n",
       "      <td>1.000000</td>\n",
       "      <td>0.000000</td>\n",
       "    </tr>\n",
       "    <tr>\n",
       "      <th>Paraguay</th>\n",
       "      <td>1.000000</td>\n",
       "      <td>0.000000</td>\n",
       "    </tr>\n",
       "    <tr>\n",
       "      <th>Peru</th>\n",
       "      <td>0.615385</td>\n",
       "      <td>0.384615</td>\n",
       "    </tr>\n",
       "    <tr>\n",
       "      <th>Philippines</th>\n",
       "      <td>0.380952</td>\n",
       "      <td>0.619048</td>\n",
       "    </tr>\n",
       "    <tr>\n",
       "      <th>Poland</th>\n",
       "      <td>0.766488</td>\n",
       "      <td>0.233512</td>\n",
       "    </tr>\n",
       "    <tr>\n",
       "      <th>Puerto Rico</th>\n",
       "      <td>0.500000</td>\n",
       "      <td>0.500000</td>\n",
       "    </tr>\n",
       "    <tr>\n",
       "      <th>Qatar</th>\n",
       "      <td>0.181818</td>\n",
       "      <td>0.818182</td>\n",
       "    </tr>\n",
       "    <tr>\n",
       "      <th>Romania</th>\n",
       "      <td>0.740741</td>\n",
       "      <td>0.259259</td>\n",
       "    </tr>\n",
       "    <tr>\n",
       "      <th>Russia</th>\n",
       "      <td>0.627204</td>\n",
       "      <td>0.372796</td>\n",
       "    </tr>\n",
       "    <tr>\n",
       "      <th>Russian Federation</th>\n",
       "      <td>0.615789</td>\n",
       "      <td>0.384211</td>\n",
       "    </tr>\n",
       "    <tr>\n",
       "      <th>Rwanda</th>\n",
       "      <td>1.000000</td>\n",
       "      <td>0.000000</td>\n",
       "    </tr>\n",
       "    <tr>\n",
       "      <th>Saint Kitts and Nevis</th>\n",
       "      <td>1.000000</td>\n",
       "      <td>0.000000</td>\n",
       "    </tr>\n",
       "    <tr>\n",
       "      <th>Saint Lucia</th>\n",
       "      <td>1.000000</td>\n",
       "      <td>0.000000</td>\n",
       "    </tr>\n",
       "    <tr>\n",
       "      <th>San Marino</th>\n",
       "      <td>1.000000</td>\n",
       "      <td>0.000000</td>\n",
       "    </tr>\n",
       "    <tr>\n",
       "      <th>Saudi Arabia</th>\n",
       "      <td>0.333333</td>\n",
       "      <td>0.666667</td>\n",
       "    </tr>\n",
       "    <tr>\n",
       "      <th>Senegal</th>\n",
       "      <td>0.375000</td>\n",
       "      <td>0.625000</td>\n",
       "    </tr>\n",
       "    <tr>\n",
       "      <th>Serbia</th>\n",
       "      <td>0.963636</td>\n",
       "      <td>0.036364</td>\n",
       "    </tr>\n",
       "    <tr>\n",
       "      <th>Seychelles</th>\n",
       "      <td>0.500000</td>\n",
       "      <td>0.500000</td>\n",
       "    </tr>\n",
       "    <tr>\n",
       "      <th>Singapore</th>\n",
       "      <td>0.588235</td>\n",
       "      <td>0.411765</td>\n",
       "    </tr>\n",
       "    <tr>\n",
       "      <th>Slovakia</th>\n",
       "      <td>0.600000</td>\n",
       "      <td>0.400000</td>\n",
       "    </tr>\n",
       "    <tr>\n",
       "      <th>Slovenia</th>\n",
       "      <td>0.781250</td>\n",
       "      <td>0.218750</td>\n",
       "    </tr>\n",
       "    <tr>\n",
       "      <th>South Africa</th>\n",
       "      <td>0.596154</td>\n",
       "      <td>0.403846</td>\n",
       "    </tr>\n",
       "    <tr>\n",
       "      <th>South Korea</th>\n",
       "      <td>0.637363</td>\n",
       "      <td>0.362637</td>\n",
       "    </tr>\n",
       "    <tr>\n",
       "      <th>Spain</th>\n",
       "      <td>0.480212</td>\n",
       "      <td>0.519788</td>\n",
       "    </tr>\n",
       "    <tr>\n",
       "      <th>Sri Lanka</th>\n",
       "      <td>1.000000</td>\n",
       "      <td>0.000000</td>\n",
       "    </tr>\n",
       "    <tr>\n",
       "      <th>Suriname</th>\n",
       "      <td>1.000000</td>\n",
       "      <td>0.000000</td>\n",
       "    </tr>\n",
       "    <tr>\n",
       "      <th>Sweden</th>\n",
       "      <td>0.774648</td>\n",
       "      <td>0.225352</td>\n",
       "    </tr>\n",
       "    <tr>\n",
       "      <th>Switzerland</th>\n",
       "      <td>0.757243</td>\n",
       "      <td>0.242757</td>\n",
       "    </tr>\n",
       "    <tr>\n",
       "      <th>Syrian Arab Republic</th>\n",
       "      <td>1.000000</td>\n",
       "      <td>0.000000</td>\n",
       "    </tr>\n",
       "    <tr>\n",
       "      <th>Taiwan</th>\n",
       "      <td>0.757576</td>\n",
       "      <td>0.242424</td>\n",
       "    </tr>\n",
       "    <tr>\n",
       "      <th>Taiwan, Province of China</th>\n",
       "      <td>0.741935</td>\n",
       "      <td>0.258065</td>\n",
       "    </tr>\n",
       "    <tr>\n",
       "      <th>Tajikistan</th>\n",
       "      <td>0.142857</td>\n",
       "      <td>0.857143</td>\n",
       "    </tr>\n",
       "    <tr>\n",
       "      <th>Tanzania, United Republic of</th>\n",
       "      <td>0.333333</td>\n",
       "      <td>0.666667</td>\n",
       "    </tr>\n",
       "    <tr>\n",
       "      <th>Thailand</th>\n",
       "      <td>0.666667</td>\n",
       "      <td>0.333333</td>\n",
       "    </tr>\n",
       "    <tr>\n",
       "      <th>Togo</th>\n",
       "      <td>1.000000</td>\n",
       "      <td>0.000000</td>\n",
       "    </tr>\n",
       "    <tr>\n",
       "      <th>Tunisia</th>\n",
       "      <td>0.687500</td>\n",
       "      <td>0.312500</td>\n",
       "    </tr>\n",
       "    <tr>\n",
       "      <th>Turkey</th>\n",
       "      <td>0.583893</td>\n",
       "      <td>0.416107</td>\n",
       "    </tr>\n",
       "    <tr>\n",
       "      <th>Uganda</th>\n",
       "      <td>1.000000</td>\n",
       "      <td>0.000000</td>\n",
       "    </tr>\n",
       "    <tr>\n",
       "      <th>Ukraine</th>\n",
       "      <td>0.710526</td>\n",
       "      <td>0.289474</td>\n",
       "    </tr>\n",
       "    <tr>\n",
       "      <th>United Arab Emirates</th>\n",
       "      <td>0.142857</td>\n",
       "      <td>0.857143</td>\n",
       "    </tr>\n",
       "    <tr>\n",
       "      <th>United Kingdom</th>\n",
       "      <td>0.796615</td>\n",
       "      <td>0.203385</td>\n",
       "    </tr>\n",
       "    <tr>\n",
       "      <th>United States</th>\n",
       "      <td>0.758537</td>\n",
       "      <td>0.241463</td>\n",
       "    </tr>\n",
       "    <tr>\n",
       "      <th>United States Minor Outlying Islands</th>\n",
       "      <td>0.000000</td>\n",
       "      <td>1.000000</td>\n",
       "    </tr>\n",
       "    <tr>\n",
       "      <th>Uruguay</th>\n",
       "      <td>0.666667</td>\n",
       "      <td>0.333333</td>\n",
       "    </tr>\n",
       "    <tr>\n",
       "      <th>Uzbekistan</th>\n",
       "      <td>1.000000</td>\n",
       "      <td>0.000000</td>\n",
       "    </tr>\n",
       "    <tr>\n",
       "      <th>Venezuela</th>\n",
       "      <td>0.454545</td>\n",
       "      <td>0.545455</td>\n",
       "    </tr>\n",
       "    <tr>\n",
       "      <th>Venezuela, Bolivarian Republic of</th>\n",
       "      <td>0.500000</td>\n",
       "      <td>0.500000</td>\n",
       "    </tr>\n",
       "    <tr>\n",
       "      <th>Viet Nam</th>\n",
       "      <td>0.666667</td>\n",
       "      <td>0.333333</td>\n",
       "    </tr>\n",
       "    <tr>\n",
       "      <th>Vietnam</th>\n",
       "      <td>0.500000</td>\n",
       "      <td>0.500000</td>\n",
       "    </tr>\n",
       "    <tr>\n",
       "      <th>Virgin Islands, British</th>\n",
       "      <td>0.000000</td>\n",
       "      <td>1.000000</td>\n",
       "    </tr>\n",
       "    <tr>\n",
       "      <th>Zambia</th>\n",
       "      <td>1.000000</td>\n",
       "      <td>0.000000</td>\n",
       "    </tr>\n",
       "    <tr>\n",
       "      <th>Zimbabwe</th>\n",
       "      <td>0.333333</td>\n",
       "      <td>0.666667</td>\n",
       "    </tr>\n",
       "  </tbody>\n",
       "</table>\n",
       "</div>"
      ],
      "text/plain": [
       "reserva_cancelada                                0.0       1.0\n",
       "nacionalidade                                                 \n",
       "Albania                                     1.000000  0.000000\n",
       "Algeria                                     0.740741  0.259259\n",
       "American Samoa                              1.000000  0.000000\n",
       "Andorra                                     0.000000  1.000000\n",
       "Angola                                      0.392694  0.607306\n",
       "Anguilla                                    1.000000  0.000000\n",
       "Antarctica                                  1.000000  0.000000\n",
       "Argentina                                   0.736434  0.263566\n",
       "Armenia                                     1.000000  0.000000\n",
       "Aruba                                       1.000000  0.000000\n",
       "Australia                                   0.766129  0.233871\n",
       "Austria                                     0.823907  0.176093\n",
       "Azerbaijan                                  0.636364  0.363636\n",
       "Bahamas                                     1.000000  0.000000\n",
       "Bahrain                                     0.333333  0.666667\n",
       "Bangladesh                                  0.285714  0.714286\n",
       "Barbados                                    1.000000  0.000000\n",
       "Belarus                                     0.647059  0.352941\n",
       "Belgium                                     0.801230  0.198770\n",
       "Bolivia                                     1.000000  0.000000\n",
       "Bolivia, Plurinational State of             1.000000  0.000000\n",
       "Bosnia and Herzegovina                      0.666667  0.333333\n",
       "Brazil                                      0.626515  0.373485\n",
       "Bulgaria                                    0.791667  0.208333\n",
       "Burma                                       1.000000  0.000000\n",
       "Burundi                                     1.000000  0.000000\n",
       "Cambodia                                    0.000000  1.000000\n",
       "Cameroon                                    1.000000  0.000000\n",
       "Cape Verde                                  0.533333  0.466667\n",
       "Cayman Islands                              1.000000  0.000000\n",
       "Central African Republic                    1.000000  0.000000\n",
       "Chile                                       0.690476  0.309524\n",
       "China                                       0.540984  0.459016\n",
       "Colombia                                    0.609756  0.390244\n",
       "Comoros                                     1.000000  0.000000\n",
       "Costa Rica                                  1.000000  0.000000\n",
       "Croatia                                     0.745763  0.254237\n",
       "Cuba                                        1.000000  0.000000\n",
       "Cyprus                                      0.774194  0.225806\n",
       "Czech Republic                              0.757282  0.242718\n",
       "Côte d'Ivoire                               0.666667  0.333333\n",
       "Denmark                                     0.724409  0.275591\n",
       "Djibouti                                    1.000000  0.000000\n",
       "Dominica                                    1.000000  0.000000\n",
       "Dominican Republic                          0.555556  0.444444\n",
       "Ecuador                                     0.533333  0.466667\n",
       "Egypt                                       0.642857  0.357143\n",
       "El Salvador                                 1.000000  0.000000\n",
       "Estonia                                     0.773585  0.226415\n",
       "Ethiopia                                    0.500000  0.500000\n",
       "Faroe Islands                               0.333333  0.666667\n",
       "Fiji                                        0.000000  1.000000\n",
       "Finland                                     0.837209  0.162791\n",
       "France                                      0.815070  0.184930\n",
       "Gabon                                       0.000000  1.000000\n",
       "Georgia                                     0.166667  0.833333\n",
       "Germany                                     0.830867  0.169133\n",
       "Ghana                                       0.666667  0.333333\n",
       "Gibraltar                                   0.333333  0.666667\n",
       "Greece                                      0.730337  0.269663\n",
       "Guatemala                                   1.000000  0.000000\n",
       "Guernsey                                    0.000000  1.000000\n",
       "Guinea-Bissau                               1.000000  0.000000\n",
       "Guyana                                      1.000000  0.000000\n",
       "Hong Kong                                   0.062500  0.937500\n",
       "Hungary                                     0.637681  0.362319\n",
       "Iceland                                     0.918919  0.081081\n",
       "India                                       0.750000  0.250000\n",
       "Indonesia                                   0.250000  0.750000\n",
       "Iran, Islamic Republic of                   0.740000  0.260000\n",
       "Iraq                                        1.000000  0.000000\n",
       "Ireland                                     0.757399  0.242601\n",
       "Isle of Man                                 0.000000  1.000000\n",
       "Israel                                      0.736342  0.263658\n",
       "Italy                                       0.656054  0.343946\n",
       "Ivory Coast                                 0.666667  0.333333\n",
       "Jamaica                                     1.000000  0.000000\n",
       "Japan                                       0.854545  0.145455\n",
       "Jersey                                      0.000000  1.000000\n",
       "Jordan                                      0.833333  0.166667\n",
       "Kazakhstan                                  0.625000  0.375000\n",
       "Kenya                                       0.666667  0.333333\n",
       "Korea, Republic of                          0.593023  0.406977\n",
       "Kuwait                                      0.666667  0.333333\n",
       "Lao People's Democratic Republic            1.000000  0.000000\n",
       "Latvia                                      0.818182  0.181818\n",
       "Lebanon                                     0.611111  0.388889\n",
       "Libya                                       1.000000  0.000000\n",
       "Libyan Arab Jamahiriya                      1.000000  0.000000\n",
       "Liechtenstein                               0.500000  0.500000\n",
       "Lithuania                                   0.895833  0.104167\n",
       "Luxembourg                                  0.568966  0.431034\n",
       "Macao                                       0.166667  0.833333\n",
       "Macedonia, the former Yugoslav Republic of  0.600000  0.400000\n",
       "Malawi                                      1.000000  0.000000\n",
       "Malaysia                                    0.928571  0.071429\n",
       "Maldives                                    0.250000  0.750000\n",
       "Mali                                        1.000000  0.000000\n",
       "Malta                                       0.769231  0.230769\n",
       "Mauritius                                   1.000000  0.000000\n",
       "Mayotte                                     0.000000  1.000000\n",
       "Mexico                                      0.933333  0.066667\n",
       "Monaco                                      0.666667  0.333333\n",
       "Montenegro                                  0.333333  0.666667\n",
       "Morocco                                     0.590278  0.409722\n",
       "Mozambique                                  0.756098  0.243902\n",
       "Myanmar                                     1.000000  0.000000\n",
       "Namibia                                     1.000000  0.000000\n",
       "Nepal                                       1.000000  0.000000\n",
       "Netherlands                                 0.814902  0.185098\n",
       "New Zealand                                 0.891304  0.108696\n",
       "Nicaragua                                   0.000000  1.000000\n",
       "Nigeria                                     0.347826  0.652174\n",
       "Norway                                      0.696721  0.303279\n",
       "Oman                                        0.666667  0.333333\n",
       "Outros                                      0.816102  0.183898\n",
       "Pakistan                                    0.333333  0.666667\n",
       "Palau                                       1.000000  0.000000\n",
       "Panama                                      1.000000  0.000000\n",
       "Paraguay                                    1.000000  0.000000\n",
       "Peru                                        0.615385  0.384615\n",
       "Philippines                                 0.380952  0.619048\n",
       "Poland                                      0.766488  0.233512\n",
       "Puerto Rico                                 0.500000  0.500000\n",
       "Qatar                                       0.181818  0.818182\n",
       "Romania                                     0.740741  0.259259\n",
       "Russia                                      0.627204  0.372796\n",
       "Russian Federation                          0.615789  0.384211\n",
       "Rwanda                                      1.000000  0.000000\n",
       "Saint Kitts and Nevis                       1.000000  0.000000\n",
       "Saint Lucia                                 1.000000  0.000000\n",
       "San Marino                                  1.000000  0.000000\n",
       "Saudi Arabia                                0.333333  0.666667\n",
       "Senegal                                     0.375000  0.625000\n",
       "Serbia                                      0.963636  0.036364\n",
       "Seychelles                                  0.500000  0.500000\n",
       "Singapore                                   0.588235  0.411765\n",
       "Slovakia                                    0.600000  0.400000\n",
       "Slovenia                                    0.781250  0.218750\n",
       "South Africa                                0.596154  0.403846\n",
       "South Korea                                 0.637363  0.362637\n",
       "Spain                                       0.480212  0.519788\n",
       "Sri Lanka                                   1.000000  0.000000\n",
       "Suriname                                    1.000000  0.000000\n",
       "Sweden                                      0.774648  0.225352\n",
       "Switzerland                                 0.757243  0.242757\n",
       "Syrian Arab Republic                        1.000000  0.000000\n",
       "Taiwan                                      0.757576  0.242424\n",
       "Taiwan, Province of China                   0.741935  0.258065\n",
       "Tajikistan                                  0.142857  0.857143\n",
       "Tanzania, United Republic of                0.333333  0.666667\n",
       "Thailand                                    0.666667  0.333333\n",
       "Togo                                        1.000000  0.000000\n",
       "Tunisia                                     0.687500  0.312500\n",
       "Turkey                                      0.583893  0.416107\n",
       "Uganda                                      1.000000  0.000000\n",
       "Ukraine                                     0.710526  0.289474\n",
       "United Arab Emirates                        0.142857  0.857143\n",
       "United Kingdom                              0.796615  0.203385\n",
       "United States                               0.758537  0.241463\n",
       "United States Minor Outlying Islands        0.000000  1.000000\n",
       "Uruguay                                     0.666667  0.333333\n",
       "Uzbekistan                                  1.000000  0.000000\n",
       "Venezuela                                   0.454545  0.545455\n",
       "Venezuela, Bolivarian Republic of           0.500000  0.500000\n",
       "Viet Nam                                    0.666667  0.333333\n",
       "Vietnam                                     0.500000  0.500000\n",
       "Virgin Islands, British                     0.000000  1.000000\n",
       "Zambia                                      1.000000  0.000000\n",
       "Zimbabwe                                    0.333333  0.666667"
      ]
     },
     "metadata": {},
     "output_type": "display_data"
    },
    {
     "data": {
      "text/html": [
       "<div>\n",
       "<style scoped>\n",
       "    .dataframe tbody tr th:only-of-type {\n",
       "        vertical-align: middle;\n",
       "    }\n",
       "\n",
       "    .dataframe tbody tr th {\n",
       "        vertical-align: top;\n",
       "    }\n",
       "\n",
       "    .dataframe thead th {\n",
       "        text-align: right;\n",
       "    }\n",
       "</style>\n",
       "<table border=\"1\" class=\"dataframe\">\n",
       "  <thead>\n",
       "    <tr style=\"text-align: right;\">\n",
       "      <th>reserva_cancelada</th>\n",
       "      <th>0.0</th>\n",
       "      <th>1.0</th>\n",
       "    </tr>\n",
       "    <tr>\n",
       "      <th>forma_de_reserva</th>\n",
       "      <th></th>\n",
       "      <th></th>\n",
       "    </tr>\n",
       "  </thead>\n",
       "  <tbody>\n",
       "    <tr>\n",
       "      <th>Agência</th>\n",
       "      <td>0.589758</td>\n",
       "      <td>0.410242</td>\n",
       "    </tr>\n",
       "    <tr>\n",
       "      <th>B2B</th>\n",
       "      <td>0.778821</td>\n",
       "      <td>0.221179</td>\n",
       "    </tr>\n",
       "    <tr>\n",
       "      <th>Balcão</th>\n",
       "      <td>0.826126</td>\n",
       "      <td>0.173874</td>\n",
       "    </tr>\n",
       "  </tbody>\n",
       "</table>\n",
       "</div>"
      ],
      "text/plain": [
       "reserva_cancelada       0.0       1.0\n",
       "forma_de_reserva                     \n",
       "Agência            0.589758  0.410242\n",
       "B2B                0.778821  0.221179\n",
       "Balcão             0.826126  0.173874"
      ]
     },
     "metadata": {},
     "output_type": "display_data"
    },
    {
     "data": {
      "text/html": [
       "<div>\n",
       "<style scoped>\n",
       "    .dataframe tbody tr th:only-of-type {\n",
       "        vertical-align: middle;\n",
       "    }\n",
       "\n",
       "    .dataframe tbody tr th {\n",
       "        vertical-align: top;\n",
       "    }\n",
       "\n",
       "    .dataframe thead th {\n",
       "        text-align: right;\n",
       "    }\n",
       "</style>\n",
       "<table border=\"1\" class=\"dataframe\">\n",
       "  <thead>\n",
       "    <tr style=\"text-align: right;\">\n",
       "      <th>reserva_cancelada</th>\n",
       "      <th>0.0</th>\n",
       "      <th>1.0</th>\n",
       "    </tr>\n",
       "    <tr>\n",
       "      <th>já_se_hospedou_anterioremente</th>\n",
       "      <th></th>\n",
       "      <th></th>\n",
       "    </tr>\n",
       "  </thead>\n",
       "  <tbody>\n",
       "    <tr>\n",
       "      <th>Não</th>\n",
       "      <td>0.622509</td>\n",
       "      <td>0.377491</td>\n",
       "    </tr>\n",
       "    <tr>\n",
       "      <th>Sim</th>\n",
       "      <td>0.848539</td>\n",
       "      <td>0.151461</td>\n",
       "    </tr>\n",
       "  </tbody>\n",
       "</table>\n",
       "</div>"
      ],
      "text/plain": [
       "reserva_cancelada                   0.0       1.0\n",
       "já_se_hospedou_anterioremente                    \n",
       "Não                            0.622509  0.377491\n",
       "Sim                            0.848539  0.151461"
      ]
     },
     "metadata": {},
     "output_type": "display_data"
    },
    {
     "data": {
      "text/html": [
       "<div>\n",
       "<style scoped>\n",
       "    .dataframe tbody tr th:only-of-type {\n",
       "        vertical-align: middle;\n",
       "    }\n",
       "\n",
       "    .dataframe tbody tr th {\n",
       "        vertical-align: top;\n",
       "    }\n",
       "\n",
       "    .dataframe thead th {\n",
       "        text-align: right;\n",
       "    }\n",
       "</style>\n",
       "<table border=\"1\" class=\"dataframe\">\n",
       "  <thead>\n",
       "    <tr style=\"text-align: right;\">\n",
       "      <th>reserva_cancelada</th>\n",
       "      <th>0.0</th>\n",
       "      <th>1.0</th>\n",
       "    </tr>\n",
       "    <tr>\n",
       "      <th>tipo_do_quarto_reservado</th>\n",
       "      <th></th>\n",
       "      <th></th>\n",
       "    </tr>\n",
       "  </thead>\n",
       "  <tbody>\n",
       "    <tr>\n",
       "      <th>Amethyst</th>\n",
       "      <td>0.608927</td>\n",
       "      <td>0.391073</td>\n",
       "    </tr>\n",
       "    <tr>\n",
       "      <th>Blue Sapphire</th>\n",
       "      <td>0.658247</td>\n",
       "      <td>0.341753</td>\n",
       "    </tr>\n",
       "    <tr>\n",
       "      <th>Garnet</th>\n",
       "      <td>0.000000</td>\n",
       "      <td>1.000000</td>\n",
       "    </tr>\n",
       "    <tr>\n",
       "      <th>Green Emerald</th>\n",
       "      <td>0.680370</td>\n",
       "      <td>0.319630</td>\n",
       "    </tr>\n",
       "    <tr>\n",
       "      <th>Moonstone</th>\n",
       "      <td>1.000000</td>\n",
       "      <td>0.000000</td>\n",
       "    </tr>\n",
       "    <tr>\n",
       "      <th>Peridot</th>\n",
       "      <td>0.566489</td>\n",
       "      <td>0.433511</td>\n",
       "    </tr>\n",
       "    <tr>\n",
       "      <th>Pink Sapphire</th>\n",
       "      <td>0.713048</td>\n",
       "      <td>0.286952</td>\n",
       "    </tr>\n",
       "    <tr>\n",
       "      <th>Red Ruby</th>\n",
       "      <td>0.664921</td>\n",
       "      <td>0.335079</td>\n",
       "    </tr>\n",
       "    <tr>\n",
       "      <th>Tanzanite</th>\n",
       "      <td>0.703704</td>\n",
       "      <td>0.296296</td>\n",
       "    </tr>\n",
       "    <tr>\n",
       "      <th>Topaz</th>\n",
       "      <td>0.628916</td>\n",
       "      <td>0.371084</td>\n",
       "    </tr>\n",
       "  </tbody>\n",
       "</table>\n",
       "</div>"
      ],
      "text/plain": [
       "reserva_cancelada              0.0       1.0\n",
       "tipo_do_quarto_reservado                    \n",
       "Amethyst                  0.608927  0.391073\n",
       "Blue Sapphire             0.658247  0.341753\n",
       "Garnet                    0.000000  1.000000\n",
       "Green Emerald             0.680370  0.319630\n",
       "Moonstone                 1.000000  0.000000\n",
       "Peridot                   0.566489  0.433511\n",
       "Pink Sapphire             0.713048  0.286952\n",
       "Red Ruby                  0.664921  0.335079\n",
       "Tanzanite                 0.703704  0.296296\n",
       "Topaz                     0.628916  0.371084"
      ]
     },
     "metadata": {},
     "output_type": "display_data"
    },
    {
     "data": {
      "text/html": [
       "<div>\n",
       "<style scoped>\n",
       "    .dataframe tbody tr th:only-of-type {\n",
       "        vertical-align: middle;\n",
       "    }\n",
       "\n",
       "    .dataframe tbody tr th {\n",
       "        vertical-align: top;\n",
       "    }\n",
       "\n",
       "    .dataframe thead th {\n",
       "        text-align: right;\n",
       "    }\n",
       "</style>\n",
       "<table border=\"1\" class=\"dataframe\">\n",
       "  <thead>\n",
       "    <tr style=\"text-align: right;\">\n",
       "      <th>reserva_cancelada</th>\n",
       "      <th>0.0</th>\n",
       "      <th>1.0</th>\n",
       "    </tr>\n",
       "    <tr>\n",
       "      <th>reserva_feita_por_agência_de_turismo</th>\n",
       "      <th></th>\n",
       "      <th></th>\n",
       "    </tr>\n",
       "  </thead>\n",
       "  <tbody>\n",
       "    <tr>\n",
       "      <th>Não</th>\n",
       "      <td>0.753723</td>\n",
       "      <td>0.246277</td>\n",
       "    </tr>\n",
       "    <tr>\n",
       "      <th>Sim</th>\n",
       "      <td>0.609909</td>\n",
       "      <td>0.390091</td>\n",
       "    </tr>\n",
       "  </tbody>\n",
       "</table>\n",
       "</div>"
      ],
      "text/plain": [
       "reserva_cancelada                          0.0       1.0\n",
       "reserva_feita_por_agência_de_turismo                    \n",
       "Não                                   0.753723  0.246277\n",
       "Sim                                   0.609909  0.390091"
      ]
     },
     "metadata": {},
     "output_type": "display_data"
    },
    {
     "data": {
      "text/html": [
       "<div>\n",
       "<style scoped>\n",
       "    .dataframe tbody tr th:only-of-type {\n",
       "        vertical-align: middle;\n",
       "    }\n",
       "\n",
       "    .dataframe tbody tr th {\n",
       "        vertical-align: top;\n",
       "    }\n",
       "\n",
       "    .dataframe thead th {\n",
       "        text-align: right;\n",
       "    }\n",
       "</style>\n",
       "<table border=\"1\" class=\"dataframe\">\n",
       "  <thead>\n",
       "    <tr style=\"text-align: right;\">\n",
       "      <th>reserva_cancelada</th>\n",
       "      <th>0.0</th>\n",
       "      <th>1.0</th>\n",
       "    </tr>\n",
       "    <tr>\n",
       "      <th>reserva_feita_por_empresa</th>\n",
       "      <th></th>\n",
       "      <th></th>\n",
       "    </tr>\n",
       "  </thead>\n",
       "  <tbody>\n",
       "    <tr>\n",
       "      <th>Não</th>\n",
       "      <td>0.617807</td>\n",
       "      <td>0.382193</td>\n",
       "    </tr>\n",
       "    <tr>\n",
       "      <th>Sim</th>\n",
       "      <td>0.825354</td>\n",
       "      <td>0.174646</td>\n",
       "    </tr>\n",
       "  </tbody>\n",
       "</table>\n",
       "</div>"
      ],
      "text/plain": [
       "reserva_cancelada               0.0       1.0\n",
       "reserva_feita_por_empresa                    \n",
       "Não                        0.617807  0.382193\n",
       "Sim                        0.825354  0.174646"
      ]
     },
     "metadata": {},
     "output_type": "display_data"
    },
    {
     "data": {
      "text/html": [
       "<div>\n",
       "<style scoped>\n",
       "    .dataframe tbody tr th:only-of-type {\n",
       "        vertical-align: middle;\n",
       "    }\n",
       "\n",
       "    .dataframe tbody tr th {\n",
       "        vertical-align: top;\n",
       "    }\n",
       "\n",
       "    .dataframe thead th {\n",
       "        text-align: right;\n",
       "    }\n",
       "</style>\n",
       "<table border=\"1\" class=\"dataframe\">\n",
       "  <thead>\n",
       "    <tr style=\"text-align: right;\">\n",
       "      <th>reserva_cancelada</th>\n",
       "      <th>0.0</th>\n",
       "      <th>1.0</th>\n",
       "    </tr>\n",
       "    <tr>\n",
       "      <th>reserva_com_estacionamento</th>\n",
       "      <th></th>\n",
       "      <th></th>\n",
       "    </tr>\n",
       "  </thead>\n",
       "  <tbody>\n",
       "    <tr>\n",
       "      <th>Não</th>\n",
       "      <td>0.60522</td>\n",
       "      <td>0.39478</td>\n",
       "    </tr>\n",
       "    <tr>\n",
       "      <th>Sim</th>\n",
       "      <td>1.00000</td>\n",
       "      <td>0.00000</td>\n",
       "    </tr>\n",
       "  </tbody>\n",
       "</table>\n",
       "</div>"
      ],
      "text/plain": [
       "reserva_cancelada               0.0      1.0\n",
       "reserva_com_estacionamento                  \n",
       "Não                         0.60522  0.39478\n",
       "Sim                         1.00000  0.00000"
      ]
     },
     "metadata": {},
     "output_type": "display_data"
    },
    {
     "data": {
      "text/html": [
       "<div>\n",
       "<style scoped>\n",
       "    .dataframe tbody tr th:only-of-type {\n",
       "        vertical-align: middle;\n",
       "    }\n",
       "\n",
       "    .dataframe tbody tr th {\n",
       "        vertical-align: top;\n",
       "    }\n",
       "\n",
       "    .dataframe thead th {\n",
       "        text-align: right;\n",
       "    }\n",
       "</style>\n",
       "<table border=\"1\" class=\"dataframe\">\n",
       "  <thead>\n",
       "    <tr style=\"text-align: right;\">\n",
       "      <th>reserva_cancelada</th>\n",
       "      <th>0.0</th>\n",
       "      <th>1.0</th>\n",
       "    </tr>\n",
       "    <tr>\n",
       "      <th>reserva_com_observações</th>\n",
       "      <th></th>\n",
       "      <th></th>\n",
       "    </tr>\n",
       "  </thead>\n",
       "  <tbody>\n",
       "    <tr>\n",
       "      <th>1 a 3</th>\n",
       "      <td>0.780550</td>\n",
       "      <td>0.219450</td>\n",
       "    </tr>\n",
       "    <tr>\n",
       "      <th>Mais de 3</th>\n",
       "      <td>0.915929</td>\n",
       "      <td>0.084071</td>\n",
       "    </tr>\n",
       "    <tr>\n",
       "      <th>Nenhuma</th>\n",
       "      <td>0.522847</td>\n",
       "      <td>0.477153</td>\n",
       "    </tr>\n",
       "  </tbody>\n",
       "</table>\n",
       "</div>"
      ],
      "text/plain": [
       "reserva_cancelada             0.0       1.0\n",
       "reserva_com_observações                    \n",
       "1 a 3                    0.780550  0.219450\n",
       "Mais de 3                0.915929  0.084071\n",
       "Nenhuma                  0.522847  0.477153"
      ]
     },
     "metadata": {},
     "output_type": "display_data"
    }
   ],
   "source": [
    "for col in cat_attributes.columns:\n",
    "    display(pd.crosstab(train[col], train['reserva_cancelada'], normalize='index'))"
   ]
  },
  {
   "cell_type": "markdown",
   "id": "abbbdc18",
   "metadata": {},
   "source": [
    "# Pré processamento dos dados"
   ]
  },
  {
   "cell_type": "code",
   "execution_count": 27,
   "id": "92034d63",
   "metadata": {
    "ExecuteTime": {
     "end_time": "2023-03-26T17:08:16.287809Z",
     "start_time": "2023-03-26T17:08:16.174144Z"
    }
   },
   "outputs": [],
   "source": [
    "X = train.drop('reserva_cancelada', axis=1)\n",
    "y = train['reserva_cancelada'].copy()\n",
    "\n",
    "X_train, X_val, y_train, y_val = train_test_split(X, y, test_size=0.2, random_state=42, stratify=y)"
   ]
  },
  {
   "cell_type": "code",
   "execution_count": null,
   "id": "8dd4f8df",
   "metadata": {},
   "outputs": [],
   "source": []
  },
  {
   "cell_type": "code",
   "execution_count": null,
   "id": "1d4e8200",
   "metadata": {},
   "outputs": [],
   "source": []
  },
  {
   "cell_type": "code",
   "execution_count": null,
   "id": "8ebe22de",
   "metadata": {},
   "outputs": [],
   "source": []
  },
  {
   "cell_type": "code",
   "execution_count": null,
   "id": "9a2ea3b5",
   "metadata": {},
   "outputs": [],
   "source": []
  },
  {
   "cell_type": "code",
   "execution_count": null,
   "id": "fd102783",
   "metadata": {},
   "outputs": [],
   "source": []
  },
  {
   "cell_type": "markdown",
   "id": "6118a273",
   "metadata": {},
   "source": [
    "# Feature Importance"
   ]
  },
  {
   "cell_type": "code",
   "execution_count": 28,
   "id": "f2e0c861",
   "metadata": {
    "ExecuteTime": {
     "end_time": "2023-03-26T17:08:16.303244Z",
     "start_time": "2023-03-26T17:08:16.290097Z"
    }
   },
   "outputs": [],
   "source": [
    "cols_selected = ['meses_da_reserva_até_o_check_in',  'número_de_pernoites_reservadas', \n",
    "                 'número_de_hospedes', 'tx_cancel_nacionalidade', 'tx_cancel_regime_de_alimentação',\n",
    "                 'tx_cancel_forma_de_reserva', 'tx_cancel_tipo_do_quarto_reservado','tx_cancel_reserva_com_observações', \n",
    "                 'reserva_feita_por_agência_de_turismo_bin', 'reserva_feita_por_empresa_bin', \n",
    "                 'reserva_com_estacionamento_bin', 'classificação_do_hotel_bin']"
   ]
  },
  {
   "cell_type": "code",
   "execution_count": 29,
   "id": "5ed67a7c",
   "metadata": {
    "ExecuteTime": {
     "end_time": "2023-03-26T17:08:16.350019Z",
     "start_time": "2023-03-26T17:08:16.305815Z"
    }
   },
   "outputs": [],
   "source": [
    "X_train = train[cols_selected]\n",
    "y_train = train['reserva_cancelada']"
   ]
  },
  {
   "cell_type": "code",
   "execution_count": 30,
   "id": "ac760cfd",
   "metadata": {
    "ExecuteTime": {
     "end_time": "2023-03-26T17:08:20.426057Z",
     "start_time": "2023-03-26T17:08:16.354020Z"
    }
   },
   "outputs": [
    {
     "data": {
      "text/plain": [
       "ExtraTreesClassifier(n_estimators=250, n_jobs=-1, random_state=42)"
      ]
     },
     "execution_count": 30,
     "metadata": {},
     "output_type": "execute_result"
    }
   ],
   "source": [
    "# definição do modelo\n",
    "trees = ExtraTreesClassifier(n_estimators=250, random_state=42, n_jobs=-1)\n",
    "\n",
    "trees.fit(X_train, y_train)"
   ]
  },
  {
   "cell_type": "code",
   "execution_count": 31,
   "id": "44826ce9",
   "metadata": {
    "ExecuteTime": {
     "end_time": "2023-03-26T17:08:20.912341Z",
     "start_time": "2023-03-26T17:08:20.428589Z"
    }
   },
   "outputs": [
    {
     "name": "stdout",
     "output_type": "stream",
     "text": [
      "Feature ranking:\n",
      "                                    feature  importance\n",
      "0                   tx_cancel_nacionalidade    0.255238\n",
      "0           meses_da_reserva_até_o_check_in    0.215871\n",
      "0            número_de_pernoites_reservadas    0.168157\n",
      "0         tx_cancel_reserva_com_observações    0.101547\n",
      "0                        número_de_hospedes    0.065759\n",
      "0                tx_cancel_forma_de_reserva    0.045489\n",
      "0            reserva_com_estacionamento_bin    0.045141\n",
      "0        tx_cancel_tipo_do_quarto_reservado    0.030750\n",
      "0           tx_cancel_regime_de_alimentação    0.030148\n",
      "0                classificação_do_hotel_bin    0.021592\n",
      "0  reserva_feita_por_agência_de_turismo_bin    0.010295\n",
      "0             reserva_feita_por_empresa_bin    0.010012\n"
     ]
    },
    {
     "data": {
      "image/png": "[encoded data removed]",
      "text/plain": [
       "<Figure size 1200x800 with 1 Axes>"
      ]
     },
     "metadata": {},
     "output_type": "display_data"
    }
   ],
   "source": [
    "importances = trees.feature_importances_\n",
    "std = np.std([tree.feature_importances_ for tree in trees.estimators_], axis=0)\n",
    "indices = np.argsort(importances)[::-1]\n",
    "\n",
    "# ranking de features\n",
    "print('Feature ranking:')\n",
    "df = pd.DataFrame()\n",
    "for i, j in zip(X_train, importances):\n",
    "    aux = pd.DataFrame({'feature': i, 'importance': j}, index=[0])\n",
    "    df = pd.concat([df, aux], axis=0)\n",
    "    \n",
    "print(df.sort_values('importance', ascending=False))\n",
    "\n",
    "# Plot feature importance impurity\n",
    "plt.figure()\n",
    "plt.title('Feature importance')\n",
    "plt.bar(range(X_train.shape[1]), importances[indices], color='r', yerr=std[indices], align='center')\n",
    "plt.xticks(range(X_train.shape[1]), indices)\n",
    "plt.xlim([-1, X_train.shape[1]])\n",
    "plt.show()"
   ]
  },
  {
   "cell_type": "markdown",
   "id": "63a83f0d",
   "metadata": {},
   "source": [
    "# MACHINE LEARNING"
   ]
  },
  {
   "cell_type": "code",
   "execution_count": 32,
   "id": "19d6e0d3",
   "metadata": {
    "ExecuteTime": {
     "end_time": "2023-03-26T17:08:20.975986Z",
     "start_time": "2023-03-26T17:08:20.915872Z"
    }
   },
   "outputs": [],
   "source": [
    "X = train[cols_selected]\n",
    "y= train['reserva_cancelada']\n",
    "\n",
    "X_train, X_val, y_train, y_val = train_test_split(X, y, test_size=0.2, random_state=42, stratify=y)"
   ]
  },
  {
   "cell_type": "markdown",
   "id": "e82f936b",
   "metadata": {
    "papermill": {
     "duration": 0.005051,
     "end_time": "2023-03-18T19:43:08.562386",
     "exception": false,
     "start_time": "2023-03-18T19:43:08.557335",
     "status": "completed"
    },
    "tags": []
   },
   "source": [
    "## Treinando Modelo - Random Forest"
   ]
  },
  {
   "cell_type": "code",
   "execution_count": 33,
   "id": "a5499708",
   "metadata": {
    "ExecuteTime": {
     "end_time": "2023-03-26T17:08:32.171766Z",
     "start_time": "2023-03-26T17:08:20.978043Z"
    },
    "execution": {
     "iopub.execute_input": "2023-03-18T19:43:08.575163Z",
     "iopub.status.busy": "2023-03-18T19:43:08.574778Z",
     "iopub.status.idle": "2023-03-18T19:43:08.974414Z",
     "shell.execute_reply": "2023-03-18T19:43:08.973505Z"
    },
    "papermill": {
     "duration": 0.40867,
     "end_time": "2023-03-18T19:43:08.976561",
     "exception": false,
     "start_time": "2023-03-18T19:43:08.567891",
     "status": "completed"
    },
    "tags": []
   },
   "outputs": [
    {
     "name": "stdout",
     "output_type": "stream",
     "text": [
      "F1-score Médio: 0.7767686573602378\n"
     ]
    }
   ],
   "source": [
    "# inicializando estimador\n",
    "model = RandomForestClassifier(n_estimators=100, n_jobs=-1, random_state=42)\n",
    "\n",
    "scores = cross_val_score(model, X_train, y_train, cv=5, scoring='f1_macro')\n",
    "\n",
    "print(\"F1-score Médio:\", scores.mean())"
   ]
  },
  {
   "cell_type": "markdown",
   "id": "8a6c3156",
   "metadata": {},
   "source": [
    "## Treinando Modelo - KNN"
   ]
  },
  {
   "cell_type": "code",
   "execution_count": 34,
   "id": "78aac2dd",
   "metadata": {
    "ExecuteTime": {
     "end_time": "2023-03-26T17:08:37.301622Z",
     "start_time": "2023-03-26T17:08:32.174766Z"
    }
   },
   "outputs": [
    {
     "name": "stdout",
     "output_type": "stream",
     "text": [
      "F1-score Médio: 0.7432991110318122\n"
     ]
    }
   ],
   "source": [
    "# inicializando estimador\n",
    "model = KNeighborsClassifier()\n",
    "\n",
    "scores = cross_val_score(model, X_train, y_train, cv=5, scoring='f1_macro')\n",
    "\n",
    "print(\"F1-score Médio:\", scores.mean())"
   ]
  },
  {
   "cell_type": "markdown",
   "id": "17023fbe",
   "metadata": {},
   "source": [
    "## Treinando Modelo - SVM"
   ]
  },
  {
   "cell_type": "code",
   "execution_count": 35,
   "id": "a4b70c01",
   "metadata": {
    "ExecuteTime": {
     "end_time": "2023-03-26T18:36:41.539155Z",
     "start_time": "2023-03-26T17:08:37.304624Z"
    }
   },
   "outputs": [
    {
     "ename": "KeyboardInterrupt",
     "evalue": "",
     "output_type": "error",
     "traceback": [
      "\u001b[1;31m---------------------------------------------------------------------------\u001b[0m",
      "\u001b[1;31mKeyboardInterrupt\u001b[0m                         Traceback (most recent call last)",
      "\u001b[1;32m~\\AppData\\Local\\Temp\\ipykernel_15940\\2918603976.py\u001b[0m in \u001b[0;36m<module>\u001b[1;34m\u001b[0m\n\u001b[0;32m      2\u001b[0m \u001b[0mmodel\u001b[0m \u001b[1;33m=\u001b[0m \u001b[0mSVC\u001b[0m\u001b[1;33m(\u001b[0m\u001b[0mprobability\u001b[0m \u001b[1;33m=\u001b[0m \u001b[1;32mTrue\u001b[0m\u001b[1;33m)\u001b[0m\u001b[1;33m\u001b[0m\u001b[1;33m\u001b[0m\u001b[0m\n\u001b[0;32m      3\u001b[0m \u001b[1;33m\u001b[0m\u001b[0m\n\u001b[1;32m----> 4\u001b[1;33m \u001b[0mscores\u001b[0m \u001b[1;33m=\u001b[0m \u001b[0mcross_val_score\u001b[0m\u001b[1;33m(\u001b[0m\u001b[0mmodel\u001b[0m\u001b[1;33m,\u001b[0m \u001b[0mX_train\u001b[0m\u001b[1;33m,\u001b[0m \u001b[0my_train\u001b[0m\u001b[1;33m,\u001b[0m \u001b[0mcv\u001b[0m\u001b[1;33m=\u001b[0m\u001b[1;36m5\u001b[0m\u001b[1;33m,\u001b[0m \u001b[0mscoring\u001b[0m\u001b[1;33m=\u001b[0m\u001b[1;34m'f1_macro'\u001b[0m\u001b[1;33m)\u001b[0m\u001b[1;33m\u001b[0m\u001b[1;33m\u001b[0m\u001b[0m\n\u001b[0m\u001b[0;32m      5\u001b[0m \u001b[1;33m\u001b[0m\u001b[0m\n\u001b[0;32m      6\u001b[0m \u001b[0mprint\u001b[0m\u001b[1;33m(\u001b[0m\u001b[1;34m\"F1-score Médio:\"\u001b[0m\u001b[1;33m,\u001b[0m \u001b[0mscores\u001b[0m\u001b[1;33m.\u001b[0m\u001b[0mmean\u001b[0m\u001b[1;33m(\u001b[0m\u001b[1;33m)\u001b[0m\u001b[1;33m)\u001b[0m\u001b[1;33m\u001b[0m\u001b[1;33m\u001b[0m\u001b[0m\n",
      "\u001b[1;32m~\\anaconda3\\lib\\site-packages\\sklearn\\model_selection\\_validation.py\u001b[0m in \u001b[0;36mcross_val_score\u001b[1;34m(estimator, X, y, groups, scoring, cv, n_jobs, verbose, fit_params, pre_dispatch, error_score)\u001b[0m\n\u001b[0;32m    507\u001b[0m     \u001b[0mscorer\u001b[0m \u001b[1;33m=\u001b[0m \u001b[0mcheck_scoring\u001b[0m\u001b[1;33m(\u001b[0m\u001b[0mestimator\u001b[0m\u001b[1;33m,\u001b[0m \u001b[0mscoring\u001b[0m\u001b[1;33m=\u001b[0m\u001b[0mscoring\u001b[0m\u001b[1;33m)\u001b[0m\u001b[1;33m\u001b[0m\u001b[1;33m\u001b[0m\u001b[0m\n\u001b[0;32m    508\u001b[0m \u001b[1;33m\u001b[0m\u001b[0m\n\u001b[1;32m--> 509\u001b[1;33m     cv_results = cross_validate(\n\u001b[0m\u001b[0;32m    510\u001b[0m         \u001b[0mestimator\u001b[0m\u001b[1;33m=\u001b[0m\u001b[0mestimator\u001b[0m\u001b[1;33m,\u001b[0m\u001b[1;33m\u001b[0m\u001b[1;33m\u001b[0m\u001b[0m\n\u001b[0;32m    511\u001b[0m         \u001b[0mX\u001b[0m\u001b[1;33m=\u001b[0m\u001b[0mX\u001b[0m\u001b[1;33m,\u001b[0m\u001b[1;33m\u001b[0m\u001b[1;33m\u001b[0m\u001b[0m\n",
      "\u001b[1;32m~\\anaconda3\\lib\\site-packages\\sklearn\\model_selection\\_validation.py\u001b[0m in \u001b[0;36mcross_validate\u001b[1;34m(estimator, X, y, groups, scoring, cv, n_jobs, verbose, fit_params, pre_dispatch, return_train_score, return_estimator, error_score)\u001b[0m\n\u001b[0;32m    265\u001b[0m     \u001b[1;31m# independent, and that it is pickle-able.\u001b[0m\u001b[1;33m\u001b[0m\u001b[1;33m\u001b[0m\u001b[0m\n\u001b[0;32m    266\u001b[0m     \u001b[0mparallel\u001b[0m \u001b[1;33m=\u001b[0m \u001b[0mParallel\u001b[0m\u001b[1;33m(\u001b[0m\u001b[0mn_jobs\u001b[0m\u001b[1;33m=\u001b[0m\u001b[0mn_jobs\u001b[0m\u001b[1;33m,\u001b[0m \u001b[0mverbose\u001b[0m\u001b[1;33m=\u001b[0m\u001b[0mverbose\u001b[0m\u001b[1;33m,\u001b[0m \u001b[0mpre_dispatch\u001b[0m\u001b[1;33m=\u001b[0m\u001b[0mpre_dispatch\u001b[0m\u001b[1;33m)\u001b[0m\u001b[1;33m\u001b[0m\u001b[1;33m\u001b[0m\u001b[0m\n\u001b[1;32m--> 267\u001b[1;33m     results = parallel(\n\u001b[0m\u001b[0;32m    268\u001b[0m         delayed(_fit_and_score)(\n\u001b[0;32m    269\u001b[0m             \u001b[0mclone\u001b[0m\u001b[1;33m(\u001b[0m\u001b[0mestimator\u001b[0m\u001b[1;33m)\u001b[0m\u001b[1;33m,\u001b[0m\u001b[1;33m\u001b[0m\u001b[1;33m\u001b[0m\u001b[0m\n",
      "\u001b[1;32m~\\anaconda3\\lib\\site-packages\\joblib\\parallel.py\u001b[0m in \u001b[0;36m__call__\u001b[1;34m(self, iterable)\u001b[0m\n\u001b[0;32m   1044\u001b[0m                 \u001b[0mself\u001b[0m\u001b[1;33m.\u001b[0m\u001b[0m_iterating\u001b[0m \u001b[1;33m=\u001b[0m \u001b[0mself\u001b[0m\u001b[1;33m.\u001b[0m\u001b[0m_original_iterator\u001b[0m \u001b[1;32mis\u001b[0m \u001b[1;32mnot\u001b[0m \u001b[1;32mNone\u001b[0m\u001b[1;33m\u001b[0m\u001b[1;33m\u001b[0m\u001b[0m\n\u001b[0;32m   1045\u001b[0m \u001b[1;33m\u001b[0m\u001b[0m\n\u001b[1;32m-> 1046\u001b[1;33m             \u001b[1;32mwhile\u001b[0m \u001b[0mself\u001b[0m\u001b[1;33m.\u001b[0m\u001b[0mdispatch_one_batch\u001b[0m\u001b[1;33m(\u001b[0m\u001b[0miterator\u001b[0m\u001b[1;33m)\u001b[0m\u001b[1;33m:\u001b[0m\u001b[1;33m\u001b[0m\u001b[1;33m\u001b[0m\u001b[0m\n\u001b[0m\u001b[0;32m   1047\u001b[0m                 \u001b[1;32mpass\u001b[0m\u001b[1;33m\u001b[0m\u001b[1;33m\u001b[0m\u001b[0m\n\u001b[0;32m   1048\u001b[0m \u001b[1;33m\u001b[0m\u001b[0m\n",
      "\u001b[1;32m~\\anaconda3\\lib\\site-packages\\joblib\\parallel.py\u001b[0m in \u001b[0;36mdispatch_one_batch\u001b[1;34m(self, iterator)\u001b[0m\n\u001b[0;32m    859\u001b[0m                 \u001b[1;32mreturn\u001b[0m \u001b[1;32mFalse\u001b[0m\u001b[1;33m\u001b[0m\u001b[1;33m\u001b[0m\u001b[0m\n\u001b[0;32m    860\u001b[0m             \u001b[1;32melse\u001b[0m\u001b[1;33m:\u001b[0m\u001b[1;33m\u001b[0m\u001b[1;33m\u001b[0m\u001b[0m\n\u001b[1;32m--> 861\u001b[1;33m                 \u001b[0mself\u001b[0m\u001b[1;33m.\u001b[0m\u001b[0m_dispatch\u001b[0m\u001b[1;33m(\u001b[0m\u001b[0mtasks\u001b[0m\u001b[1;33m)\u001b[0m\u001b[1;33m\u001b[0m\u001b[1;33m\u001b[0m\u001b[0m\n\u001b[0m\u001b[0;32m    862\u001b[0m                 \u001b[1;32mreturn\u001b[0m \u001b[1;32mTrue\u001b[0m\u001b[1;33m\u001b[0m\u001b[1;33m\u001b[0m\u001b[0m\n\u001b[0;32m    863\u001b[0m \u001b[1;33m\u001b[0m\u001b[0m\n",
      "\u001b[1;32m~\\anaconda3\\lib\\site-packages\\joblib\\parallel.py\u001b[0m in \u001b[0;36m_dispatch\u001b[1;34m(self, batch)\u001b[0m\n\u001b[0;32m    777\u001b[0m         \u001b[1;32mwith\u001b[0m \u001b[0mself\u001b[0m\u001b[1;33m.\u001b[0m\u001b[0m_lock\u001b[0m\u001b[1;33m:\u001b[0m\u001b[1;33m\u001b[0m\u001b[1;33m\u001b[0m\u001b[0m\n\u001b[0;32m    778\u001b[0m             \u001b[0mjob_idx\u001b[0m \u001b[1;33m=\u001b[0m \u001b[0mlen\u001b[0m\u001b[1;33m(\u001b[0m\u001b[0mself\u001b[0m\u001b[1;33m.\u001b[0m\u001b[0m_jobs\u001b[0m\u001b[1;33m)\u001b[0m\u001b[1;33m\u001b[0m\u001b[1;33m\u001b[0m\u001b[0m\n\u001b[1;32m--> 779\u001b[1;33m             \u001b[0mjob\u001b[0m \u001b[1;33m=\u001b[0m \u001b[0mself\u001b[0m\u001b[1;33m.\u001b[0m\u001b[0m_backend\u001b[0m\u001b[1;33m.\u001b[0m\u001b[0mapply_async\u001b[0m\u001b[1;33m(\u001b[0m\u001b[0mbatch\u001b[0m\u001b[1;33m,\u001b[0m \u001b[0mcallback\u001b[0m\u001b[1;33m=\u001b[0m\u001b[0mcb\u001b[0m\u001b[1;33m)\u001b[0m\u001b[1;33m\u001b[0m\u001b[1;33m\u001b[0m\u001b[0m\n\u001b[0m\u001b[0;32m    780\u001b[0m             \u001b[1;31m# A job can complete so quickly than its callback is\u001b[0m\u001b[1;33m\u001b[0m\u001b[1;33m\u001b[0m\u001b[0m\n\u001b[0;32m    781\u001b[0m             \u001b[1;31m# called before we get here, causing self._jobs to\u001b[0m\u001b[1;33m\u001b[0m\u001b[1;33m\u001b[0m\u001b[0m\n",
      "\u001b[1;32m~\\anaconda3\\lib\\site-packages\\joblib\\_parallel_backends.py\u001b[0m in \u001b[0;36mapply_async\u001b[1;34m(self, func, callback)\u001b[0m\n\u001b[0;32m    206\u001b[0m     \u001b[1;32mdef\u001b[0m \u001b[0mapply_async\u001b[0m\u001b[1;33m(\u001b[0m\u001b[0mself\u001b[0m\u001b[1;33m,\u001b[0m \u001b[0mfunc\u001b[0m\u001b[1;33m,\u001b[0m \u001b[0mcallback\u001b[0m\u001b[1;33m=\u001b[0m\u001b[1;32mNone\u001b[0m\u001b[1;33m)\u001b[0m\u001b[1;33m:\u001b[0m\u001b[1;33m\u001b[0m\u001b[1;33m\u001b[0m\u001b[0m\n\u001b[0;32m    207\u001b[0m         \u001b[1;34m\"\"\"Schedule a func to be run\"\"\"\u001b[0m\u001b[1;33m\u001b[0m\u001b[1;33m\u001b[0m\u001b[0m\n\u001b[1;32m--> 208\u001b[1;33m         \u001b[0mresult\u001b[0m \u001b[1;33m=\u001b[0m \u001b[0mImmediateResult\u001b[0m\u001b[1;33m(\u001b[0m\u001b[0mfunc\u001b[0m\u001b[1;33m)\u001b[0m\u001b[1;33m\u001b[0m\u001b[1;33m\u001b[0m\u001b[0m\n\u001b[0m\u001b[0;32m    209\u001b[0m         \u001b[1;32mif\u001b[0m \u001b[0mcallback\u001b[0m\u001b[1;33m:\u001b[0m\u001b[1;33m\u001b[0m\u001b[1;33m\u001b[0m\u001b[0m\n\u001b[0;32m    210\u001b[0m             \u001b[0mcallback\u001b[0m\u001b[1;33m(\u001b[0m\u001b[0mresult\u001b[0m\u001b[1;33m)\u001b[0m\u001b[1;33m\u001b[0m\u001b[1;33m\u001b[0m\u001b[0m\n",
      "\u001b[1;32m~\\anaconda3\\lib\\site-packages\\joblib\\_parallel_backends.py\u001b[0m in \u001b[0;36m__init__\u001b[1;34m(self, batch)\u001b[0m\n\u001b[0;32m    570\u001b[0m         \u001b[1;31m# Don't delay the application, to avoid keeping the input\u001b[0m\u001b[1;33m\u001b[0m\u001b[1;33m\u001b[0m\u001b[0m\n\u001b[0;32m    571\u001b[0m         \u001b[1;31m# arguments in memory\u001b[0m\u001b[1;33m\u001b[0m\u001b[1;33m\u001b[0m\u001b[0m\n\u001b[1;32m--> 572\u001b[1;33m         \u001b[0mself\u001b[0m\u001b[1;33m.\u001b[0m\u001b[0mresults\u001b[0m \u001b[1;33m=\u001b[0m \u001b[0mbatch\u001b[0m\u001b[1;33m(\u001b[0m\u001b[1;33m)\u001b[0m\u001b[1;33m\u001b[0m\u001b[1;33m\u001b[0m\u001b[0m\n\u001b[0m\u001b[0;32m    573\u001b[0m \u001b[1;33m\u001b[0m\u001b[0m\n\u001b[0;32m    574\u001b[0m     \u001b[1;32mdef\u001b[0m \u001b[0mget\u001b[0m\u001b[1;33m(\u001b[0m\u001b[0mself\u001b[0m\u001b[1;33m)\u001b[0m\u001b[1;33m:\u001b[0m\u001b[1;33m\u001b[0m\u001b[1;33m\u001b[0m\u001b[0m\n",
      "\u001b[1;32m~\\anaconda3\\lib\\site-packages\\joblib\\parallel.py\u001b[0m in \u001b[0;36m__call__\u001b[1;34m(self)\u001b[0m\n\u001b[0;32m    260\u001b[0m         \u001b[1;31m# change the default number of processes to -1\u001b[0m\u001b[1;33m\u001b[0m\u001b[1;33m\u001b[0m\u001b[0m\n\u001b[0;32m    261\u001b[0m         \u001b[1;32mwith\u001b[0m \u001b[0mparallel_backend\u001b[0m\u001b[1;33m(\u001b[0m\u001b[0mself\u001b[0m\u001b[1;33m.\u001b[0m\u001b[0m_backend\u001b[0m\u001b[1;33m,\u001b[0m \u001b[0mn_jobs\u001b[0m\u001b[1;33m=\u001b[0m\u001b[0mself\u001b[0m\u001b[1;33m.\u001b[0m\u001b[0m_n_jobs\u001b[0m\u001b[1;33m)\u001b[0m\u001b[1;33m:\u001b[0m\u001b[1;33m\u001b[0m\u001b[1;33m\u001b[0m\u001b[0m\n\u001b[1;32m--> 262\u001b[1;33m             return [func(*args, **kwargs)\n\u001b[0m\u001b[0;32m    263\u001b[0m                     for func, args, kwargs in self.items]\n\u001b[0;32m    264\u001b[0m \u001b[1;33m\u001b[0m\u001b[0m\n",
      "\u001b[1;32m~\\anaconda3\\lib\\site-packages\\joblib\\parallel.py\u001b[0m in \u001b[0;36m<listcomp>\u001b[1;34m(.0)\u001b[0m\n\u001b[0;32m    260\u001b[0m         \u001b[1;31m# change the default number of processes to -1\u001b[0m\u001b[1;33m\u001b[0m\u001b[1;33m\u001b[0m\u001b[0m\n\u001b[0;32m    261\u001b[0m         \u001b[1;32mwith\u001b[0m \u001b[0mparallel_backend\u001b[0m\u001b[1;33m(\u001b[0m\u001b[0mself\u001b[0m\u001b[1;33m.\u001b[0m\u001b[0m_backend\u001b[0m\u001b[1;33m,\u001b[0m \u001b[0mn_jobs\u001b[0m\u001b[1;33m=\u001b[0m\u001b[0mself\u001b[0m\u001b[1;33m.\u001b[0m\u001b[0m_n_jobs\u001b[0m\u001b[1;33m)\u001b[0m\u001b[1;33m:\u001b[0m\u001b[1;33m\u001b[0m\u001b[1;33m\u001b[0m\u001b[0m\n\u001b[1;32m--> 262\u001b[1;33m             return [func(*args, **kwargs)\n\u001b[0m\u001b[0;32m    263\u001b[0m                     for func, args, kwargs in self.items]\n\u001b[0;32m    264\u001b[0m \u001b[1;33m\u001b[0m\u001b[0m\n",
      "\u001b[1;32m~\\anaconda3\\lib\\site-packages\\sklearn\\utils\\fixes.py\u001b[0m in \u001b[0;36m__call__\u001b[1;34m(self, *args, **kwargs)\u001b[0m\n\u001b[0;32m    214\u001b[0m     \u001b[1;32mdef\u001b[0m \u001b[0m__call__\u001b[0m\u001b[1;33m(\u001b[0m\u001b[0mself\u001b[0m\u001b[1;33m,\u001b[0m \u001b[1;33m*\u001b[0m\u001b[0margs\u001b[0m\u001b[1;33m,\u001b[0m \u001b[1;33m**\u001b[0m\u001b[0mkwargs\u001b[0m\u001b[1;33m)\u001b[0m\u001b[1;33m:\u001b[0m\u001b[1;33m\u001b[0m\u001b[1;33m\u001b[0m\u001b[0m\n\u001b[0;32m    215\u001b[0m         \u001b[1;32mwith\u001b[0m \u001b[0mconfig_context\u001b[0m\u001b[1;33m(\u001b[0m\u001b[1;33m**\u001b[0m\u001b[0mself\u001b[0m\u001b[1;33m.\u001b[0m\u001b[0mconfig\u001b[0m\u001b[1;33m)\u001b[0m\u001b[1;33m:\u001b[0m\u001b[1;33m\u001b[0m\u001b[1;33m\u001b[0m\u001b[0m\n\u001b[1;32m--> 216\u001b[1;33m             \u001b[1;32mreturn\u001b[0m \u001b[0mself\u001b[0m\u001b[1;33m.\u001b[0m\u001b[0mfunction\u001b[0m\u001b[1;33m(\u001b[0m\u001b[1;33m*\u001b[0m\u001b[0margs\u001b[0m\u001b[1;33m,\u001b[0m \u001b[1;33m**\u001b[0m\u001b[0mkwargs\u001b[0m\u001b[1;33m)\u001b[0m\u001b[1;33m\u001b[0m\u001b[1;33m\u001b[0m\u001b[0m\n\u001b[0m\u001b[0;32m    217\u001b[0m \u001b[1;33m\u001b[0m\u001b[0m\n\u001b[0;32m    218\u001b[0m \u001b[1;33m\u001b[0m\u001b[0m\n",
      "\u001b[1;32m~\\anaconda3\\lib\\site-packages\\sklearn\\model_selection\\_validation.py\u001b[0m in \u001b[0;36m_fit_and_score\u001b[1;34m(estimator, X, y, scorer, train, test, verbose, parameters, fit_params, return_train_score, return_parameters, return_n_test_samples, return_times, return_estimator, split_progress, candidate_progress, error_score)\u001b[0m\n\u001b[0;32m    678\u001b[0m             \u001b[0mestimator\u001b[0m\u001b[1;33m.\u001b[0m\u001b[0mfit\u001b[0m\u001b[1;33m(\u001b[0m\u001b[0mX_train\u001b[0m\u001b[1;33m,\u001b[0m \u001b[1;33m**\u001b[0m\u001b[0mfit_params\u001b[0m\u001b[1;33m)\u001b[0m\u001b[1;33m\u001b[0m\u001b[1;33m\u001b[0m\u001b[0m\n\u001b[0;32m    679\u001b[0m         \u001b[1;32melse\u001b[0m\u001b[1;33m:\u001b[0m\u001b[1;33m\u001b[0m\u001b[1;33m\u001b[0m\u001b[0m\n\u001b[1;32m--> 680\u001b[1;33m             \u001b[0mestimator\u001b[0m\u001b[1;33m.\u001b[0m\u001b[0mfit\u001b[0m\u001b[1;33m(\u001b[0m\u001b[0mX_train\u001b[0m\u001b[1;33m,\u001b[0m \u001b[0my_train\u001b[0m\u001b[1;33m,\u001b[0m \u001b[1;33m**\u001b[0m\u001b[0mfit_params\u001b[0m\u001b[1;33m)\u001b[0m\u001b[1;33m\u001b[0m\u001b[1;33m\u001b[0m\u001b[0m\n\u001b[0m\u001b[0;32m    681\u001b[0m \u001b[1;33m\u001b[0m\u001b[0m\n\u001b[0;32m    682\u001b[0m     \u001b[1;32mexcept\u001b[0m \u001b[0mException\u001b[0m\u001b[1;33m:\u001b[0m\u001b[1;33m\u001b[0m\u001b[1;33m\u001b[0m\u001b[0m\n",
      "\u001b[1;32m~\\anaconda3\\lib\\site-packages\\sklearn\\svm\\_base.py\u001b[0m in \u001b[0;36mfit\u001b[1;34m(self, X, y, sample_weight)\u001b[0m\n\u001b[0;32m    253\u001b[0m \u001b[1;33m\u001b[0m\u001b[0m\n\u001b[0;32m    254\u001b[0m         \u001b[0mseed\u001b[0m \u001b[1;33m=\u001b[0m \u001b[0mrnd\u001b[0m\u001b[1;33m.\u001b[0m\u001b[0mrandint\u001b[0m\u001b[1;33m(\u001b[0m\u001b[0mnp\u001b[0m\u001b[1;33m.\u001b[0m\u001b[0miinfo\u001b[0m\u001b[1;33m(\u001b[0m\u001b[1;34m\"i\"\u001b[0m\u001b[1;33m)\u001b[0m\u001b[1;33m.\u001b[0m\u001b[0mmax\u001b[0m\u001b[1;33m)\u001b[0m\u001b[1;33m\u001b[0m\u001b[1;33m\u001b[0m\u001b[0m\n\u001b[1;32m--> 255\u001b[1;33m         \u001b[0mfit\u001b[0m\u001b[1;33m(\u001b[0m\u001b[0mX\u001b[0m\u001b[1;33m,\u001b[0m \u001b[0my\u001b[0m\u001b[1;33m,\u001b[0m \u001b[0msample_weight\u001b[0m\u001b[1;33m,\u001b[0m \u001b[0msolver_type\u001b[0m\u001b[1;33m,\u001b[0m \u001b[0mkernel\u001b[0m\u001b[1;33m,\u001b[0m \u001b[0mrandom_seed\u001b[0m\u001b[1;33m=\u001b[0m\u001b[0mseed\u001b[0m\u001b[1;33m)\u001b[0m\u001b[1;33m\u001b[0m\u001b[1;33m\u001b[0m\u001b[0m\n\u001b[0m\u001b[0;32m    256\u001b[0m         \u001b[1;31m# see comment on the other call to np.iinfo in this file\u001b[0m\u001b[1;33m\u001b[0m\u001b[1;33m\u001b[0m\u001b[0m\n\u001b[0;32m    257\u001b[0m \u001b[1;33m\u001b[0m\u001b[0m\n",
      "\u001b[1;32m~\\anaconda3\\lib\\site-packages\\sklearn\\svm\\_base.py\u001b[0m in \u001b[0;36m_dense_fit\u001b[1;34m(self, X, y, sample_weight, solver_type, kernel, random_seed)\u001b[0m\n\u001b[0;32m    313\u001b[0m             \u001b[0mself\u001b[0m\u001b[1;33m.\u001b[0m\u001b[0m_probB\u001b[0m\u001b[1;33m,\u001b[0m\u001b[1;33m\u001b[0m\u001b[1;33m\u001b[0m\u001b[0m\n\u001b[0;32m    314\u001b[0m             \u001b[0mself\u001b[0m\u001b[1;33m.\u001b[0m\u001b[0mfit_status_\u001b[0m\u001b[1;33m,\u001b[0m\u001b[1;33m\u001b[0m\u001b[1;33m\u001b[0m\u001b[0m\n\u001b[1;32m--> 315\u001b[1;33m         \u001b[1;33m)\u001b[0m \u001b[1;33m=\u001b[0m \u001b[0mlibsvm\u001b[0m\u001b[1;33m.\u001b[0m\u001b[0mfit\u001b[0m\u001b[1;33m(\u001b[0m\u001b[1;33m\u001b[0m\u001b[1;33m\u001b[0m\u001b[0m\n\u001b[0m\u001b[0;32m    316\u001b[0m             \u001b[0mX\u001b[0m\u001b[1;33m,\u001b[0m\u001b[1;33m\u001b[0m\u001b[1;33m\u001b[0m\u001b[0m\n\u001b[0;32m    317\u001b[0m             \u001b[0my\u001b[0m\u001b[1;33m,\u001b[0m\u001b[1;33m\u001b[0m\u001b[1;33m\u001b[0m\u001b[0m\n",
      "\u001b[1;31mKeyboardInterrupt\u001b[0m: "
     ]
    }
   ],
   "source": [
    "# inicializando estimador\n",
    "model = SVC(probability = True)\n",
    "\n",
    "scores = cross_val_score(model, X_train, y_train, cv=5, scoring='f1_macro')\n",
    "\n",
    "print(\"F1-score Médio:\", scores.mean())"
   ]
  },
  {
   "cell_type": "markdown",
   "id": "5a701dc6",
   "metadata": {},
   "source": [
    "## Treinando Modelo - XGBOOST"
   ]
  },
  {
   "cell_type": "code",
   "execution_count": null,
   "id": "ad481ed1",
   "metadata": {
    "ExecuteTime": {
     "end_time": "2023-03-26T18:36:41.545158Z",
     "start_time": "2023-03-26T18:36:41.544197Z"
    }
   },
   "outputs": [],
   "source": [
    "# inicializando estimador\n",
    "model = xgb.XGBClassifier(objective='binary:logistic',\n",
    "                        n_estimators=100,\n",
    "                        eta=0.01,\n",
    "                        max_depth=10,\n",
    "                        subsample=0.7,                       \n",
    "                        colsample_bytree=0.9)\n",
    "\n",
    "scores = cross_val_score(model, X_train, y_train, cv=5, scoring='f1_macro')\n",
    "\n",
    "print(\"F1-score Médio:\", scores.mean())"
   ]
  },
  {
   "cell_type": "markdown",
   "id": "a323fc6b",
   "metadata": {},
   "source": [
    "# OTIMIZAÇÃO HIPERPARAMETROS"
   ]
  },
  {
   "cell_type": "code",
   "execution_count": null,
   "id": "271f46d0",
   "metadata": {},
   "outputs": [],
   "source": []
  },
  {
   "cell_type": "code",
   "execution_count": null,
   "id": "a5ad6407",
   "metadata": {},
   "outputs": [],
   "source": []
  },
  {
   "cell_type": "code",
   "execution_count": null,
   "id": "ee8f08d7",
   "metadata": {},
   "outputs": [],
   "source": []
  },
  {
   "cell_type": "markdown",
   "id": "d77046e1",
   "metadata": {},
   "source": [
    "# 9 MODELO EM PRODUÇÃO"
   ]
  },
  {
   "cell_type": "markdown",
   "id": "2212bb8c",
   "metadata": {
    "papermill": {
     "duration": 0.00677,
     "end_time": "2023-03-18T19:43:08.990349",
     "exception": false,
     "start_time": "2023-03-18T19:43:08.983579",
     "status": "completed"
    },
    "tags": []
   },
   "source": [
    "## Aplicando transformações no teste"
   ]
  },
  {
   "cell_type": "code",
   "execution_count": null,
   "id": "9a67be3f",
   "metadata": {
    "ExecuteTime": {
     "end_time": "2023-03-26T18:36:41.546709Z",
     "start_time": "2023-03-26T18:36:41.546709Z"
    },
    "execution": {
     "iopub.execute_input": "2023-03-18T19:43:09.006770Z",
     "iopub.status.busy": "2023-03-18T19:43:09.005497Z",
     "iopub.status.idle": "2023-03-18T19:43:09.221578Z",
     "shell.execute_reply": "2023-03-18T19:43:09.220157Z"
    },
    "papermill": {
     "duration": 0.227219,
     "end_time": "2023-03-18T19:43:09.224519",
     "exception": false,
     "start_time": "2023-03-18T19:43:08.997300",
     "status": "completed"
    },
    "tags": []
   },
   "outputs": [],
   "source": [
    "X_test = test\n",
    "\n",
    "X_test = X_test.fillna(0)\n",
    "\n",
    "X_test = pd.merge(X_test, tx_cancel_nacionalidade, how=\"left\", on=[\"nacionalidade\", \"nacionalidade\"])\n",
    "X_test = pd.merge(X_test, tx_cancel_regime_de_alimentação, how=\"left\", on=[\"regime_de_alimentação\", \"regime_de_alimentação\"])\n",
    "X_test = pd.merge(X_test, tx_cancel_forma_da_reserva, how=\"left\", on=[\"forma_de_reserva\", \"forma_de_reserva\"])\n",
    "X_test = pd.merge(X_test, tx_cancel_tipo_do_quarto_reservado, how=\"left\", on=[\"tipo_do_quarto_reservado\", \"tipo_do_quarto_reservado\"])\n",
    "X_test = pd.merge(X_test, tx_cancel_reserva_com_observações, how=\"left\", on=[\"reserva_com_observações\", \"reserva_com_observações\"])\n",
    "\n",
    "X_test['reserva_feita_por_agência_de_turismo_bin'] = X_test['reserva_feita_por_agência_de_turismo'].apply(lambda x: 1 if x == 'Sim' else 0)\n",
    "X_test['reserva_feita_por_empresa_bin'] = X_test['reserva_feita_por_empresa'].apply(lambda x: 1 if x == 'Sim' else 0)\n",
    "X_test['reserva_com_estacionamento_bin'] = X_test['reserva_com_estacionamento'].apply(lambda x: 1 if x == 'Sim' else 0)\n",
    "X_test['classificação_do_hotel_bin'] = X_test['classificação_do_hotel'].apply(lambda x: 1 if x == '5 estrelas' else 0)  \n",
    "\n",
    "X_test = X_test[cols_selected]\n",
    "\n",
    "X_test = pt.transform(X_test)"
   ]
  },
  {
   "cell_type": "markdown",
   "id": "72d6910d",
   "metadata": {
    "papermill": {
     "duration": 0.004816,
     "end_time": "2023-03-18T19:43:09.234929",
     "exception": false,
     "start_time": "2023-03-18T19:43:09.230113",
     "status": "completed"
    },
    "tags": []
   },
   "source": [
    "## Predic test"
   ]
  },
  {
   "cell_type": "code",
   "execution_count": null,
   "id": "5c3ba800",
   "metadata": {
    "ExecuteTime": {
     "end_time": "2023-03-26T18:36:41.549717Z",
     "start_time": "2023-03-26T18:36:41.549717Z"
    },
    "execution": {
     "iopub.execute_input": "2023-03-18T19:43:09.247740Z",
     "iopub.status.busy": "2023-03-18T19:43:09.246320Z",
     "iopub.status.idle": "2023-03-18T19:43:09.256895Z",
     "shell.execute_reply": "2023-03-18T19:43:09.255821Z"
    },
    "papermill": {
     "duration": 0.01954,
     "end_time": "2023-03-18T19:43:09.259519",
     "exception": false,
     "start_time": "2023-03-18T19:43:09.239979",
     "status": "completed"
    },
    "tags": []
   },
   "outputs": [],
   "source": [
    "# predicao_rf = rf.predict(X_test[cols_selected])\n",
    "predicao_rf = rf.predict(X_test)"
   ]
  },
  {
   "cell_type": "markdown",
   "id": "0f1f0670",
   "metadata": {
    "papermill": {
     "duration": 0.006533,
     "end_time": "2023-03-18T19:43:09.273552",
     "exception": false,
     "start_time": "2023-03-18T19:43:09.267019",
     "status": "completed"
    },
    "tags": []
   },
   "source": [
    "## Solucao Final"
   ]
  },
  {
   "cell_type": "code",
   "execution_count": null,
   "id": "3093f954",
   "metadata": {
    "ExecuteTime": {
     "end_time": "2023-03-26T18:36:41.552721Z",
     "start_time": "2023-03-26T18:36:41.552721Z"
    },
    "execution": {
     "iopub.execute_input": "2023-03-18T19:43:09.289136Z",
     "iopub.status.busy": "2023-03-18T19:43:09.288473Z",
     "iopub.status.idle": "2023-03-18T19:43:09.304771Z",
     "shell.execute_reply": "2023-03-18T19:43:09.303927Z"
    },
    "papermill": {
     "duration": 0.026883,
     "end_time": "2023-03-18T19:43:09.307240",
     "exception": false,
     "start_time": "2023-03-18T19:43:09.280357",
     "status": "completed"
    },
    "tags": []
   },
   "outputs": [],
   "source": [
    "df_final_rf = pd.concat([test.id, pd.Series(predicao_rf, name = 'Reserva Cancelada')], axis=1)\n",
    "\n",
    "df_final_rf['Reserva Cancelada'] = df_final_rf['Reserva Cancelada'].astype('int')\n",
    "df_final_rf.head()"
   ]
  },
  {
   "cell_type": "code",
   "execution_count": null,
   "id": "958b1957",
   "metadata": {
    "ExecuteTime": {
     "end_time": "2023-03-26T18:36:41.554718Z",
     "start_time": "2023-03-26T18:36:41.553716Z"
    },
    "execution": {
     "iopub.execute_input": "2023-03-18T19:43:09.322526Z",
     "iopub.status.busy": "2023-03-18T19:43:09.322126Z",
     "iopub.status.idle": "2023-03-18T19:43:09.388446Z",
     "shell.execute_reply": "2023-03-18T19:43:09.387382Z"
    },
    "papermill": {
     "duration": 0.077005,
     "end_time": "2023-03-18T19:43:09.391191",
     "exception": false,
     "start_time": "2023-03-18T19:43:09.314186",
     "status": "completed"
    },
    "tags": []
   },
   "outputs": [],
   "source": [
    "#df_final_rf.to_csv('submission6.csv', index=False) #Arquivo de submissão pronto para ser enviado."
   ]
  }
 ],
 "metadata": {
  "kernelspec": {
   "display_name": "Python 3 (ipykernel)",
   "language": "python",
   "name": "python3"
  },
  "language_info": {
   "codemirror_mode": {
    "name": "ipython",
    "version": 3
   },
   "file_extension": ".py",
   "mimetype": "text/x-python",
   "name": "python",
   "nbconvert_exporter": "python",
   "pygments_lexer": "ipython3",
   "version": "3.9.13"
  },
  "papermill": {
   "default_parameters": {},
   "duration": 14.097173,
   "end_time": "2023-03-18T19:43:10.221261",
   "environment_variables": {},
   "exception": null,
   "input_path": "__notebook__.ipynb",
   "output_path": "__notebook__.ipynb",
   "parameters": {},
   "start_time": "2023-03-18T19:42:56.124088",
   "version": "2.4.0"
  },
  "toc": {
   "base_numbering": 1,
   "nav_menu": {
    "height": "441.989px",
    "width": "311.989px"
   },
   "number_sections": true,
   "sideBar": true,
   "skip_h1_title": false,
   "title_cell": "Table of Contents",
   "title_sidebar": "Contents",
   "toc_cell": false,
   "toc_position": {
    "height": "calc(100% - 180px)",
    "left": "10px",
    "top": "150px",
    "width": "286.3px"
   },
   "toc_section_display": true,
   "toc_window_display": false
  }
 },
 "nbformat": 4,
 "nbformat_minor": 5
}
